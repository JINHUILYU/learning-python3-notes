{
 "cells": [
  {
   "cell_type": "markdown",
   "id": "8edb5930",
   "metadata": {},
   "source": [
    "# 循环\n",
    "\n",
    "循环的作用在于将一段代码重复执行多次。"
   ]
  },
  {
   "cell_type": "markdown",
   "id": "cd1c390b",
   "metadata": {},
   "source": [
    "## while 循环\n",
    "\n",
    "```python\n",
    "while <condition>:\n",
    "    <statesments>\n",
    "```\n",
    "\n",
    "Python会循环执行<statesments>，直到<condition>不满足为止。\n",
    "\n",
    "例如，计算数字0到1000000的和："
   ]
  },
  {
   "cell_type": "code",
   "execution_count": 1,
   "id": "6975f14a",
   "metadata": {
    "ExecuteTime": {
     "end_time": "2023-11-13T06:41:06.127147800Z",
     "start_time": "2023-11-13T06:41:06.037295300Z"
    }
   },
   "outputs": [],
   "source": [
    "i = 0\n",
    "total = 0\n",
    "while i < 1000000:\n",
    "    total += i\n",
    "    i += 1"
   ]
  },
  {
   "cell_type": "code",
   "execution_count": 2,
   "id": "da7ac78c",
   "metadata": {
    "ExecuteTime": {
     "end_time": "2023-11-13T06:41:09.563460700Z",
     "start_time": "2023-11-13T06:41:09.556694300Z"
    }
   },
   "outputs": [
    {
     "data": {
      "text/plain": "499999500000"
     },
     "execution_count": 2,
     "metadata": {},
     "output_type": "execute_result"
    }
   ],
   "source": [
    "total"
   ]
  },
  {
   "cell_type": "markdown",
   "id": "704661bb",
   "metadata": {},
   "source": [
    "## for 循环\n",
    "```python\n",
    "for <variable> in <sequence>:\n",
    "    <indented block of code>\n",
    "```\n",
    "\n",
    "for 循环会遍历完<sequence>中所有元素为止\n",
    "\n",
    "上一个例子可以改写成如下形式："
   ]
  },
  {
   "cell_type": "code",
   "execution_count": 3,
   "id": "c2e3019c",
   "metadata": {
    "ExecuteTime": {
     "end_time": "2023-11-13T06:41:20.236175400Z",
     "start_time": "2023-11-13T06:41:20.227052800Z"
    }
   },
   "outputs": [],
   "source": [
    "total = 0\n",
    "for i in range(100000):\n",
    "    total += i"
   ]
  },
  {
   "cell_type": "code",
   "execution_count": 4,
   "id": "b6fc9368",
   "metadata": {
    "ExecuteTime": {
     "end_time": "2023-11-13T06:41:22.207113Z",
     "start_time": "2023-11-13T06:41:22.199364400Z"
    }
   },
   "outputs": [
    {
     "data": {
      "text/plain": "4999950000"
     },
     "execution_count": 4,
     "metadata": {},
     "output_type": "execute_result"
    }
   ],
   "source": [
    "total"
   ]
  },
  {
   "cell_type": "markdown",
   "id": "990f0904",
   "metadata": {},
   "source": [
    "## continue 语句\n",
    "\n",
    "遇到 continue 的时候，程序会返回到循环的最开始重新执行。\n",
    "\n",
    "例如在循环中忽略一些特定的值："
   ]
  },
  {
   "cell_type": "code",
   "execution_count": 5,
   "id": "6e72b496",
   "metadata": {
    "ExecuteTime": {
     "end_time": "2023-11-13T06:41:26.519819Z",
     "start_time": "2023-11-13T06:41:26.511704900Z"
    }
   },
   "outputs": [
    {
     "name": "stdout",
     "output_type": "stream",
     "text": [
      "6 3.0\n",
      "4 2.0\n",
      "2 1.0\n"
     ]
    }
   ],
   "source": [
    "values = [7, 6, 4, 7, 19, 2, 1]\n",
    "for i in values:\n",
    "    if i % 2 != 0:\n",
    "        # 忽略奇数\n",
    "        continue\n",
    "    print(i, i / 2)"
   ]
  },
  {
   "cell_type": "markdown",
   "id": "1e431d73",
   "metadata": {},
   "source": [
    "## break 语句\n",
    "遇到 break 的时候，程序会跳出循环，不管循环条件是不是满足："
   ]
  },
  {
   "cell_type": "code",
   "execution_count": 6,
   "id": "0331bfe1",
   "metadata": {
    "ExecuteTime": {
     "end_time": "2023-11-13T06:41:48.763807600Z",
     "start_time": "2023-11-13T06:41:48.762299200Z"
    }
   },
   "outputs": [
    {
     "name": "stdout",
     "output_type": "stream",
     "text": [
      "start\n",
      "process\n",
      "process\n",
      "process\n"
     ]
    }
   ],
   "source": [
    "command_list = ['start',\n",
    "                'process',\n",
    "                'process',\n",
    "                'process',\n",
    "                'stop',\n",
    "                'start',\n",
    "                'process',\n",
    "                'stop']\n",
    "for command in command_list:\n",
    "    if command == 'stop':\n",
    "        break\n",
    "    print(command)"
   ]
  },
  {
   "cell_type": "markdown",
   "id": "3f2c6d98",
   "metadata": {},
   "source": [
    "在遇到第一个 'stop' 之后，程序跳出循环。"
   ]
  },
  {
   "cell_type": "markdown",
   "id": "a9f5afc5",
   "metadata": {},
   "source": [
    "## else语句\n",
    "与 if 一样， while 和 for 循环后面也可以跟着 else 语句，不过要和break一起连用。\n",
    "\n",
    "当循环正常结束时，循环条件不满足， else 被执行；\n",
    "当循环被 break 结束时，循环条件仍然满足， else 不执行。\n",
    "不执行："
   ]
  },
  {
   "cell_type": "code",
   "execution_count": 10,
   "id": "52d4f118",
   "metadata": {
    "ExecuteTime": {
     "end_time": "2023-11-13T06:49:55.540386900Z",
     "start_time": "2023-11-13T06:49:55.536526400Z"
    }
   },
   "outputs": [
    {
     "name": "stdout",
     "output_type": "stream",
     "text": [
      "All values greater than 10\n",
      "Found: 7\n"
     ]
    }
   ],
   "source": [
    "values = [7, 6, 4, 7, 19, 2, 1]\n",
    "for x in values:\n",
    "    if x <= 0:\n",
    "        print('Found:', x)\n",
    "        break\n",
    "else:  # 循环条件不满足时执行\n",
    "    print('All values greater than 10')\n",
    "    \n",
    "values = [7, 6, 4, 7, 19, 2, 1]\n",
    "for x in values:\n",
    "    if x <= 10:\n",
    "        print('Found:', x)\n",
    "        break\n",
    "else:  # 循环条件不满足时执行\n",
    "    print('All values greater than 10')"
   ]
  },
  {
   "cell_type": "markdown",
   "id": "aa71eb93",
   "metadata": {},
   "source": [
    "## 列表推导式\n",
    "\n",
    "循环可以用来生成列表："
   ]
  },
  {
   "cell_type": "code",
   "execution_count": 11,
   "id": "dfa70d35",
   "metadata": {
    "ExecuteTime": {
     "end_time": "2023-11-13T06:50:38.599123300Z",
     "start_time": "2023-11-13T06:50:38.592110800Z"
    }
   },
   "outputs": [],
   "source": [
    "values = [10, 21, 4, 7, 12]\n",
    "squares = []\n",
    "for x in values:\n",
    "    squares.append(x ** 2)"
   ]
  },
  {
   "cell_type": "code",
   "execution_count": 12,
   "id": "1249bae7",
   "metadata": {
    "ExecuteTime": {
     "end_time": "2023-11-13T06:50:40.755063100Z",
     "start_time": "2023-11-13T06:50:40.741342400Z"
    }
   },
   "outputs": [
    {
     "data": {
      "text/plain": "[100, 441, 16, 49, 144]"
     },
     "execution_count": 12,
     "metadata": {},
     "output_type": "execute_result"
    }
   ],
   "source": [
    "squares"
   ]
  },
  {
   "cell_type": "markdown",
   "id": "79fdb227",
   "metadata": {},
   "source": [
    "列表推导式可以使用更简单的方法来创建这个列表："
   ]
  },
  {
   "cell_type": "code",
   "execution_count": 14,
   "id": "0583fffd",
   "metadata": {
    "ExecuteTime": {
     "end_time": "2023-11-13T06:51:00.598057100Z",
     "start_time": "2023-11-13T06:51:00.594586500Z"
    }
   },
   "outputs": [
    {
     "data": {
      "text/plain": "[100, 441, 16, 49, 144]"
     },
     "execution_count": 14,
     "metadata": {},
     "output_type": "execute_result"
    }
   ],
   "source": [
    "squares = [x ** 2 for x in values]\n",
    "squares"
   ]
  },
  {
   "cell_type": "markdown",
   "id": "68943c8f",
   "metadata": {},
   "source": [
    "还可以在列表推导式中加入条件进行筛选："
   ]
  },
  {
   "cell_type": "code",
   "execution_count": 15,
   "id": "2684b4ed",
   "metadata": {
    "ExecuteTime": {
     "end_time": "2023-11-13T06:51:09.913936900Z",
     "start_time": "2023-11-13T06:51:09.912429400Z"
    }
   },
   "outputs": [],
   "source": [
    "squares = [x ** 2 for x in values if x <= 10]"
   ]
  },
  {
   "cell_type": "code",
   "execution_count": 16,
   "id": "b0677d75",
   "metadata": {
    "ExecuteTime": {
     "end_time": "2023-11-13T06:51:11.382520900Z",
     "start_time": "2023-11-13T06:51:11.374889Z"
    }
   },
   "outputs": [
    {
     "data": {
      "text/plain": "[100, 16, 49]"
     },
     "execution_count": 16,
     "metadata": {},
     "output_type": "execute_result"
    }
   ],
   "source": [
    "squares"
   ]
  },
  {
   "cell_type": "markdown",
   "id": "589700d3",
   "metadata": {},
   "source": [
    "也可以使用推导式生成集合和字典："
   ]
  },
  {
   "cell_type": "code",
   "execution_count": 17,
   "id": "1fe3025b",
   "metadata": {
    "ExecuteTime": {
     "end_time": "2023-11-13T06:51:27.107423Z",
     "start_time": "2023-11-13T06:51:27.105912100Z"
    }
   },
   "outputs": [],
   "source": [
    "square_set = {x ** 2 for x in values if x <= 10}"
   ]
  },
  {
   "cell_type": "code",
   "execution_count": 19,
   "id": "f0839739",
   "metadata": {
    "ExecuteTime": {
     "end_time": "2023-11-13T06:51:29.253570100Z",
     "start_time": "2023-11-13T06:51:29.250520700Z"
    }
   },
   "outputs": [
    {
     "data": {
      "text/plain": "{16, 49, 100}"
     },
     "execution_count": 19,
     "metadata": {},
     "output_type": "execute_result"
    }
   ],
   "source": [
    "square_set"
   ]
  },
  {
   "cell_type": "code",
   "execution_count": 20,
   "id": "465545e4",
   "metadata": {
    "ExecuteTime": {
     "end_time": "2023-11-13T06:51:36.175988400Z",
     "start_time": "2023-11-13T06:51:36.173479300Z"
    }
   },
   "outputs": [],
   "source": [
    "square_dict = {x: x ** 2 for x in values if x <= 10}"
   ]
  },
  {
   "cell_type": "code",
   "execution_count": 21,
   "id": "1ed1aaed",
   "metadata": {
    "ExecuteTime": {
     "end_time": "2023-11-13T06:51:38.270079600Z",
     "start_time": "2023-11-13T06:51:38.261726600Z"
    }
   },
   "outputs": [
    {
     "data": {
      "text/plain": "{10: 100, 4: 16, 7: 49}"
     },
     "execution_count": 21,
     "metadata": {},
     "output_type": "execute_result"
    }
   ],
   "source": [
    "square_dict"
   ]
  },
  {
   "cell_type": "markdown",
   "id": "31645abd",
   "metadata": {},
   "source": [
    "计算上面例子中生成的列表中所有元素的和："
   ]
  },
  {
   "cell_type": "code",
   "execution_count": 80,
   "id": "37ee4ce5",
   "metadata": {
    "ExecuteTime": {
     "end_time": "2023-11-13T07:04:12.595802100Z",
     "start_time": "2023-11-13T07:04:10.386547800Z"
    }
   },
   "outputs": [
    {
     "name": "stdout",
     "output_type": "stream",
     "text": [
      "272 ns ± 9.91 ns per loop (mean ± std. dev. of 7 runs, 1,000,000 loops each)\n",
      "165\n"
     ]
    }
   ],
   "source": [
    "%timeit sum([x ** 2 for x in values if x <= 10])\n",
    "print(sum([x ** 2 for x in values if x <= 10]))"
   ]
  },
  {
   "cell_type": "markdown",
   "id": "738a63fe",
   "metadata": {},
   "source": [
    "括号可以省略："
   ]
  },
  {
   "cell_type": "code",
   "execution_count": 81,
   "id": "e6f1a520",
   "metadata": {
    "ExecuteTime": {
     "end_time": "2023-11-13T07:04:17.423792700Z",
     "start_time": "2023-11-13T07:04:14.805917Z"
    }
   },
   "outputs": [
    {
     "name": "stdout",
     "output_type": "stream",
     "text": [
      "320 ns ± 1.45 ns per loop (mean ± std. dev. of 7 runs, 1,000,000 loops each)\n",
      "165\n"
     ]
    }
   ],
   "source": [
    "%timeit sum(x ** 2 for x in values if x <= 10)\n",
    "print(sum(x ** 2 for x in values if x <= 10))"
   ]
  },
  {
   "cell_type": "markdown",
   "id": "a89c9c62",
   "metadata": {},
   "source": [
    "第二种写法会减少一次列表的生成，速度会更快一些。"
   ]
  },
  {
   "cell_type": "code",
   "execution_count": 79,
   "outputs": [
    {
     "name": "stdout",
     "output_type": "stream",
     "text": [
      "代码运行时间为 0.000000 秒\n",
      "代码运行时间为 0.000000 秒\n"
     ]
    }
   ],
   "source": [
    "import time\n",
    "\n",
    "start_time = time.process_time()\n",
    "sum([x ** 2 for x in values if x <= 10])\n",
    "end_time = time.process_time()\n",
    "\n",
    "time_diff = end_time - start_time\n",
    "print(f\"代码运行时间为 {time_diff:.6f} 秒\")\n",
    "\n",
    "start_time = time.process_time()\n",
    "sum(x ** 2 for x in values if x <= 10)\n",
    "end_time = time.process_time()\n",
    "\n",
    "time_diff = end_time - start_time\n",
    "print(f\"代码运行时间为 {time_diff:.6f} 秒\")"
   ],
   "metadata": {
    "collapsed": false,
    "ExecuteTime": {
     "end_time": "2023-11-13T07:04:06.040143400Z",
     "start_time": "2023-11-13T07:04:06.025799100Z"
    }
   },
   "id": "d552b6bd3b03e859"
  }
 ],
 "metadata": {
  "kernelspec": {
   "display_name": "Python 3 (ipykernel)",
   "language": "python",
   "name": "python3"
  },
  "language_info": {
   "codemirror_mode": {
    "name": "ipython",
    "version": 3
   },
   "file_extension": ".py",
   "mimetype": "text/x-python",
   "name": "python",
   "nbconvert_exporter": "python",
   "pygments_lexer": "ipython3",
   "version": "3.9.10"
  }
 },
 "nbformat": 4,
 "nbformat_minor": 5
}
