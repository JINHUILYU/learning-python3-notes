{
 "cells": [
  {
   "cell_type": "markdown",
   "id": "13e1694f",
   "metadata": {},
   "source": [
    "# Python演示\n",
    "\n",
    "## 数学运算\n",
    "\n",
    "简单的数学运算："
   ]
  },
  {
   "cell_type": "code",
   "execution_count": 1,
   "id": "0862cb62",
   "metadata": {
    "ExecuteTime": {
     "end_time": "2023-11-12T14:24:38.303530800Z",
     "start_time": "2023-11-12T14:24:38.295534900Z"
    }
   },
   "outputs": [
    {
     "data": {
      "text/plain": "4"
     },
     "execution_count": 1,
     "metadata": {},
     "output_type": "execute_result"
    }
   ],
   "source": [
    "2 + 2"
   ]
  },
  {
   "cell_type": "code",
   "execution_count": 2,
   "id": "01efe954",
   "metadata": {
    "ExecuteTime": {
     "end_time": "2023-11-12T14:24:40.251064900Z",
     "start_time": "2023-11-12T14:24:40.249681100Z"
    }
   },
   "outputs": [
    {
     "data": {
      "text/plain": "4.5"
     },
     "execution_count": 2,
     "metadata": {},
     "output_type": "execute_result"
    }
   ],
   "source": [
    "7 - 2.5"
   ]
  },
  {
   "cell_type": "code",
   "execution_count": 3,
   "id": "b0e32437",
   "metadata": {
    "ExecuteTime": {
     "end_time": "2023-11-12T14:24:43.146971100Z",
     "start_time": "2023-11-12T14:24:43.138637400Z"
    }
   },
   "outputs": [
    {
     "data": {
      "text/plain": "7.5"
     },
     "execution_count": 3,
     "metadata": {},
     "output_type": "execute_result"
    }
   ],
   "source": [
    "3 * 2.5"
   ]
  },
  {
   "cell_type": "code",
   "execution_count": 4,
   "id": "3e6e4505",
   "metadata": {
    "ExecuteTime": {
     "end_time": "2023-11-12T14:24:45.082027500Z",
     "start_time": "2023-11-12T14:24:45.071693200Z"
    }
   },
   "outputs": [
    {
     "data": {
      "text/plain": "2.0"
     },
     "execution_count": 4,
     "metadata": {},
     "output_type": "execute_result"
    }
   ],
   "source": [
    "8 / 4"
   ]
  },
  {
   "cell_type": "markdown",
   "id": "7bfc220c",
   "metadata": {},
   "source": [
    "## 赋值\n",
    "\n",
    "使用`变量名=表达式`赋值："
   ]
  },
  {
   "cell_type": "code",
   "execution_count": 5,
   "id": "cb13f987",
   "metadata": {
    "ExecuteTime": {
     "end_time": "2023-11-12T14:24:47.197731400Z",
     "start_time": "2023-11-12T14:24:47.188964400Z"
    }
   },
   "outputs": [],
   "source": [
    "a = 0.2"
   ]
  },
  {
   "cell_type": "markdown",
   "id": "19b510d6",
   "metadata": {},
   "source": [
    "## 字符串\n",
    "\n",
    "字符串生成，单引号与双引号是等价的："
   ]
  },
  {
   "cell_type": "code",
   "execution_count": 6,
   "id": "2b934eaa",
   "metadata": {
    "ExecuteTime": {
     "end_time": "2023-11-12T14:24:49.431021600Z",
     "start_time": "2023-11-12T14:24:49.401127600Z"
    }
   },
   "outputs": [],
   "source": [
    "s = \"hello world\""
   ]
  },
  {
   "cell_type": "code",
   "execution_count": 7,
   "id": "bf733779",
   "metadata": {
    "ExecuteTime": {
     "end_time": "2023-11-12T14:24:52.047767200Z",
     "start_time": "2023-11-12T14:24:52.043361100Z"
    }
   },
   "outputs": [],
   "source": [
    "s = 'hello world'"
   ]
  },
  {
   "cell_type": "markdown",
   "id": "cdeae80d",
   "metadata": {},
   "source": [
    "三引号用来输入包含多行文字的字符串："
   ]
  },
  {
   "cell_type": "code",
   "execution_count": 8,
   "id": "058792a5",
   "metadata": {
    "ExecuteTime": {
     "end_time": "2023-11-12T14:24:58.880233800Z",
     "start_time": "2023-11-12T14:24:58.869713400Z"
    }
   },
   "outputs": [
    {
     "data": {
      "text/plain": "'hello\\nworld'"
     },
     "execution_count": 8,
     "metadata": {},
     "output_type": "execute_result"
    }
   ],
   "source": [
    "\"\"\"hello\n",
    "world\"\"\""
   ]
  },
  {
   "cell_type": "markdown",
   "id": "d845d076",
   "metadata": {},
   "source": [
    "字符串的加法："
   ]
  },
  {
   "cell_type": "code",
   "execution_count": 9,
   "id": "c6e43bc0",
   "metadata": {
    "ExecuteTime": {
     "end_time": "2023-11-12T14:25:04.204575300Z",
     "start_time": "2023-11-12T14:25:04.196796500Z"
    }
   },
   "outputs": [
    {
     "data": {
      "text/plain": "'hello world'"
     },
     "execution_count": 9,
     "metadata": {},
     "output_type": "execute_result"
    }
   ],
   "source": [
    "\"hello\" + \" world\""
   ]
  },
  {
   "cell_type": "markdown",
   "id": "c1ec3be3",
   "metadata": {},
   "source": [
    "字符串索引："
   ]
  },
  {
   "cell_type": "code",
   "execution_count": 11,
   "id": "c53075be",
   "metadata": {
    "ExecuteTime": {
     "end_time": "2023-11-12T14:25:10.398181200Z",
     "start_time": "2023-11-12T14:25:10.392338700Z"
    }
   },
   "outputs": [
    {
     "data": {
      "text/plain": "('hello world', 'h')"
     },
     "execution_count": 11,
     "metadata": {},
     "output_type": "execute_result"
    }
   ],
   "source": [
    "s, s[0]"
   ]
  },
  {
   "cell_type": "code",
   "execution_count": 12,
   "id": "ae1eb479",
   "metadata": {
    "ExecuteTime": {
     "end_time": "2023-11-12T14:25:14.366963800Z",
     "start_time": "2023-11-12T14:25:14.355761800Z"
    }
   },
   "outputs": [
    {
     "data": {
      "text/plain": "'d'"
     },
     "execution_count": 12,
     "metadata": {},
     "output_type": "execute_result"
    }
   ],
   "source": [
    "s[-1]"
   ]
  },
  {
   "cell_type": "code",
   "execution_count": 13,
   "id": "7b5b91c7",
   "metadata": {
    "ExecuteTime": {
     "end_time": "2023-11-12T14:25:20.558342700Z",
     "start_time": "2023-11-12T14:25:20.553728900Z"
    }
   },
   "outputs": [
    {
     "data": {
      "text/plain": "'hello'"
     },
     "execution_count": 13,
     "metadata": {},
     "output_type": "execute_result"
    }
   ],
   "source": [
    "s[:5]"
   ]
  },
  {
   "cell_type": "markdown",
   "id": "a2e93d42",
   "metadata": {},
   "source": [
    "字符串的分割："
   ]
  },
  {
   "cell_type": "code",
   "execution_count": 14,
   "id": "60ecc68f",
   "metadata": {
    "ExecuteTime": {
     "end_time": "2023-11-12T14:25:23.936565800Z",
     "start_time": "2023-11-12T14:25:23.925601400Z"
    }
   },
   "outputs": [
    {
     "data": {
      "text/plain": "['hello', 'world']"
     },
     "execution_count": 14,
     "metadata": {},
     "output_type": "execute_result"
    }
   ],
   "source": [
    "s.split()"
   ]
  },
  {
   "cell_type": "markdown",
   "id": "36736930",
   "metadata": {},
   "source": [
    "字符串的长度："
   ]
  },
  {
   "cell_type": "code",
   "execution_count": 15,
   "id": "8f42fafd",
   "metadata": {
    "ExecuteTime": {
     "end_time": "2023-11-12T14:25:26.686868700Z",
     "start_time": "2023-11-12T14:25:26.680805200Z"
    }
   },
   "outputs": [
    {
     "data": {
      "text/plain": "11"
     },
     "execution_count": 15,
     "metadata": {},
     "output_type": "execute_result"
    }
   ],
   "source": [
    "len(s)"
   ]
  },
  {
   "cell_type": "markdown",
   "id": "8f026479",
   "metadata": {},
   "source": [
    "## 列表\n",
    "\n",
    "列表可以用中括号生成："
   ]
  },
  {
   "cell_type": "code",
   "execution_count": 16,
   "id": "179dfa56",
   "metadata": {
    "ExecuteTime": {
     "end_time": "2023-11-12T14:25:32.365661100Z",
     "start_time": "2023-11-12T14:25:32.353243700Z"
    }
   },
   "outputs": [
    {
     "data": {
      "text/plain": "[1, 2.0, 'hello', 6.0]"
     },
     "execution_count": 16,
     "metadata": {},
     "output_type": "execute_result"
    }
   ],
   "source": [
    "a = [1, 2.0, 'hello', 5 + 1.0]\n",
    "a"
   ]
  },
  {
   "cell_type": "markdown",
   "id": "667bac07",
   "metadata": {},
   "source": [
    "加法："
   ]
  },
  {
   "cell_type": "code",
   "execution_count": 17,
   "id": "3dd5f339",
   "metadata": {
    "ExecuteTime": {
     "end_time": "2023-11-12T14:25:35.343694300Z",
     "start_time": "2023-11-12T14:25:35.305905300Z"
    }
   },
   "outputs": [
    {
     "data": {
      "text/plain": "[1, 2.0, 'hello', 6.0, 1, 2.0, 'hello', 6.0]"
     },
     "execution_count": 17,
     "metadata": {},
     "output_type": "execute_result"
    }
   ],
   "source": [
    "a + a"
   ]
  },
  {
   "cell_type": "markdown",
   "id": "1024c6ca",
   "metadata": {},
   "source": [
    "列表索引："
   ]
  },
  {
   "cell_type": "code",
   "execution_count": 18,
   "id": "84e54fbd",
   "metadata": {
    "ExecuteTime": {
     "end_time": "2023-11-12T14:25:43.836306200Z",
     "start_time": "2023-11-12T14:25:43.825921Z"
    }
   },
   "outputs": [
    {
     "data": {
      "text/plain": "2.0"
     },
     "execution_count": 18,
     "metadata": {},
     "output_type": "execute_result"
    }
   ],
   "source": [
    "a[1]"
   ]
  },
  {
   "cell_type": "markdown",
   "id": "53f7d454",
   "metadata": {},
   "source": [
    "长度："
   ]
  },
  {
   "cell_type": "code",
   "execution_count": 19,
   "id": "966f6c89",
   "metadata": {
    "ExecuteTime": {
     "end_time": "2023-11-12T14:25:45.779146400Z",
     "start_time": "2023-11-12T14:25:45.772639400Z"
    }
   },
   "outputs": [
    {
     "data": {
      "text/plain": "4"
     },
     "execution_count": 19,
     "metadata": {},
     "output_type": "execute_result"
    }
   ],
   "source": [
    "len(a)"
   ]
  },
  {
   "cell_type": "markdown",
   "id": "d3bb8297",
   "metadata": {},
   "source": [
    "添加元素："
   ]
  },
  {
   "cell_type": "code",
   "execution_count": 20,
   "id": "6e2b7795",
   "metadata": {
    "ExecuteTime": {
     "end_time": "2023-11-12T14:25:47.870919100Z",
     "start_time": "2023-11-12T14:25:47.865147100Z"
    }
   },
   "outputs": [
    {
     "data": {
      "text/plain": "4"
     },
     "execution_count": 20,
     "metadata": {},
     "output_type": "execute_result"
    }
   ],
   "source": [
    "len(a)"
   ]
  },
  {
   "cell_type": "markdown",
   "id": "b3af4ea2",
   "metadata": {},
   "source": [
    "## 集合\n",
    "\n",
    "集合可以用花括号生成："
   ]
  },
  {
   "cell_type": "code",
   "execution_count": 21,
   "id": "dedd8f92",
   "metadata": {
    "ExecuteTime": {
     "end_time": "2023-11-12T14:25:51.023354100Z",
     "start_time": "2023-11-12T14:25:51.014617500Z"
    }
   },
   "outputs": [
    {
     "data": {
      "text/plain": "{2, 3, 4}"
     },
     "execution_count": 21,
     "metadata": {},
     "output_type": "execute_result"
    }
   ],
   "source": [
    "s = {2, 3, 4, 2}  # 重复元素会被自动删除\n",
    "s"
   ]
  },
  {
   "cell_type": "markdown",
   "id": "de4abb51",
   "metadata": {},
   "source": [
    "集合的长度："
   ]
  },
  {
   "cell_type": "code",
   "execution_count": 22,
   "id": "10a088e4",
   "metadata": {
    "ExecuteTime": {
     "end_time": "2023-11-12T14:25:59.837523900Z",
     "start_time": "2023-11-12T14:25:59.816105400Z"
    }
   },
   "outputs": [
    {
     "data": {
      "text/plain": "3"
     },
     "execution_count": 22,
     "metadata": {},
     "output_type": "execute_result"
    }
   ],
   "source": [
    "len(s)"
   ]
  },
  {
   "cell_type": "markdown",
   "id": "5fd2ac17",
   "metadata": {},
   "source": [
    "向集合中添加元素："
   ]
  },
  {
   "cell_type": "code",
   "execution_count": 23,
   "id": "88ab84a8",
   "metadata": {
    "ExecuteTime": {
     "end_time": "2023-11-12T14:26:02.469687100Z",
     "start_time": "2023-11-12T14:26:02.466746900Z"
    }
   },
   "outputs": [],
   "source": [
    "s.add(1)"
   ]
  },
  {
   "cell_type": "markdown",
   "id": "2fd75bf0",
   "metadata": {},
   "source": [
    "集合的交："
   ]
  },
  {
   "cell_type": "code",
   "execution_count": 24,
   "id": "9834a201",
   "metadata": {
    "ExecuteTime": {
     "end_time": "2023-11-12T14:26:09.320961500Z",
     "start_time": "2023-11-12T14:26:09.314802Z"
    }
   },
   "outputs": [
    {
     "data": {
      "text/plain": "{2, 3, 4}"
     },
     "execution_count": 24,
     "metadata": {},
     "output_type": "execute_result"
    }
   ],
   "source": [
    "a = {1, 2, 3, 4}\n",
    "b = {2, 3, 4, 5}\n",
    "a & b"
   ]
  },
  {
   "cell_type": "markdown",
   "id": "fb1b0afc",
   "metadata": {},
   "source": [
    "并："
   ]
  },
  {
   "cell_type": "code",
   "execution_count": 25,
   "id": "871b3dd0",
   "metadata": {
    "ExecuteTime": {
     "end_time": "2023-11-12T14:26:13.568783300Z",
     "start_time": "2023-11-12T14:26:13.562933600Z"
    }
   },
   "outputs": [
    {
     "data": {
      "text/plain": "{1, 2, 3, 4, 5}"
     },
     "execution_count": 25,
     "metadata": {},
     "output_type": "execute_result"
    }
   ],
   "source": [
    "a | b"
   ]
  },
  {
   "cell_type": "markdown",
   "id": "5746f9f4",
   "metadata": {},
   "source": [
    "差："
   ]
  },
  {
   "cell_type": "code",
   "execution_count": 26,
   "id": "6f3d5afa",
   "metadata": {
    "ExecuteTime": {
     "end_time": "2023-11-12T14:26:21.778603100Z",
     "start_time": "2023-11-12T14:26:21.773647400Z"
    }
   },
   "outputs": [
    {
     "data": {
      "text/plain": "{1}"
     },
     "execution_count": 26,
     "metadata": {},
     "output_type": "execute_result"
    }
   ],
   "source": [
    "a - b"
   ]
  },
  {
   "cell_type": "markdown",
   "id": "5fff5d28",
   "metadata": {},
   "source": [
    "## 字典\n",
    "\n",
    "Python用{key:value}来生成字典："
   ]
  },
  {
   "cell_type": "code",
   "execution_count": 27,
   "id": "2f93efca",
   "metadata": {
    "ExecuteTime": {
     "end_time": "2023-11-12T14:26:28.060655300Z",
     "start_time": "2023-11-12T14:26:28.055333400Z"
    }
   },
   "outputs": [
    {
     "data": {
      "text/plain": "{'dogs': 5, 'cats': 4}"
     },
     "execution_count": 27,
     "metadata": {},
     "output_type": "execute_result"
    }
   ],
   "source": [
    "d = {'dogs':5, 'cats':4}\n",
    "d"
   ]
  },
  {
   "cell_type": "markdown",
   "id": "ee8feeb1",
   "metadata": {},
   "source": [
    "大小："
   ]
  },
  {
   "cell_type": "code",
   "execution_count": 28,
   "id": "bdb41098",
   "metadata": {
    "ExecuteTime": {
     "end_time": "2023-11-12T14:26:30.594475100Z",
     "start_time": "2023-11-12T14:26:30.590370300Z"
    }
   },
   "outputs": [
    {
     "data": {
      "text/plain": "2"
     },
     "execution_count": 28,
     "metadata": {},
     "output_type": "execute_result"
    }
   ],
   "source": [
    "len(d)"
   ]
  },
  {
   "cell_type": "markdown",
   "id": "fd1720a1",
   "metadata": {},
   "source": [
    "查看字典某个键对应的值："
   ]
  },
  {
   "cell_type": "code",
   "execution_count": 29,
   "id": "076bca20",
   "metadata": {
    "ExecuteTime": {
     "end_time": "2023-11-12T14:26:33.164713300Z",
     "start_time": "2023-11-12T14:26:33.152763400Z"
    }
   },
   "outputs": [
    {
     "data": {
      "text/plain": "5"
     },
     "execution_count": 29,
     "metadata": {},
     "output_type": "execute_result"
    }
   ],
   "source": [
    "d[\"dogs\"]"
   ]
  },
  {
   "cell_type": "markdown",
   "id": "066a4b49",
   "metadata": {},
   "source": [
    "修改键值："
   ]
  },
  {
   "cell_type": "code",
   "execution_count": 30,
   "id": "75d8fe48",
   "metadata": {
    "ExecuteTime": {
     "end_time": "2023-11-12T14:26:35.337036400Z",
     "start_time": "2023-11-12T14:26:35.332087800Z"
    }
   },
   "outputs": [
    {
     "data": {
      "text/plain": "{'dogs': 2, 'cats': 4}"
     },
     "execution_count": 30,
     "metadata": {},
     "output_type": "execute_result"
    }
   ],
   "source": [
    "d[\"dogs\"] = 2\n",
    "d"
   ]
  },
  {
   "cell_type": "markdown",
   "id": "126f7d16",
   "metadata": {},
   "source": [
    "插入："
   ]
  },
  {
   "cell_type": "code",
   "execution_count": 31,
   "id": "e9c04d7d",
   "metadata": {
    "ExecuteTime": {
     "end_time": "2023-11-12T14:26:37.976045400Z",
     "start_time": "2023-11-12T14:26:37.970858Z"
    }
   },
   "outputs": [
    {
     "data": {
      "text/plain": "{'dogs': 2, 'cats': 4, 'pigs': 7}"
     },
     "execution_count": 31,
     "metadata": {},
     "output_type": "execute_result"
    }
   ],
   "source": [
    "d[\"pigs\"] = 7\n",
    "d"
   ]
  },
  {
   "cell_type": "markdown",
   "id": "05f47366",
   "metadata": {},
   "source": [
    "## NumPy数组\n",
    "\n",
    "很多高级的数学运算可以通过数组完成。首先需要导入NumPy："
   ]
  },
  {
   "cell_type": "code",
   "execution_count": 35,
   "id": "9b8c1b0c",
   "metadata": {
    "ExecuteTime": {
     "end_time": "2023-11-12T14:27:01.444937Z",
     "start_time": "2023-11-12T14:27:01.433533800Z"
    }
   },
   "outputs": [
    {
     "data": {
      "text/plain": "array([1, 2, 3, 4])"
     },
     "execution_count": 35,
     "metadata": {},
     "output_type": "execute_result"
    }
   ],
   "source": [
    "import numpy as np\n",
    "\n",
    "a = np.array([1, 2, 3, 4])\n",
    "a"
   ]
  },
  {
   "cell_type": "markdown",
   "id": "d5e6c12a",
   "metadata": {},
   "source": [
    "一些数学运算："
   ]
  },
  {
   "cell_type": "code",
   "execution_count": 36,
   "id": "baa3abc6",
   "metadata": {
    "ExecuteTime": {
     "end_time": "2023-11-12T14:27:09.047816600Z",
     "start_time": "2023-11-12T14:27:09.037901200Z"
    }
   },
   "outputs": [
    {
     "data": {
      "text/plain": "array([3, 4, 5, 6])"
     },
     "execution_count": 36,
     "metadata": {},
     "output_type": "execute_result"
    }
   ],
   "source": [
    "a + 2"
   ]
  },
  {
   "cell_type": "code",
   "execution_count": 37,
   "id": "ee40c17d",
   "metadata": {
    "ExecuteTime": {
     "end_time": "2023-11-12T14:27:19.125565900Z",
     "start_time": "2023-11-12T14:27:19.115894500Z"
    }
   },
   "outputs": [
    {
     "data": {
      "text/plain": "array([2, 4, 6, 8])"
     },
     "execution_count": 37,
     "metadata": {},
     "output_type": "execute_result"
    }
   ],
   "source": [
    "a + a  # 数组的加法是对应元素相加"
   ]
  },
  {
   "cell_type": "code",
   "execution_count": 38,
   "id": "479b113f",
   "metadata": {
    "ExecuteTime": {
     "end_time": "2023-11-12T14:27:38.452225300Z",
     "start_time": "2023-11-12T14:27:38.445574300Z"
    }
   },
   "outputs": [
    {
     "data": {
      "text/plain": "array([2, 4, 6, 8])"
     },
     "execution_count": 38,
     "metadata": {},
     "output_type": "execute_result"
    }
   ],
   "source": [
    "a * 2"
   ]
  },
  {
   "cell_type": "markdown",
   "id": "5ae1dd3b",
   "metadata": {},
   "source": [
    "## 可视化\n",
    "\n",
    "可以用Matplotlib对数据进行可视化："
   ]
  },
  {
   "cell_type": "code",
   "execution_count": 39,
   "id": "901a3e45",
   "metadata": {
    "ExecuteTime": {
     "end_time": "2023-11-12T14:27:42.719268500Z",
     "start_time": "2023-11-12T14:27:42.394337200Z"
    }
   },
   "outputs": [],
   "source": [
    "from matplotlib import pyplot as plt"
   ]
  },
  {
   "cell_type": "code",
   "execution_count": 40,
   "id": "05a12128",
   "metadata": {
    "ExecuteTime": {
     "end_time": "2023-11-12T14:27:44.450084600Z",
     "start_time": "2023-11-12T14:27:44.317788600Z"
    }
   },
   "outputs": [
    {
     "data": {
      "text/plain": "[<matplotlib.lines.Line2D at 0x1c3653c1e90>]"
     },
     "execution_count": 40,
     "metadata": {},
     "output_type": "execute_result"
    },
    {
     "data": {
      "text/plain": "<Figure size 640x480 with 1 Axes>",
      "image/png": "[encoded data removed]"
     },
     "metadata": {},
     "output_type": "display_data"
    }
   ],
   "source": [
    "plt.plot(a, a**2)"
   ]
  },
  {
   "cell_type": "markdown",
   "id": "b3c7ad8d",
   "metadata": {},
   "source": [
    "## 循环\n",
    "\n",
    "可以使用`for`语句进行循环："
   ]
  },
  {
   "cell_type": "code",
   "execution_count": 41,
   "id": "a70257f3",
   "metadata": {
    "ExecuteTime": {
     "end_time": "2023-11-12T14:28:11.628146300Z",
     "start_time": "2023-11-12T14:28:11.616244100Z"
    }
   },
   "outputs": [
    {
     "data": {
      "text/plain": "['1', '2', '3', '4', '5']"
     },
     "execution_count": 41,
     "metadata": {},
     "output_type": "execute_result"
    }
   ],
   "source": [
    "line = '1 2 3 4 5'\n",
    "fields = line.split()\n",
    "fields"
   ]
  },
  {
   "cell_type": "code",
   "execution_count": 42,
   "id": "b6ef72d5",
   "metadata": {
    "ExecuteTime": {
     "end_time": "2023-11-12T14:28:23.439474500Z",
     "start_time": "2023-11-12T14:28:23.428615Z"
    }
   },
   "outputs": [
    {
     "data": {
      "text/plain": "15"
     },
     "execution_count": 42,
     "metadata": {},
     "output_type": "execute_result"
    }
   ],
   "source": [
    "total = 0\n",
    "for field in fields:\n",
    "    total += int(field)\n",
    "total"
   ]
  },
  {
   "cell_type": "markdown",
   "id": "075cc50d",
   "metadata": {},
   "source": [
    "列表推导式，用`for`循环生成列表："
   ]
  },
  {
   "cell_type": "code",
   "execution_count": 43,
   "id": "862a8878",
   "metadata": {
    "ExecuteTime": {
     "end_time": "2023-11-12T14:28:43.175068900Z",
     "start_time": "2023-11-12T14:28:43.147453600Z"
    }
   },
   "outputs": [
    {
     "data": {
      "text/plain": "[1, 2, 3, 4, 5]"
     },
     "execution_count": 43,
     "metadata": {},
     "output_type": "execute_result"
    }
   ],
   "source": [
    "numbers = [int(field) for field in fields]\n",
    "numbers"
   ]
  },
  {
   "cell_type": "markdown",
   "id": "737ab850",
   "metadata": {},
   "source": [
    "## 文件操作\n",
    "\n",
    "写文件："
   ]
  },
  {
   "cell_type": "code",
   "execution_count": 44,
   "id": "b259797d",
   "metadata": {
    "ExecuteTime": {
     "end_time": "2023-11-12T14:30:12.666064100Z",
     "start_time": "2023-11-12T14:30:12.641094300Z"
    }
   },
   "outputs": [],
   "source": [
    "f = open('data.txt', 'w')\n",
    "f.write('1 2 3 4\\n')\n",
    "f.write('2 3 4 5\\n')\n",
    "f.close()"
   ]
  },
  {
   "cell_type": "markdown",
   "id": "640c7aee",
   "metadata": {},
   "source": [
    "读文件："
   ]
  },
  {
   "cell_type": "code",
   "execution_count": 47,
   "id": "8f25a50a",
   "metadata": {
    "ExecuteTime": {
     "end_time": "2023-11-12T14:30:48.248829900Z",
     "start_time": "2023-11-12T14:30:48.235726600Z"
    }
   },
   "outputs": [
    {
     "data": {
      "text/plain": "[[1, 2, 3, 4], [2, 3, 4, 5]]"
     },
     "execution_count": 47,
     "metadata": {},
     "output_type": "execute_result"
    }
   ],
   "source": [
    "f = open('data.txt')\n",
    "data = []\n",
    "for line in f:\n",
    "    data.append([int(field) for field in line.split()])  # 将每一行转换成列表\n",
    "f.close()\n",
    "\n",
    "data"
   ]
  },
  {
   "cell_type": "markdown",
   "id": "83855bba",
   "metadata": {},
   "source": [
    "删除文件："
   ]
  },
  {
   "cell_type": "code",
   "execution_count": 48,
   "id": "ef8584bb",
   "metadata": {
    "ExecuteTime": {
     "end_time": "2023-11-12T14:31:09.129957300Z",
     "start_time": "2023-11-12T14:31:09.117012300Z"
    }
   },
   "outputs": [],
   "source": [
    "import os\n",
    "os.remove('data.txt')"
   ]
  },
  {
   "cell_type": "markdown",
   "id": "67117c81",
   "metadata": {},
   "source": [
    "## 函数\n",
    "\n",
    "使用括号对函数进行调用："
   ]
  },
  {
   "cell_type": "code",
   "execution_count": 49,
   "id": "d11ba6de",
   "metadata": {
    "ExecuteTime": {
     "end_time": "2023-11-12T14:31:12.496507700Z",
     "start_time": "2023-11-12T14:31:12.492435400Z"
    }
   },
   "outputs": [
    {
     "data": {
      "text/plain": "12.3"
     },
     "execution_count": 49,
     "metadata": {},
     "output_type": "execute_result"
    }
   ],
   "source": [
    "abs(-12.3)"
   ]
  },
  {
   "cell_type": "markdown",
   "id": "f7ac28a0",
   "metadata": {},
   "source": [
    "用`def`定义函数："
   ]
  },
  {
   "cell_type": "code",
   "execution_count": 50,
   "id": "e4bf5251",
   "metadata": {
    "ExecuteTime": {
     "end_time": "2023-11-12T14:31:19.511038500Z",
     "start_time": "2023-11-12T14:31:19.501259800Z"
    }
   },
   "outputs": [],
   "source": [
    "def poly(x, a, b, c):\n",
    "    y = a * x ** 2 + b * x + c\n",
    "    return y"
   ]
  },
  {
   "cell_type": "code",
   "execution_count": 51,
   "id": "160c03e0",
   "metadata": {
    "ExecuteTime": {
     "end_time": "2023-11-12T14:31:23.684352600Z",
     "start_time": "2023-11-12T14:31:23.678644300Z"
    }
   },
   "outputs": [
    {
     "data": {
      "text/plain": "6"
     },
     "execution_count": 51,
     "metadata": {},
     "output_type": "execute_result"
    }
   ],
   "source": [
    "x = 1\n",
    "poly(x, 1, 2, 3)"
   ]
  },
  {
   "cell_type": "markdown",
   "id": "b40018ba",
   "metadata": {},
   "source": [
    "用Numpy数组做参数："
   ]
  },
  {
   "cell_type": "code",
   "execution_count": 52,
   "id": "23865b90",
   "metadata": {
    "ExecuteTime": {
     "end_time": "2023-11-12T14:31:54.689305500Z",
     "start_time": "2023-11-12T14:31:54.677729900Z"
    }
   },
   "outputs": [
    {
     "data": {
      "text/plain": "array([ 6, 11, 18])"
     },
     "execution_count": 52,
     "metadata": {},
     "output_type": "execute_result"
    }
   ],
   "source": [
    "x = np.array([1, 2, 3])\n",
    "poly(x, 1, 2, 3)"
   ]
  },
  {
   "cell_type": "markdown",
   "id": "58c15b43",
   "metadata": {},
   "source": [
    "## 模块\n",
    "\n",
    "用`import`导入模块："
   ]
  },
  {
   "cell_type": "code",
   "execution_count": 53,
   "id": "db19be1f",
   "metadata": {
    "ExecuteTime": {
     "end_time": "2023-11-12T14:32:01.578414600Z",
     "start_time": "2023-11-12T14:32:01.576487900Z"
    }
   },
   "outputs": [],
   "source": [
    "import os"
   ]
  },
  {
   "cell_type": "markdown",
   "id": "b18c1ea8",
   "metadata": {},
   "source": [
    "当前系统分隔符："
   ]
  },
  {
   "cell_type": "code",
   "execution_count": 54,
   "id": "85ff6b43",
   "metadata": {
    "ExecuteTime": {
     "end_time": "2023-11-12T14:32:03.727722Z",
     "start_time": "2023-11-12T14:32:03.722763Z"
    }
   },
   "outputs": [
    {
     "data": {
      "text/plain": "'\\\\'"
     },
     "execution_count": 54,
     "metadata": {},
     "output_type": "execute_result"
    }
   ],
   "source": [
    "os.sep"
   ]
  },
  {
   "cell_type": "markdown",
   "id": "5a19cc58",
   "metadata": {},
   "source": [
    "## 类\n",
    "\n",
    "用class定义类："
   ]
  },
  {
   "cell_type": "code",
   "execution_count": 55,
   "id": "cbbc5f6e",
   "metadata": {
    "ExecuteTime": {
     "end_time": "2023-11-12T14:32:09.763352200Z",
     "start_time": "2023-11-12T14:32:09.755520600Z"
    }
   },
   "outputs": [],
   "source": [
    "class Person(object):\n",
    "    def __init__(self, first, last, age):\n",
    "        self.first = first\n",
    "        self.last = last\n",
    "        self.age = age\n",
    "    def full_name(self):\n",
    "        return self.first + ' ' + self.last"
   ]
  },
  {
   "cell_type": "markdown",
   "id": "775a7391",
   "metadata": {},
   "source": [
    "构建对象："
   ]
  },
  {
   "cell_type": "code",
   "execution_count": 56,
   "id": "a0c6a894",
   "metadata": {
    "ExecuteTime": {
     "end_time": "2023-11-12T14:32:34.999557900Z",
     "start_time": "2023-11-12T14:32:34.996775Z"
    }
   },
   "outputs": [],
   "source": [
    "person = Person('Mertle', 'Sedgewick', 52)"
   ]
  },
  {
   "cell_type": "markdown",
   "id": "bb42c02f",
   "metadata": {},
   "source": [
    "调用对象的属性："
   ]
  },
  {
   "cell_type": "code",
   "execution_count": 57,
   "id": "1d43c644",
   "metadata": {
    "ExecuteTime": {
     "end_time": "2023-11-12T14:32:44.349792900Z",
     "start_time": "2023-11-12T14:32:44.340617700Z"
    }
   },
   "outputs": [
    {
     "data": {
      "text/plain": "'Mertle'"
     },
     "execution_count": 57,
     "metadata": {},
     "output_type": "execute_result"
    }
   ],
   "source": [
    "person.first"
   ]
  },
  {
   "cell_type": "markdown",
   "id": "c415161c",
   "metadata": {},
   "source": [
    "调用对象的方法："
   ]
  },
  {
   "cell_type": "code",
   "execution_count": 58,
   "id": "694b903d",
   "metadata": {
    "ExecuteTime": {
     "end_time": "2023-11-12T14:32:47.010416700Z",
     "start_time": "2023-11-12T14:32:47.005123900Z"
    }
   },
   "outputs": [
    {
     "data": {
      "text/plain": "'Mertle Sedgewick'"
     },
     "execution_count": 58,
     "metadata": {},
     "output_type": "execute_result"
    }
   ],
   "source": [
    "person.full_name()"
   ]
  },
  {
   "cell_type": "markdown",
   "id": "9271b04c",
   "metadata": {},
   "source": [
    "## 错误处理\n",
    "\n",
    "输入错误的代码会提示报错："
   ]
  },
  {
   "cell_type": "code",
   "execution_count": 59,
   "id": "04c1fe57",
   "metadata": {
    "ExecuteTime": {
     "end_time": "2023-11-12T14:33:12.384774400Z",
     "start_time": "2023-11-12T14:33:12.376846500Z"
    }
   },
   "outputs": [
    {
     "name": "stdout",
     "output_type": "stream",
     "text": [
      "Could not open file: [Errno 2] No such file or directory: 'data.txt'\n"
     ]
    }
   ],
   "source": [
    "try:\n",
    "    f = open('data.txt')\n",
    "except IOError as e:\n",
    "    print('Could not open file:', e)"
   ]
  }
 ],
 "metadata": {
  "kernelspec": {
   "display_name": "Python 3 (ipykernel)",
   "language": "python",
   "name": "python3"
  },
  "language_info": {
   "codemirror_mode": {
    "name": "ipython",
    "version": 3
   },
   "file_extension": ".py",
   "mimetype": "text/x-python",
   "name": "python",
   "nbconvert_exporter": "python",
   "pygments_lexer": "ipython3",
   "version": "3.9.10"
  }
 },
 "nbformat": 4,
 "nbformat_minor": 5
}
