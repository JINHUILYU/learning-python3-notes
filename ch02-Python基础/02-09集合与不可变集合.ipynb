{
 "cells": [
  {
   "cell_type": "markdown",
   "id": "917503c7",
   "metadata": {},
   "source": [
    "# 集合"
   ]
  },
  {
   "cell_type": "markdown",
   "id": "8e16c824",
   "metadata": {},
   "source": [
    "之前看到的列表和字符串都是一种有序序列，而集合是一种无序的序列。\n",
    "\n",
    "因为集合是无序的，所以当集合中存在两个同样的元素的时候，Python只会保存其中的一个（唯一性）；同时为了确保其中不包含同样的元素，集合中放入的元素只能是不可变的对象（确定性）。"
   ]
  },
  {
   "cell_type": "markdown",
   "id": "a3fe86ff",
   "metadata": {},
   "source": [
    "## 集合生成"
   ]
  },
  {
   "cell_type": "markdown",
   "id": "7f76bfed",
   "metadata": {},
   "source": [
    "可以用`set()`函数来显示的生成空集合："
   ]
  },
  {
   "cell_type": "code",
   "execution_count": 3,
   "id": "9a36d941",
   "metadata": {
    "ExecuteTime": {
     "end_time": "2023-11-13T03:14:03.444712100Z",
     "start_time": "2023-11-13T03:14:03.431847400Z"
    }
   },
   "outputs": [],
   "source": [
    "a = set()"
   ]
  },
  {
   "cell_type": "code",
   "execution_count": 4,
   "id": "09823fe0",
   "metadata": {
    "ExecuteTime": {
     "end_time": "2023-11-13T03:14:04.391304Z",
     "start_time": "2023-11-13T03:14:04.382514600Z"
    }
   },
   "outputs": [
    {
     "data": {
      "text/plain": "set"
     },
     "execution_count": 4,
     "metadata": {},
     "output_type": "execute_result"
    }
   ],
   "source": [
    "type(a)"
   ]
  },
  {
   "cell_type": "markdown",
   "id": "f7041dbc",
   "metadata": {},
   "source": [
    "也可以使用一个列表来初始化一个集合："
   ]
  },
  {
   "cell_type": "code",
   "execution_count": 17,
   "id": "5abd2789",
   "metadata": {
    "ExecuteTime": {
     "end_time": "2023-11-13T03:15:37.744516Z",
     "start_time": "2023-11-13T03:15:37.730011Z"
    }
   },
   "outputs": [],
   "source": [
    "a = set([1, 2, 3, 1])  # 等价于 a = {1, 2, 3, 1}"
   ]
  },
  {
   "cell_type": "code",
   "execution_count": 18,
   "id": "2bbf546c",
   "metadata": {
    "ExecuteTime": {
     "end_time": "2023-11-13T03:15:38.732805800Z",
     "start_time": "2023-11-13T03:15:38.729116700Z"
    }
   },
   "outputs": [
    {
     "data": {
      "text/plain": "({1, 2, 3}, set)"
     },
     "execution_count": 18,
     "metadata": {},
     "output_type": "execute_result"
    }
   ],
   "source": [
    "a, type(a)"
   ]
  },
  {
   "cell_type": "markdown",
   "id": "e944847d",
   "metadata": {},
   "source": [
    "集合会自动去除重复元素 1。\n",
    "\n",
    "集合中的元素是用大括号{}包含起来的，这意味着可以用{}的形式来创建集合："
   ]
  },
  {
   "cell_type": "code",
   "execution_count": 8,
   "id": "36f0069a",
   "metadata": {
    "ExecuteTime": {
     "end_time": "2023-11-13T03:14:12.607470200Z",
     "start_time": "2023-11-13T03:14:12.595452700Z"
    }
   },
   "outputs": [],
   "source": [
    "a = {1, 2, 3, 1}"
   ]
  },
  {
   "cell_type": "code",
   "execution_count": 9,
   "id": "7aa135d8",
   "metadata": {
    "ExecuteTime": {
     "end_time": "2023-11-13T03:14:13.785264100Z",
     "start_time": "2023-11-13T03:14:13.752249200Z"
    }
   },
   "outputs": [
    {
     "data": {
      "text/plain": "{1, 2, 3}"
     },
     "execution_count": 9,
     "metadata": {},
     "output_type": "execute_result"
    }
   ],
   "source": [
    "a"
   ]
  },
  {
   "cell_type": "markdown",
   "id": "4c7a4bd6",
   "metadata": {},
   "source": [
    "创建空集合的时候只能用`set()`函数来创建，因为在Python中`{}`创建的是一个空的字典："
   ]
  },
  {
   "cell_type": "code",
   "execution_count": 10,
   "id": "3c931eaf",
   "metadata": {
    "ExecuteTime": {
     "end_time": "2023-11-13T03:14:18.680047400Z",
     "start_time": "2023-11-13T03:14:18.676533100Z"
    }
   },
   "outputs": [],
   "source": [
    "s = {}"
   ]
  },
  {
   "cell_type": "code",
   "execution_count": 11,
   "id": "b5d36119",
   "metadata": {
    "ExecuteTime": {
     "end_time": "2023-11-13T03:14:20.338986700Z",
     "start_time": "2023-11-13T03:14:20.334844300Z"
    }
   },
   "outputs": [
    {
     "data": {
      "text/plain": "dict"
     },
     "execution_count": 11,
     "metadata": {},
     "output_type": "execute_result"
    }
   ],
   "source": [
    "type(s)"
   ]
  },
  {
   "cell_type": "markdown",
   "id": "62582fc6",
   "metadata": {},
   "source": [
    "## 集合操作"
   ]
  },
  {
   "cell_type": "code",
   "execution_count": 19,
   "id": "001afdaa",
   "metadata": {
    "ExecuteTime": {
     "end_time": "2023-11-13T03:15:46.577938200Z",
     "start_time": "2023-11-13T03:15:46.563916300Z"
    }
   },
   "outputs": [],
   "source": [
    "a = {1, 2, 3, 4}"
   ]
  },
  {
   "cell_type": "code",
   "execution_count": 20,
   "id": "d2c03739",
   "metadata": {
    "ExecuteTime": {
     "end_time": "2023-11-13T03:15:47.258567100Z",
     "start_time": "2023-11-13T03:15:47.248837600Z"
    }
   },
   "outputs": [],
   "source": [
    "b = {3, 4, 5, 6}"
   ]
  },
  {
   "cell_type": "markdown",
   "id": "07586eb4",
   "metadata": {},
   "source": [
    "两个集合的并，返回包含两个集合所有元素的集合（去除重复）。可以用方法 `a.union(b)` 或者操作 `a | b` 实现："
   ]
  },
  {
   "cell_type": "code",
   "execution_count": 21,
   "id": "5d750f30",
   "metadata": {
    "ExecuteTime": {
     "end_time": "2023-11-13T03:15:49.905391200Z",
     "start_time": "2023-11-13T03:15:49.901977800Z"
    }
   },
   "outputs": [
    {
     "data": {
      "text/plain": "{1, 2, 3, 4, 5, 6}"
     },
     "execution_count": 21,
     "metadata": {},
     "output_type": "execute_result"
    }
   ],
   "source": [
    "a.union(b)"
   ]
  },
  {
   "cell_type": "code",
   "execution_count": 22,
   "id": "b0e4cd8b",
   "metadata": {
    "ExecuteTime": {
     "end_time": "2023-11-13T03:16:07.202135600Z",
     "start_time": "2023-11-13T03:16:07.197785Z"
    }
   },
   "outputs": [
    {
     "data": {
      "text/plain": "{1, 2, 3, 4, 5, 6}"
     },
     "execution_count": 22,
     "metadata": {},
     "output_type": "execute_result"
    }
   ],
   "source": [
    "a | b"
   ]
  },
  {
   "cell_type": "markdown",
   "id": "026a0ad7",
   "metadata": {},
   "source": [
    "两个集合的交，返回包含两个集合共有元素的集合。可以用方法 `a.intersection(b)` 或者操作 `a & b` 实现："
   ]
  },
  {
   "cell_type": "code",
   "execution_count": 24,
   "id": "17bf0d05",
   "metadata": {
    "ExecuteTime": {
     "end_time": "2023-11-13T03:16:12.211758900Z",
     "start_time": "2023-11-13T03:16:12.197934100Z"
    }
   },
   "outputs": [
    {
     "data": {
      "text/plain": "{3, 4}"
     },
     "execution_count": 24,
     "metadata": {},
     "output_type": "execute_result"
    }
   ],
   "source": [
    "a.intersection(b)"
   ]
  },
  {
   "cell_type": "code",
   "execution_count": 25,
   "id": "069791d6",
   "metadata": {
    "ExecuteTime": {
     "end_time": "2023-11-13T03:16:13.472925500Z",
     "start_time": "2023-11-13T03:16:13.466902200Z"
    }
   },
   "outputs": [
    {
     "data": {
      "text/plain": "{3, 4}"
     },
     "execution_count": 25,
     "metadata": {},
     "output_type": "execute_result"
    }
   ],
   "source": [
    "a & b"
   ]
  },
  {
   "cell_type": "code",
   "execution_count": 26,
   "id": "78788eb3",
   "metadata": {
    "ExecuteTime": {
     "end_time": "2023-11-13T03:16:15.500164Z",
     "start_time": "2023-11-13T03:16:15.489098200Z"
    }
   },
   "outputs": [
    {
     "data": {
      "text/plain": "{3, 4}"
     },
     "execution_count": 26,
     "metadata": {},
     "output_type": "execute_result"
    }
   ],
   "source": [
    "b & a"
   ]
  },
  {
   "cell_type": "markdown",
   "id": "3efbcd55",
   "metadata": {},
   "source": [
    "a 和 b 的差集，返回只在 a 不在 b 的元素组成的集合。可以用方法 `a.difference(b)` 或者操作 `a - b` 实现:"
   ]
  },
  {
   "cell_type": "code",
   "execution_count": 27,
   "id": "70bd8d5c",
   "metadata": {
    "ExecuteTime": {
     "end_time": "2023-11-13T03:16:17.831104900Z",
     "start_time": "2023-11-13T03:16:17.827829500Z"
    }
   },
   "outputs": [
    {
     "data": {
      "text/plain": "{1, 2}"
     },
     "execution_count": 27,
     "metadata": {},
     "output_type": "execute_result"
    }
   ],
   "source": [
    "a - b"
   ]
  },
  {
   "cell_type": "code",
   "execution_count": 28,
   "id": "58ec24a2",
   "metadata": {
    "ExecuteTime": {
     "end_time": "2023-11-13T03:16:21.780387300Z",
     "start_time": "2023-11-13T03:16:21.775874200Z"
    }
   },
   "outputs": [
    {
     "data": {
      "text/plain": "{5, 6}"
     },
     "execution_count": 28,
     "metadata": {},
     "output_type": "execute_result"
    }
   ],
   "source": [
    "b - a"
   ]
  },
  {
   "cell_type": "code",
   "execution_count": 30,
   "id": "e1db9069",
   "metadata": {
    "ExecuteTime": {
     "end_time": "2023-11-13T03:16:28.636828100Z",
     "start_time": "2023-11-13T03:16:28.630442200Z"
    }
   },
   "outputs": [
    {
     "data": {
      "text/plain": "{1, 2}"
     },
     "execution_count": 30,
     "metadata": {},
     "output_type": "execute_result"
    }
   ],
   "source": [
    "a.difference(b)"
   ]
  },
  {
   "cell_type": "code",
   "execution_count": 31,
   "id": "dfa41597",
   "metadata": {
    "ExecuteTime": {
     "end_time": "2023-11-13T03:16:29.086794200Z",
     "start_time": "2023-11-13T03:16:29.063169300Z"
    }
   },
   "outputs": [
    {
     "data": {
      "text/plain": "{5, 6}"
     },
     "execution_count": 31,
     "metadata": {},
     "output_type": "execute_result"
    }
   ],
   "source": [
    "b.difference(a)"
   ]
  },
  {
   "cell_type": "markdown",
   "id": "b3327b1d",
   "metadata": {},
   "source": [
    "a 和b 的对称差集，返回在 a 或在 b 中，但是不同时在 a 和 b 中的元素组成的集合。可以用方法 `a.symmetric_difference(b)` 或者操作 `a ^ b` 实现（异或操作符）："
   ]
  },
  {
   "cell_type": "code",
   "execution_count": 32,
   "id": "86f598cb",
   "metadata": {
    "ExecuteTime": {
     "end_time": "2023-11-13T03:16:43.748770700Z",
     "start_time": "2023-11-13T03:16:43.743735300Z"
    }
   },
   "outputs": [
    {
     "data": {
      "text/plain": "{1, 2, 5, 6}"
     },
     "execution_count": 32,
     "metadata": {},
     "output_type": "execute_result"
    }
   ],
   "source": [
    "a.symmetric_difference(b)"
   ]
  },
  {
   "cell_type": "code",
   "execution_count": 33,
   "id": "7da81797",
   "metadata": {
    "ExecuteTime": {
     "end_time": "2023-11-13T03:16:44.314872600Z",
     "start_time": "2023-11-13T03:16:44.309156700Z"
    }
   },
   "outputs": [
    {
     "data": {
      "text/plain": "{1, 2, 5, 6}"
     },
     "execution_count": 33,
     "metadata": {},
     "output_type": "execute_result"
    }
   ],
   "source": [
    "b.symmetric_difference(a)"
   ]
  },
  {
   "cell_type": "code",
   "execution_count": 34,
   "id": "7fad485b",
   "metadata": {
    "ExecuteTime": {
     "end_time": "2023-11-13T03:16:45.046867900Z",
     "start_time": "2023-11-13T03:16:45.023612400Z"
    }
   },
   "outputs": [
    {
     "data": {
      "text/plain": "{1, 2, 5, 6}"
     },
     "execution_count": 34,
     "metadata": {},
     "output_type": "execute_result"
    }
   ],
   "source": [
    "b ^ a"
   ]
  },
  {
   "cell_type": "code",
   "execution_count": 35,
   "id": "d26e579c",
   "metadata": {
    "ExecuteTime": {
     "end_time": "2023-11-13T03:16:46.095298400Z",
     "start_time": "2023-11-13T03:16:46.083390800Z"
    }
   },
   "outputs": [
    {
     "data": {
      "text/plain": "{1, 2, 5, 6}"
     },
     "execution_count": 35,
     "metadata": {},
     "output_type": "execute_result"
    }
   ],
   "source": [
    "a ^ b"
   ]
  },
  {
   "cell_type": "markdown",
   "id": "5958a36a",
   "metadata": {},
   "source": [
    "## 包含关系"
   ]
  },
  {
   "cell_type": "code",
   "execution_count": 36,
   "id": "6d6041f1",
   "metadata": {
    "ExecuteTime": {
     "end_time": "2023-11-13T03:16:47.698201200Z",
     "start_time": "2023-11-13T03:16:47.692694700Z"
    }
   },
   "outputs": [],
   "source": [
    "a = {1, 2, 3}"
   ]
  },
  {
   "cell_type": "code",
   "execution_count": 37,
   "id": "fc550b35",
   "metadata": {
    "ExecuteTime": {
     "end_time": "2023-11-13T03:16:49.385199100Z",
     "start_time": "2023-11-13T03:16:49.375185Z"
    }
   },
   "outputs": [],
   "source": [
    "b = {1, 2}"
   ]
  },
  {
   "cell_type": "markdown",
   "id": "60555390",
   "metadata": {},
   "source": [
    "`.issubset()` 方法或者`b <= a`判断子集："
   ]
  },
  {
   "cell_type": "code",
   "execution_count": 38,
   "id": "53ca6daa",
   "metadata": {
    "ExecuteTime": {
     "end_time": "2023-11-13T03:16:53.794758100Z",
     "start_time": "2023-11-13T03:16:53.780820100Z"
    }
   },
   "outputs": [
    {
     "data": {
      "text/plain": "True"
     },
     "execution_count": 38,
     "metadata": {},
     "output_type": "execute_result"
    }
   ],
   "source": [
    "b.issubset(a)"
   ]
  },
  {
   "cell_type": "code",
   "execution_count": 39,
   "id": "0e8e5e42",
   "metadata": {
    "ExecuteTime": {
     "end_time": "2023-11-13T03:16:55.262744100Z",
     "start_time": "2023-11-13T03:16:55.250869Z"
    }
   },
   "outputs": [
    {
     "data": {
      "text/plain": "True"
     },
     "execution_count": 39,
     "metadata": {},
     "output_type": "execute_result"
    }
   ],
   "source": [
    "b <= a"
   ]
  },
  {
   "cell_type": "markdown",
   "id": "14d162c3",
   "metadata": {},
   "source": [
    "与之对应，也可以用`.issuperset()`方法或者`a >= b`来判断："
   ]
  },
  {
   "cell_type": "code",
   "execution_count": 40,
   "id": "925e8b5d",
   "metadata": {
    "ExecuteTime": {
     "end_time": "2023-11-13T03:17:05.091662100Z",
     "start_time": "2023-11-13T03:17:05.077695900Z"
    }
   },
   "outputs": [
    {
     "data": {
      "text/plain": "True"
     },
     "execution_count": 40,
     "metadata": {},
     "output_type": "execute_result"
    }
   ],
   "source": [
    "a.issuperset(b)"
   ]
  },
  {
   "cell_type": "code",
   "execution_count": 41,
   "id": "ed202f5e",
   "metadata": {
    "ExecuteTime": {
     "end_time": "2023-11-13T03:17:08.102911900Z",
     "start_time": "2023-11-13T03:17:08.091215900Z"
    }
   },
   "outputs": [
    {
     "data": {
      "text/plain": "True"
     },
     "execution_count": 41,
     "metadata": {},
     "output_type": "execute_result"
    }
   ],
   "source": [
    "a >= b"
   ]
  },
  {
   "cell_type": "markdown",
   "id": "c66308cf",
   "metadata": {},
   "source": [
    "操作符可以用来判断真子集："
   ]
  },
  {
   "cell_type": "code",
   "execution_count": 43,
   "id": "791a6235",
   "metadata": {
    "ExecuteTime": {
     "end_time": "2023-11-13T03:17:17.671934Z",
     "start_time": "2023-11-13T03:17:17.658881700Z"
    }
   },
   "outputs": [
    {
     "data": {
      "text/plain": "False"
     },
     "execution_count": 43,
     "metadata": {},
     "output_type": "execute_result"
    }
   ],
   "source": [
    "b > a"
   ]
  },
  {
   "cell_type": "code",
   "execution_count": 44,
   "id": "eaf27b96",
   "metadata": {
    "ExecuteTime": {
     "end_time": "2023-11-13T03:17:20.439380Z",
     "start_time": "2023-11-13T03:17:20.426954300Z"
    }
   },
   "outputs": [
    {
     "data": {
      "text/plain": "True"
     },
     "execution_count": 44,
     "metadata": {},
     "output_type": "execute_result"
    }
   ],
   "source": [
    "a > b"
   ]
  },
  {
   "cell_type": "markdown",
   "id": "d1346d70",
   "metadata": {},
   "source": [
    "## 集合方法"
   ]
  },
  {
   "cell_type": "markdown",
   "id": "580a76b9",
   "metadata": {},
   "source": [
    "`.add()`方法添加单个元素："
   ]
  },
  {
   "cell_type": "code",
   "execution_count": 45,
   "id": "1e7c39cc",
   "metadata": {
    "ExecuteTime": {
     "end_time": "2023-11-13T03:17:26.931301500Z",
     "start_time": "2023-11-13T03:17:26.918284900Z"
    }
   },
   "outputs": [],
   "source": [
    "t = {1, 2, 3}"
   ]
  },
  {
   "cell_type": "code",
   "execution_count": 46,
   "id": "52472d19",
   "metadata": {
    "ExecuteTime": {
     "end_time": "2023-11-13T03:17:27.691975200Z",
     "start_time": "2023-11-13T03:17:27.678456500Z"
    }
   },
   "outputs": [],
   "source": [
    "t.add(5)"
   ]
  },
  {
   "cell_type": "code",
   "execution_count": 47,
   "id": "296d57d2",
   "metadata": {
    "ExecuteTime": {
     "end_time": "2023-11-13T03:17:28.189197800Z",
     "start_time": "2023-11-13T03:17:28.179174200Z"
    }
   },
   "outputs": [
    {
     "data": {
      "text/plain": "{1, 2, 3, 5}"
     },
     "execution_count": 47,
     "metadata": {},
     "output_type": "execute_result"
    }
   ],
   "source": [
    "t"
   ]
  },
  {
   "cell_type": "markdown",
   "id": "030366cb",
   "metadata": {},
   "source": [
    "如果添加的是已有元素，集合不改变："
   ]
  },
  {
   "cell_type": "code",
   "execution_count": 48,
   "id": "65edef32",
   "metadata": {
    "ExecuteTime": {
     "end_time": "2023-11-13T03:17:32.241802100Z",
     "start_time": "2023-11-13T03:17:32.236294900Z"
    }
   },
   "outputs": [],
   "source": [
    "t.add(3)"
   ]
  },
  {
   "cell_type": "code",
   "execution_count": 49,
   "id": "c95cc4cd",
   "metadata": {
    "ExecuteTime": {
     "end_time": "2023-11-13T03:17:36.949453400Z",
     "start_time": "2023-11-13T03:17:36.938387900Z"
    }
   },
   "outputs": [
    {
     "data": {
      "text/plain": "{1, 2, 3, 5}"
     },
     "execution_count": 49,
     "metadata": {},
     "output_type": "execute_result"
    }
   ],
   "source": [
    "t"
   ]
  },
  {
   "cell_type": "markdown",
   "id": "c952e685",
   "metadata": {},
   "source": [
    "`.update()`方法更新多个元素："
   ]
  },
  {
   "cell_type": "code",
   "execution_count": 50,
   "id": "cbd3b751",
   "metadata": {
    "ExecuteTime": {
     "end_time": "2023-11-13T03:17:41.003329500Z",
     "start_time": "2023-11-13T03:17:40.989730100Z"
    }
   },
   "outputs": [],
   "source": [
    "t.update([5, 6, 7])"
   ]
  },
  {
   "cell_type": "code",
   "execution_count": 51,
   "id": "7e59b43b",
   "metadata": {
    "ExecuteTime": {
     "end_time": "2023-11-13T03:17:44.231602900Z",
     "start_time": "2023-11-13T03:17:44.219816100Z"
    }
   },
   "outputs": [
    {
     "data": {
      "text/plain": "{1, 2, 3, 5, 6, 7}"
     },
     "execution_count": 51,
     "metadata": {},
     "output_type": "execute_result"
    }
   ],
   "source": [
    "t"
   ]
  },
  {
   "cell_type": "markdown",
   "id": "5f9a6312",
   "metadata": {},
   "source": [
    "## 不可变集合\n",
    "\n",
    "对应于元组与列表的关系，对于集合，Python提供了一种叫做不可变集合的数据结构。\n",
    "\n",
    "不可变集合使用frozenset()函数来进行创建："
   ]
  },
  {
   "cell_type": "code",
   "execution_count": 52,
   "id": "a88ef871",
   "metadata": {
    "ExecuteTime": {
     "end_time": "2023-11-13T03:17:56.169587500Z",
     "start_time": "2023-11-13T03:17:56.164078500Z"
    }
   },
   "outputs": [],
   "source": [
    "s = frozenset([1, 2, 3, 'a', 1])"
   ]
  },
  {
   "cell_type": "code",
   "execution_count": 53,
   "id": "dcacfceb",
   "metadata": {
    "ExecuteTime": {
     "end_time": "2023-11-13T03:17:57.021351300Z",
     "start_time": "2023-11-13T03:17:57.008809300Z"
    }
   },
   "outputs": [
    {
     "data": {
      "text/plain": "frozenset({1, 2, 3, 'a'})"
     },
     "execution_count": 53,
     "metadata": {},
     "output_type": "execute_result"
    }
   ],
   "source": [
    "s"
   ]
  },
  {
   "cell_type": "code",
   "execution_count": 61,
   "outputs": [
    {
     "ename": "AttributeError",
     "evalue": "'frozenset' object has no attribute 'add'",
     "output_type": "error",
     "traceback": [
      "\u001B[1;31m---------------------------------------------------------------------------\u001B[0m",
      "\u001B[1;31mAttributeError\u001B[0m                            Traceback (most recent call last)",
      "Cell \u001B[1;32mIn[61], line 1\u001B[0m\n\u001B[1;32m----> 1\u001B[0m s\u001B[38;5;241m.\u001B[39madd(\u001B[38;5;241m5\u001B[39m)\n",
      "\u001B[1;31mAttributeError\u001B[0m: 'frozenset' object has no attribute 'add'"
     ]
    }
   ],
   "source": [
    "s.add(5)  # 不可变集合创建后就不能修改"
   ],
   "metadata": {
    "collapsed": false,
    "ExecuteTime": {
     "end_time": "2023-11-13T03:21:37.375307200Z",
     "start_time": "2023-11-13T03:21:37.361827200Z"
    }
   },
   "id": "ec9dd6781c230204"
  },
  {
   "cell_type": "markdown",
   "id": "1d488c0e",
   "metadata": {},
   "source": [
    "与集合不同的是，不可变集合一旦创建就不可以改变。\n",
    "\n",
    "不可变集合的一个主要应用是用来作为字典的键。例如，用一个字典来记录两个城市之间的距离："
   ]
  },
  {
   "cell_type": "code",
   "execution_count": 54,
   "id": "c49dedc2",
   "metadata": {
    "ExecuteTime": {
     "end_time": "2023-11-13T03:18:04.737072200Z",
     "start_time": "2023-11-13T03:18:04.725211900Z"
    }
   },
   "outputs": [
    {
     "data": {
      "text/plain": "{frozenset({'Los Angeles', 'New York'}): 2498,\n frozenset({'Austin', 'Los Angeles'}): 1233,\n frozenset({'Austin', 'New York'}): 1515}"
     },
     "execution_count": 54,
     "metadata": {},
     "output_type": "execute_result"
    }
   ],
   "source": [
    "flight_distance = {}\n",
    "city_pair = frozenset(['Los Angeles', 'New York'])\n",
    "flight_distance[city_pair] = 2498\n",
    "flight_distance[frozenset(['Austin', 'Los Angeles'])] = 1233\n",
    "flight_distance[frozenset(['Austin', 'New York'])] = 1515\n",
    "flight_distance"
   ]
  },
  {
   "cell_type": "markdown",
   "id": "47072697",
   "metadata": {},
   "source": [
    "由于集合不分顺序，所以不同顺序不会影响查阅结果："
   ]
  },
  {
   "cell_type": "code",
   "execution_count": 55,
   "id": "81eb8df1",
   "metadata": {
    "ExecuteTime": {
     "end_time": "2023-11-13T03:19:06.353184200Z",
     "start_time": "2023-11-13T03:19:06.349647500Z"
    }
   },
   "outputs": [
    {
     "data": {
      "text/plain": "1515"
     },
     "execution_count": 55,
     "metadata": {},
     "output_type": "execute_result"
    }
   ],
   "source": [
    "flight_distance[frozenset(['New York','Austin'])]"
   ]
  },
  {
   "cell_type": "code",
   "execution_count": 56,
   "id": "04c0a781",
   "metadata": {
    "ExecuteTime": {
     "end_time": "2023-11-13T03:19:20.207930900Z",
     "start_time": "2023-11-13T03:19:20.203386Z"
    }
   },
   "outputs": [
    {
     "data": {
      "text/plain": "1515"
     },
     "execution_count": 56,
     "metadata": {},
     "output_type": "execute_result"
    }
   ],
   "source": [
    "flight_distance[frozenset(['Austin','New York'])]"
   ]
  },
  {
   "cell_type": "code",
   "execution_count": 58,
   "id": "a21639af",
   "metadata": {
    "ExecuteTime": {
     "end_time": "2023-11-13T03:19:43.609370800Z",
     "start_time": "2023-11-13T03:19:43.603312200Z"
    }
   },
   "outputs": [
    {
     "data": {
      "text/plain": "2000"
     },
     "execution_count": 58,
     "metadata": {},
     "output_type": "execute_result"
    }
   ],
   "source": [
    "flight_distance[frozenset(['Austin','New York'])] = 2000\n",
    "flight_distance[frozenset(['Austin','New York'])]"
   ]
  }
 ],
 "metadata": {
  "kernelspec": {
   "display_name": "Python 3 (ipykernel)",
   "language": "python",
   "name": "python3"
  },
  "language_info": {
   "codemirror_mode": {
    "name": "ipython",
    "version": 3
   },
   "file_extension": ".py",
   "mimetype": "text/x-python",
   "name": "python",
   "nbconvert_exporter": "python",
   "pygments_lexer": "ipython3",
   "version": "3.9.10"
  }
 },
 "nbformat": 4,
 "nbformat_minor": 5
}
