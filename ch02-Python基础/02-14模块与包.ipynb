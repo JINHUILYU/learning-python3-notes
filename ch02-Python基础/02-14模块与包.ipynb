{
 "cells": [
  {
   "cell_type": "markdown",
   "id": "1ce74ea3",
   "metadata": {},
   "source": [
    "# 模块和包"
   ]
  },
  {
   "cell_type": "markdown",
   "id": "8a463ae6",
   "metadata": {},
   "source": [
    "## 模块\n",
    "\n",
    "Python会将所有 .py 结尾的文件认定为Python代码文件。\n",
    "\n",
    "考虑这样一个脚本文件 `ex1.py`："
   ]
  },
  {
   "cell_type": "code",
   "execution_count": 1,
   "id": "8eca712e",
   "metadata": {
    "ExecuteTime": {
     "end_time": "2023-11-13T07:14:04.421382600Z",
     "start_time": "2023-11-13T07:14:04.411562200Z"
    }
   },
   "outputs": [
    {
     "name": "stdout",
     "output_type": "stream",
     "text": [
      "Writing ex1.py\n"
     ]
    }
   ],
   "source": [
    "%%writefile ex1.py\n",
    "PI = 3.1416\n",
    "\n",
    "def sum(lst):\n",
    "    tot = lst[0]\n",
    "    for value in lst[1:]:\n",
    "        tot = tot + value\n",
    "    return tot\n",
    "    \n",
    "w = [0, 1, 2, 3]\n",
    "print(sum(w), PI)"
   ]
  },
  {
   "cell_type": "markdown",
   "id": "8e71ad94",
   "metadata": {},
   "source": [
    "执行这个脚本："
   ]
  },
  {
   "cell_type": "code",
   "execution_count": 2,
   "id": "3241f63a",
   "metadata": {
    "ExecuteTime": {
     "end_time": "2023-11-13T07:14:24.383556800Z",
     "start_time": "2023-11-13T07:14:24.336562900Z"
    }
   },
   "outputs": [
    {
     "name": "stdout",
     "output_type": "stream",
     "text": [
      "6 3.1416\n"
     ]
    }
   ],
   "source": [
    "!python ex1.py"
   ]
  },
  {
   "cell_type": "markdown",
   "id": "9d5d6b40",
   "metadata": {},
   "source": [
    "为了复用代码，Python可以将这个脚本当作一个模块，使用 import 关键词加载并执行它（这里要求ex1.py在当前工作目录）："
   ]
  },
  {
   "cell_type": "code",
   "execution_count": 9,
   "id": "5d3b773a",
   "metadata": {
    "ExecuteTime": {
     "end_time": "2023-11-13T07:14:38.310042800Z",
     "start_time": "2023-11-13T07:14:38.279920200Z"
    }
   },
   "outputs": [],
   "source": [
    "import ex1"
   ]
  },
  {
   "cell_type": "code",
   "execution_count": 10,
   "id": "8f39b69e",
   "metadata": {
    "ExecuteTime": {
     "end_time": "2023-11-13T07:14:39.281889900Z",
     "start_time": "2023-11-13T07:14:39.276617900Z"
    }
   },
   "outputs": [
    {
     "data": {
      "text/plain": "module"
     },
     "execution_count": 10,
     "metadata": {},
     "output_type": "execute_result"
    }
   ],
   "source": [
    "type(ex1)"
   ]
  },
  {
   "cell_type": "code",
   "execution_count": 11,
   "id": "b49bb687",
   "metadata": {
    "ExecuteTime": {
     "end_time": "2023-11-13T07:14:41.132069700Z",
     "start_time": "2023-11-13T07:14:41.128060500Z"
    }
   },
   "outputs": [
    {
     "data": {
      "text/plain": "<module 'ex1' from 'E:\\\\Project\\\\learning-python3-notes\\\\ch02-Python基础\\\\ex1.py'>"
     },
     "execution_count": 11,
     "metadata": {},
     "output_type": "execute_result"
    }
   ],
   "source": [
    "ex1"
   ]
  },
  {
   "cell_type": "markdown",
   "id": "7943fb8f",
   "metadata": {},
   "source": [
    "在导入时，Python会执行一遍模块中的所有内容，所以print()函数的结果被输出了。\n",
    "\n",
    "ex1.py 中所有的变量都被载入了当前环境中，不过要使用`ex1.变量名`的方法来查看或者修改这些变量："
   ]
  },
  {
   "cell_type": "code",
   "execution_count": 12,
   "id": "9ef8a5fc",
   "metadata": {
    "ExecuteTime": {
     "end_time": "2023-11-13T07:15:04.804450400Z",
     "start_time": "2023-11-13T07:15:04.799517400Z"
    }
   },
   "outputs": [
    {
     "data": {
      "text/plain": "3.1416"
     },
     "execution_count": 12,
     "metadata": {},
     "output_type": "execute_result"
    }
   ],
   "source": [
    "ex1.PI"
   ]
  },
  {
   "cell_type": "code",
   "execution_count": 13,
   "id": "9c704fa5",
   "metadata": {
    "ExecuteTime": {
     "end_time": "2023-11-13T07:15:08.954314700Z",
     "start_time": "2023-11-13T07:15:08.950293200Z"
    }
   },
   "outputs": [],
   "source": [
    "ex1.PI = 3.141592653  # 修改变量"
   ]
  },
  {
   "cell_type": "code",
   "execution_count": 15,
   "outputs": [
    {
     "data": {
      "text/plain": "3.141592653"
     },
     "execution_count": 15,
     "metadata": {},
     "output_type": "execute_result"
    }
   ],
   "source": [
    "ex1.PI"
   ],
   "metadata": {
    "collapsed": false,
    "ExecuteTime": {
     "end_time": "2023-11-13T07:15:21.810896700Z",
     "start_time": "2023-11-13T07:15:21.805520500Z"
    }
   },
   "id": "febc8687d0c3b437"
  },
  {
   "cell_type": "markdown",
   "id": "d66be72f",
   "metadata": {},
   "source": [
    "还可以用`ex1.函数名`调用模块里面的函数："
   ]
  },
  {
   "cell_type": "code",
   "execution_count": 16,
   "id": "3824e431",
   "metadata": {
    "ExecuteTime": {
     "end_time": "2023-11-13T07:15:33.298609200Z",
     "start_time": "2023-11-13T07:15:33.293791100Z"
    }
   },
   "outputs": [
    {
     "data": {
      "text/plain": "14"
     },
     "execution_count": 16,
     "metadata": {},
     "output_type": "execute_result"
    }
   ],
   "source": [
    "ex1.sum([2, 3, 4, 5])"
   ]
  },
  {
   "cell_type": "markdown",
   "id": "9bd55983",
   "metadata": {},
   "source": [
    "为了提高效率，Python只会载入模块一次，已经载入的模块再次载入时，Python并不会真正执行载入操作，哪怕模块的内容已经改变："
   ]
  },
  {
   "cell_type": "code",
   "execution_count": 17,
   "id": "25025c2e",
   "metadata": {
    "ExecuteTime": {
     "end_time": "2023-11-13T07:15:37.394328800Z",
     "start_time": "2023-11-13T07:15:37.389308900Z"
    }
   },
   "outputs": [],
   "source": [
    "import ex1"
   ]
  },
  {
   "cell_type": "markdown",
   "id": "7fa6694b",
   "metadata": {},
   "source": [
    "删除示例文件："
   ]
  },
  {
   "cell_type": "code",
   "execution_count": 19,
   "id": "6a64c5e6",
   "metadata": {
    "ExecuteTime": {
     "end_time": "2023-11-13T07:16:13.438715900Z",
     "start_time": "2023-11-13T07:16:13.434207900Z"
    }
   },
   "outputs": [],
   "source": [
    "# %rm ex1.py\n",
    "import os\n",
    "os.remove(\"ex1.py\")  # 清理临时文件"
   ]
  },
  {
   "cell_type": "markdown",
   "id": "b8c60ef4",
   "metadata": {},
   "source": [
    "## __name__ 属性\n",
    "\n",
    "有时候想将一个 .py 文件既当作脚本，又能当作模块用，这个时候可以使用 `.__name__` 这个属性。\n",
    "\n",
    "只有当文件被当作脚本执行的时候， `__name__`的值才会是 `'__main__'`，所以可以这样定义脚本："
   ]
  },
  {
   "cell_type": "code",
   "execution_count": 21,
   "id": "eab38a2f",
   "metadata": {
    "ExecuteTime": {
     "end_time": "2023-11-13T07:21:21.968508600Z",
     "start_time": "2023-11-13T07:21:21.963518700Z"
    }
   },
   "outputs": [
    {
     "name": "stdout",
     "output_type": "stream",
     "text": [
      "Overwriting ex2.py\n"
     ]
    }
   ],
   "source": [
    "%%writefile ex2.py\n",
    "PI = 3.1416\n",
    "\n",
    "def sum(lst):\n",
    "    \"\"\" Sum the values in a list. \"\"\"\n",
    "    tot = 0\n",
    "    for value in lst:\n",
    "        tot = tot + value\n",
    "    return tot\n",
    "\n",
    "def add(x, y):\n",
    "    \"\"\" Add two values.\"\"\"\n",
    "    a = x + y\n",
    "    return a\n",
    "\n",
    "def test():\n",
    "    w = [0,1,2,3]\n",
    "    assert(sum(w) == 6)\n",
    "    print('test passed.')\n",
    "    \n",
    "if __name__ == '__main__':\n",
    "    test()"
   ]
  },
  {
   "cell_type": "markdown",
   "id": "9fc8e960",
   "metadata": {},
   "source": [
    "运行文件："
   ]
  },
  {
   "cell_type": "code",
   "execution_count": 22,
   "id": "032f596f",
   "metadata": {
    "ExecuteTime": {
     "end_time": "2023-11-13T07:21:30.192694400Z",
     "start_time": "2023-11-13T07:21:30.145864800Z"
    }
   },
   "outputs": [
    {
     "name": "stdout",
     "output_type": "stream",
     "text": [
      "test passed.\n"
     ]
    }
   ],
   "source": [
    "!python ex2.py"
   ]
  },
  {
   "cell_type": "markdown",
   "id": "653214ed",
   "metadata": {},
   "source": [
    "当作模块导入， test() 不会执行："
   ]
  },
  {
   "cell_type": "code",
   "execution_count": 23,
   "id": "cfed264e",
   "metadata": {
    "ExecuteTime": {
     "end_time": "2023-11-13T07:21:39.370682100Z",
     "start_time": "2023-11-13T07:21:39.364918600Z"
    }
   },
   "outputs": [],
   "source": [
    "import ex2"
   ]
  },
  {
   "cell_type": "markdown",
   "id": "f428e3d1",
   "metadata": {},
   "source": [
    "可以使用其中的变量："
   ]
  },
  {
   "cell_type": "code",
   "execution_count": 24,
   "id": "6c3b5d92",
   "metadata": {
    "ExecuteTime": {
     "end_time": "2023-11-13T07:21:41.796364400Z",
     "start_time": "2023-11-13T07:21:41.790756700Z"
    }
   },
   "outputs": [
    {
     "data": {
      "text/plain": "3.1416"
     },
     "execution_count": 24,
     "metadata": {},
     "output_type": "execute_result"
    }
   ],
   "source": [
    "ex2.PI"
   ]
  },
  {
   "cell_type": "markdown",
   "id": "73d7359c",
   "metadata": {},
   "source": [
    "## 其他导入方法"
   ]
  },
  {
   "cell_type": "code",
   "execution_count": 25,
   "id": "71c3bbb8",
   "metadata": {
    "ExecuteTime": {
     "end_time": "2023-11-13T07:21:44.146217800Z",
     "start_time": "2023-11-13T07:21:44.141578Z"
    }
   },
   "outputs": [
    {
     "data": {
      "text/plain": "3.1416"
     },
     "execution_count": 25,
     "metadata": {},
     "output_type": "execute_result"
    }
   ],
   "source": [
    "import ex2 as e2\n",
    "\n",
    "e2.PI"
   ]
  },
  {
   "cell_type": "code",
   "execution_count": 26,
   "id": "cca36ae0",
   "metadata": {
    "ExecuteTime": {
     "end_time": "2023-11-13T07:21:47.449752500Z",
     "start_time": "2023-11-13T07:21:47.444734800Z"
    }
   },
   "outputs": [],
   "source": [
    "from ex2 import add, PI"
   ]
  },
  {
   "cell_type": "markdown",
   "id": "17ccef3c",
   "metadata": {},
   "source": [
    "使用 from 后，可以直接使用 add ， PI："
   ]
  },
  {
   "cell_type": "code",
   "execution_count": 27,
   "id": "c71af568",
   "metadata": {
    "ExecuteTime": {
     "end_time": "2023-11-13T07:21:50.394719100Z",
     "start_time": "2023-11-13T07:21:50.388704Z"
    }
   },
   "outputs": [
    {
     "data": {
      "text/plain": "5.1416"
     },
     "execution_count": 27,
     "metadata": {},
     "output_type": "execute_result"
    }
   ],
   "source": [
    "add(2, PI)"
   ]
  },
  {
   "cell_type": "code",
   "execution_count": 28,
   "id": "78658d23",
   "metadata": {
    "ExecuteTime": {
     "end_time": "2023-11-13T07:21:51.603760400Z",
     "start_time": "2023-11-13T07:21:51.599252800Z"
    }
   },
   "outputs": [],
   "source": [
    "from ex2 import *"
   ]
  },
  {
   "cell_type": "code",
   "execution_count": 29,
   "id": "344b2098",
   "metadata": {
    "ExecuteTime": {
     "end_time": "2023-11-13T07:21:52.522746100Z",
     "start_time": "2023-11-13T07:21:52.517760600Z"
    }
   },
   "outputs": [
    {
     "data": {
      "text/plain": "7.5"
     },
     "execution_count": 29,
     "metadata": {},
     "output_type": "execute_result"
    }
   ],
   "source": [
    "add(3, 4.5)"
   ]
  },
  {
   "cell_type": "markdown",
   "id": "39afa990",
   "metadata": {},
   "source": [
    "这种导入方法不是很提倡，因为如果你不确定导入的都有哪些，可能覆盖一些已有的函数。\n",
    "\n",
    "删除示例文件："
   ]
  },
  {
   "cell_type": "code",
   "execution_count": 31,
   "id": "28687cf6",
   "metadata": {
    "ExecuteTime": {
     "end_time": "2023-11-13T07:22:13.954516200Z",
     "start_time": "2023-11-13T07:22:13.950984900Z"
    }
   },
   "outputs": [],
   "source": [
    "# %rm ex2.py\n",
    "import os\n",
    "os.remove(\"ex2.py\")  # 清理临时文件"
   ]
  },
  {
   "cell_type": "markdown",
   "id": "7f8b9b9f",
   "metadata": {},
   "source": [
    "## 包\n",
    "\n",
    "有这样的一个文件夹foo：\n",
    "\n",
    "```\n",
    "foo/\n",
    "\n",
    "__init__.py\n",
    "bar.py (defines func)\n",
    "baz.py (defines zap)\n",
    "``\n",
    "\n",
    "在Python中，这样的文件夹 foo 是一个包，可以这样导入其中的内容：\n",
    "\n",
    "```python\n",
    "from foo.bar import func\n",
    "from foo.baz import zap\n",
    "```\n",
    "\n",
    "其中bar 和 baz 都是 foo 文件夹下的 .py 文件。\n",
    "\n",
    "导入包要求：\n",
    "\n",
    "- 文件夹 foo 在Python的搜索路径中\n",
    "- 要有`__init__.py`，它可以是个空文件。"
   ]
  }
 ],
 "metadata": {
  "kernelspec": {
   "display_name": "Python 3 (ipykernel)",
   "language": "python",
   "name": "python3"
  },
  "language_info": {
   "codemirror_mode": {
    "name": "ipython",
    "version": 3
   },
   "file_extension": ".py",
   "mimetype": "text/x-python",
   "name": "python",
   "nbconvert_exporter": "python",
   "pygments_lexer": "ipython3",
   "version": "3.9.10"
  }
 },
 "nbformat": 4,
 "nbformat_minor": 5
}
