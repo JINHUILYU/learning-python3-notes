{
 "cells": [
  {
   "cell_type": "markdown",
   "id": "52c71835",
   "metadata": {},
   "source": [
    "# Python 赋值机制"
   ]
  },
  {
   "cell_type": "markdown",
   "id": "46976dca",
   "metadata": {},
   "source": [
    "先看一个例子："
   ]
  },
  {
   "cell_type": "code",
   "execution_count": 8,
   "id": "346511af",
   "metadata": {
    "ExecuteTime": {
     "end_time": "2023-11-13T03:25:49.059531800Z",
     "start_time": "2023-11-13T03:25:49.054018300Z"
    }
   },
   "outputs": [],
   "source": [
    "x = [1, 2, 3]"
   ]
  },
  {
   "cell_type": "code",
   "execution_count": 10,
   "id": "85fc695d",
   "metadata": {
    "ExecuteTime": {
     "end_time": "2023-11-13T03:26:01.139805800Z",
     "start_time": "2023-11-13T03:26:01.133293800Z"
    }
   },
   "outputs": [],
   "source": [
    "y = x  # y指向x所指的对象\n",
    "z = x.copy()  # z指向x的副本"
   ]
  },
  {
   "cell_type": "code",
   "execution_count": 11,
   "id": "a69e1ff1",
   "metadata": {
    "ExecuteTime": {
     "end_time": "2023-11-13T03:26:04.904906100Z",
     "start_time": "2023-11-13T03:26:04.901377100Z"
    }
   },
   "outputs": [],
   "source": [
    "x[1] = 100"
   ]
  },
  {
   "cell_type": "code",
   "execution_count": 13,
   "id": "fee1b002",
   "metadata": {
    "ExecuteTime": {
     "end_time": "2023-11-13T03:26:23.183897100Z",
     "start_time": "2023-11-13T03:26:23.177676600Z"
    }
   },
   "outputs": [
    {
     "data": {
      "text/plain": "([1, 100, 3], [1, 2, 3], True)"
     },
     "execution_count": 13,
     "metadata": {},
     "output_type": "execute_result"
    }
   ],
   "source": [
    "y, z, id(x) == id(y)"
   ]
  },
  {
   "cell_type": "markdown",
   "id": "9f0ea29b",
   "metadata": {},
   "source": [
    "改变变量x的值，变量y的值也随着改变，这与Python内部的赋值机制有关。"
   ]
  },
  {
   "cell_type": "markdown",
   "id": "7b8bc878",
   "metadata": {},
   "source": [
    "## 简单类型的赋值机制\n",
    "\n",
    "先来看这一段代码在Python中的执行过程。\n",
    "```\n",
    "x = 500\n",
    "y = x\n",
    "y = 'foo'\n",
    "```\n",
    "\n",
    "- 第一句`x = 500`\n",
    "\n",
    "Python分配了一个 PyInt 大小的内存 pos1 用来储存对象 500 ，然后，Python在命名空间中让变量 x 指向了这一块内存，注意，整数是不可变类型，所以这块内存的内容是不可变的。\n",
    "\n",
    "内存 |\t命名空间 \n",
    "-- | --\n",
    "pos1 : PyInt(500) (不可变) |\tx : pos1\n",
    "\n",
    "- 第二句`y = x`\n",
    "Python并没有使用新的内存来储存变量 y 的值，而是在命名空间中，让变量 y 与变量 x 指向了同一块内存空间。\n",
    "\n",
    "内存|\t命名空间\n",
    "-- | --\n",
    "pos1 : PyInt(500) (不可变)|\tx : pos1\n",
    "|y : pos1\n",
    "\n",
    "- 第三句`y = 'foo'`\n",
    "\n",
    "Python此时分配一个 PyStr 大小的内存 pos2 来储存对象 foo ，然后改变变量 y 所指的对象。\n",
    "\n",
    "内存\t|命名空间\n",
    "-- | --\n",
    "pos1 : PyInt(500) (不可变)|x : pos1\n",
    "pos2 : PyStr('foo') (不可变)\t|y : pos2"
   ]
  },
  {
   "cell_type": "markdown",
   "id": "c8731904",
   "metadata": {},
   "source": [
    "## 逻辑验证\n",
    "\n",
    "对这一过程进行验证，可以使用 `id()` 函数，该函数返回某个变量在内存中的地址，内存地址一样的变量通常是同一个变量。"
   ]
  },
  {
   "cell_type": "code",
   "execution_count": 14,
   "id": "c9f1ac39",
   "metadata": {
    "ExecuteTime": {
     "end_time": "2023-11-13T03:27:13.226746500Z",
     "start_time": "2023-11-13T03:27:13.219726800Z"
    }
   },
   "outputs": [],
   "source": [
    "x = 500"
   ]
  },
  {
   "cell_type": "code",
   "execution_count": 15,
   "id": "bac43d44",
   "metadata": {
    "ExecuteTime": {
     "end_time": "2023-11-13T03:27:15.240261800Z",
     "start_time": "2023-11-13T03:27:15.235736800Z"
    }
   },
   "outputs": [
    {
     "data": {
      "text/plain": "1895938693168"
     },
     "execution_count": 15,
     "metadata": {},
     "output_type": "execute_result"
    }
   ],
   "source": [
    "id(x)"
   ]
  },
  {
   "cell_type": "code",
   "execution_count": 16,
   "id": "72a5cc15",
   "metadata": {
    "ExecuteTime": {
     "end_time": "2023-11-13T03:27:17.467109600Z",
     "start_time": "2023-11-13T03:27:17.463086100Z"
    }
   },
   "outputs": [],
   "source": [
    "y = x"
   ]
  },
  {
   "cell_type": "code",
   "execution_count": 17,
   "id": "cc43d831",
   "metadata": {
    "ExecuteTime": {
     "end_time": "2023-11-13T03:27:19.857561500Z",
     "start_time": "2023-11-13T03:27:19.852050800Z"
    }
   },
   "outputs": [
    {
     "data": {
      "text/plain": "1895938693168"
     },
     "execution_count": 17,
     "metadata": {},
     "output_type": "execute_result"
    }
   ],
   "source": [
    "id(y)"
   ]
  },
  {
   "cell_type": "markdown",
   "id": "565eff0c",
   "metadata": {},
   "source": [
    "内存地址一样，说明x和y是同一个对象。也可以用关键字`is`判断："
   ]
  },
  {
   "cell_type": "code",
   "execution_count": 18,
   "id": "46d68283",
   "metadata": {
    "ExecuteTime": {
     "end_time": "2023-11-13T03:27:23.327688800Z",
     "start_time": "2023-11-13T03:27:23.323161300Z"
    }
   },
   "outputs": [
    {
     "data": {
      "text/plain": "True"
     },
     "execution_count": 18,
     "metadata": {},
     "output_type": "execute_result"
    }
   ],
   "source": [
    "x is y"
   ]
  },
  {
   "cell_type": "code",
   "execution_count": 19,
   "id": "e27f6858",
   "metadata": {
    "ExecuteTime": {
     "end_time": "2023-11-13T03:27:25.714111100Z",
     "start_time": "2023-11-13T03:27:25.710098800Z"
    }
   },
   "outputs": [],
   "source": [
    "y = 'foo'"
   ]
  },
  {
   "cell_type": "code",
   "execution_count": 20,
   "id": "38ad39af",
   "metadata": {
    "ExecuteTime": {
     "end_time": "2023-11-13T03:27:28.154722200Z",
     "start_time": "2023-11-13T03:27:28.149529400Z"
    }
   },
   "outputs": [
    {
     "data": {
      "text/plain": "1895879629936"
     },
     "execution_count": 20,
     "metadata": {},
     "output_type": "execute_result"
    }
   ],
   "source": [
    "id(y)"
   ]
  },
  {
   "cell_type": "markdown",
   "id": "b1e2df43",
   "metadata": {},
   "source": [
    "y的内存变化了，但是x的内存没有变化："
   ]
  },
  {
   "cell_type": "code",
   "execution_count": 21,
   "id": "1ed9a967",
   "metadata": {
    "ExecuteTime": {
     "end_time": "2023-11-13T03:27:33.784882700Z",
     "start_time": "2023-11-13T03:27:33.781504100Z"
    }
   },
   "outputs": [
    {
     "data": {
      "text/plain": "1895938693168"
     },
     "execution_count": 21,
     "metadata": {},
     "output_type": "execute_result"
    }
   ],
   "source": [
    "id(x)"
   ]
  },
  {
   "cell_type": "markdown",
   "id": "ec3f099e",
   "metadata": {},
   "source": [
    "Python会为每个出现的对象进行赋值，哪怕它们的值是一样的，例如："
   ]
  },
  {
   "cell_type": "code",
   "execution_count": 22,
   "id": "4d663896",
   "metadata": {
    "ExecuteTime": {
     "end_time": "2023-11-13T03:27:43.572319700Z",
     "start_time": "2023-11-13T03:27:43.568311200Z"
    }
   },
   "outputs": [],
   "source": [
    "z = 500"
   ]
  },
  {
   "cell_type": "code",
   "execution_count": 23,
   "id": "e0ffa88f",
   "metadata": {
    "ExecuteTime": {
     "end_time": "2023-11-13T03:27:44.743160400Z",
     "start_time": "2023-11-13T03:27:44.737651200Z"
    }
   },
   "outputs": [
    {
     "data": {
      "text/plain": "1895938694704"
     },
     "execution_count": 23,
     "metadata": {},
     "output_type": "execute_result"
    }
   ],
   "source": [
    "id(z)"
   ]
  },
  {
   "cell_type": "code",
   "execution_count": 24,
   "id": "64272d51",
   "metadata": {
    "ExecuteTime": {
     "end_time": "2023-11-13T03:27:49.877415Z",
     "start_time": "2023-11-13T03:27:49.872902100Z"
    }
   },
   "outputs": [
    {
     "data": {
      "text/plain": "False"
     },
     "execution_count": 24,
     "metadata": {},
     "output_type": "execute_result"
    }
   ],
   "source": [
    "z is x"
   ]
  },
  {
   "cell_type": "markdown",
   "id": "8e53a29a",
   "metadata": {},
   "source": [
    "不过，为了提高内存利用效率，对于一些简单的对象，如一些数值较小的int对象，Python采用了重用对象内存的办法："
   ]
  },
  {
   "cell_type": "code",
   "execution_count": 25,
   "id": "a1f57abe",
   "metadata": {
    "ExecuteTime": {
     "end_time": "2023-11-13T03:27:53.679537800Z",
     "start_time": "2023-11-13T03:27:53.676028600Z"
    }
   },
   "outputs": [],
   "source": [
    "x = 2"
   ]
  },
  {
   "cell_type": "code",
   "execution_count": 26,
   "id": "5e547517",
   "metadata": {
    "ExecuteTime": {
     "end_time": "2023-11-13T03:27:55.335716Z",
     "start_time": "2023-11-13T03:27:55.331444600Z"
    }
   },
   "outputs": [
    {
     "data": {
      "text/plain": "140728022176584"
     },
     "execution_count": 26,
     "metadata": {},
     "output_type": "execute_result"
    }
   ],
   "source": [
    "id(x)"
   ]
  },
  {
   "cell_type": "code",
   "execution_count": 28,
   "id": "c35d4ab8",
   "metadata": {
    "ExecuteTime": {
     "end_time": "2023-11-13T03:28:00.376733Z",
     "start_time": "2023-11-13T03:28:00.363206300Z"
    }
   },
   "outputs": [],
   "source": [
    "y = 2"
   ]
  },
  {
   "cell_type": "code",
   "execution_count": 29,
   "id": "38e40f42",
   "metadata": {
    "ExecuteTime": {
     "end_time": "2023-11-13T03:28:00.974931100Z",
     "start_time": "2023-11-13T03:28:00.971208200Z"
    }
   },
   "outputs": [
    {
     "data": {
      "text/plain": "140728022176584"
     },
     "execution_count": 29,
     "metadata": {},
     "output_type": "execute_result"
    }
   ],
   "source": [
    "id(y)"
   ]
  },
  {
   "cell_type": "code",
   "execution_count": 30,
   "id": "735af685",
   "metadata": {
    "ExecuteTime": {
     "end_time": "2023-11-13T03:28:04.345467300Z",
     "start_time": "2023-11-13T03:28:04.341312600Z"
    }
   },
   "outputs": [
    {
     "data": {
      "text/plain": "True"
     },
     "execution_count": 30,
     "metadata": {},
     "output_type": "execute_result"
    }
   ],
   "source": [
    "x is y"
   ]
  },
  {
   "cell_type": "code",
   "execution_count": 31,
   "outputs": [
    {
     "data": {
      "text/plain": "2"
     },
     "execution_count": 31,
     "metadata": {},
     "output_type": "execute_result"
    }
   ],
   "source": [
    "x = 10000\n",
    "y  # 重用内存机制不同于赋值机制，y的值并没有改变"
   ],
   "metadata": {
    "collapsed": false,
    "ExecuteTime": {
     "end_time": "2023-11-13T03:28:21.878421900Z",
     "start_time": "2023-11-13T03:28:21.871668400Z"
    }
   },
   "id": "56e74ef8a1460a90"
  },
  {
   "cell_type": "markdown",
   "id": "7b883046",
   "metadata": {},
   "source": [
    "## 容器类型的赋值机制\n",
    "\n",
    "看另一段代码：\n",
    "\n",
    "现在来看另一段代码：\n",
    "```\n",
    "x = [500, 501, 502]\n",
    "y = x\n",
    "y[1] = 600\n",
    "y = [700, 800]\n",
    "```\n",
    "\n",
    "- 第一句`x = [500, 501, 502]`\n",
    "\n",
    "Python为3个PyInt分配内存 pos1 ， pos2 ， pos3 （不可变），然后为列表分配一段内存 pos4 ，它包含3个位置，分别指向这3个内存，最后再让变量 x 指向这个列表。\n",
    "\n",
    "内存 |\t命名空间\n",
    "-- |-- \n",
    "pos1 : PyInt(500) (不可变) |x : pos4\n",
    "pos2 : PyInt(501) (不可变)|\n",
    "pos3 : PyInt(502) (不可变)|\n",
    "pos4 : PyList(pos1, pos2, pos3) (可变)\t|\n",
    "\n",
    "- 第二句`y = x`\n",
    "\n",
    "并没有创建新的对象，只需要将 y 指向 pos4 即可。\n",
    "\n",
    "内存\t|命名空间\n",
    "-- |-- \n",
    "pos1 : PyInt(500) (不可变)|x : pos4\n",
    "pos2 : PyInt(501) (不可变)|y : pos4\n",
    "pos3 : PyInt(502) (不可变)|\n",
    "pos4 : PyList(pos1, pos2, pos3) (可变)\t|\n",
    "\n",
    "- 第三句`y[1] = 600`\n",
    "\n",
    "原来 y[1] 这个位置指向的是 pos2 ，由于不能修改 pos2 的值，所以首先为 600 分配新内存 pos5 。\n",
    "\n",
    "再把 y[1] 指向的位置修改为 pos5 。此时，由于 pos2 位置的对象已经没有用了，Python会自动调用垃圾处理机制将它回收。\n",
    "\n",
    "内存\t|命名空间\n",
    "-- |-- \n",
    "pos1 : PyInt(500) (不可变)|x : pos4\n",
    "pos2 : 垃圾回收|\n",
    "pos3 : PyInt(502) (不可变)|\n",
    "pos4 : PyList(pos1, pos5, pos3) (可变)|\n",
    "pos5 : PyInt(600) (不可变)\t|y : pos4\n",
    "\n",
    "\n",
    "- 第四句`y = [700, 800]`\n",
    "\n",
    "首先创建这个列表，然后将变量 y 指向它。\n",
    "\n",
    "内存\t|命名空间\n",
    "-- |-- \n",
    "pos1 : PyInt(500) (不可变)|x : pos4\n",
    "pos3 : PyInt(502) (不可变)|y : pos8\n",
    "pos4 : PyList(pos1, pos5, pos3) (可变)|\n",
    "pos5 : PyInt(600) (不可变)|\n",
    "pos6 : PyInt(700) (不可变)|\n",
    "pos7 : PyInt(800) (不可变)|\n",
    "pos8 : PyList(pos6, pos7) (可变)|\t\n"
   ]
  },
  {
   "cell_type": "markdown",
   "id": "018bab34",
   "metadata": {},
   "source": [
    "## 逻辑验证"
   ]
  },
  {
   "cell_type": "code",
   "execution_count": 48,
   "id": "361f70e6",
   "metadata": {
    "ExecuteTime": {
     "end_time": "2023-11-13T03:32:31.068930100Z",
     "start_time": "2023-11-13T03:32:31.064419Z"
    }
   },
   "outputs": [],
   "source": [
    "x = [500, 501, 502]"
   ]
  },
  {
   "cell_type": "code",
   "execution_count": 49,
   "id": "a5c3953f",
   "metadata": {
    "ExecuteTime": {
     "end_time": "2023-11-13T03:32:32.213226300Z",
     "start_time": "2023-11-13T03:32:32.209716100Z"
    }
   },
   "outputs": [
    {
     "data": {
      "text/plain": "1895939612160"
     },
     "execution_count": 49,
     "metadata": {},
     "output_type": "execute_result"
    }
   ],
   "source": [
    "id(x)"
   ]
  },
  {
   "cell_type": "code",
   "execution_count": 50,
   "id": "c4e60812",
   "metadata": {
    "ExecuteTime": {
     "end_time": "2023-11-13T03:32:34.659553700Z",
     "start_time": "2023-11-13T03:32:34.656046800Z"
    }
   },
   "outputs": [
    {
     "data": {
      "text/plain": "(1895938693840, 1895938695120, 1895938693488)"
     },
     "execution_count": 50,
     "metadata": {},
     "output_type": "execute_result"
    }
   ],
   "source": [
    "id(x[0]), id(x[1]), id(x[2])"
   ]
  },
  {
   "cell_type": "markdown",
   "id": "6a92e920",
   "metadata": {},
   "source": [
    "赋值，id(y) 与 id(x) 相同："
   ]
  },
  {
   "cell_type": "code",
   "execution_count": 51,
   "id": "397f6daa",
   "metadata": {
    "ExecuteTime": {
     "end_time": "2023-11-13T03:32:36.842980800Z",
     "start_time": "2023-11-13T03:32:36.838960Z"
    }
   },
   "outputs": [],
   "source": [
    "y = x"
   ]
  },
  {
   "cell_type": "code",
   "execution_count": 52,
   "id": "2973a4a2",
   "metadata": {
    "ExecuteTime": {
     "end_time": "2023-11-13T03:32:38.934596Z",
     "start_time": "2023-11-13T03:32:38.929173300Z"
    }
   },
   "outputs": [
    {
     "data": {
      "text/plain": "1895939612160"
     },
     "execution_count": 52,
     "metadata": {},
     "output_type": "execute_result"
    }
   ],
   "source": [
    "id(y)"
   ]
  },
  {
   "cell_type": "code",
   "execution_count": 53,
   "id": "9abe33ad",
   "metadata": {
    "ExecuteTime": {
     "end_time": "2023-11-13T03:32:41.350773600Z",
     "start_time": "2023-11-13T03:32:41.346030200Z"
    }
   },
   "outputs": [
    {
     "data": {
      "text/plain": "True"
     },
     "execution_count": 53,
     "metadata": {},
     "output_type": "execute_result"
    }
   ],
   "source": [
    "y is x"
   ]
  },
  {
   "cell_type": "markdown",
   "id": "1d6d1337",
   "metadata": {},
   "source": [
    "修改 y[1] ，id(y) 并不改变。"
   ]
  },
  {
   "cell_type": "code",
   "execution_count": 54,
   "id": "09e231bf",
   "metadata": {
    "ExecuteTime": {
     "end_time": "2023-11-13T03:32:46.001193800Z",
     "start_time": "2023-11-13T03:32:45.996685100Z"
    }
   },
   "outputs": [],
   "source": [
    "y[1] = 600"
   ]
  },
  {
   "cell_type": "code",
   "execution_count": 55,
   "id": "90844322",
   "metadata": {
    "ExecuteTime": {
     "end_time": "2023-11-13T03:32:52.739823600Z",
     "start_time": "2023-11-13T03:32:52.735709100Z"
    }
   },
   "outputs": [
    {
     "data": {
      "text/plain": "(1895939612160, [500, 600, 502], [500, 600, 502])"
     },
     "execution_count": 55,
     "metadata": {},
     "output_type": "execute_result"
    }
   ],
   "source": [
    "id(y), y, x"
   ]
  },
  {
   "cell_type": "markdown",
   "id": "70234775",
   "metadata": {},
   "source": [
    "id(x[1]) 和 id(y[1]) 的值改变了："
   ]
  },
  {
   "cell_type": "code",
   "execution_count": 56,
   "id": "02f2ea8d",
   "metadata": {
    "ExecuteTime": {
     "end_time": "2023-11-13T03:33:09.429890400Z",
     "start_time": "2023-11-13T03:33:09.425370800Z"
    }
   },
   "outputs": [
    {
     "data": {
      "text/plain": "1895938694192"
     },
     "execution_count": 56,
     "metadata": {},
     "output_type": "execute_result"
    }
   ],
   "source": [
    "id(x[1])"
   ]
  },
  {
   "cell_type": "code",
   "execution_count": 57,
   "id": "3eff85a2",
   "metadata": {
    "ExecuteTime": {
     "end_time": "2023-11-13T03:33:11.960483800Z",
     "start_time": "2023-11-13T03:33:11.955527100Z"
    }
   },
   "outputs": [
    {
     "data": {
      "text/plain": "1895938694192"
     },
     "execution_count": 57,
     "metadata": {},
     "output_type": "execute_result"
    }
   ],
   "source": [
    "id(y[1])"
   ]
  },
  {
   "cell_type": "markdown",
   "id": "cfc48c78",
   "metadata": {},
   "source": [
    "更改 y 的值，id(y) 的值改变："
   ]
  },
  {
   "cell_type": "code",
   "execution_count": 58,
   "id": "0775c2d6",
   "metadata": {
    "ExecuteTime": {
     "end_time": "2023-11-13T03:33:26.014936400Z",
     "start_time": "2023-11-13T03:33:26.010424600Z"
    }
   },
   "outputs": [],
   "source": [
    "y = [700, 800]  # 重新赋值后，地址改变"
   ]
  },
  {
   "cell_type": "code",
   "execution_count": 59,
   "id": "8ab931db",
   "metadata": {
    "ExecuteTime": {
     "end_time": "2023-11-13T03:33:27.466714900Z",
     "start_time": "2023-11-13T03:33:27.461531100Z"
    }
   },
   "outputs": [
    {
     "data": {
      "text/plain": "1895939745408"
     },
     "execution_count": 59,
     "metadata": {},
     "output_type": "execute_result"
    }
   ],
   "source": [
    "id(y)"
   ]
  },
  {
   "cell_type": "markdown",
   "id": "ad9cf44c",
   "metadata": {},
   "source": [
    "id(x) 的值不变："
   ]
  },
  {
   "cell_type": "code",
   "execution_count": 60,
   "id": "5593544b",
   "metadata": {
    "ExecuteTime": {
     "end_time": "2023-11-13T03:33:31.177816100Z",
     "start_time": "2023-11-13T03:33:31.172814900Z"
    }
   },
   "outputs": [
    {
     "data": {
      "text/plain": "1895939612160"
     },
     "execution_count": 60,
     "metadata": {},
     "output_type": "execute_result"
    }
   ],
   "source": [
    "id(x)"
   ]
  },
  {
   "cell_type": "code",
   "execution_count": 61,
   "outputs": [
    {
     "data": {
      "text/plain": "([700, 1], [500, 600, 502])"
     },
     "execution_count": 61,
     "metadata": {},
     "output_type": "execute_result"
    }
   ],
   "source": [
    "y[1] = 1\n",
    "y, x"
   ],
   "metadata": {
    "collapsed": false,
    "ExecuteTime": {
     "end_time": "2023-11-13T03:33:45.643164300Z",
     "start_time": "2023-11-13T03:33:45.636869500Z"
    }
   },
   "id": "71438b5a61b6423b"
  }
 ],
 "metadata": {
  "kernelspec": {
   "display_name": "Python 3 (ipykernel)",
   "language": "python",
   "name": "python3"
  },
  "language_info": {
   "codemirror_mode": {
    "name": "ipython",
    "version": 3
   },
   "file_extension": ".py",
   "mimetype": "text/x-python",
   "name": "python",
   "nbconvert_exporter": "python",
   "pygments_lexer": "ipython3",
   "version": "3.9.10"
  }
 },
 "nbformat": 4,
 "nbformat_minor": 5
}
