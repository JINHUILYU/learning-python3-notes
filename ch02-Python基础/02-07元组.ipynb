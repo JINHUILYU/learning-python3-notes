{
 "cells": [
  {
   "cell_type": "markdown",
   "id": "e7e19e44",
   "metadata": {},
   "source": [
    "# 元组"
   ]
  },
  {
   "cell_type": "markdown",
   "id": "6b387a2b",
   "metadata": {},
   "source": [
    "## 基本操作"
   ]
  },
  {
   "cell_type": "markdown",
   "id": "8f9d2a64",
   "metadata": {},
   "source": [
    "与列表类似，元组是一个有序序列，但是不可变。\n",
    "\n",
    "元组用小括号`()`生成："
   ]
  },
  {
   "cell_type": "code",
   "execution_count": 2,
   "id": "35ee8cf4",
   "metadata": {
    "ExecuteTime": {
     "end_time": "2023-11-13T03:00:47.145591300Z",
     "start_time": "2023-11-13T03:00:47.131082400Z"
    }
   },
   "outputs": [],
   "source": [
    "t = (10, 11, 12, 13, 14)"
   ]
  },
  {
   "cell_type": "code",
   "execution_count": 3,
   "id": "c84434ff",
   "metadata": {
    "ExecuteTime": {
     "end_time": "2023-11-13T03:00:47.964920800Z",
     "start_time": "2023-11-13T03:00:47.956543400Z"
    }
   },
   "outputs": [
    {
     "data": {
      "text/plain": "(10, 11, 12, 13, 14)"
     },
     "execution_count": 3,
     "metadata": {},
     "output_type": "execute_result"
    }
   ],
   "source": [
    "t"
   ]
  },
  {
   "cell_type": "markdown",
   "id": "adeda902",
   "metadata": {},
   "source": [
    "可以索引，切片："
   ]
  },
  {
   "cell_type": "code",
   "execution_count": 4,
   "id": "af7e51ec",
   "metadata": {
    "ExecuteTime": {
     "end_time": "2023-11-13T03:00:51.450589900Z",
     "start_time": "2023-11-13T03:00:51.447253800Z"
    }
   },
   "outputs": [
    {
     "data": {
      "text/plain": "10"
     },
     "execution_count": 4,
     "metadata": {},
     "output_type": "execute_result"
    }
   ],
   "source": [
    "t[0]"
   ]
  },
  {
   "cell_type": "code",
   "execution_count": 5,
   "id": "0f0426de",
   "metadata": {
    "ExecuteTime": {
     "end_time": "2023-11-13T03:00:55.419178800Z",
     "start_time": "2023-11-13T03:00:55.411268300Z"
    }
   },
   "outputs": [
    {
     "data": {
      "text/plain": "(11, 12)"
     },
     "execution_count": 5,
     "metadata": {},
     "output_type": "execute_result"
    }
   ],
   "source": [
    "t[1:3]"
   ]
  },
  {
   "cell_type": "markdown",
   "id": "50e2275b",
   "metadata": {},
   "source": [
    "元组是不可变的，不能通过赋值改变："
   ]
  },
  {
   "cell_type": "code",
   "execution_count": 6,
   "id": "979e1f96",
   "metadata": {
    "ExecuteTime": {
     "end_time": "2023-11-13T03:00:58.820490800Z",
     "start_time": "2023-11-13T03:00:58.489292900Z"
    }
   },
   "outputs": [
    {
     "ename": "TypeError",
     "evalue": "'tuple' object does not support item assignment",
     "output_type": "error",
     "traceback": [
      "\u001B[1;31m---------------------------------------------------------------------------\u001B[0m",
      "\u001B[1;31mTypeError\u001B[0m                                 Traceback (most recent call last)",
      "Cell \u001B[1;32mIn[6], line 1\u001B[0m\n\u001B[1;32m----> 1\u001B[0m t[\u001B[38;5;241m0\u001B[39m] \u001B[38;5;241m=\u001B[39m \u001B[38;5;241m1\u001B[39m\n",
      "\u001B[1;31mTypeError\u001B[0m: 'tuple' object does not support item assignment"
     ]
    }
   ],
   "source": [
    "t[0] = 1"
   ]
  },
  {
   "cell_type": "markdown",
   "id": "1625a74f",
   "metadata": {},
   "source": [
    "## 单元素的元组生成\n",
    "\n",
    "由于()在表达式中被应用，只含有单个元素的元组容易和表达式混淆，所以采用下列方式定义只有一个元素的元组："
   ]
  },
  {
   "cell_type": "code",
   "execution_count": 15,
   "id": "ca547219",
   "metadata": {
    "ExecuteTime": {
     "end_time": "2023-11-13T03:02:08.634383400Z",
     "start_time": "2023-11-13T03:02:08.611621900Z"
    }
   },
   "outputs": [],
   "source": [
    "a = (10)  # 定义只有一个元素的元组需要在后面加上逗号，此处定义的a为int类型"
   ]
  },
  {
   "cell_type": "code",
   "execution_count": 16,
   "id": "71eb0d2b",
   "metadata": {
    "ExecuteTime": {
     "end_time": "2023-11-13T03:02:09.391312800Z",
     "start_time": "2023-11-13T03:02:09.387261200Z"
    }
   },
   "outputs": [
    {
     "data": {
      "text/plain": "10"
     },
     "execution_count": 16,
     "metadata": {},
     "output_type": "execute_result"
    }
   ],
   "source": [
    "a"
   ]
  },
  {
   "cell_type": "code",
   "execution_count": 17,
   "id": "8866d98d",
   "metadata": {
    "ExecuteTime": {
     "end_time": "2023-11-13T03:02:10.022737500Z",
     "start_time": "2023-11-13T03:02:10.019312700Z"
    }
   },
   "outputs": [
    {
     "data": {
      "text/plain": "int"
     },
     "execution_count": 17,
     "metadata": {},
     "output_type": "execute_result"
    }
   ],
   "source": [
    "type(a)"
   ]
  },
  {
   "cell_type": "code",
   "execution_count": 19,
   "id": "1a4e83a9",
   "metadata": {
    "ExecuteTime": {
     "end_time": "2023-11-13T03:02:28.243059100Z",
     "start_time": "2023-11-13T03:02:28.228549400Z"
    }
   },
   "outputs": [],
   "source": [
    "a = (10,)  # 定义只有一个元素的元组需要在后面加上逗号，此处定义的a为tuple类型"
   ]
  },
  {
   "cell_type": "code",
   "execution_count": 20,
   "id": "9c00526f",
   "metadata": {
    "ExecuteTime": {
     "end_time": "2023-11-13T03:02:31.306500600Z",
     "start_time": "2023-11-13T03:02:31.302965600Z"
    }
   },
   "outputs": [
    {
     "data": {
      "text/plain": "(10,)"
     },
     "execution_count": 20,
     "metadata": {},
     "output_type": "execute_result"
    }
   ],
   "source": [
    "a"
   ]
  },
  {
   "cell_type": "code",
   "execution_count": 21,
   "id": "d8e52d8f",
   "metadata": {
    "ExecuteTime": {
     "end_time": "2023-11-13T03:02:34.633712800Z",
     "start_time": "2023-11-13T03:02:34.625310800Z"
    }
   },
   "outputs": [
    {
     "data": {
      "text/plain": "tuple"
     },
     "execution_count": 21,
     "metadata": {},
     "output_type": "execute_result"
    }
   ],
   "source": [
    "type(a)"
   ]
  },
  {
   "cell_type": "markdown",
   "id": "46100c0e",
   "metadata": {},
   "source": [
    "## 列表与元组的转换\n",
    "\n",
    "用构造方法`list`和`tuple`可以相互转换："
   ]
  },
  {
   "cell_type": "code",
   "execution_count": 22,
   "id": "f7d0a973",
   "metadata": {
    "ExecuteTime": {
     "end_time": "2023-11-13T03:02:37.793865800Z",
     "start_time": "2023-11-13T03:02:37.789901300Z"
    }
   },
   "outputs": [],
   "source": [
    "a = [10, 11, 12, 13, 14]"
   ]
  },
  {
   "cell_type": "code",
   "execution_count": 23,
   "id": "1a1c628d",
   "metadata": {
    "ExecuteTime": {
     "end_time": "2023-11-13T03:02:43.479424300Z",
     "start_time": "2023-11-13T03:02:43.476204800Z"
    }
   },
   "outputs": [
    {
     "data": {
      "text/plain": "(10, 11, 12, 13, 14)"
     },
     "execution_count": 23,
     "metadata": {},
     "output_type": "execute_result"
    }
   ],
   "source": [
    "tuple(a)"
   ]
  },
  {
   "cell_type": "code",
   "execution_count": 24,
   "id": "b53b3230",
   "metadata": {
    "ExecuteTime": {
     "end_time": "2023-11-13T03:02:44.823651800Z",
     "start_time": "2023-11-13T03:02:44.820141100Z"
    }
   },
   "outputs": [],
   "source": [
    "a = (10, 11, 12, 13, 14)"
   ]
  },
  {
   "cell_type": "code",
   "execution_count": 25,
   "id": "c6d4da04",
   "metadata": {
    "ExecuteTime": {
     "end_time": "2023-11-13T03:02:59.261932900Z",
     "start_time": "2023-11-13T03:02:59.251725400Z"
    }
   },
   "outputs": [
    {
     "data": {
      "text/plain": "[10, 11, 12, 13, 14]"
     },
     "execution_count": 25,
     "metadata": {},
     "output_type": "execute_result"
    }
   ],
   "source": [
    "list(a)"
   ]
  },
  {
   "cell_type": "markdown",
   "id": "ba4a8d6a",
   "metadata": {},
   "source": [
    "## 元组方法\n",
    "\n",
    "由于元组是不可变的，所以只能有一些不可变自身的方法，例如计算元素个数`.count()`方法和元素位置`.index()`方法，用法与列表一样："
   ]
  },
  {
   "cell_type": "code",
   "execution_count": 26,
   "id": "d0962bc0",
   "metadata": {
    "ExecuteTime": {
     "end_time": "2023-11-13T03:03:08.859962200Z",
     "start_time": "2023-11-13T03:03:08.855451Z"
    }
   },
   "outputs": [],
   "source": [
    "a = (10, 11, 12, 13, 14)"
   ]
  },
  {
   "cell_type": "code",
   "execution_count": 27,
   "id": "04681a99",
   "metadata": {
    "ExecuteTime": {
     "end_time": "2023-11-13T03:03:09.474249600Z",
     "start_time": "2023-11-13T03:03:09.470123400Z"
    }
   },
   "outputs": [
    {
     "data": {
      "text/plain": "1"
     },
     "execution_count": 27,
     "metadata": {},
     "output_type": "execute_result"
    }
   ],
   "source": [
    "a.count(10)"
   ]
  },
  {
   "cell_type": "code",
   "execution_count": 28,
   "id": "aa075db7",
   "metadata": {
    "ExecuteTime": {
     "end_time": "2023-11-13T03:03:10.815314100Z",
     "start_time": "2023-11-13T03:03:10.804806400Z"
    }
   },
   "outputs": [
    {
     "data": {
      "text/plain": "2"
     },
     "execution_count": 28,
     "metadata": {},
     "output_type": "execute_result"
    }
   ],
   "source": [
    "a.index(12)"
   ]
  },
  {
   "cell_type": "markdown",
   "id": "c6ab6f06",
   "metadata": {},
   "source": [
    "## 列表与元组的速度比较\n",
    "\n",
    "IPython 中用 `magic` 命令 `%timeit` 来计时。\n",
    "\n",
    "比较列表与元组的生成速度："
   ]
  },
  {
   "cell_type": "code",
   "execution_count": 29,
   "id": "4f09ce16",
   "metadata": {
    "ExecuteTime": {
     "end_time": "2023-11-13T03:03:23.031748500Z",
     "start_time": "2023-11-13T03:03:22.990234400Z"
    }
   },
   "outputs": [
    {
     "name": "stdout",
     "output_type": "stream",
     "text": [
      "47.4 ns ± 2.76 ns per loop (mean ± std. dev. of 7 runs, 100,000 loops each)\n"
     ]
    }
   ],
   "source": [
    "%timeit -n 100000 [1,2,3,4,5,6,7,8,9,10,11,12,13,14,15,16,17,18,19,20,21,22,23,24,25]  # 列表"
   ]
  },
  {
   "cell_type": "code",
   "execution_count": 30,
   "id": "0d7a5477",
   "metadata": {
    "ExecuteTime": {
     "end_time": "2023-11-13T03:03:24.374547900Z",
     "start_time": "2023-11-13T03:03:24.363310700Z"
    }
   },
   "outputs": [
    {
     "name": "stdout",
     "output_type": "stream",
     "text": [
      "6.63 ns ± 0.155 ns per loop (mean ± std. dev. of 7 runs, 100,000 loops each)\n"
     ]
    }
   ],
   "source": [
    "%timeit -n 100000 (1,2,3,4,5,6,7,8,9,10,11,12,13,14,15,16,17,18,19,20,21,22,23,24,25)  # 元组"
   ]
  },
  {
   "cell_type": "markdown",
   "id": "459912da",
   "metadata": {},
   "source": [
    "在遍历上，元组和列表的速度表现差不多。\n",
    "\n",
    "产生内容相同的随机列表和元组："
   ]
  },
  {
   "cell_type": "code",
   "execution_count": 33,
   "id": "1fb682e4",
   "metadata": {
    "ExecuteTime": {
     "end_time": "2023-11-13T03:05:24.208699700Z",
     "start_time": "2023-11-13T03:05:24.196063600Z"
    }
   },
   "outputs": [
    {
     "name": "stdout",
     "output_type": "stream",
     "text": [
      "[[0.04869201 0.94178438 0.6936699  0.11721114]\n",
      " [0.82117116 0.17020705 0.62800795 0.73986837]\n",
      " [0.37421787 0.61745412 0.48753364 0.45466889]\n",
      " ...\n",
      " [0.31808467 0.4529173  0.96591877 0.6818706 ]\n",
      " [0.06614661 0.50771565 0.54067106 0.56037663]\n",
      " [0.32563961 0.08801482 0.93365377 0.24069276]]\n"
     ]
    }
   ],
   "source": [
    "from numpy.random import rand\n",
    "\n",
    "values = rand(10000,4)\n",
    "print(values)\n",
    "lst = [list(row) for row in values]\n",
    "tup = tuple(tuple(row) for row in values)"
   ]
  },
  {
   "cell_type": "code",
   "execution_count": 35,
   "id": "e06d2883",
   "metadata": {
    "ExecuteTime": {
     "end_time": "2023-11-13T03:05:59.281977200Z",
     "start_time": "2023-11-13T03:05:59.107594500Z"
    }
   },
   "outputs": [
    {
     "name": "stdout",
     "output_type": "stream",
     "text": [
      "243 µs ± 6.41 µs per loop (mean ± std. dev. of 7 runs, 100 loops each)\n"
     ]
    }
   ],
   "source": [
    "%timeit -n 100 for row in lst: tuple(row)"
   ]
  },
  {
   "cell_type": "code",
   "execution_count": 36,
   "id": "5a8991fd",
   "metadata": {
    "scrolled": true,
    "ExecuteTime": {
     "end_time": "2023-11-13T03:06:01.312346500Z",
     "start_time": "2023-11-13T03:06:01.250981400Z"
    }
   },
   "outputs": [
    {
     "name": "stdout",
     "output_type": "stream",
     "text": [
      "160 µs ± 6.15 µs per loop (mean ± std. dev. of 7 runs, 100 loops each)\n"
     ]
    }
   ],
   "source": [
    "%timeit -n 100 for row in tup: tuple(row)"
   ]
  },
  {
   "cell_type": "markdown",
   "id": "f5b49abc",
   "metadata": {},
   "source": [
    "比较遍历和索引速度："
   ]
  },
  {
   "cell_type": "code",
   "execution_count": 38,
   "id": "c41abaaf",
   "metadata": {
    "ExecuteTime": {
     "end_time": "2023-11-13T03:06:09.400519Z",
     "start_time": "2023-11-13T03:06:08.971889300Z"
    }
   },
   "outputs": [
    {
     "name": "stdout",
     "output_type": "stream",
     "text": [
      "605 µs ± 52.6 µs per loop (mean ± std. dev. of 7 runs, 100 loops each)\n"
     ]
    }
   ],
   "source": [
    "%timeit -n 100 for row in lst: a = row[0] + 1"
   ]
  },
  {
   "cell_type": "code",
   "execution_count": 39,
   "id": "05d3a527",
   "metadata": {
    "ExecuteTime": {
     "end_time": "2023-11-13T03:06:15.238899Z",
     "start_time": "2023-11-13T03:06:10.423560200Z"
    }
   },
   "outputs": [
    {
     "name": "stdout",
     "output_type": "stream",
     "text": [
      "591 µs ± 21.1 µs per loop (mean ± std. dev. of 7 runs, 1,000 loops each)\n"
     ]
    }
   ],
   "source": [
    "%timeit for row in tup: a = row[0] + 1"
   ]
  },
  {
   "cell_type": "markdown",
   "id": "0ae5c8dd",
   "metadata": {},
   "source": [
    "总结：元组的生成速度会比列表快很多，迭代速度快一点，索引速度差不多。"
   ]
  },
  {
   "attachments": {},
   "cell_type": "markdown",
   "id": "4943884e",
   "metadata": {},
   "source": [
    "## 元组与多变量赋值\n",
    "\n",
    "Python支持多变量赋值的模式："
   ]
  },
  {
   "cell_type": "code",
   "execution_count": 40,
   "id": "2ecf3911",
   "metadata": {
    "ExecuteTime": {
     "end_time": "2023-11-13T03:06:22.195423100Z",
     "start_time": "2023-11-13T03:06:22.190913700Z"
    }
   },
   "outputs": [],
   "source": [
    "a, b = 1, 2"
   ]
  },
  {
   "cell_type": "code",
   "execution_count": 41,
   "id": "b43b3251",
   "metadata": {
    "ExecuteTime": {
     "end_time": "2023-11-13T03:06:22.930909100Z",
     "start_time": "2023-11-13T03:06:22.924561100Z"
    }
   },
   "outputs": [
    {
     "data": {
      "text/plain": "1"
     },
     "execution_count": 41,
     "metadata": {},
     "output_type": "execute_result"
    }
   ],
   "source": [
    "a"
   ]
  },
  {
   "cell_type": "code",
   "execution_count": 42,
   "id": "65c8cc66",
   "metadata": {
    "ExecuteTime": {
     "end_time": "2023-11-13T03:06:23.603004400Z",
     "start_time": "2023-11-13T03:06:23.590554500Z"
    }
   },
   "outputs": [
    {
     "data": {
      "text/plain": "2"
     },
     "execution_count": 42,
     "metadata": {},
     "output_type": "execute_result"
    }
   ],
   "source": [
    "b"
   ]
  },
  {
   "cell_type": "markdown",
   "id": "75df719f",
   "metadata": {},
   "source": [
    "Python中的多变量赋值，本质是两个元组中的元素进行一一对应，此时，等号两边的元素数目必须相等。例如，将包含两个元素的元组t的值分别赋给a和b："
   ]
  },
  {
   "cell_type": "code",
   "execution_count": 43,
   "id": "28a23af1",
   "metadata": {
    "ExecuteTime": {
     "end_time": "2023-11-13T03:06:29.431976400Z",
     "start_time": "2023-11-13T03:06:29.428465700Z"
    }
   },
   "outputs": [],
   "source": [
    "t = (1, 2)"
   ]
  },
  {
   "cell_type": "code",
   "execution_count": 44,
   "id": "2cf6d0bb",
   "metadata": {
    "ExecuteTime": {
     "end_time": "2023-11-13T03:06:30.093365800Z",
     "start_time": "2023-11-13T03:06:30.088857200Z"
    }
   },
   "outputs": [],
   "source": [
    "a, b = t"
   ]
  },
  {
   "cell_type": "code",
   "execution_count": 46,
   "id": "a08094b8",
   "metadata": {
    "ExecuteTime": {
     "end_time": "2023-11-13T03:06:38.025791400Z",
     "start_time": "2023-11-13T03:06:38.021645500Z"
    }
   },
   "outputs": [
    {
     "data": {
      "text/plain": "(1, 2)"
     },
     "execution_count": 46,
     "metadata": {},
     "output_type": "execute_result"
    }
   ],
   "source": [
    "a, b"
   ]
  },
  {
   "attachments": {},
   "cell_type": "markdown",
   "id": "9d72d41e",
   "metadata": {},
   "source": [
    "利用多变量赋值，变量的交换可以用一行代码实现："
   ]
  },
  {
   "cell_type": "code",
   "execution_count": 47,
   "id": "8cb7c70b",
   "metadata": {
    "ExecuteTime": {
     "end_time": "2023-11-13T03:06:44.004839400Z",
     "start_time": "2023-11-13T03:06:44.000327800Z"
    }
   },
   "outputs": [],
   "source": [
    "a, b = b, a"
   ]
  },
  {
   "cell_type": "code",
   "execution_count": 49,
   "id": "db999b73",
   "metadata": {
    "scrolled": true,
    "ExecuteTime": {
     "end_time": "2023-11-13T03:06:49.738118800Z",
     "start_time": "2023-11-13T03:06:49.733772200Z"
    }
   },
   "outputs": [
    {
     "data": {
      "text/plain": "(2, 1)"
     },
     "execution_count": 49,
     "metadata": {},
     "output_type": "execute_result"
    }
   ],
   "source": [
    "a, b"
   ]
  },
  {
   "attachments": {},
   "cell_type": "markdown",
   "id": "7cb8ac2d",
   "metadata": {},
   "source": [
    "多变量赋值支持超过两个值的操作，只要等号两边的元素数相同："
   ]
  },
  {
   "cell_type": "code",
   "execution_count": 50,
   "id": "aa5ebd4f",
   "metadata": {
    "ExecuteTime": {
     "end_time": "2023-11-13T03:06:55.581464200Z",
     "start_time": "2023-11-13T03:06:55.579956200Z"
    }
   },
   "outputs": [],
   "source": [
    "a, b, c = 1, 2, 3"
   ]
  },
  {
   "cell_type": "markdown",
   "id": "8a932b56",
   "metadata": {},
   "source": [
    "嵌套："
   ]
  },
  {
   "cell_type": "code",
   "execution_count": 51,
   "id": "5a2b3a03",
   "metadata": {
    "ExecuteTime": {
     "end_time": "2023-11-13T03:06:58.529480Z",
     "start_time": "2023-11-13T03:06:58.527973100Z"
    }
   },
   "outputs": [],
   "source": [
    "a, (b, c) = 1, (2, 3)"
   ]
  },
  {
   "cell_type": "markdown",
   "id": "10e86d4a",
   "metadata": {},
   "source": [
    "带星号的赋值，将后面的值都变成一个列表给某个变量赋值："
   ]
  },
  {
   "cell_type": "code",
   "execution_count": 52,
   "id": "589b4cc8",
   "metadata": {
    "ExecuteTime": {
     "end_time": "2023-11-13T03:07:06.894934700Z",
     "start_time": "2023-11-13T03:07:06.893424600Z"
    }
   },
   "outputs": [],
   "source": [
    "a, *b = 1, 2, 3"
   ]
  },
  {
   "cell_type": "code",
   "execution_count": 54,
   "id": "2a65ab3b",
   "metadata": {
    "ExecuteTime": {
     "end_time": "2023-11-13T03:07:11.451209200Z",
     "start_time": "2023-11-13T03:07:11.446413400Z"
    }
   },
   "outputs": [
    {
     "data": {
      "text/plain": "(1, [2, 3])"
     },
     "execution_count": 54,
     "metadata": {},
     "output_type": "execute_result"
    }
   ],
   "source": [
    "a, b"
   ]
  }
 ],
 "metadata": {
  "kernelspec": {
   "display_name": "Python 3 (ipykernel)",
   "language": "python",
   "name": "python3"
  },
  "language_info": {
   "codemirror_mode": {
    "name": "ipython",
    "version": 3
   },
   "file_extension": ".py",
   "mimetype": "text/x-python",
   "name": "python",
   "nbconvert_exporter": "python",
   "pygments_lexer": "ipython3",
   "version": "3.9.10"
  }
 },
 "nbformat": 4,
 "nbformat_minor": 5
}
