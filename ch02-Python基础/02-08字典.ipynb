{
 "cells": [
  {
   "cell_type": "markdown",
   "id": "18868619",
   "metadata": {},
   "source": [
    "# 字典"
   ]
  },
  {
   "cell_type": "markdown",
   "id": "7eb51e8e",
   "metadata": {},
   "source": [
    "字典是一种由键值对组成的数据结构。\n",
    "\n",
    "顾名思义，我们把键想象成字典中的单词，值想象成词对应的定义，那么一个词可以对应一个或者多个定义，但是这些定义只能通过这个词来进行查询。"
   ]
  },
  {
   "cell_type": "markdown",
   "id": "7ffed193",
   "metadata": {},
   "source": [
    "## 基本操作\n",
    "\n",
    "空字典可以使用`{}`或者`dict()`来创建一个空的字典："
   ]
  },
  {
   "cell_type": "code",
   "execution_count": 1,
   "id": "2141de1b",
   "metadata": {
    "ExecuteTime": {
     "end_time": "2023-11-13T03:07:52.865298200Z",
     "start_time": "2023-11-13T03:07:52.862789500Z"
    }
   },
   "outputs": [],
   "source": [
    "a = {}"
   ]
  },
  {
   "cell_type": "code",
   "execution_count": 2,
   "id": "ebaa4c6b",
   "metadata": {
    "ExecuteTime": {
     "end_time": "2023-11-13T03:07:54.748567900Z",
     "start_time": "2023-11-13T03:07:54.743700100Z"
    }
   },
   "outputs": [
    {
     "data": {
      "text/plain": "dict"
     },
     "execution_count": 2,
     "metadata": {},
     "output_type": "execute_result"
    }
   ],
   "source": [
    "type(a)"
   ]
  },
  {
   "cell_type": "code",
   "execution_count": 3,
   "id": "99b9cdd5",
   "metadata": {
    "ExecuteTime": {
     "end_time": "2023-11-13T03:07:57.626844600Z",
     "start_time": "2023-11-13T03:07:57.622333500Z"
    }
   },
   "outputs": [],
   "source": [
    "a = dict()"
   ]
  },
  {
   "cell_type": "code",
   "execution_count": 4,
   "id": "d1df786f",
   "metadata": {
    "ExecuteTime": {
     "end_time": "2023-11-13T03:07:58.680042900Z",
     "start_time": "2023-11-13T03:07:58.670022900Z"
    }
   },
   "outputs": [
    {
     "data": {
      "text/plain": "dict"
     },
     "execution_count": 4,
     "metadata": {},
     "output_type": "execute_result"
    }
   ],
   "source": [
    "type(a)"
   ]
  },
  {
   "cell_type": "markdown",
   "id": "1ca42ca2",
   "metadata": {},
   "source": [
    "有了dict之后，可以用索引键值的方法向其中添加元素，也可以通过索引来查看元素的值。\n",
    "\n",
    "插入键值："
   ]
  },
  {
   "cell_type": "code",
   "execution_count": 5,
   "id": "4e7cc92a",
   "metadata": {
    "ExecuteTime": {
     "end_time": "2023-11-13T03:08:01.108363800Z",
     "start_time": "2023-11-13T03:08:01.104120600Z"
    }
   },
   "outputs": [],
   "source": [
    "a[\"one\"] = \"this is number 1\"\n",
    "a[\"two\"] = \"this is number 2\""
   ]
  },
  {
   "cell_type": "code",
   "execution_count": 6,
   "id": "9960fe7d",
   "metadata": {
    "ExecuteTime": {
     "end_time": "2023-11-13T03:08:01.676870500Z",
     "start_time": "2023-11-13T03:08:01.668184800Z"
    }
   },
   "outputs": [
    {
     "data": {
      "text/plain": "{'one': 'this is number 1', 'two': 'this is number 2'}"
     },
     "execution_count": 6,
     "metadata": {},
     "output_type": "execute_result"
    }
   ],
   "source": [
    "a"
   ]
  },
  {
   "cell_type": "markdown",
   "id": "ad68ff65",
   "metadata": {},
   "source": [
    "查看键值："
   ]
  },
  {
   "cell_type": "code",
   "execution_count": 7,
   "id": "1fbe660a",
   "metadata": {
    "ExecuteTime": {
     "end_time": "2023-11-13T03:08:05.168228700Z",
     "start_time": "2023-11-13T03:08:05.159918700Z"
    }
   },
   "outputs": [
    {
     "data": {
      "text/plain": "'this is number 1'"
     },
     "execution_count": 7,
     "metadata": {},
     "output_type": "execute_result"
    }
   ],
   "source": [
    "a['one']"
   ]
  },
  {
   "cell_type": "markdown",
   "id": "a509370b",
   "metadata": {},
   "source": [
    "更新键值："
   ]
  },
  {
   "cell_type": "code",
   "execution_count": 8,
   "id": "e1681b26",
   "metadata": {
    "ExecuteTime": {
     "end_time": "2023-11-13T03:08:07.571219400Z",
     "start_time": "2023-11-13T03:08:07.566711200Z"
    }
   },
   "outputs": [],
   "source": [
    "a[\"one\"] = \"this is number 1, too\""
   ]
  },
  {
   "cell_type": "code",
   "execution_count": 9,
   "id": "7ba1a99c",
   "metadata": {
    "ExecuteTime": {
     "end_time": "2023-11-13T03:08:08.484155100Z",
     "start_time": "2023-11-13T03:08:08.473137300Z"
    }
   },
   "outputs": [
    {
     "data": {
      "text/plain": "{'one': 'this is number 1, too', 'two': 'this is number 2'}"
     },
     "execution_count": 9,
     "metadata": {},
     "output_type": "execute_result"
    }
   ],
   "source": [
    "a"
   ]
  },
  {
   "cell_type": "markdown",
   "id": "9568657b",
   "metadata": {},
   "source": [
    "## 初始化字典\n",
    "\n",
    "可以看到，Python使用key: value这样的结构来表示字典中的元素结构，事实上，可以直接使用这样的结构来初始化一个字典："
   ]
  },
  {
   "cell_type": "code",
   "execution_count": 10,
   "id": "93d222dd",
   "metadata": {
    "ExecuteTime": {
     "end_time": "2023-11-13T03:08:13.056018700Z",
     "start_time": "2023-11-13T03:08:13.052488Z"
    }
   },
   "outputs": [],
   "source": [
    "b = {'one': 'this is number 1', 'two': 'this is number 2'}"
   ]
  },
  {
   "cell_type": "code",
   "execution_count": 11,
   "id": "8eedadbd",
   "metadata": {
    "ExecuteTime": {
     "end_time": "2023-11-13T03:08:15.481700700Z",
     "start_time": "2023-11-13T03:08:15.477876100Z"
    }
   },
   "outputs": [
    {
     "data": {
      "text/plain": "'this is number 1'"
     },
     "execution_count": 11,
     "metadata": {},
     "output_type": "execute_result"
    }
   ],
   "source": [
    "b['one']"
   ]
  },
  {
   "cell_type": "code",
   "execution_count": 12,
   "id": "fe3e0fc6",
   "metadata": {
    "ExecuteTime": {
     "end_time": "2023-11-13T03:08:17.124652700Z",
     "start_time": "2023-11-13T03:08:17.115640700Z"
    }
   },
   "outputs": [
    {
     "name": "stdout",
     "output_type": "stream",
     "text": [
      "{'one': 'this is number 1, too', 'two': 'this is number 2'}\n"
     ]
    }
   ],
   "source": [
    "print(a)"
   ]
  },
  {
   "cell_type": "markdown",
   "id": "78f19fd1",
   "metadata": {},
   "source": [
    "## 字典没有顺序"
   ]
  },
  {
   "cell_type": "markdown",
   "id": "bd480fa5",
   "metadata": {},
   "source": [
    "Python中不能用支持用数字索引按顺序查看字典中的值，而且数字本身也有可能成为键值，这样会引起混淆："
   ]
  },
  {
   "cell_type": "code",
   "execution_count": 13,
   "id": "41ebc129",
   "metadata": {
    "ExecuteTime": {
     "end_time": "2023-11-13T03:08:21.304648500Z",
     "start_time": "2023-11-13T03:08:20.991657Z"
    }
   },
   "outputs": [
    {
     "ename": "KeyError",
     "evalue": "0",
     "output_type": "error",
     "traceback": [
      "\u001B[1;31m---------------------------------------------------------------------------\u001B[0m",
      "\u001B[1;31mKeyError\u001B[0m                                  Traceback (most recent call last)",
      "Cell \u001B[1;32mIn[13], line 1\u001B[0m\n\u001B[1;32m----> 1\u001B[0m a[\u001B[38;5;241m0\u001B[39m]\n",
      "\u001B[1;31mKeyError\u001B[0m: 0"
     ]
    }
   ],
   "source": [
    "a[0]"
   ]
  },
  {
   "attachments": {},
   "cell_type": "markdown",
   "id": "4c437774",
   "metadata": {},
   "source": [
    "## 键必须是不可变的类型\n",
    "\n",
    "字典是一种高效的存储结构，其内部使用基于哈希值的算法，用来保证从字典中读取键值对的效率。不过，哈希值算法要求字典的键必须是一种不可变类型。使用可变类型作为键时，Python会抛出异常，例如："
   ]
  },
  {
   "cell_type": "code",
   "execution_count": 19,
   "id": "0496f6ba",
   "metadata": {
    "ExecuteTime": {
     "end_time": "2023-11-13T03:09:34.049876100Z",
     "start_time": "2023-11-13T03:09:34.033732500Z"
    }
   },
   "outputs": [
    {
     "name": "stdout",
     "output_type": "stream",
     "text": [
      "<class 'list'>\n"
     ]
    },
    {
     "ename": "TypeError",
     "evalue": "unhashable type: 'list'",
     "output_type": "error",
     "traceback": [
      "\u001B[1;31m---------------------------------------------------------------------------\u001B[0m",
      "\u001B[1;31mTypeError\u001B[0m                                 Traceback (most recent call last)",
      "Cell \u001B[1;32mIn[19], line 1\u001B[0m\n\u001B[1;32m----> 1\u001B[0m a[[\u001B[38;5;241m1\u001B[39m, \u001B[38;5;241m2\u001B[39m]] \u001B[38;5;241m=\u001B[39m \u001B[38;5;241m1\u001B[39m, \u001B[38;5;28mprint\u001B[39m(\u001B[38;5;28mtype\u001B[39m([\u001B[38;5;241m1\u001B[39m, \u001B[38;5;241m2\u001B[39m]))\n",
      "\u001B[1;31mTypeError\u001B[0m: unhashable type: 'list'"
     ]
    }
   ],
   "source": [
    "a[[1, 2]] = 1, print(type([1, 2]))"
   ]
  },
  {
   "cell_type": "code",
   "execution_count": 17,
   "outputs": [
    {
     "name": "stdout",
     "output_type": "stream",
     "text": [
      "<class 'tuple'>\n"
     ]
    }
   ],
   "source": [
    "a[(1, 2)] = 2, print(type((1, 2)))"
   ],
   "metadata": {
    "collapsed": false,
    "ExecuteTime": {
     "end_time": "2023-11-13T03:09:06.123678500Z",
     "start_time": "2023-11-13T03:09:06.118108500Z"
    }
   },
   "id": "ea01e93f0f968422"
  },
  {
   "cell_type": "markdown",
   "id": "3cbc00a0",
   "metadata": {},
   "source": [
    "## 适合做键的类型\n",
    "\n",
    "在不可变类型中，整数和字符串是字典中最常用的类型；而浮点数通常不推荐用来做键，原因如下："
   ]
  },
  {
   "cell_type": "code",
   "execution_count": 20,
   "id": "d86a9624",
   "metadata": {
    "ExecuteTime": {
     "end_time": "2023-11-13T03:09:50.940119100Z",
     "start_time": "2023-11-13T03:09:50.935607100Z"
    }
   },
   "outputs": [],
   "source": [
    "data = {}"
   ]
  },
  {
   "cell_type": "code",
   "execution_count": 21,
   "id": "469d4b1d",
   "metadata": {
    "ExecuteTime": {
     "end_time": "2023-11-13T03:09:55.032581400Z",
     "start_time": "2023-11-13T03:09:55.028075400Z"
    }
   },
   "outputs": [],
   "source": [
    "data[1.1 + 2.2] = 6.6"
   ]
  },
  {
   "cell_type": "code",
   "execution_count": 22,
   "id": "9c9079dd",
   "metadata": {
    "ExecuteTime": {
     "end_time": "2023-11-13T03:09:58.693113900Z",
     "start_time": "2023-11-13T03:09:58.674441900Z"
    }
   },
   "outputs": [
    {
     "ename": "KeyError",
     "evalue": "3.3",
     "output_type": "error",
     "traceback": [
      "\u001B[1;31m---------------------------------------------------------------------------\u001B[0m",
      "\u001B[1;31mKeyError\u001B[0m                                  Traceback (most recent call last)",
      "Cell \u001B[1;32mIn[22], line 1\u001B[0m\n\u001B[1;32m----> 1\u001B[0m data[\u001B[38;5;241m3.3\u001B[39m]\n",
      "\u001B[1;31mKeyError\u001B[0m: 3.3"
     ]
    }
   ],
   "source": [
    "data[3.3]"
   ]
  },
  {
   "cell_type": "markdown",
   "id": "8ab83eb4",
   "metadata": {},
   "source": [
    "这个错误是由浮点数的精度问题所引起的："
   ]
  },
  {
   "cell_type": "code",
   "execution_count": 24,
   "id": "1bfae807",
   "metadata": {
    "ExecuteTime": {
     "end_time": "2023-11-13T03:10:20.501258300Z",
     "start_time": "2023-11-13T03:10:20.488940700Z"
    }
   },
   "outputs": [
    {
     "data": {
      "text/plain": "{3.3000000000000003: 6.6}"
     },
     "execution_count": 24,
     "metadata": {},
     "output_type": "execute_result"
    }
   ],
   "source": [
    "data"
   ]
  },
  {
   "cell_type": "markdown",
   "id": "28b05280",
   "metadata": {},
   "source": [
    "也可以使用元组作为键值，例如，可以用元组做键来表示从第一个城市飞往第二个城市航班数的多少："
   ]
  },
  {
   "cell_type": "code",
   "execution_count": 25,
   "id": "c5d20397",
   "metadata": {
    "ExecuteTime": {
     "end_time": "2023-11-13T03:10:23.192986700Z",
     "start_time": "2023-11-13T03:10:23.170961800Z"
    }
   },
   "outputs": [],
   "source": [
    "connections = {}\n",
    "connections[('New York', 'Seattle')] = 100\n",
    "connections[('Austin', 'New York')] = 200\n",
    "connections[('New York', 'Austin')] = 400"
   ]
  },
  {
   "cell_type": "markdown",
   "id": "b5409597",
   "metadata": {},
   "source": [
    "元组是有序的，因此 ('New York', 'Austin') 和 ('Austin', 'New York') 是两个不同的键："
   ]
  },
  {
   "cell_type": "code",
   "execution_count": 26,
   "id": "544fc507",
   "metadata": {
    "ExecuteTime": {
     "end_time": "2023-11-13T03:10:39.907792700Z",
     "start_time": "2023-11-13T03:10:39.894772Z"
    }
   },
   "outputs": [
    {
     "data": {
      "text/plain": "200"
     },
     "execution_count": 26,
     "metadata": {},
     "output_type": "execute_result"
    }
   ],
   "source": [
    "connections[('Austin', 'New York')]"
   ]
  },
  {
   "cell_type": "code",
   "execution_count": 27,
   "id": "ee747523",
   "metadata": {
    "ExecuteTime": {
     "end_time": "2023-11-13T03:10:41.855625900Z",
     "start_time": "2023-11-13T03:10:41.846384700Z"
    }
   },
   "outputs": [
    {
     "data": {
      "text/plain": "400"
     },
     "execution_count": 27,
     "metadata": {},
     "output_type": "execute_result"
    }
   ],
   "source": [
    "connections[('New York', 'Austin')]"
   ]
  },
  {
   "cell_type": "markdown",
   "id": "871b913c",
   "metadata": {},
   "source": [
    "## 字典方法"
   ]
  },
  {
   "cell_type": "markdown",
   "id": "7d398529",
   "metadata": {},
   "source": [
    "用`.get()`方法替代索引处理值不存在的情况："
   ]
  },
  {
   "cell_type": "code",
   "execution_count": 34,
   "id": "a749d17e",
   "metadata": {
    "ExecuteTime": {
     "end_time": "2023-11-13T03:11:16.442465700Z",
     "start_time": "2023-11-13T03:11:16.439957200Z"
    }
   },
   "outputs": [],
   "source": [
    "a = {}\n",
    "a[\"one\"] = \"this is number 1\"\n",
    "a[\"two\"] = \"this is number 2\""
   ]
  },
  {
   "cell_type": "markdown",
   "id": "95a94587",
   "metadata": {},
   "source": [
    "值不存在时，`get`方法返回一个默认值，不指定时，该默认值为`None`"
   ]
  },
  {
   "cell_type": "code",
   "execution_count": 29,
   "id": "534f9210",
   "metadata": {
    "ExecuteTime": {
     "end_time": "2023-11-13T03:10:50.048754Z",
     "start_time": "2023-11-13T03:10:50.040088700Z"
    }
   },
   "outputs": [],
   "source": [
    "a.get(\"three\")"
   ]
  },
  {
   "cell_type": "markdown",
   "id": "8ca3cb1f",
   "metadata": {},
   "source": [
    "传入默认值："
   ]
  },
  {
   "cell_type": "code",
   "execution_count": 30,
   "id": "53abd7e8",
   "metadata": {
    "ExecuteTime": {
     "end_time": "2023-11-13T03:10:56.844917500Z",
     "start_time": "2023-11-13T03:10:56.834488500Z"
    }
   },
   "outputs": [
    {
     "data": {
      "text/plain": "'undefined'"
     },
     "execution_count": 30,
     "metadata": {},
     "output_type": "execute_result"
    }
   ],
   "source": [
    "a.get(\"three\", \"undefined\")"
   ]
  },
  {
   "cell_type": "markdown",
   "id": "2a74a230",
   "metadata": {},
   "source": [
    "存在时，与调用索引相同："
   ]
  },
  {
   "cell_type": "code",
   "execution_count": 31,
   "id": "d65dfb77",
   "metadata": {
    "ExecuteTime": {
     "end_time": "2023-11-13T03:10:58.505762700Z",
     "start_time": "2023-11-13T03:10:58.496035700Z"
    }
   },
   "outputs": [
    {
     "data": {
      "text/plain": "'this is number 1'"
     },
     "execution_count": 31,
     "metadata": {},
     "output_type": "execute_result"
    }
   ],
   "source": [
    "a.get(\"one\")"
   ]
  },
  {
   "cell_type": "markdown",
   "id": "b476906e",
   "metadata": {},
   "source": [
    "与列表一样，del 函数可以用来删除字典中特定的键值对，例如："
   ]
  },
  {
   "cell_type": "code",
   "execution_count": 35,
   "id": "e24308dd",
   "metadata": {
    "ExecuteTime": {
     "end_time": "2023-11-13T03:11:18.731856100Z",
     "start_time": "2023-11-13T03:11:18.728067100Z"
    }
   },
   "outputs": [
    {
     "data": {
      "text/plain": "{'two': 'this is number 2'}"
     },
     "execution_count": 35,
     "metadata": {},
     "output_type": "execute_result"
    }
   ],
   "source": [
    "del a[\"one\"]\n",
    "a"
   ]
  },
  {
   "cell_type": "markdown",
   "id": "a57d5f24",
   "metadata": {},
   "source": [
    "`.update()`方法可以更新键值对："
   ]
  },
  {
   "cell_type": "code",
   "execution_count": 36,
   "id": "952f1b6e",
   "metadata": {
    "ExecuteTime": {
     "end_time": "2023-11-13T03:11:31.623824Z",
     "start_time": "2023-11-13T03:11:31.621279600Z"
    }
   },
   "outputs": [],
   "source": [
    "person = {}\n",
    "person['first'] = \"Jmes\"\n",
    "person['last'] = \"Maxwell\"\n",
    "person['born'] = 1831"
   ]
  },
  {
   "cell_type": "code",
   "execution_count": 37,
   "id": "4a1ca7a0",
   "metadata": {
    "ExecuteTime": {
     "end_time": "2023-11-13T03:11:37.514105600Z",
     "start_time": "2023-11-13T03:11:37.509913300Z"
    }
   },
   "outputs": [
    {
     "data": {
      "text/plain": "{'first': 'Jmes', 'last': 'Maxwell', 'born': 1831}"
     },
     "execution_count": 37,
     "metadata": {},
     "output_type": "execute_result"
    }
   ],
   "source": [
    "person"
   ]
  },
  {
   "cell_type": "code",
   "execution_count": 38,
   "id": "37ecef83",
   "metadata": {
    "ExecuteTime": {
     "end_time": "2023-11-13T03:11:47.855208600Z",
     "start_time": "2023-11-13T03:11:47.852701100Z"
    }
   },
   "outputs": [],
   "source": [
    "person_modifications = {'first': 'James', 'middle': 'Clerk'}"
   ]
  },
  {
   "cell_type": "code",
   "execution_count": 41,
   "id": "c1c22d10",
   "metadata": {
    "ExecuteTime": {
     "end_time": "2023-11-13T03:12:30.941761600Z",
     "start_time": "2023-11-13T03:12:30.936682200Z"
    }
   },
   "outputs": [],
   "source": [
    "person.update(person_modifications)  # 使用update方法更新键值对"
   ]
  },
  {
   "cell_type": "code",
   "execution_count": 42,
   "id": "9ac57688",
   "metadata": {
    "ExecuteTime": {
     "end_time": "2023-11-13T03:12:33.113843200Z",
     "start_time": "2023-11-13T03:12:33.109904400Z"
    }
   },
   "outputs": [
    {
     "data": {
      "text/plain": "{'first': 'James', 'last': 'Maxwell', 'born': 1831, 'middle': 'Clerk'}"
     },
     "execution_count": 42,
     "metadata": {},
     "output_type": "execute_result"
    }
   ],
   "source": [
    "person"
   ]
  },
  {
   "cell_type": "markdown",
   "id": "89c38bae",
   "metadata": {},
   "source": [
    "in查询字典中是否有该键："
   ]
  },
  {
   "cell_type": "code",
   "execution_count": 43,
   "id": "03c85648",
   "metadata": {
    "ExecuteTime": {
     "end_time": "2023-11-13T03:12:39.230760100Z",
     "start_time": "2023-11-13T03:12:39.225740600Z"
    }
   },
   "outputs": [],
   "source": [
    "barn = {'cows': 1, 'dogs': 5, 'cats': 3}"
   ]
  },
  {
   "cell_type": "code",
   "execution_count": 44,
   "id": "d9fdd328",
   "metadata": {
    "ExecuteTime": {
     "end_time": "2023-11-13T03:12:40.109237900Z",
     "start_time": "2023-11-13T03:12:40.103623700Z"
    }
   },
   "outputs": [
    {
     "data": {
      "text/plain": "False"
     },
     "execution_count": 44,
     "metadata": {},
     "output_type": "execute_result"
    }
   ],
   "source": [
    "'chickens' in barn"
   ]
  },
  {
   "cell_type": "code",
   "execution_count": 45,
   "id": "8ab2a42e",
   "metadata": {
    "ExecuteTime": {
     "end_time": "2023-11-13T03:12:41.802406400Z",
     "start_time": "2023-11-13T03:12:41.778931900Z"
    }
   },
   "outputs": [
    {
     "data": {
      "text/plain": "True"
     },
     "execution_count": 45,
     "metadata": {},
     "output_type": "execute_result"
    }
   ],
   "source": [
    "'cows' in barn"
   ]
  },
  {
   "cell_type": "markdown",
   "id": "72a897b6",
   "metadata": {},
   "source": [
    "`.keys()`，`values()`，`items()`方法分别返回字典的键，值，键值对： "
   ]
  },
  {
   "cell_type": "code",
   "execution_count": 46,
   "id": "0d8f2419",
   "metadata": {
    "ExecuteTime": {
     "end_time": "2023-11-13T03:12:46.562669100Z",
     "start_time": "2023-11-13T03:12:46.556646200Z"
    }
   },
   "outputs": [
    {
     "data": {
      "text/plain": "dict_keys(['cows', 'dogs', 'cats'])"
     },
     "execution_count": 46,
     "metadata": {},
     "output_type": "execute_result"
    }
   ],
   "source": [
    "barn.keys()"
   ]
  },
  {
   "cell_type": "code",
   "execution_count": 47,
   "id": "84102501",
   "metadata": {
    "ExecuteTime": {
     "end_time": "2023-11-13T03:12:47.180422700Z",
     "start_time": "2023-11-13T03:12:47.166898900Z"
    }
   },
   "outputs": [
    {
     "data": {
      "text/plain": "dict_values([1, 5, 3])"
     },
     "execution_count": 47,
     "metadata": {},
     "output_type": "execute_result"
    }
   ],
   "source": [
    "barn.values()"
   ]
  },
  {
   "cell_type": "code",
   "execution_count": 48,
   "id": "8ffa508e",
   "metadata": {
    "ExecuteTime": {
     "end_time": "2023-11-13T03:12:47.828356700Z",
     "start_time": "2023-11-13T03:12:47.815880100Z"
    }
   },
   "outputs": [
    {
     "data": {
      "text/plain": "dict_items([('cows', 1), ('dogs', 5), ('cats', 3)])"
     },
     "execution_count": 48,
     "metadata": {},
     "output_type": "execute_result"
    }
   ],
   "source": [
    "barn.items()"
   ]
  },
  {
   "attachments": {},
   "cell_type": "markdown",
   "id": "58584c4f",
   "metadata": {},
   "source": [
    "`.setdefault()`方法接受两个参数：key和default，如果key在字典中，返回其对应的值，如果不存在，则先用default的值对key进行插入，并返回default。其中default的值可以省略，默认值为None："
   ]
  },
  {
   "cell_type": "code",
   "execution_count": 51,
   "id": "40556cf8",
   "metadata": {
    "ExecuteTime": {
     "end_time": "2023-11-13T03:13:44.907573400Z",
     "start_time": "2023-11-13T03:13:44.900939900Z"
    }
   },
   "outputs": [
    {
     "data": {
      "text/plain": "(4, 1)"
     },
     "execution_count": 51,
     "metadata": {},
     "output_type": "execute_result"
    }
   ],
   "source": [
    "barn.setdefault(\"chickens\", 4), barn.setdefault(\"cows\", 4)"
   ]
  },
  {
   "cell_type": "code",
   "execution_count": 52,
   "id": "a1be97cc",
   "metadata": {
    "ExecuteTime": {
     "end_time": "2023-11-13T03:13:50.701459800Z",
     "start_time": "2023-11-13T03:13:50.698429500Z"
    }
   },
   "outputs": [
    {
     "data": {
      "text/plain": "{'cows': 1, 'dogs': 5, 'cats': 3, 'chickens': 4}"
     },
     "execution_count": 52,
     "metadata": {},
     "output_type": "execute_result"
    }
   ],
   "source": [
    "barn"
   ]
  }
 ],
 "metadata": {
  "kernelspec": {
   "display_name": "Python 3 (ipykernel)",
   "language": "python",
   "name": "python3"
  },
  "language_info": {
   "codemirror_mode": {
    "name": "ipython",
    "version": 3
   },
   "file_extension": ".py",
   "mimetype": "text/x-python",
   "name": "python",
   "nbconvert_exporter": "python",
   "pygments_lexer": "ipython3",
   "version": "3.9.10"
  }
 },
 "nbformat": 4,
 "nbformat_minor": 5
}
