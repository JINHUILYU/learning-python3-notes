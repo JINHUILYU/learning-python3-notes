{
 "cells": [
  {
   "cell_type": "markdown",
   "id": "0ac24f0c",
   "metadata": {},
   "source": [
    "# 可变与不可变类型\n",
    "\n",
    "## 列表是可变的\n",
    "\n",
    "列表是一种可变类型："
   ]
  },
  {
   "cell_type": "code",
   "execution_count": 1,
   "id": "f7d078b4",
   "metadata": {
    "ExecuteTime": {
     "end_time": "2023-11-13T02:59:18.300562600Z",
     "start_time": "2023-11-13T02:59:18.295058800Z"
    }
   },
   "outputs": [],
   "source": [
    "a = [1, 2, 3, 4]"
   ]
  },
  {
   "cell_type": "markdown",
   "id": "ba3c2fcd",
   "metadata": {},
   "source": [
    "可以通过索引改变："
   ]
  },
  {
   "cell_type": "code",
   "execution_count": 2,
   "id": "69ee7b7b",
   "metadata": {
    "ExecuteTime": {
     "end_time": "2023-11-13T02:59:30.197148900Z",
     "start_time": "2023-11-13T02:59:30.190641500Z"
    }
   },
   "outputs": [],
   "source": [
    "a[0] = 100"
   ]
  },
  {
   "cell_type": "code",
   "execution_count": 3,
   "id": "454f2ec9",
   "metadata": {
    "ExecuteTime": {
     "end_time": "2023-11-13T02:59:34.153911800Z",
     "start_time": "2023-11-13T02:59:34.146227100Z"
    }
   },
   "outputs": [
    {
     "data": {
      "text/plain": "[100, 2, 3, 4]"
     },
     "execution_count": 3,
     "metadata": {},
     "output_type": "execute_result"
    }
   ],
   "source": [
    "a"
   ]
  },
  {
   "cell_type": "markdown",
   "id": "9375ceeb",
   "metadata": {},
   "source": [
    "通过方法改变："
   ]
  },
  {
   "cell_type": "code",
   "execution_count": 4,
   "id": "5f93fdee",
   "metadata": {
    "ExecuteTime": {
     "end_time": "2023-11-13T02:59:47.436566600Z",
     "start_time": "2023-11-13T02:59:47.435559200Z"
    }
   },
   "outputs": [],
   "source": [
    "a.insert(3, 200)"
   ]
  },
  {
   "cell_type": "code",
   "execution_count": 5,
   "id": "1042b457",
   "metadata": {
    "ExecuteTime": {
     "end_time": "2023-11-13T02:59:49.847097900Z",
     "start_time": "2023-11-13T02:59:49.844391400Z"
    }
   },
   "outputs": [
    {
     "data": {
      "text/plain": "[100, 2, 3, 200, 4]"
     },
     "execution_count": 5,
     "metadata": {},
     "output_type": "execute_result"
    }
   ],
   "source": [
    "a"
   ]
  },
  {
   "cell_type": "code",
   "execution_count": 7,
   "id": "3ceb7769",
   "metadata": {
    "ExecuteTime": {
     "end_time": "2023-11-13T02:59:53.252476500Z",
     "start_time": "2023-11-13T02:59:53.249471Z"
    }
   },
   "outputs": [],
   "source": [
    "a.sort()"
   ]
  },
  {
   "cell_type": "code",
   "execution_count": 8,
   "id": "c9e7efdc",
   "metadata": {
    "ExecuteTime": {
     "end_time": "2023-11-13T02:59:54.510130400Z",
     "start_time": "2023-11-13T02:59:54.502616800Z"
    }
   },
   "outputs": [
    {
     "data": {
      "text/plain": "[2, 3, 4, 100, 200]"
     },
     "execution_count": 8,
     "metadata": {},
     "output_type": "execute_result"
    }
   ],
   "source": [
    "a"
   ]
  },
  {
   "cell_type": "markdown",
   "id": "0a5ad78d",
   "metadata": {},
   "source": [
    "## 字符串是不可变的"
   ]
  },
  {
   "cell_type": "code",
   "execution_count": 9,
   "id": "d01d0d60",
   "metadata": {
    "ExecuteTime": {
     "end_time": "2023-11-13T03:00:00.263303700Z",
     "start_time": "2023-11-13T03:00:00.256299100Z"
    }
   },
   "outputs": [],
   "source": [
    "s = \"hello world\""
   ]
  },
  {
   "cell_type": "markdown",
   "id": "86cf8c14",
   "metadata": {},
   "source": [
    "通过索引改变会报错："
   ]
  },
  {
   "cell_type": "code",
   "execution_count": 10,
   "id": "79241a3a",
   "metadata": {
    "ExecuteTime": {
     "end_time": "2023-11-13T03:00:02.407090800Z",
     "start_time": "2023-11-13T03:00:02.096106100Z"
    }
   },
   "outputs": [
    {
     "ename": "TypeError",
     "evalue": "'str' object does not support item assignment",
     "output_type": "error",
     "traceback": [
      "\u001B[1;31m---------------------------------------------------------------------------\u001B[0m",
      "\u001B[1;31mTypeError\u001B[0m                                 Traceback (most recent call last)",
      "Cell \u001B[1;32mIn[10], line 1\u001B[0m\n\u001B[1;32m----> 1\u001B[0m s[\u001B[38;5;241m0\u001B[39m] \u001B[38;5;241m=\u001B[39m \u001B[38;5;124m'\u001B[39m\u001B[38;5;124mz\u001B[39m\u001B[38;5;124m'\u001B[39m\n",
      "\u001B[1;31mTypeError\u001B[0m: 'str' object does not support item assignment"
     ]
    }
   ],
   "source": [
    "s[0] = 'z'"
   ]
  },
  {
   "cell_type": "markdown",
   "id": "e95dc6ab",
   "metadata": {},
   "source": [
    "字符串方法只是返回一个新字符串，并不改变原来的值："
   ]
  },
  {
   "cell_type": "code",
   "execution_count": 11,
   "id": "642e4d9c",
   "metadata": {
    "ExecuteTime": {
     "end_time": "2023-11-13T03:00:11.249558700Z",
     "start_time": "2023-11-13T03:00:11.248045300Z"
    }
   },
   "outputs": [
    {
     "data": {
      "text/plain": "'hello Mars'"
     },
     "execution_count": 11,
     "metadata": {},
     "output_type": "execute_result"
    }
   ],
   "source": [
    "s.replace('world', 'Mars')"
   ]
  },
  {
   "cell_type": "code",
   "execution_count": 12,
   "id": "d0424bd8",
   "metadata": {
    "ExecuteTime": {
     "end_time": "2023-11-13T03:00:13.871321700Z",
     "start_time": "2023-11-13T03:00:13.864703100Z"
    }
   },
   "outputs": [
    {
     "data": {
      "text/plain": "'hello world'"
     },
     "execution_count": 12,
     "metadata": {},
     "output_type": "execute_result"
    }
   ],
   "source": [
    "s"
   ]
  },
  {
   "cell_type": "markdown",
   "id": "fe9533c7",
   "metadata": {},
   "source": [
    "想改变某个字符串变量的值，只能重新赋值："
   ]
  },
  {
   "cell_type": "code",
   "execution_count": 13,
   "id": "69ec019e",
   "metadata": {
    "ExecuteTime": {
     "end_time": "2023-11-13T03:00:24.972036600Z",
     "start_time": "2023-11-13T03:00:24.965525600Z"
    }
   },
   "outputs": [],
   "source": [
    "s = s.replace('world', 'Mars')"
   ]
  },
  {
   "cell_type": "code",
   "execution_count": 14,
   "id": "ba94556b",
   "metadata": {
    "ExecuteTime": {
     "end_time": "2023-11-13T03:00:25.801293500Z",
     "start_time": "2023-11-13T03:00:25.798816500Z"
    }
   },
   "outputs": [
    {
     "data": {
      "text/plain": "'hello Mars'"
     },
     "execution_count": 14,
     "metadata": {},
     "output_type": "execute_result"
    }
   ],
   "source": [
    "s"
   ]
  }
 ],
 "metadata": {
  "kernelspec": {
   "display_name": "Python 3 (ipykernel)",
   "language": "python",
   "name": "python3"
  },
  "language_info": {
   "codemirror_mode": {
    "name": "ipython",
    "version": 3
   },
   "file_extension": ".py",
   "mimetype": "text/x-python",
   "name": "python",
   "nbconvert_exporter": "python",
   "pygments_lexer": "ipython3",
   "version": "3.9.10"
  }
 },
 "nbformat": 4,
 "nbformat_minor": 5
}
