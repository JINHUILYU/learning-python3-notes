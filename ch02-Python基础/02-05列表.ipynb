{
 "cells": [
  {
   "cell_type": "markdown",
   "id": "4a26e9da",
   "metadata": {},
   "source": [
    "# 列表\n",
    "\n",
    "## 列表的生成\n",
    "\n",
    "用一对中括号`[]`生成列表："
   ]
  },
  {
   "cell_type": "code",
   "execution_count": 1,
   "id": "9cea07cb",
   "metadata": {
    "ExecuteTime": {
     "end_time": "2023-11-12T15:08:48.876101900Z",
     "start_time": "2023-11-12T15:08:48.870785500Z"
    }
   },
   "outputs": [],
   "source": [
    "a = [1, 2.0, 'hello']"
   ]
  },
  {
   "cell_type": "code",
   "execution_count": 2,
   "id": "cce30d78",
   "metadata": {
    "ExecuteTime": {
     "end_time": "2023-11-12T15:08:50.225654700Z",
     "start_time": "2023-11-12T15:08:50.221595700Z"
    }
   },
   "outputs": [
    {
     "data": {
      "text/plain": "list"
     },
     "execution_count": 2,
     "metadata": {},
     "output_type": "execute_result"
    }
   ],
   "source": [
    "type(a)"
   ]
  },
  {
   "cell_type": "markdown",
   "id": "e4ccb6f6",
   "metadata": {},
   "source": [
    "空列表的产生："
   ]
  },
  {
   "cell_type": "code",
   "execution_count": 3,
   "id": "26bdf4dc",
   "metadata": {
    "ExecuteTime": {
     "end_time": "2023-11-12T15:08:52.890897400Z",
     "start_time": "2023-11-12T15:08:52.876700200Z"
    }
   },
   "outputs": [],
   "source": [
    "empty_list = []"
   ]
  },
  {
   "cell_type": "code",
   "execution_count": 4,
   "id": "a8473279",
   "metadata": {
    "ExecuteTime": {
     "end_time": "2023-11-12T15:08:54.847617700Z",
     "start_time": "2023-11-12T15:08:54.839106Z"
    }
   },
   "outputs": [
    {
     "data": {
      "text/plain": "[]"
     },
     "execution_count": 4,
     "metadata": {},
     "output_type": "execute_result"
    }
   ],
   "source": [
    "empty_list"
   ]
  },
  {
   "cell_type": "markdown",
   "id": "a192b644",
   "metadata": {},
   "source": [
    "空列表也可以这样产生："
   ]
  },
  {
   "cell_type": "code",
   "execution_count": 5,
   "id": "8b259322",
   "metadata": {
    "ExecuteTime": {
     "end_time": "2023-11-12T15:08:57.133381300Z",
     "start_time": "2023-11-12T15:08:57.125015Z"
    }
   },
   "outputs": [
    {
     "data": {
      "text/plain": "[]"
     },
     "execution_count": 5,
     "metadata": {},
     "output_type": "execute_result"
    }
   ],
   "source": [
    "list()"
   ]
  },
  {
   "cell_type": "markdown",
   "id": "3cd29559",
   "metadata": {},
   "source": [
    "## 基本操作\n",
    "\n",
    "长度："
   ]
  },
  {
   "cell_type": "code",
   "execution_count": 6,
   "id": "bf205251",
   "metadata": {
    "ExecuteTime": {
     "end_time": "2023-11-12T15:08:59.352762700Z",
     "start_time": "2023-11-12T15:08:59.323362400Z"
    }
   },
   "outputs": [
    {
     "data": {
      "text/plain": "3"
     },
     "execution_count": 6,
     "metadata": {},
     "output_type": "execute_result"
    }
   ],
   "source": [
    "len(a)"
   ]
  },
  {
   "cell_type": "markdown",
   "id": "9209b370",
   "metadata": {},
   "source": [
    "加法与数乘："
   ]
  },
  {
   "cell_type": "code",
   "execution_count": 7,
   "id": "c92d2e10",
   "metadata": {
    "ExecuteTime": {
     "end_time": "2023-11-12T15:09:01.839929300Z",
     "start_time": "2023-11-12T15:09:01.834689100Z"
    }
   },
   "outputs": [
    {
     "data": {
      "text/plain": "[1, 2.0, 'hello', 1, 2.0, 'hello']"
     },
     "execution_count": 7,
     "metadata": {},
     "output_type": "execute_result"
    }
   ],
   "source": [
    "a * 2"
   ]
  },
  {
   "cell_type": "code",
   "execution_count": 8,
   "id": "ac2da771",
   "metadata": {
    "ExecuteTime": {
     "end_time": "2023-11-12T15:09:05.852519200Z",
     "start_time": "2023-11-12T15:09:05.847987400Z"
    }
   },
   "outputs": [
    {
     "data": {
      "text/plain": "[1, 2.0, 'hello', 1, 2.0, 'hello']"
     },
     "execution_count": 8,
     "metadata": {},
     "output_type": "execute_result"
    }
   ],
   "source": [
    "a + a"
   ]
  },
  {
   "cell_type": "markdown",
   "id": "5116a1ff",
   "metadata": {},
   "source": [
    "索引和切片："
   ]
  },
  {
   "cell_type": "code",
   "execution_count": 9,
   "id": "8a96d6d6",
   "metadata": {
    "ExecuteTime": {
     "end_time": "2023-11-12T15:09:08.134981200Z",
     "start_time": "2023-11-12T15:09:08.128689Z"
    }
   },
   "outputs": [],
   "source": [
    "a = [10, 11, 12, 13, 14]"
   ]
  },
  {
   "cell_type": "code",
   "execution_count": 10,
   "id": "f173f924",
   "metadata": {
    "ExecuteTime": {
     "end_time": "2023-11-12T15:09:10.102930300Z",
     "start_time": "2023-11-12T15:09:10.100451800Z"
    }
   },
   "outputs": [
    {
     "data": {
      "text/plain": "10"
     },
     "execution_count": 10,
     "metadata": {},
     "output_type": "execute_result"
    }
   ],
   "source": [
    "a[0]"
   ]
  },
  {
   "cell_type": "code",
   "execution_count": 11,
   "id": "464dece8",
   "metadata": {
    "ExecuteTime": {
     "end_time": "2023-11-12T15:09:13.194698400Z",
     "start_time": "2023-11-12T15:09:13.189788800Z"
    }
   },
   "outputs": [
    {
     "data": {
      "text/plain": "14"
     },
     "execution_count": 11,
     "metadata": {},
     "output_type": "execute_result"
    }
   ],
   "source": [
    "a[-1]"
   ]
  },
  {
   "cell_type": "code",
   "execution_count": 12,
   "id": "ae347946",
   "metadata": {
    "ExecuteTime": {
     "end_time": "2023-11-12T15:09:15.043398700Z",
     "start_time": "2023-11-12T15:09:15.029798500Z"
    }
   },
   "outputs": [
    {
     "data": {
      "text/plain": "[12, 13]"
     },
     "execution_count": 12,
     "metadata": {},
     "output_type": "execute_result"
    }
   ],
   "source": [
    "a[2:-1]"
   ]
  },
  {
   "cell_type": "markdown",
   "id": "63b9c465",
   "metadata": {},
   "source": [
    "用索引修改："
   ]
  },
  {
   "cell_type": "code",
   "execution_count": 13,
   "id": "3cd5b861",
   "metadata": {
    "ExecuteTime": {
     "end_time": "2023-11-12T15:09:19.246621400Z",
     "start_time": "2023-11-12T15:09:19.238007800Z"
    }
   },
   "outputs": [
    {
     "data": {
      "text/plain": "[10, 11, 12, 13, 14]"
     },
     "execution_count": 13,
     "metadata": {},
     "output_type": "execute_result"
    }
   ],
   "source": [
    "a"
   ]
  },
  {
   "cell_type": "code",
   "execution_count": 14,
   "id": "1cc9c2e7",
   "metadata": {
    "ExecuteTime": {
     "end_time": "2023-11-12T15:09:21.128632800Z",
     "start_time": "2023-11-12T15:09:21.122961100Z"
    }
   },
   "outputs": [],
   "source": [
    "a[0] = 100"
   ]
  },
  {
   "cell_type": "code",
   "execution_count": 15,
   "id": "bec630d1",
   "metadata": {
    "ExecuteTime": {
     "end_time": "2023-11-12T15:09:30.232889100Z",
     "start_time": "2023-11-12T15:09:30.223398300Z"
    }
   },
   "outputs": [
    {
     "data": {
      "text/plain": "[100, 11, 12, 13, 14]"
     },
     "execution_count": 15,
     "metadata": {},
     "output_type": "execute_result"
    }
   ],
   "source": [
    "a"
   ]
  },
  {
   "cell_type": "markdown",
   "id": "c56663a9",
   "metadata": {},
   "source": [
    "用切片修改："
   ]
  },
  {
   "cell_type": "code",
   "execution_count": 31,
   "id": "7b2da935",
   "metadata": {
    "ExecuteTime": {
     "end_time": "2023-11-12T15:12:56.036024500Z",
     "start_time": "2023-11-12T15:12:56.023031Z"
    }
   },
   "outputs": [
    {
     "data": {
      "text/plain": "[11, 1, 2, 14, 15]"
     },
     "execution_count": 31,
     "metadata": {},
     "output_type": "execute_result"
    }
   ],
   "source": [
    "a = [11, 12, 13, 14, 15]\n",
    "a[1:3] = [1, 2]\n",
    "a"
   ]
  },
  {
   "cell_type": "markdown",
   "id": "d0e1910e",
   "metadata": {},
   "source": [
    "对于连续的切片（即步长为 1 ），Python采用的是整段替换的方法，两者的元素个数**并不需要相同**："
   ]
  },
  {
   "cell_type": "code",
   "execution_count": 32,
   "id": "0b9a22e1",
   "metadata": {
    "ExecuteTime": {
     "end_time": "2023-11-12T15:12:59.166722900Z",
     "start_time": "2023-11-12T15:12:59.155056500Z"
    }
   },
   "outputs": [
    {
     "name": "stdout",
     "output_type": "stream",
     "text": [
      "[11, 1, 2, 14, 15]\n"
     ]
    },
    {
     "data": {
      "text/plain": "[11, 1, 2, 3, 4, 5, 2, 14, 15]"
     },
     "execution_count": 32,
     "metadata": {},
     "output_type": "execute_result"
    }
   ],
   "source": [
    "print(a)\n",
    "a[1:2] = [1, 2, 3, 4, 5]  # 把a[1]替换为1,2,3,4,5\n",
    "a"
   ]
  },
  {
   "cell_type": "code",
   "execution_count": 33,
   "outputs": [
    {
     "data": {
      "text/plain": "[11, 1, 2, 14, 15]"
     },
     "execution_count": 33,
     "metadata": {},
     "output_type": "execute_result"
    }
   ],
   "source": [
    "a = [11, 12, 13, 14, 15]\n",
    "a[1:3] = [1, 2]\n",
    "a"
   ],
   "metadata": {
    "collapsed": false,
    "ExecuteTime": {
     "end_time": "2023-11-12T15:13:07.418077800Z",
     "start_time": "2023-11-12T15:13:07.407347300Z"
    }
   },
   "id": "38d554f77747e688"
  },
  {
   "cell_type": "code",
   "execution_count": 34,
   "outputs": [
    {
     "name": "stdout",
     "output_type": "stream",
     "text": [
      "[11, 1, 2, 14, 15]\n"
     ]
    },
    {
     "data": {
      "text/plain": "[11, 1, 2, 3, 4, 5, 14, 15]"
     },
     "execution_count": 34,
     "metadata": {},
     "output_type": "execute_result"
    }
   ],
   "source": [
    "print(a)\n",
    "a[1:3] = [1, 2, 3, 4, 5]  # 把a[1]和a[2]替换为1,2,3,4,5\n",
    "a"
   ],
   "metadata": {
    "collapsed": false,
    "ExecuteTime": {
     "end_time": "2023-11-12T15:13:13.797731900Z",
     "start_time": "2023-11-12T15:13:13.792471600Z"
    }
   },
   "id": "66cef0a98f4a7ab9"
  },
  {
   "cell_type": "markdown",
   "id": "bb686d99",
   "metadata": {},
   "source": [
    "对于不连续（间隔step不为1）的片段进行修改时，两者的元素数目必须一致："
   ]
  },
  {
   "cell_type": "code",
   "execution_count": 35,
   "id": "34929fd6",
   "metadata": {
    "ExecuteTime": {
     "end_time": "2023-11-12T15:15:19.901692600Z",
     "start_time": "2023-11-12T15:15:19.890455300Z"
    }
   },
   "outputs": [
    {
     "data": {
      "text/plain": "[1, 11, 2, 13, 3]"
     },
     "execution_count": 35,
     "metadata": {},
     "output_type": "execute_result"
    }
   ],
   "source": [
    "a = [10, 11, 12, 13, 14]\n",
    "a[::2] = [1, 2, 3]\n",
    "a"
   ]
  },
  {
   "cell_type": "markdown",
   "id": "431ee2f4",
   "metadata": {},
   "source": [
    "## 删除元素\n",
    "\n",
    "关键字 `del` 可以删除元素："
   ]
  },
  {
   "cell_type": "code",
   "execution_count": 36,
   "id": "4a20fd4b",
   "metadata": {
    "ExecuteTime": {
     "end_time": "2023-11-12T15:15:29.700606800Z",
     "start_time": "2023-11-12T15:15:29.687968Z"
    }
   },
   "outputs": [],
   "source": [
    "a = [1002, 'a', 'b', 'c']\n",
    "del a[0]"
   ]
  },
  {
   "cell_type": "code",
   "execution_count": 37,
   "id": "2b02c8de",
   "metadata": {
    "ExecuteTime": {
     "end_time": "2023-11-12T15:15:31.437773900Z",
     "start_time": "2023-11-12T15:15:31.406457800Z"
    }
   },
   "outputs": [
    {
     "data": {
      "text/plain": "['a', 'b', 'c']"
     },
     "execution_count": 37,
     "metadata": {},
     "output_type": "execute_result"
    }
   ],
   "source": [
    "a"
   ]
  },
  {
   "cell_type": "code",
   "execution_count": 38,
   "id": "d12aba53",
   "metadata": {
    "ExecuteTime": {
     "end_time": "2023-11-12T15:15:35.026365100Z",
     "start_time": "2023-11-12T15:15:35.020741Z"
    }
   },
   "outputs": [],
   "source": [
    "a = [1002, 'a', 'b', 'c']\n",
    "del a[1:]  # 删除第1个元素之后的所有元素"
   ]
  },
  {
   "cell_type": "code",
   "execution_count": 39,
   "id": "a94e66ee",
   "metadata": {
    "ExecuteTime": {
     "end_time": "2023-11-12T15:15:57.815493600Z",
     "start_time": "2023-11-12T15:15:57.804974800Z"
    }
   },
   "outputs": [
    {
     "data": {
      "text/plain": "[1002]"
     },
     "execution_count": 39,
     "metadata": {},
     "output_type": "execute_result"
    }
   ],
   "source": [
    "a"
   ]
  },
  {
   "cell_type": "code",
   "execution_count": 40,
   "id": "3d6db4b2",
   "metadata": {
    "ExecuteTime": {
     "end_time": "2023-11-12T15:16:06.527245Z",
     "start_time": "2023-11-12T15:16:06.519313700Z"
    }
   },
   "outputs": [],
   "source": [
    "a = ['a', 1, 'b', 2, 'c']\n",
    "del a[::2]"
   ]
  },
  {
   "cell_type": "code",
   "execution_count": 41,
   "id": "773999cd",
   "metadata": {
    "ExecuteTime": {
     "end_time": "2023-11-12T15:16:08.296329100Z",
     "start_time": "2023-11-12T15:16:08.285657200Z"
    }
   },
   "outputs": [
    {
     "data": {
      "text/plain": "[1, 2]"
     },
     "execution_count": 41,
     "metadata": {},
     "output_type": "execute_result"
    }
   ],
   "source": [
    "a"
   ]
  },
  {
   "cell_type": "markdown",
   "id": "efda2931",
   "metadata": {},
   "source": [
    "## 测试从属关系\n",
    "\n",
    "关键词`in`测试某个元素是否在列表中："
   ]
  },
  {
   "cell_type": "code",
   "execution_count": 42,
   "id": "badf3e23",
   "metadata": {
    "ExecuteTime": {
     "end_time": "2023-11-12T15:16:11.454194600Z",
     "start_time": "2023-11-12T15:16:11.445310800Z"
    }
   },
   "outputs": [],
   "source": [
    "a = [10, 11, 12, 13, 14]"
   ]
  },
  {
   "cell_type": "code",
   "execution_count": 43,
   "id": "e13e2c78",
   "metadata": {
    "ExecuteTime": {
     "end_time": "2023-11-12T15:16:13.451561600Z",
     "start_time": "2023-11-12T15:16:13.437593100Z"
    }
   },
   "outputs": [
    {
     "data": {
      "text/plain": "True"
     },
     "execution_count": 43,
     "metadata": {},
     "output_type": "execute_result"
    }
   ],
   "source": [
    "10 in a"
   ]
  },
  {
   "cell_type": "code",
   "execution_count": 44,
   "id": "bfd48a9a",
   "metadata": {
    "ExecuteTime": {
     "end_time": "2023-11-12T15:16:15.258231700Z",
     "start_time": "2023-11-12T15:16:15.244308600Z"
    }
   },
   "outputs": [
    {
     "data": {
      "text/plain": "False"
     },
     "execution_count": 44,
     "metadata": {},
     "output_type": "execute_result"
    }
   ],
   "source": [
    "10 not in a"
   ]
  },
  {
   "cell_type": "markdown",
   "id": "6c9999b2",
   "metadata": {},
   "source": [
    "字符串也支持："
   ]
  },
  {
   "cell_type": "code",
   "execution_count": 45,
   "id": "f4281439",
   "metadata": {
    "ExecuteTime": {
     "end_time": "2023-11-12T15:16:17.281858300Z",
     "start_time": "2023-11-12T15:16:17.261562700Z"
    }
   },
   "outputs": [],
   "source": [
    "s = 'hello world'"
   ]
  },
  {
   "cell_type": "code",
   "execution_count": 46,
   "id": "93c6cd0d",
   "metadata": {
    "ExecuteTime": {
     "end_time": "2023-11-12T15:16:18.884691600Z",
     "start_time": "2023-11-12T15:16:18.878621Z"
    }
   },
   "outputs": [
    {
     "data": {
      "text/plain": "True"
     },
     "execution_count": 46,
     "metadata": {},
     "output_type": "execute_result"
    }
   ],
   "source": [
    "'he' in s"
   ]
  },
  {
   "cell_type": "code",
   "execution_count": 47,
   "id": "68e1786d",
   "metadata": {
    "ExecuteTime": {
     "end_time": "2023-11-12T15:16:20.751727100Z",
     "start_time": "2023-11-12T15:16:20.739773300Z"
    }
   },
   "outputs": [
    {
     "data": {
      "text/plain": "False"
     },
     "execution_count": 47,
     "metadata": {},
     "output_type": "execute_result"
    }
   ],
   "source": [
    "'world' not in s"
   ]
  },
  {
   "cell_type": "markdown",
   "id": "4539f262",
   "metadata": {},
   "source": [
    "列表中可以包含各种对象，甚至可以包含列表："
   ]
  },
  {
   "cell_type": "code",
   "execution_count": 48,
   "id": "8e55ca44",
   "metadata": {
    "ExecuteTime": {
     "end_time": "2023-11-12T15:16:23.498642Z",
     "start_time": "2023-11-12T15:16:23.498132200Z"
    }
   },
   "outputs": [],
   "source": [
    "a = [10, 'eleven', [12, 13]]"
   ]
  },
  {
   "cell_type": "code",
   "execution_count": 49,
   "id": "658aa289",
   "metadata": {
    "ExecuteTime": {
     "end_time": "2023-11-12T15:16:25.307920Z",
     "start_time": "2023-11-12T15:16:25.302693400Z"
    }
   },
   "outputs": [
    {
     "data": {
      "text/plain": "[12, 13]"
     },
     "execution_count": 49,
     "metadata": {},
     "output_type": "execute_result"
    }
   ],
   "source": [
    "a[2]"
   ]
  },
  {
   "cell_type": "code",
   "execution_count": 50,
   "id": "893d8051",
   "metadata": {
    "ExecuteTime": {
     "end_time": "2023-11-12T15:16:29.405826800Z",
     "start_time": "2023-11-12T15:16:29.398162700Z"
    }
   },
   "outputs": [
    {
     "data": {
      "text/plain": "13"
     },
     "execution_count": 50,
     "metadata": {},
     "output_type": "execute_result"
    }
   ],
   "source": [
    "a[2][1]"
   ]
  },
  {
   "cell_type": "markdown",
   "id": "75b20e7d",
   "metadata": {},
   "source": [
    "## 不改变自身的方法"
   ]
  },
  {
   "cell_type": "code",
   "execution_count": 51,
   "id": "2d76db3e",
   "metadata": {
    "ExecuteTime": {
     "end_time": "2023-11-12T15:16:32.264721600Z",
     "start_time": "2023-11-12T15:16:32.250609800Z"
    }
   },
   "outputs": [],
   "source": [
    "a = [11, 12, 13, 11, 12]"
   ]
  },
  {
   "cell_type": "markdown",
   "id": "c7e565c3",
   "metadata": {},
   "source": [
    "`.count()`方法得到某个特定元素出现的次数："
   ]
  },
  {
   "cell_type": "code",
   "execution_count": 52,
   "id": "c43e7b54",
   "metadata": {
    "ExecuteTime": {
     "end_time": "2023-11-12T15:16:34.733739Z",
     "start_time": "2023-11-12T15:16:34.725037500Z"
    }
   },
   "outputs": [
    {
     "data": {
      "text/plain": "2"
     },
     "execution_count": 52,
     "metadata": {},
     "output_type": "execute_result"
    }
   ],
   "source": [
    "a.count(11)"
   ]
  },
  {
   "cell_type": "markdown",
   "id": "00521939",
   "metadata": {},
   "source": [
    "`.index()`方法得到某个元素第一次出现的索引："
   ]
  },
  {
   "cell_type": "code",
   "execution_count": 53,
   "id": "25aacdac",
   "metadata": {
    "ExecuteTime": {
     "end_time": "2023-11-12T15:16:37.386843900Z",
     "start_time": "2023-11-12T15:16:37.384207100Z"
    }
   },
   "outputs": [
    {
     "data": {
      "text/plain": "0"
     },
     "execution_count": 53,
     "metadata": {},
     "output_type": "execute_result"
    }
   ],
   "source": [
    "a.index(11)"
   ]
  },
  {
   "cell_type": "markdown",
   "id": "c280c482",
   "metadata": {},
   "source": [
    "## 改变自身的方法\n",
    "\n",
    "`.append()`方法添加单个元素："
   ]
  },
  {
   "cell_type": "code",
   "execution_count": 54,
   "id": "7b53cec3",
   "metadata": {
    "ExecuteTime": {
     "end_time": "2023-11-12T15:16:40.469812400Z",
     "start_time": "2023-11-12T15:16:40.459173300Z"
    }
   },
   "outputs": [],
   "source": [
    "a = [10, 11, 12]"
   ]
  },
  {
   "cell_type": "code",
   "execution_count": 55,
   "id": "6e7a40cb",
   "metadata": {
    "ExecuteTime": {
     "end_time": "2023-11-12T15:16:42.338367100Z",
     "start_time": "2023-11-12T15:16:42.332247100Z"
    }
   },
   "outputs": [],
   "source": [
    "a.append(11)"
   ]
  },
  {
   "cell_type": "code",
   "execution_count": 56,
   "id": "4358008e",
   "metadata": {
    "ExecuteTime": {
     "end_time": "2023-11-12T15:16:44.447897800Z",
     "start_time": "2023-11-12T15:16:44.433963200Z"
    }
   },
   "outputs": [
    {
     "data": {
      "text/plain": "[10, 11, 12, 11]"
     },
     "execution_count": 56,
     "metadata": {},
     "output_type": "execute_result"
    }
   ],
   "source": [
    "a"
   ]
  },
  {
   "cell_type": "markdown",
   "id": "1c9b0e79",
   "metadata": {},
   "source": [
    "只能添加为单个元素："
   ]
  },
  {
   "cell_type": "code",
   "execution_count": 57,
   "id": "ca5a1dd9",
   "metadata": {
    "ExecuteTime": {
     "end_time": "2023-11-12T15:16:55.189113800Z",
     "start_time": "2023-11-12T15:16:55.180649800Z"
    }
   },
   "outputs": [],
   "source": [
    "a.append([1, 2])"
   ]
  },
  {
   "cell_type": "code",
   "execution_count": 58,
   "id": "2f7aeeb7",
   "metadata": {
    "ExecuteTime": {
     "end_time": "2023-11-12T15:16:57.541539Z",
     "start_time": "2023-11-12T15:16:57.529057800Z"
    }
   },
   "outputs": [
    {
     "data": {
      "text/plain": "[10, 11, 12, 11, [1, 2]]"
     },
     "execution_count": 58,
     "metadata": {},
     "output_type": "execute_result"
    }
   ],
   "source": [
    "a"
   ]
  },
  {
   "cell_type": "markdown",
   "id": "80fa359b",
   "metadata": {},
   "source": [
    "`.extend()`方法一次添加多个值："
   ]
  },
  {
   "cell_type": "code",
   "execution_count": 59,
   "id": "0bf41a45",
   "metadata": {
    "ExecuteTime": {
     "end_time": "2023-11-12T15:17:00.313345900Z",
     "start_time": "2023-11-12T15:17:00.305691Z"
    }
   },
   "outputs": [],
   "source": [
    "a = [10, 11, 12]"
   ]
  },
  {
   "cell_type": "code",
   "execution_count": 60,
   "id": "29c37ed9",
   "metadata": {
    "ExecuteTime": {
     "end_time": "2023-11-12T15:17:01.995096100Z",
     "start_time": "2023-11-12T15:17:01.987544900Z"
    }
   },
   "outputs": [],
   "source": [
    "a.extend([1, 2])"
   ]
  },
  {
   "cell_type": "code",
   "execution_count": 61,
   "id": "5fc91d15",
   "metadata": {
    "ExecuteTime": {
     "end_time": "2023-11-12T15:17:10.616409Z",
     "start_time": "2023-11-12T15:17:10.604763900Z"
    }
   },
   "outputs": [
    {
     "data": {
      "text/plain": "[10, 11, 12, 1, 2]"
     },
     "execution_count": 61,
     "metadata": {},
     "output_type": "execute_result"
    }
   ],
   "source": [
    "a"
   ]
  },
  {
   "cell_type": "markdown",
   "id": "76f4c5a7",
   "metadata": {},
   "source": [
    "`.insert()`方法在指定索引位置处插入一个元素："
   ]
  },
  {
   "cell_type": "code",
   "execution_count": 62,
   "id": "5cedbed5",
   "metadata": {
    "ExecuteTime": {
     "end_time": "2023-11-12T15:17:13.567661700Z",
     "start_time": "2023-11-12T15:17:13.562007700Z"
    }
   },
   "outputs": [],
   "source": [
    "a = [10, 11, 12, 13, 11]"
   ]
  },
  {
   "cell_type": "code",
   "execution_count": 63,
   "id": "f08ea1bf",
   "metadata": {
    "ExecuteTime": {
     "end_time": "2023-11-12T15:17:18.683464700Z",
     "start_time": "2023-11-12T15:17:18.679796600Z"
    }
   },
   "outputs": [],
   "source": [
    "a.insert(2, 'a')"
   ]
  },
  {
   "cell_type": "code",
   "execution_count": 64,
   "id": "b6681e75",
   "metadata": {
    "ExecuteTime": {
     "end_time": "2023-11-12T15:17:24.173437400Z",
     "start_time": "2023-11-12T15:17:24.161737100Z"
    }
   },
   "outputs": [
    {
     "data": {
      "text/plain": "('a', [10, 11, 'a', 12, 13, 11])"
     },
     "execution_count": 64,
     "metadata": {},
     "output_type": "execute_result"
    }
   ],
   "source": [
    "a[2], a"
   ]
  },
  {
   "cell_type": "markdown",
   "id": "4a2ac2bc",
   "metadata": {},
   "source": [
    "`.sort()`方法排序："
   ]
  },
  {
   "cell_type": "code",
   "execution_count": 65,
   "id": "807a1c28",
   "metadata": {
    "ExecuteTime": {
     "end_time": "2023-11-12T15:17:47.172756500Z",
     "start_time": "2023-11-12T15:17:47.170417100Z"
    }
   },
   "outputs": [],
   "source": [
    "a = [10, 1, 11, 13, 11, 2]"
   ]
  },
  {
   "cell_type": "code",
   "execution_count": 66,
   "id": "4413009f",
   "metadata": {
    "ExecuteTime": {
     "end_time": "2023-11-12T15:17:49.078329300Z",
     "start_time": "2023-11-12T15:17:49.072840400Z"
    }
   },
   "outputs": [],
   "source": [
    "a.sort()  # 会修改原始数据"
   ]
  },
  {
   "cell_type": "code",
   "execution_count": 67,
   "id": "1b4f0747",
   "metadata": {
    "ExecuteTime": {
     "end_time": "2023-11-12T15:17:50.664184400Z",
     "start_time": "2023-11-12T15:17:50.651364400Z"
    }
   },
   "outputs": [
    {
     "data": {
      "text/plain": "[1, 2, 10, 11, 11, 13]"
     },
     "execution_count": 67,
     "metadata": {},
     "output_type": "execute_result"
    }
   ],
   "source": [
    "a"
   ]
  },
  {
   "cell_type": "markdown",
   "id": "415d3413",
   "metadata": {},
   "source": [
    "`.reverse()`方法逆序："
   ]
  },
  {
   "cell_type": "code",
   "execution_count": 68,
   "id": "1324a5ba",
   "metadata": {
    "ExecuteTime": {
     "end_time": "2023-11-12T15:17:53.267624Z",
     "start_time": "2023-11-12T15:17:53.257616200Z"
    }
   },
   "outputs": [],
   "source": [
    "a.reverse()  # 会修改原始数据"
   ]
  },
  {
   "cell_type": "code",
   "execution_count": 69,
   "id": "c74dedc2",
   "metadata": {
    "ExecuteTime": {
     "end_time": "2023-11-12T15:17:55.036829500Z",
     "start_time": "2023-11-12T15:17:55.031885300Z"
    }
   },
   "outputs": [
    {
     "data": {
      "text/plain": "[13, 11, 11, 10, 2, 1]"
     },
     "execution_count": 69,
     "metadata": {},
     "output_type": "execute_result"
    }
   ],
   "source": [
    "a"
   ]
  },
  {
   "cell_type": "markdown",
   "id": "6b3bc066",
   "metadata": {},
   "source": [
    "如果不想改变原来的列表，可以用函数`sorted()`和`reversed()`替代方法："
   ]
  },
  {
   "cell_type": "code",
   "execution_count": 70,
   "id": "31b760cb",
   "metadata": {
    "ExecuteTime": {
     "end_time": "2023-11-12T15:17:58.188451400Z",
     "start_time": "2023-11-12T15:17:58.184091400Z"
    }
   },
   "outputs": [],
   "source": [
    "a = [10, 1, 11, 13, 11, 2]"
   ]
  },
  {
   "cell_type": "code",
   "execution_count": 71,
   "id": "02c02750",
   "metadata": {
    "ExecuteTime": {
     "end_time": "2023-11-12T15:18:05.199617100Z",
     "start_time": "2023-11-12T15:18:05.194756700Z"
    }
   },
   "outputs": [
    {
     "data": {
      "text/plain": "[1, 2, 10, 11, 11, 13]"
     },
     "execution_count": 71,
     "metadata": {},
     "output_type": "execute_result"
    }
   ],
   "source": [
    "sorted(a)  # 不会修改原始数据"
   ]
  },
  {
   "cell_type": "code",
   "execution_count": 75,
   "id": "7cc8eaf8",
   "metadata": {
    "ExecuteTime": {
     "end_time": "2023-11-12T15:19:36.039292700Z",
     "start_time": "2023-11-12T15:19:36.032549200Z"
    }
   },
   "outputs": [
    {
     "data": {
      "text/plain": "<list_reverseiterator at 0x25b07f664a0>"
     },
     "execution_count": 75,
     "metadata": {},
     "output_type": "execute_result"
    }
   ],
   "source": [
    "reversed(a)  # 不会修改原始数据"
   ]
  },
  {
   "cell_type": "markdown",
   "id": "afe5559e",
   "metadata": {},
   "source": [
    "`reversed()`返回的这个不是一个列表，可以使用`list()`函数转成列表："
   ]
  },
  {
   "cell_type": "code",
   "execution_count": 76,
   "id": "9964dbf3",
   "metadata": {
    "ExecuteTime": {
     "end_time": "2023-11-12T15:19:38.541125600Z",
     "start_time": "2023-11-12T15:19:38.519207600Z"
    }
   },
   "outputs": [
    {
     "data": {
      "text/plain": "[2, 11, 13, 11, 1, 10]"
     },
     "execution_count": 76,
     "metadata": {},
     "output_type": "execute_result"
    }
   ],
   "source": [
    "list(reversed(a))"
   ]
  }
 ],
 "metadata": {
  "kernelspec": {
   "display_name": "Python 3 (ipykernel)",
   "language": "python",
   "name": "python3"
  },
  "language_info": {
   "codemirror_mode": {
    "name": "ipython",
    "version": 3
   },
   "file_extension": ".py",
   "mimetype": "text/x-python",
   "name": "python",
   "nbconvert_exporter": "python",
   "pygments_lexer": "ipython3",
   "version": "3.9.10"
  }
 },
 "nbformat": 4,
 "nbformat_minor": 5
}
