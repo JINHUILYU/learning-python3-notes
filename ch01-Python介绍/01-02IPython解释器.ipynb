{
 "cells": [
  {
   "cell_type": "markdown",
   "id": "73ce8c5e",
   "metadata": {},
   "source": [
    "# IPython解释器\n",
    "\n",
    "通常不使用Python自带的解释器，而使用另一个更强大的解释器——IPython解释器。Anaconda自带IPython解释器。命令行输入IPython进入：\n",
    "```\n",
    "ipython\n",
    "```\n",
    "\n",
    "如果系统提示没有IPython可以通过pip命令安装：\n",
    "\n",
    "```shell\n",
    "pip install ipython\n",
    "```\n",
    "\n",
    "所有在Python解释器下可以运行的代码都可以在IPython解释器下运行："
   ]
  },
  {
   "cell_type": "code",
   "execution_count": 1,
   "id": "eb89cf21",
   "metadata": {
    "ExecuteTime": {
     "end_time": "2023-11-12T14:16:13.630085700Z",
     "start_time": "2023-11-12T14:16:13.625995900Z"
    }
   },
   "outputs": [
    {
     "name": "stdout",
     "output_type": "stream",
     "text": [
      "hello, world\n"
     ]
    }
   ],
   "source": [
    "print(\"hello, world\")"
   ]
  },
  {
   "cell_type": "markdown",
   "id": "b7f60560",
   "metadata": {},
   "source": [
    "赋值："
   ]
  },
  {
   "cell_type": "code",
   "execution_count": 2,
   "id": "55b338f4",
   "metadata": {
    "ExecuteTime": {
     "end_time": "2023-11-12T14:16:15.756969600Z",
     "start_time": "2023-11-12T14:16:15.756969600Z"
    }
   },
   "outputs": [],
   "source": [
    "a = 1"
   ]
  },
  {
   "cell_type": "markdown",
   "id": "feba21bc",
   "metadata": {},
   "source": [
    "输入变量名查看值："
   ]
  },
  {
   "cell_type": "code",
   "execution_count": 3,
   "id": "5c533e88",
   "metadata": {
    "ExecuteTime": {
     "end_time": "2023-11-12T14:16:17.757955500Z",
     "start_time": "2023-11-12T14:16:17.743622200Z"
    }
   },
   "outputs": [
    {
     "data": {
      "text/plain": "1"
     },
     "execution_count": 3,
     "metadata": {},
     "output_type": "execute_result"
    }
   ],
   "source": [
    "a"
   ]
  },
  {
   "cell_type": "markdown",
   "id": "1eeabe52",
   "metadata": {},
   "source": [
    "变量可以任意被覆盖："
   ]
  },
  {
   "cell_type": "code",
   "execution_count": 4,
   "id": "4eb5a259",
   "metadata": {
    "ExecuteTime": {
     "end_time": "2023-11-12T14:16:20.115122300Z",
     "start_time": "2023-11-12T14:16:20.105482400Z"
    }
   },
   "outputs": [],
   "source": [
    "a = \"test\""
   ]
  },
  {
   "cell_type": "code",
   "execution_count": 5,
   "id": "78fa3997",
   "metadata": {
    "ExecuteTime": {
     "end_time": "2023-11-12T14:16:21.890474400Z",
     "start_time": "2023-11-12T14:16:21.863874900Z"
    }
   },
   "outputs": [
    {
     "data": {
      "text/plain": "'test'"
     },
     "execution_count": 5,
     "metadata": {},
     "output_type": "execute_result"
    }
   ],
   "source": [
    "a"
   ]
  },
  {
   "cell_type": "markdown",
   "id": "953e4a4b",
   "metadata": {},
   "source": [
    "## 魔术命令\n",
    "\n",
    "相对于Python解释器，IPython解释器额外提供了很多以百分号%开头的魔术命令，这些命令很像Mac/Linux系统下的命令行命令（事实上有些是一样的）。\n",
    "\n",
    "查看所有的模式命令："
   ]
  },
  {
   "cell_type": "code",
   "execution_count": 6,
   "id": "14143fa3",
   "metadata": {
    "ExecuteTime": {
     "end_time": "2023-11-12T14:16:25.828445700Z",
     "start_time": "2023-11-12T14:16:25.815250500Z"
    }
   },
   "outputs": [
    {
     "data": {
      "text/plain": "Available line magics:\n%alias  %alias_magic  %autoawait  %autocall  %automagic  %autosave  %bookmark  %cd  %clear  %cls  %code_wrap  %colors  %conda  %config  %connect_info  %copy  %ddir  %debug  %dhist  %dirs  %doctest_mode  %echo  %ed  %edit  %env  %gui  %hist  %history  %killbgscripts  %ldir  %less  %load  %load_ext  %loadpy  %logoff  %logon  %logstart  %logstate  %logstop  %ls  %lsmagic  %macro  %magic  %matplotlib  %mkdir  %more  %notebook  %page  %pastebin  %pdb  %pdef  %pdoc  %pfile  %pinfo  %pinfo2  %pip  %popd  %pprint  %precision  %prun  %psearch  %psource  %pushd  %pwd  %pycat  %pylab  %qtconsole  %quickref  %recall  %rehashx  %reload_ext  %ren  %rep  %rerun  %reset  %reset_selective  %rmdir  %run  %save  %sc  %set_env  %store  %sx  %system  %tb  %time  %timeit  %unalias  %unload_ext  %who  %who_ls  %whos  %xdel  %xmode\n\nAvailable cell magics:\n%%!  %%HTML  %%SVG  %%bash  %%capture  %%cmd  %%code_wrap  %%debug  %%file  %%html  %%javascript  %%js  %%latex  %%markdown  %%perl  %%prun  %%pypy  %%python  %%python2  %%python3  %%ruby  %%script  %%sh  %%svg  %%sx  %%system  %%time  %%timeit  %%writefile\n\nAutomagic is ON, % prefix IS NOT needed for line magics.",
      "application/json": {
       "line": {
        "automagic": "AutoMagics",
        "autocall": "AutoMagics",
        "alias_magic": "BasicMagics",
        "lsmagic": "BasicMagics",
        "magic": "BasicMagics",
        "page": "BasicMagics",
        "pprint": "BasicMagics",
        "colors": "BasicMagics",
        "xmode": "BasicMagics",
        "quickref": "BasicMagics",
        "doctest_mode": "BasicMagics",
        "gui": "BasicMagics",
        "precision": "BasicMagics",
        "notebook": "BasicMagics",
        "save": "CodeMagics",
        "pastebin": "CodeMagics",
        "loadpy": "CodeMagics",
        "load": "CodeMagics",
        "edit": "KernelMagics",
        "config": "ConfigMagics",
        "prun": "ExecutionMagics",
        "pdb": "ExecutionMagics",
        "debug": "ExecutionMagics",
        "tb": "ExecutionMagics",
        "run": "ExecutionMagics",
        "timeit": "ExecutionMagics",
        "time": "ExecutionMagics",
        "macro": "ExecutionMagics",
        "code_wrap": "ExecutionMagics",
        "load_ext": "ExtensionMagics",
        "unload_ext": "ExtensionMagics",
        "reload_ext": "ExtensionMagics",
        "history": "HistoryMagics",
        "recall": "HistoryMagics",
        "rerun": "HistoryMagics",
        "logstart": "LoggingMagics",
        "logstop": "LoggingMagics",
        "logoff": "LoggingMagics",
        "logon": "LoggingMagics",
        "logstate": "LoggingMagics",
        "pinfo": "NamespaceMagics",
        "pinfo2": "NamespaceMagics",
        "pdef": "NamespaceMagics",
        "pdoc": "NamespaceMagics",
        "psource": "NamespaceMagics",
        "pfile": "NamespaceMagics",
        "psearch": "NamespaceMagics",
        "who_ls": "NamespaceMagics",
        "who": "NamespaceMagics",
        "whos": "NamespaceMagics",
        "reset": "NamespaceMagics",
        "reset_selective": "NamespaceMagics",
        "xdel": "NamespaceMagics",
        "alias": "OSMagics",
        "unalias": "OSMagics",
        "rehashx": "OSMagics",
        "pwd": "OSMagics",
        "cd": "OSMagics",
        "env": "OSMagics",
        "set_env": "OSMagics",
        "pushd": "OSMagics",
        "popd": "OSMagics",
        "dirs": "OSMagics",
        "dhist": "OSMagics",
        "sc": "OSMagics",
        "sx": "OSMagics",
        "system": "OSMagics",
        "bookmark": "OSMagics",
        "pycat": "OSMagics",
        "pip": "PackagingMagics",
        "conda": "PackagingMagics",
        "matplotlib": "PylabMagics",
        "pylab": "PylabMagics",
        "killbgscripts": "ScriptMagics",
        "autoawait": "AsyncMagics",
        "ed": "Other",
        "hist": "Other",
        "rep": "Other",
        "clear": "KernelMagics",
        "cls": "KernelMagics",
        "less": "KernelMagics",
        "more": "KernelMagics",
        "connect_info": "KernelMagics",
        "qtconsole": "KernelMagics",
        "autosave": "KernelMagics",
        "ls": "Other",
        "ddir": "Other",
        "ldir": "Other",
        "mkdir": "Other",
        "rmdir": "Other",
        "echo": "Other",
        "ren": "Other",
        "copy": "Other",
        "store": "StoreMagics"
       },
       "cell": {
        "js": "DisplayMagics",
        "javascript": "DisplayMagics",
        "latex": "DisplayMagics",
        "svg": "DisplayMagics",
        "html": "DisplayMagics",
        "markdown": "DisplayMagics",
        "prun": "ExecutionMagics",
        "debug": "ExecutionMagics",
        "timeit": "ExecutionMagics",
        "time": "ExecutionMagics",
        "capture": "ExecutionMagics",
        "code_wrap": "ExecutionMagics",
        "sx": "OSMagics",
        "system": "OSMagics",
        "!": "OSMagics",
        "writefile": "OSMagics",
        "script": "ScriptMagics",
        "sh": "Other",
        "bash": "Other",
        "perl": "Other",
        "ruby": "Other",
        "python": "Other",
        "python2": "Other",
        "python3": "Other",
        "pypy": "Other",
        "cmd": "Other",
        "SVG": "Other",
        "HTML": "Other",
        "file": "Other"
       }
      }
     },
     "execution_count": 6,
     "metadata": {},
     "output_type": "execute_result"
    }
   ],
   "source": [
    "%lsmagic"
   ]
  },
  {
   "cell_type": "markdown",
   "id": "59dbe922",
   "metadata": {},
   "source": [
    "其中：\n",
    "- `line magic`以一个百分号开头，作用与一行。\n",
    "- `cell magic`以两个百分号开头，作用于整个cell。\n",
    "- 最后一行`Automagic is ON, % prefix IS NOT needed for line magics.`说明在此时即使不加上%也可以使用`line magic`命令。"
   ]
  },
  {
   "cell_type": "markdown",
   "id": "2ab70b56",
   "metadata": {},
   "source": [
    "使用 whos 查看当前的变量空间："
   ]
  },
  {
   "cell_type": "code",
   "execution_count": 7,
   "id": "ad1d5f00",
   "metadata": {
    "ExecuteTime": {
     "end_time": "2023-11-12T14:17:29.462685800Z",
     "start_time": "2023-11-12T14:17:29.458851200Z"
    }
   },
   "outputs": [
    {
     "name": "stdout",
     "output_type": "stream",
     "text": [
      "Variable                        Type        Data/Info\n",
      "-----------------------------------------------------\n",
      "a                               str         test\n",
      "pydev_jupyter_vars              module      <module 'pydev_jupyter_va<...>\\\\pydev_jupyter_vars.py'>\n",
      "remove_imported_pydev_package   function    <function remove_imported<...>ge at 0x000002766B342CA0>\n",
      "sys                             module      <module 'sys' (built-in)>\n"
     ]
    }
   ],
   "source": [
    "%whos"
   ]
  },
  {
   "cell_type": "markdown",
   "id": "bbce95c7",
   "metadata": {},
   "source": [
    "使用 reset 重置当前变量空间："
   ]
  },
  {
   "cell_type": "code",
   "execution_count": 48,
   "id": "436c9d4c",
   "metadata": {
    "ExecuteTime": {
     "end_time": "2023-11-12T14:17:51.079241100Z",
     "start_time": "2023-11-12T14:17:51.021713300Z"
    }
   },
   "outputs": [],
   "source": [
    "%reset -f"
   ]
  },
  {
   "cell_type": "markdown",
   "id": "9e86dddb",
   "metadata": {},
   "source": [
    "再使用 whos 查看当前的变量空间："
   ]
  },
  {
   "cell_type": "code",
   "execution_count": 49,
   "id": "8888666b",
   "metadata": {
    "ExecuteTime": {
     "end_time": "2023-11-12T14:17:54.408574400Z",
     "start_time": "2023-11-12T14:17:54.384790Z"
    }
   },
   "outputs": [
    {
     "name": "stdout",
     "output_type": "stream",
     "text": [
      "Variable                        Type        Data/Info\n",
      "-----------------------------------------------------\n",
      "pydev_jupyter_vars              module      <module 'pydev_jupyter_va<...>\\\\pydev_jupyter_vars.py'>\n",
      "remove_imported_pydev_package   function    <function remove_imported<...>ge at 0x000002766B342CA0>\n",
      "sys                             module      <module 'sys' (built-in)>\n"
     ]
    }
   ],
   "source": [
    "%whos"
   ]
  },
  {
   "cell_type": "markdown",
   "id": "e0cd9304",
   "metadata": {},
   "source": [
    "使用 pwd 查看当前工作文件夹："
   ]
  },
  {
   "cell_type": "code",
   "execution_count": 50,
   "id": "63607822",
   "metadata": {
    "ExecuteTime": {
     "end_time": "2023-11-12T14:17:57.459826800Z",
     "start_time": "2023-11-12T14:17:57.429741600Z"
    }
   },
   "outputs": [
    {
     "data": {
      "text/plain": "'E:\\\\Project\\\\notes-python3\\\\ch01-Python介绍'"
     },
     "execution_count": 50,
     "metadata": {},
     "output_type": "execute_result"
    }
   ],
   "source": [
    "%pwd"
   ]
  },
  {
   "cell_type": "markdown",
   "id": "a14cbd65",
   "metadata": {},
   "source": [
    "使用 mkdir 产生新文件夹："
   ]
  },
  {
   "cell_type": "code",
   "execution_count": 51,
   "id": "758feb75",
   "metadata": {
    "ExecuteTime": {
     "end_time": "2023-11-12T14:18:01.368975800Z",
     "start_time": "2023-11-12T14:18:01.348491600Z"
    }
   },
   "outputs": [],
   "source": [
    "%mkdir demo_test"
   ]
  },
  {
   "cell_type": "markdown",
   "id": "33c54e74",
   "metadata": {},
   "source": [
    "使用 cd 改变工作文件夹："
   ]
  },
  {
   "cell_type": "code",
   "execution_count": 52,
   "id": "2602f659",
   "metadata": {
    "ExecuteTime": {
     "end_time": "2023-11-12T14:18:04.041640500Z",
     "start_time": "2023-11-12T14:18:04.038489600Z"
    }
   },
   "outputs": [
    {
     "name": "stdout",
     "output_type": "stream",
     "text": [
      "E:\\Project\\notes-python3\\ch01-Python介绍\\demo_test\n"
     ]
    }
   ],
   "source": [
    "%cd demo_test"
   ]
  },
  {
   "cell_type": "markdown",
   "id": "b8ba71af",
   "metadata": {},
   "source": [
    "使用 writefile 将cell中的内容写入文件："
   ]
  },
  {
   "cell_type": "code",
   "execution_count": 53,
   "id": "6695166e",
   "metadata": {
    "ExecuteTime": {
     "end_time": "2023-11-12T14:18:10.049409400Z",
     "start_time": "2023-11-12T14:18:10.027628400Z"
    }
   },
   "outputs": [
    {
     "name": "stdout",
     "output_type": "stream",
     "text": [
      "Writing hello_world.py\n"
     ]
    }
   ],
   "source": [
    "%%writefile hello_world.py\n",
    "print(\"hello world\")"
   ]
  },
  {
   "cell_type": "markdown",
   "id": "33c4e93e",
   "metadata": {},
   "source": [
    "使用 ls 查看当前工作文件夹的文件："
   ]
  },
  {
   "cell_type": "code",
   "execution_count": 54,
   "id": "350daadb",
   "metadata": {
    "ExecuteTime": {
     "end_time": "2023-11-12T14:18:13.804161800Z",
     "start_time": "2023-11-12T14:18:13.775699600Z"
    }
   },
   "outputs": [
    {
     "name": "stdout",
     "output_type": "stream",
     "text": [
      " 驱动器 E 中的卷是 新加卷\n",
      " 卷的序列号是 02C7-A50F\n",
      "\n",
      " E:\\Project\\notes-python3\\ch01-Python介绍\\demo_test 的目录\n",
      "\n",
      "2023/11/12  22:18    <DIR>          .\n",
      "2023/11/12  22:18    <DIR>          ..\n",
      "2023/11/12  22:18                22 hello_world.py\n",
      "               1 个文件             22 字节\n",
      "               2 个目录 45,543,309,312 可用字节\n"
     ]
    }
   ],
   "source": [
    "%ls"
   ]
  },
  {
   "cell_type": "markdown",
   "id": "558f25b8",
   "metadata": {},
   "source": [
    "返回上一层文件夹："
   ]
  },
  {
   "cell_type": "code",
   "execution_count": 55,
   "id": "024bed89",
   "metadata": {
    "ExecuteTime": {
     "end_time": "2023-11-12T14:18:20.341257Z",
     "start_time": "2023-11-12T14:18:20.333841500Z"
    }
   },
   "outputs": [
    {
     "name": "stdout",
     "output_type": "stream",
     "text": [
      "E:\\Project\\notes-python3\\ch01-Python介绍\n"
     ]
    }
   ],
   "source": [
    "%cd .."
   ]
  },
  {
   "cell_type": "markdown",
   "id": "11638d97",
   "metadata": {},
   "source": [
    "使用 rm 删除文件："
   ]
  },
  {
   "cell_type": "code",
   "execution_count": 57,
   "id": "8ae0020d",
   "metadata": {
    "ExecuteTime": {
     "end_time": "2023-11-12T14:18:49.124010200Z",
     "start_time": "2023-11-12T14:18:49.113370700Z"
    }
   },
   "outputs": [],
   "source": [
    "# !rm demo_test/hello_world.py\n",
    "import os\n",
    "os.remove(\"demo_test/hello_world.py\")"
   ]
  },
  {
   "cell_type": "markdown",
   "id": "03bf5a5d",
   "metadata": {},
   "source": [
    "使用 rmdir 删除文件夹："
   ]
  },
  {
   "cell_type": "code",
   "execution_count": 58,
   "id": "c411cad9",
   "metadata": {
    "ExecuteTime": {
     "end_time": "2023-11-12T14:19:01.063129300Z",
     "start_time": "2023-11-12T14:19:01.047486900Z"
    }
   },
   "outputs": [],
   "source": [
    "%rmdir demo_test"
   ]
  },
  {
   "cell_type": "markdown",
   "id": "c8145246",
   "metadata": {},
   "source": [
    "使用 hist 查看历史命令："
   ]
  },
  {
   "cell_type": "code",
   "execution_count": 59,
   "id": "20258093",
   "metadata": {
    "ExecuteTime": {
     "end_time": "2023-11-12T14:19:07.940194100Z",
     "start_time": "2023-11-12T14:19:07.939686900Z"
    }
   },
   "outputs": [
    {
     "name": "stdout",
     "output_type": "stream",
     "text": [
      "print(\"hello, world\")\n",
      "a = 1\n",
      "a\n",
      "a = \"test\"\n",
      "a\n",
      "%lsmagic\n",
      "%whos\n",
      "%reset -f\n",
      "%whos\n",
      "%reset -f\n",
      "%whos\n",
      "%whos\n",
      "%whos\n",
      "%whos\n",
      "%whos\n",
      "%whos\n",
      "%whos\n",
      "%whos\n",
      "%whos\n",
      "%whos\n",
      "%whos\n",
      "%whos\n",
      "%whos\n",
      "%whos\n",
      "%whos\n",
      "%whos\n",
      "%whos\n",
      "%whos\n",
      "%whos\n",
      "%whos\n",
      "%whos\n",
      "%whos\n",
      "%whos\n",
      "%whos\n",
      "%whos\n",
      "%whos\n",
      "%whos\n",
      "%whos\n",
      "%whos\n",
      "%whos\n",
      "%whos\n",
      "%whos\n",
      "%reset -f\n",
      "%reset -f\n",
      "%reset -f\n",
      "%reset -f\n",
      "%reset -f\n",
      "%reset -f\n",
      "%whos\n",
      "%pwd\n",
      "%mkdir demo_test\n",
      "%cd demo_test\n",
      "%%writefile hello_world.py\n",
      "print(\"hello world\")\n",
      "%ls\n",
      "%cd ..\n",
      "!rm demo_test/hello_world.py\n",
      "# !rm demo_test/hello_world.py\n",
      "import os\n",
      "os.remove(\"demo_test/hello_world.py\")\n",
      "%rmdir demo_test\n",
      "%hist\n"
     ]
    }
   ],
   "source": [
    "%hist"
   ]
  },
  {
   "cell_type": "markdown",
   "id": "f18f29d3",
   "metadata": {},
   "source": [
    "## 其他用法\n",
    "\n",
    "使用 ? 查看函数的帮助："
   ]
  },
  {
   "cell_type": "code",
   "execution_count": 60,
   "id": "c32871a0",
   "metadata": {
    "ExecuteTime": {
     "end_time": "2023-11-12T14:19:14.541315Z",
     "start_time": "2023-11-12T14:19:14.482047500Z"
    }
   },
   "outputs": [],
   "source": [
    "sum?"
   ]
  },
  {
   "cell_type": "markdown",
   "id": "5fe83612",
   "metadata": {},
   "source": [
    "使用 ?? 查看函数帮助和函数源代码（如果是用python实现的）："
   ]
  },
  {
   "cell_type": "code",
   "execution_count": 61,
   "id": "1de72933",
   "metadata": {
    "ExecuteTime": {
     "end_time": "2023-11-12T14:19:24.933190200Z",
     "start_time": "2023-11-12T14:19:23.805465100Z"
    }
   },
   "outputs": [
    {
     "name": "stdout",
     "output_type": "stream",
     "text": [
      "Using matplotlib backend: <object object at 0x000002766B1AF4D0>\n",
      "%pylab is deprecated, use %matplotlib inline and import the required libraries.\n",
      "Populating the interactive namespace from numpy and matplotlib\n"
     ]
    }
   ],
   "source": [
    "# 导入numpy和matplotlib两个包\n",
    "%pylab\n",
    "# 查看其中sort函数的帮助\n",
    "sort??"
   ]
  },
  {
   "cell_type": "markdown",
   "id": "d8b25de5",
   "metadata": {},
   "source": [
    "使用 _ 使用上个cell的输出结果："
   ]
  },
  {
   "cell_type": "code",
   "execution_count": 62,
   "id": "5bdb507e",
   "metadata": {
    "ExecuteTime": {
     "end_time": "2023-11-12T14:19:34.130658100Z",
     "start_time": "2023-11-12T14:19:34.119798800Z"
    }
   },
   "outputs": [
    {
     "data": {
      "text/plain": "12"
     },
     "execution_count": 62,
     "metadata": {},
     "output_type": "execute_result"
    }
   ],
   "source": [
    "a = 12\n",
    "a"
   ]
  },
  {
   "cell_type": "code",
   "execution_count": 63,
   "id": "4748138b",
   "metadata": {
    "ExecuteTime": {
     "end_time": "2023-11-12T14:19:46.612742800Z",
     "start_time": "2023-11-12T14:19:46.608597500Z"
    }
   },
   "outputs": [
    {
     "data": {
      "text/plain": "25"
     },
     "execution_count": 63,
     "metadata": {},
     "output_type": "execute_result"
    }
   ],
   "source": [
    "_ + 13  # _代表上个cell的输出结果"
   ]
  },
  {
   "cell_type": "markdown",
   "id": "f0a55e05",
   "metadata": {},
   "source": [
    "可以使用 ! 来执行一些系统命令。"
   ]
  },
  {
   "cell_type": "code",
   "execution_count": 67,
   "id": "3c201d4f",
   "metadata": {
    "ExecuteTime": {
     "end_time": "2023-11-12T14:20:19.418226300Z",
     "start_time": "2023-11-12T14:20:19.362563800Z"
    }
   },
   "outputs": [],
   "source": [
    "!python -c 'print(\"hello world\")'"
   ]
  },
  {
   "cell_type": "markdown",
   "id": "8a35db19",
   "metadata": {},
   "source": [
    "输入代码不合法时，会给出错误提示："
   ]
  },
  {
   "cell_type": "code",
   "execution_count": 68,
   "id": "966742ac",
   "metadata": {
    "ExecuteTime": {
     "end_time": "2023-11-12T14:22:01.006679200Z",
     "start_time": "2023-11-12T14:22:00.535388300Z"
    }
   },
   "outputs": [
    {
     "ename": "TypeError",
     "evalue": "unsupported operand type(s) for +: 'int' and 'str'",
     "output_type": "error",
     "traceback": [
      "\u001B[1;31m---------------------------------------------------------------------------\u001B[0m",
      "\u001B[1;31mTypeError\u001B[0m                                 Traceback (most recent call last)",
      "Cell \u001B[1;32mIn[68], line 1\u001B[0m\n\u001B[1;32m----> 1\u001B[0m \u001B[38;5;241m1\u001B[39m \u001B[38;5;241m+\u001B[39m \u001B[38;5;124m'\u001B[39m\u001B[38;5;124mhello\u001B[39m\u001B[38;5;124m'\u001B[39m\n",
      "\u001B[1;31mTypeError\u001B[0m: unsupported operand type(s) for +: 'int' and 'str'"
     ]
    }
   ],
   "source": [
    "1 + 'hello'"
   ]
  },
  {
   "cell_type": "markdown",
   "id": "896ec9a6",
   "metadata": {},
   "source": [
    "虽然输入错误，但解释器不会停止运行，还可以继续输入："
   ]
  },
  {
   "cell_type": "code",
   "execution_count": 69,
   "id": "aa957b85",
   "metadata": {
    "ExecuteTime": {
     "end_time": "2023-11-12T14:22:05.490450400Z",
     "start_time": "2023-11-12T14:22:05.468597600Z"
    }
   },
   "outputs": [],
   "source": [
    "b = 12345"
   ]
  }
 ],
 "metadata": {
  "kernelspec": {
   "display_name": "Python 3 (ipykernel)",
   "language": "python",
   "name": "python3"
  },
  "language_info": {
   "codemirror_mode": {
    "name": "ipython",
    "version": 3
   },
   "file_extension": ".py",
   "mimetype": "text/x-python",
   "name": "python",
   "nbconvert_exporter": "python",
   "pygments_lexer": "ipython3",
   "version": "3.9.12"
  }
 },
 "nbformat": 4,
 "nbformat_minor": 5
}
