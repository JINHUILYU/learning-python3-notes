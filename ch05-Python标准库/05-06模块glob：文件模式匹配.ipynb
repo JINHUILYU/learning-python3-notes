{
 "cells": [
  {
   "attachments": {},
   "cell_type": "markdown",
   "id": "d2c76dec",
   "metadata": {},
   "source": [
    "# 模块glob：文件模式匹配\n",
    "\n",
    "glob模块是与文件模式匹配相关的标准库模块，提供了方便的文件模式匹配方法："
   ]
  },
  {
   "cell_type": "code",
   "execution_count": 1,
   "id": "a436b96b",
   "metadata": {
    "ExecuteTime": {
     "end_time": "2023-11-14T11:24:17.240170900Z",
     "start_time": "2023-11-14T11:24:17.237583900Z"
    }
   },
   "outputs": [],
   "source": [
    "import glob"
   ]
  },
  {
   "cell_type": "markdown",
   "id": "079a8c13",
   "metadata": {},
   "source": [
    "匹配当前文件夹下所有的.ipynb文件："
   ]
  },
  {
   "cell_type": "code",
   "execution_count": 3,
   "id": "021bb10c",
   "metadata": {
    "ExecuteTime": {
     "end_time": "2023-11-14T11:24:54.822954500Z",
     "start_time": "2023-11-14T11:24:54.805862800Z"
    }
   },
   "outputs": [
    {
     "data": {
      "text/plain": "['05-01模块sys：系统相关.ipynb',\n '05-02模块os：与操作系统进行交互.ipynb',\n '05-03模块re：正则表达式.ipynb',\n '05-04模块datetime：日期时间.ipynb',\n '05-05模块json：处理JSON数据.ipynb',\n '05-06模块glob：文件模式匹配.ipynb',\n '05-07模块math：数学.ipynb',\n '05-08模块random：随机数.ipynb',\n '05-09模块pathlib：路径操作.ipynb']"
     },
     "execution_count": 3,
     "metadata": {},
     "output_type": "execute_result"
    }
   ],
   "source": [
    "glob.glob(\"*.ipynb\")  # 以列表形式返回当前文件夹下所有的.ipynb文件"
   ]
  },
  {
   "attachments": {},
   "cell_type": "markdown",
   "id": "32911217",
   "metadata": {},
   "source": [
    "一般来说，glob.glob()函数支持三种格式的语法：\n",
    "- “*”：匹配单个或多个字符，除了路径分隔符。\n",
    "- “?”：匹配任意单个字符。\n",
    "- “[seq]”：匹配指定范围内的单个字符，如：[0-9]匹配单个数字。\n",
    "- “[!seq]”：匹配非指定范围内的单个字符，如：[!0-9]匹配非数字的单个字符。\n",
    "- 如果要匹配“*”和“?”本身，可以使用“[*]”和“[?]”来转义。"
   ]
  }
 ],
 "metadata": {
  "kernelspec": {
   "display_name": "Python 3 (ipykernel)",
   "language": "python",
   "name": "python3"
  },
  "language_info": {
   "codemirror_mode": {
    "name": "ipython",
    "version": 3
   },
   "file_extension": ".py",
   "mimetype": "text/x-python",
   "name": "python",
   "nbconvert_exporter": "python",
   "pygments_lexer": "ipython3",
   "version": "3.9.10"
  }
 },
 "nbformat": 4,
 "nbformat_minor": 5
}
