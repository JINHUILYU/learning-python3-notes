{
 "cells": [
  {
   "cell_type": "markdown",
   "id": "a969ffee",
   "metadata": {},
   "source": [
    "# 模块random：随机数"
   ]
  },
  {
   "cell_type": "code",
   "execution_count": 1,
   "id": "6de6a81e",
   "metadata": {
    "ExecuteTime": {
     "end_time": "2023-11-14T11:28:31.737492Z",
     "start_time": "2023-11-14T11:28:31.729240200Z"
    }
   },
   "outputs": [],
   "source": [
    "import random"
   ]
  },
  {
   "attachments": {},
   "cell_type": "markdown",
   "id": "ab9235c5",
   "metadata": {},
   "source": [
    "函数`random.randint()`可以产生一个随机整数。产生一个1到9之间的随机整数："
   ]
  },
  {
   "cell_type": "code",
   "execution_count": 2,
   "id": "83602a1e",
   "metadata": {
    "ExecuteTime": {
     "end_time": "2023-11-14T11:28:34.245331800Z",
     "start_time": "2023-11-14T11:28:34.219987200Z"
    }
   },
   "outputs": [
    {
     "data": {
      "text/plain": "8"
     },
     "execution_count": 2,
     "metadata": {},
     "output_type": "execute_result"
    }
   ],
   "source": [
    "random.randint(1, 9)"
   ]
  },
  {
   "cell_type": "code",
   "execution_count": 19,
   "id": "0156834a",
   "metadata": {
    "ExecuteTime": {
     "end_time": "2023-11-14T11:29:12.978409Z",
     "start_time": "2023-11-14T11:29:12.961167100Z"
    }
   },
   "outputs": [
    {
     "data": {
      "text/plain": "[6, 9, 1, 1, 3, 7, 7, 1, 6, 5]"
     },
     "execution_count": 19,
     "metadata": {},
     "output_type": "execute_result"
    }
   ],
   "source": [
    "nums = []\n",
    "for _ in range(10):\n",
    "    nums.append(random.randint(1, 9))\n",
    "nums"
   ]
  },
  {
   "attachments": {},
   "cell_type": "markdown",
   "id": "679ca711",
   "metadata": {},
   "source": [
    "函数`random.random()`可以生成一个在0到1之间的随机数："
   ]
  },
  {
   "cell_type": "code",
   "execution_count": 20,
   "id": "bcf5a6ef",
   "metadata": {
    "ExecuteTime": {
     "end_time": "2023-11-14T11:29:26.029623Z",
     "start_time": "2023-11-14T11:29:26.013090500Z"
    }
   },
   "outputs": [
    {
     "data": {
      "text/plain": "0.8387870935613077"
     },
     "execution_count": 20,
     "metadata": {},
     "output_type": "execute_result"
    }
   ],
   "source": [
    "random.random()  # 生成一个0到1之间的随机数"
   ]
  },
  {
   "attachments": {},
   "cell_type": "markdown",
   "id": "ff79fcf3",
   "metadata": {},
   "source": [
    "函数`random.choice()`可以从一个序列中随机选择一个元素："
   ]
  },
  {
   "cell_type": "code",
   "execution_count": 21,
   "id": "ef9aec7f",
   "metadata": {
    "ExecuteTime": {
     "end_time": "2023-11-14T11:29:33.039615600Z",
     "start_time": "2023-11-14T11:29:33.018642Z"
    }
   },
   "outputs": [],
   "source": [
    "a = [2, 3.2, \"abc\"]"
   ]
  },
  {
   "cell_type": "code",
   "execution_count": 35,
   "id": "206b974f",
   "metadata": {
    "ExecuteTime": {
     "end_time": "2023-11-14T11:29:39.464862700Z",
     "start_time": "2023-11-14T11:29:39.448846900Z"
    }
   },
   "outputs": [
    {
     "data": {
      "text/plain": "2"
     },
     "execution_count": 35,
     "metadata": {},
     "output_type": "execute_result"
    }
   ],
   "source": [
    "random.choice(a)"
   ]
  },
  {
   "attachments": {},
   "cell_type": "markdown",
   "id": "56b689d4",
   "metadata": {},
   "source": [
    "函数`random.shuffle()`可以将序列中元素的顺序进行打乱："
   ]
  },
  {
   "cell_type": "code",
   "execution_count": 36,
   "id": "89710409",
   "metadata": {
    "ExecuteTime": {
     "end_time": "2023-11-14T11:29:44.160268900Z",
     "start_time": "2023-11-14T11:29:44.142743200Z"
    }
   },
   "outputs": [],
   "source": [
    "b = list(range(20))"
   ]
  },
  {
   "cell_type": "code",
   "execution_count": 37,
   "id": "ac2d2e63",
   "metadata": {
    "ExecuteTime": {
     "end_time": "2023-11-14T11:29:45.258984800Z",
     "start_time": "2023-11-14T11:29:45.241402600Z"
    }
   },
   "outputs": [
    {
     "data": {
      "text/plain": "[0, 1, 2, 3, 4, 5, 6, 7, 8, 9, 10, 11, 12, 13, 14, 15, 16, 17, 18, 19]"
     },
     "execution_count": 37,
     "metadata": {},
     "output_type": "execute_result"
    }
   ],
   "source": [
    "b"
   ]
  },
  {
   "cell_type": "code",
   "execution_count": 38,
   "id": "b64797b1",
   "metadata": {
    "ExecuteTime": {
     "end_time": "2023-11-14T11:29:48.580037200Z",
     "start_time": "2023-11-14T11:29:48.563013700Z"
    }
   },
   "outputs": [],
   "source": [
    "random.shuffle(b)"
   ]
  },
  {
   "cell_type": "code",
   "execution_count": 39,
   "id": "3ae3aa56",
   "metadata": {
    "ExecuteTime": {
     "end_time": "2023-11-14T11:29:49.499488200Z",
     "start_time": "2023-11-14T11:29:49.481099500Z"
    }
   },
   "outputs": [
    {
     "data": {
      "text/plain": "[17, 6, 5, 0, 11, 13, 10, 2, 16, 15, 8, 4, 18, 12, 19, 1, 14, 7, 9, 3]"
     },
     "execution_count": 39,
     "metadata": {},
     "output_type": "execute_result"
    }
   ],
   "source": [
    "b"
   ]
  },
  {
   "attachments": {},
   "cell_type": "markdown",
   "id": "e5565ca6",
   "metadata": {},
   "source": [
    "函数random.sample()可以从序列中不放回地随机采样元素，如采样3个元素："
   ]
  },
  {
   "cell_type": "code",
   "execution_count": 50,
   "id": "57c8ff92",
   "metadata": {
    "ExecuteTime": {
     "end_time": "2023-11-14T11:29:57.262454400Z",
     "start_time": "2023-11-14T11:29:57.244220500Z"
    }
   },
   "outputs": [
    {
     "data": {
      "text/plain": "[1, 0, 18]"
     },
     "execution_count": 50,
     "metadata": {},
     "output_type": "execute_result"
    }
   ],
   "source": [
    "random.sample(b, 3)"
   ]
  }
 ],
 "metadata": {
  "kernelspec": {
   "display_name": "Python 3 (ipykernel)",
   "language": "python",
   "name": "python3"
  },
  "language_info": {
   "codemirror_mode": {
    "name": "ipython",
    "version": 3
   },
   "file_extension": ".py",
   "mimetype": "text/x-python",
   "name": "python",
   "nbconvert_exporter": "python",
   "pygments_lexer": "ipython3",
   "version": "3.9.10"
  }
 },
 "nbformat": 4,
 "nbformat_minor": 5
}
