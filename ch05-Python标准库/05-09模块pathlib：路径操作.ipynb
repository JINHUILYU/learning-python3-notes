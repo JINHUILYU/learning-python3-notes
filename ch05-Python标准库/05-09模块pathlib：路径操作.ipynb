{
 "cells": [
  {
   "cell_type": "markdown",
   "id": "d00fa3bb",
   "metadata": {},
   "source": [
    "# 模块pathlib：路径操作"
   ]
  },
  {
   "attachments": {},
   "cell_type": "markdown",
   "id": "ed1979b2",
   "metadata": {},
   "source": [
    "Python 3提供了一个新的模块pathlib，提供了Path类型来进行更方便的路径操作："
   ]
  },
  {
   "cell_type": "code",
   "execution_count": 1,
   "id": "d6bdfdf2",
   "metadata": {
    "ExecuteTime": {
     "end_time": "2023-11-14T11:30:07.176095200Z",
     "start_time": "2023-11-14T11:30:07.170569800Z"
    }
   },
   "outputs": [],
   "source": [
    "import pathlib"
   ]
  },
  {
   "cell_type": "code",
   "execution_count": 2,
   "id": "8d471bd2",
   "metadata": {
    "ExecuteTime": {
     "end_time": "2023-11-14T11:30:08.318658700Z",
     "start_time": "2023-11-14T11:30:08.302525300Z"
    }
   },
   "outputs": [],
   "source": [
    "p = pathlib.Path('.')"
   ]
  },
  {
   "cell_type": "code",
   "execution_count": 3,
   "id": "54d4bcb0",
   "metadata": {
    "ExecuteTime": {
     "end_time": "2023-11-14T11:30:09.412738600Z",
     "start_time": "2023-11-14T11:30:09.395584Z"
    }
   },
   "outputs": [
    {
     "data": {
      "text/plain": "WindowsPath('.')"
     },
     "execution_count": 3,
     "metadata": {},
     "output_type": "execute_result"
    }
   ],
   "source": [
    "p"
   ]
  },
  {
   "attachments": {},
   "cell_type": "markdown",
   "id": "c3f584fb",
   "metadata": {},
   "source": [
    "获得当前目录下所有的文件："
   ]
  },
  {
   "cell_type": "code",
   "execution_count": 4,
   "id": "4b623faa",
   "metadata": {
    "ExecuteTime": {
     "end_time": "2023-11-14T11:30:13.496096600Z",
     "start_time": "2023-11-14T11:30:13.479127300Z"
    }
   },
   "outputs": [
    {
     "data": {
      "text/plain": "[WindowsPath('05-01模块sys：系统相关.ipynb'),\n WindowsPath('05-02模块os：与操作系统进行交互.ipynb'),\n WindowsPath('05-03模块re：正则表达式.ipynb'),\n WindowsPath('05-04模块datetime：日期时间.ipynb'),\n WindowsPath('05-05模块json：处理JSON数据.ipynb'),\n WindowsPath('05-06模块glob：文件模式匹配.ipynb'),\n WindowsPath('05-07模块math：数学.ipynb'),\n WindowsPath('05-08模块random：随机数.ipynb'),\n WindowsPath('05-09模块pathlib：路径操作.ipynb')]"
     },
     "execution_count": 4,
     "metadata": {},
     "output_type": "execute_result"
    }
   ],
   "source": [
    "list(p.iterdir())"
   ]
  },
  {
   "cell_type": "markdown",
   "id": "84272923",
   "metadata": {},
   "source": [
    "得到所有的`.ipynb`文件："
   ]
  },
  {
   "cell_type": "code",
   "execution_count": 5,
   "id": "e5676a37",
   "metadata": {
    "ExecuteTime": {
     "end_time": "2023-11-14T11:30:20.356183900Z",
     "start_time": "2023-11-14T11:30:20.336019Z"
    }
   },
   "outputs": [
    {
     "data": {
      "text/plain": "[WindowsPath('05-01模块sys：系统相关.ipynb'),\n WindowsPath('05-02模块os：与操作系统进行交互.ipynb'),\n WindowsPath('05-03模块re：正则表达式.ipynb'),\n WindowsPath('05-04模块datetime：日期时间.ipynb'),\n WindowsPath('05-05模块json：处理JSON数据.ipynb'),\n WindowsPath('05-06模块glob：文件模式匹配.ipynb'),\n WindowsPath('05-07模块math：数学.ipynb'),\n WindowsPath('05-08模块random：随机数.ipynb'),\n WindowsPath('05-09模块pathlib：路径操作.ipynb')]"
     },
     "execution_count": 5,
     "metadata": {},
     "output_type": "execute_result"
    }
   ],
   "source": [
    "list(p.glob('*.ipynb'))"
   ]
  },
  {
   "cell_type": "markdown",
   "id": "ef4b1f8c",
   "metadata": {},
   "source": [
    "路径运算："
   ]
  },
  {
   "cell_type": "code",
   "execution_count": 6,
   "id": "18a541ef",
   "metadata": {
    "ExecuteTime": {
     "end_time": "2023-11-14T11:30:24.472579100Z",
     "start_time": "2023-11-14T11:30:24.456221800Z"
    }
   },
   "outputs": [
    {
     "data": {
      "text/plain": "WindowsPath('abc/123.txt')"
     },
     "execution_count": 6,
     "metadata": {},
     "output_type": "execute_result"
    }
   ],
   "source": [
    "p / \"abc\" / \"123.txt\""
   ]
  }
 ],
 "metadata": {
  "kernelspec": {
   "display_name": "Python 3 (ipykernel)",
   "language": "python",
   "name": "python3"
  },
  "language_info": {
   "codemirror_mode": {
    "name": "ipython",
    "version": 3
   },
   "file_extension": ".py",
   "mimetype": "text/x-python",
   "name": "python",
   "nbconvert_exporter": "python",
   "pygments_lexer": "ipython3",
   "version": "3.9.10"
  }
 },
 "nbformat": 4,
 "nbformat_minor": 5
}
