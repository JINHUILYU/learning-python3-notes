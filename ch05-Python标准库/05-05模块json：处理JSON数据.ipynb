{
 "cells": [
  {
   "cell_type": "markdown",
   "id": "5f4f41a4",
   "metadata": {},
   "source": [
    "# 模块json：处理JSON数据"
   ]
  },
  {
   "cell_type": "markdown",
   "id": "d242ce20",
   "metadata": {},
   "source": [
    "[JSON (JavaScript Object Notation)](https://www.json.org/json-zh.html)是一种轻量级的数据交换格式，易于人阅读和编写，同时也易于机器解析和生成。"
   ]
  },
  {
   "cell_type": "markdown",
   "id": "b54ba7b6",
   "metadata": {},
   "source": [
    "## JSON 基础\n",
    "\n",
    "JSON 的基础结构有两种：键值对 (name/value pairs) 和数组 (array)。\n",
    "\n",
    "JSON 具有以下形式：\n",
    "\n",
    "- object - 对象，用花括号表示，形式为（数据是无序的）：\n",
    "    - { pair_1, pair_2, ..., pair_n }\n",
    "- pair - 键值对，形式为：\n",
    "    - string : value\n",
    "- array - 数组，用中括号表示，形式为（数据是有序的）：\n",
    "    - [value_1, value_2, ..., value_n ]\n",
    "- value - 值，可以是\n",
    "    - string 字符串\n",
    "    - number 数字\n",
    "    - object 对象\n",
    "    - array 数组\n",
    "    - true / false / null 特殊值\n",
    "    - string 字符串\n",
    "    \n",
    "例子：\n",
    "```json\n",
    "{\n",
    "    \"name\": \"echo\",\n",
    "    \"age\": 24,\n",
    "    \"coding skills\": [\"python\", \"matlab\", \"java\", \"c\", \"c++\", \"ruby\", \"scala\"],\n",
    "    \"ages for school\": { \n",
    "        \"primary school\": 6,\n",
    "        \"middle school\": 9,\n",
    "        \"high school\": 15,\n",
    "        \"university\": 18\n",
    "    },\n",
    "    \"hobby\": [\"sports\", \"reading\"],\n",
    "    \"married\": false\n",
    "}\n",
    "```"
   ]
  },
  {
   "cell_type": "markdown",
   "id": "93548a76",
   "metadata": {},
   "source": [
    "## JSON 与 Python 的转换\n",
    "\n",
    "将上面的结构放入字符串："
   ]
  },
  {
   "cell_type": "code",
   "execution_count": 16,
   "id": "2898b6f4",
   "metadata": {
    "ExecuteTime": {
     "end_time": "2023-11-14T11:21:27.965094200Z",
     "start_time": "2023-11-14T11:21:27.947370600Z"
    }
   },
   "outputs": [],
   "source": [
    "info_string = \"\"\"\n",
    "{\n",
    "    \"name\": \"echo\",\n",
    "    \"age\": 24,\n",
    "    \"coding skills\": [\"python\", \"matlab\", \"java\", \"c\", \"c++\", \"ruby\", \"scala\"],\n",
    "    \"ages for school\": { \n",
    "        \"primary school\": 6,\n",
    "        \"middle school\": 9,\n",
    "        \"high school\": 15,\n",
    "        \"university\": 18\n",
    "    },\n",
    "    \"hobby\": [\"sports\", \"reading\"],\n",
    "    \"married\": false\n",
    "}\n",
    "\"\"\""
   ]
  },
  {
   "cell_type": "code",
   "execution_count": 7,
   "outputs": [
    {
     "name": "stdout",
     "output_type": "stream",
     "text": [
      "\n",
      "{\n",
      "    \"name\": \"echo\",\n",
      "    \"age\": 24,\n",
      "    \"coding skills\": [\"python\", \"matlab\", \"java\", \"c\", \"c++\", \"ruby\", \"scala\"],\n",
      "    \"ages for school\": { \n",
      "        \"primary school\": 6,\n",
      "        \"middle school\": 9,\n",
      "        \"high school\": 15,\n",
      "        \"university\": 18\n",
      "    },\n",
      "    \"hobby\": [\"sports\", \"reading\"],\n",
      "    \"married\": false\n",
      "}\n"
     ]
    }
   ],
   "source": [
    "print(info_string)"
   ],
   "metadata": {
    "collapsed": false,
    "ExecuteTime": {
     "end_time": "2023-11-14T11:19:46.311456100Z",
     "start_time": "2023-11-14T11:19:46.290803700Z"
    }
   },
   "id": "4de0409c069fe01d"
  },
  {
   "cell_type": "markdown",
   "id": "8adeb55d",
   "metadata": {},
   "source": [
    "使用json模块读取数据："
   ]
  },
  {
   "cell_type": "code",
   "execution_count": 2,
   "id": "e4c003d2",
   "metadata": {
    "ExecuteTime": {
     "end_time": "2023-11-14T11:19:09.994196900Z",
     "start_time": "2023-11-14T11:19:09.975508200Z"
    }
   },
   "outputs": [],
   "source": [
    "import json"
   ]
  },
  {
   "cell_type": "code",
   "execution_count": 17,
   "id": "7f2d0a5f",
   "metadata": {
    "ExecuteTime": {
     "end_time": "2023-11-14T11:21:38.851122100Z",
     "start_time": "2023-11-14T11:21:38.833598400Z"
    }
   },
   "outputs": [],
   "source": [
    "data = json.loads(info_string)"
   ]
  },
  {
   "cell_type": "code",
   "execution_count": 6,
   "id": "3dd3e420",
   "metadata": {
    "ExecuteTime": {
     "end_time": "2023-11-14T11:19:35.506970900Z",
     "start_time": "2023-11-14T11:19:35.486648700Z"
    }
   },
   "outputs": [
    {
     "data": {
      "text/plain": "{'name': 'echo',\n 'age': 24,\n 'coding skills': ['python', 'matlab', 'java', 'c', 'c++', 'ruby', 'scala'],\n 'ages for school': {'primary school': 6,\n  'middle school': 9,\n  'high school': 15,\n  'university': 18},\n 'hobby': ['sports', 'reading'],\n 'married': False}"
     },
     "execution_count": 6,
     "metadata": {},
     "output_type": "execute_result"
    }
   ],
   "source": [
    "data"
   ]
  },
  {
   "cell_type": "markdown",
   "id": "6b7c5790",
   "metadata": {},
   "source": [
    "将这个对象转换为JSON字符串："
   ]
  },
  {
   "cell_type": "code",
   "execution_count": 8,
   "id": "d26f98ab",
   "metadata": {
    "ExecuteTime": {
     "end_time": "2023-11-14T11:19:57.179810900Z",
     "start_time": "2023-11-14T11:19:57.161115200Z"
    }
   },
   "outputs": [
    {
     "name": "stdout",
     "output_type": "stream",
     "text": [
      "\"\\n{\\n    \\\"name\\\": \\\"echo\\\",\\n    \\\"age\\\": 24,\\n    \\\"coding skills\\\": [\\\"python\\\", \\\"matlab\\\", \\\"java\\\", \\\"c\\\", \\\"c++\\\", \\\"ruby\\\", \\\"scala\\\"],\\n    \\\"ages for school\\\": { \\n        \\\"primary school\\\": 6,\\n        \\\"middle school\\\": 9,\\n        \\\"high school\\\": 15,\\n        \\\"university\\\": 18\\n    },\\n    \\\"hobby\\\": [\\\"sports\\\", \\\"reading\\\"],\\n    \\\"married\\\": false\\n}\\n\"\n"
     ]
    }
   ],
   "source": [
    "print(json.dumps(info_string))"
   ]
  },
  {
   "cell_type": "markdown",
   "id": "27db956b",
   "metadata": {},
   "source": [
    "## 读写JSON文件"
   ]
  },
  {
   "cell_type": "markdown",
   "id": "ca493b16",
   "metadata": {},
   "source": [
    "写JSON文件："
   ]
  },
  {
   "cell_type": "code",
   "execution_count": 9,
   "id": "f82a0f60",
   "metadata": {
    "ExecuteTime": {
     "end_time": "2023-11-14T11:20:10.126242900Z",
     "start_time": "2023-11-14T11:20:10.108361800Z"
    }
   },
   "outputs": [],
   "source": [
    "with open(\"info.json\", \"w\") as f:\n",
    "    json.dump(data, f)"
   ]
  },
  {
   "cell_type": "markdown",
   "id": "8fe47130",
   "metadata": {},
   "source": [
    "查看文件内容："
   ]
  },
  {
   "cell_type": "code",
   "execution_count": 10,
   "id": "0a81396d",
   "metadata": {
    "ExecuteTime": {
     "end_time": "2023-11-14T11:20:32.924555400Z",
     "start_time": "2023-11-14T11:20:32.905788300Z"
    }
   },
   "outputs": [
    {
     "name": "stdout",
     "output_type": "stream",
     "text": [
      "{\"name\": \"echo\", \"age\": 24, \"coding skills\": [\"python\", \"matlab\", \"java\", \"c\", \"c++\", \"ruby\", \"scala\"], \"ages for school\": {\"primary school\": 6, \"middle school\": 9, \"high school\": 15, \"university\": 18}, \"hobby\": [\"sports\", \"reading\"], \"married\": false}\n"
     ]
    }
   ],
   "source": [
    "with open(\"info.json\") as f:\n",
    "    print(f.read())"
   ]
  },
  {
   "cell_type": "markdown",
   "id": "1e6daad4",
   "metadata": {},
   "source": [
    "读JSON文件："
   ]
  },
  {
   "cell_type": "code",
   "execution_count": 11,
   "id": "05fec9f0",
   "metadata": {
    "ExecuteTime": {
     "end_time": "2023-11-14T11:20:40.163379300Z",
     "start_time": "2023-11-14T11:20:40.143599400Z"
    }
   },
   "outputs": [],
   "source": [
    "with open(\"info.json\") as f:\n",
    "    info = json.load(f)"
   ]
  },
  {
   "cell_type": "code",
   "execution_count": 12,
   "id": "f8b762b1",
   "metadata": {
    "ExecuteTime": {
     "end_time": "2023-11-14T11:20:42.017977300Z",
     "start_time": "2023-11-14T11:20:41.992565300Z"
    }
   },
   "outputs": [
    {
     "data": {
      "text/plain": "{'name': 'echo',\n 'age': 24,\n 'coding skills': ['python', 'matlab', 'java', 'c', 'c++', 'ruby', 'scala'],\n 'ages for school': {'primary school': 6,\n  'middle school': 9,\n  'high school': 15,\n  'university': 18},\n 'hobby': ['sports', 'reading'],\n 'married': False}"
     },
     "execution_count": 12,
     "metadata": {},
     "output_type": "execute_result"
    }
   ],
   "source": [
    "info"
   ]
  },
  {
   "cell_type": "code",
   "execution_count": 21,
   "outputs": [
    {
     "name": "stdout",
     "output_type": "stream",
     "text": [
      "{'name': 'echo', 'age': 24, 'coding skills': ['python', 'matlab', 'java', 'c', 'c++', 'ruby', 'scala'], 'ages for school': {'primary school': 6, 'middle school': 9, 'high school': 15, 'university': 18}, 'hobby': ['sports', 'reading'], 'married': False}\n"
     ]
    },
    {
     "data": {
      "text/plain": "'echo'"
     },
     "execution_count": 21,
     "metadata": {},
     "output_type": "execute_result"
    }
   ],
   "source": [
    "print(data)\n",
    "data['name']"
   ],
   "metadata": {
    "collapsed": false,
    "ExecuteTime": {
     "end_time": "2023-11-14T11:22:57.842118900Z",
     "start_time": "2023-11-14T11:22:57.820749500Z"
    }
   },
   "id": "95f641ab3259ffd8"
  },
  {
   "cell_type": "markdown",
   "id": "99779d2b",
   "metadata": {},
   "source": [
    "删除临时文件："
   ]
  },
  {
   "cell_type": "code",
   "execution_count": 24,
   "id": "32ffb617",
   "metadata": {
    "ExecuteTime": {
     "end_time": "2023-11-14T11:23:44.147466700Z",
     "start_time": "2023-11-14T11:23:44.129807700Z"
    }
   },
   "outputs": [
    {
     "name": "stdout",
     "output_type": "stream",
     "text": [
      "File not found.\n"
     ]
    }
   ],
   "source": [
    "# %rm info.json\n",
    "import os\n",
    "try:\n",
    "    os.remove(\"info.json\")\n",
    "except FileNotFoundError:\n",
    "    print(\"File not found.\")"
   ]
  }
 ],
 "metadata": {
  "kernelspec": {
   "display_name": "Python 3 (ipykernel)",
   "language": "python",
   "name": "python3"
  },
  "language_info": {
   "codemirror_mode": {
    "name": "ipython",
    "version": 3
   },
   "file_extension": ".py",
   "mimetype": "text/x-python",
   "name": "python",
   "nbconvert_exporter": "python",
   "pygments_lexer": "ipython3",
   "version": "3.9.10"
  }
 },
 "nbformat": 4,
 "nbformat_minor": 5
}
