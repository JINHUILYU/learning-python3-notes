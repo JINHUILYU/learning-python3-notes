{
 "cells": [
  {
   "cell_type": "markdown",
   "id": "367b1906",
   "metadata": {},
   "source": [
    "# 模块os：与操作系统进行交互"
   ]
  },
  {
   "cell_type": "code",
   "execution_count": 1,
   "id": "6e43f203",
   "metadata": {
    "ExecuteTime": {
     "end_time": "2023-11-14T11:10:17.639231900Z",
     "start_time": "2023-11-14T11:10:17.633223900Z"
    }
   },
   "outputs": [],
   "source": [
    "import os"
   ]
  },
  {
   "cell_type": "markdown",
   "id": "5e41003c",
   "metadata": {},
   "source": [
    "## 文件相关操作"
   ]
  },
  {
   "cell_type": "markdown",
   "id": "dc63fb5c",
   "metadata": {},
   "source": [
    "当前工作目录："
   ]
  },
  {
   "cell_type": "code",
   "execution_count": 2,
   "id": "659e2eaa",
   "metadata": {
    "ExecuteTime": {
     "end_time": "2023-11-14T11:10:20.200541200Z",
     "start_time": "2023-11-14T11:10:20.182261700Z"
    }
   },
   "outputs": [
    {
     "data": {
      "text/plain": "'E:\\\\Project\\\\learning-python3-notes\\\\ch05-Python标准库'"
     },
     "execution_count": 2,
     "metadata": {},
     "output_type": "execute_result"
    }
   ],
   "source": [
    "os.getcwd()  # get current working directory"
   ]
  },
  {
   "cell_type": "markdown",
   "id": "ad09ea7f",
   "metadata": {},
   "source": [
    "当前工作目录符号："
   ]
  },
  {
   "cell_type": "code",
   "execution_count": 3,
   "id": "d1efc1ce",
   "metadata": {
    "ExecuteTime": {
     "end_time": "2023-11-14T11:10:30.671653800Z",
     "start_time": "2023-11-14T11:10:30.651710600Z"
    }
   },
   "outputs": [
    {
     "data": {
      "text/plain": "'.'"
     },
     "execution_count": 3,
     "metadata": {},
     "output_type": "execute_result"
    }
   ],
   "source": [
    "os.curdir"
   ]
  },
  {
   "cell_type": "markdown",
   "id": "973b6abd",
   "metadata": {},
   "source": [
    "当前目录下得的文件："
   ]
  },
  {
   "cell_type": "code",
   "execution_count": 16,
   "id": "45839732",
   "metadata": {
    "ExecuteTime": {
     "end_time": "2023-11-14T11:24:06.636647100Z",
     "start_time": "2023-11-14T11:24:06.619073500Z"
    }
   },
   "outputs": [
    {
     "data": {
      "text/plain": "['05-01模块sys：系统相关.ipynb',\n '05-02模块os：与操作系统进行交互.ipynb',\n '05-03模块re：正则表达式.ipynb',\n '05-04模块datetime：日期时间.ipynb',\n '05-05模块json：处理JSON数据.ipynb',\n '05-06模块glob：文件模式匹配.ipynb',\n '05-07模块math：数学.ipynb',\n '05-08模块random：随机数.ipynb',\n '05-09模块pathlib：路径操作.ipynb']"
     },
     "execution_count": 16,
     "metadata": {},
     "output_type": "execute_result"
    }
   ],
   "source": [
    "os.listdir(os.curdir)"
   ]
  },
  {
   "cell_type": "markdown",
   "id": "ac75c1c5",
   "metadata": {},
   "source": [
    "生成一个新文件："
   ]
  },
  {
   "cell_type": "code",
   "execution_count": 5,
   "id": "d8490e61",
   "metadata": {
    "ExecuteTime": {
     "end_time": "2023-11-14T11:10:56.256828900Z",
     "start_time": "2023-11-14T11:10:56.239305Z"
    }
   },
   "outputs": [],
   "source": [
    "with open(\"test.file\", \"w\") as f:\n",
    "    pass"
   ]
  },
  {
   "cell_type": "code",
   "execution_count": 6,
   "id": "0b669f68",
   "metadata": {
    "ExecuteTime": {
     "end_time": "2023-11-14T11:10:58.229613700Z",
     "start_time": "2023-11-14T11:10:58.212407100Z"
    }
   },
   "outputs": [
    {
     "data": {
      "text/plain": "True"
     },
     "execution_count": 6,
     "metadata": {},
     "output_type": "execute_result"
    }
   ],
   "source": [
    "\"test.file\" in os.listdir(os.curdir)"
   ]
  },
  {
   "cell_type": "markdown",
   "id": "a65854c3",
   "metadata": {},
   "source": [
    "重命名文件："
   ]
  },
  {
   "cell_type": "code",
   "execution_count": 8,
   "id": "0f68dfcd",
   "metadata": {
    "ExecuteTime": {
     "end_time": "2023-11-14T11:11:07.043955500Z",
     "start_time": "2023-11-14T11:11:07.026428800Z"
    }
   },
   "outputs": [],
   "source": [
    "os.rename(\"test.file\", \"test.file.new\")"
   ]
  },
  {
   "cell_type": "code",
   "execution_count": 9,
   "id": "029a32c1",
   "metadata": {
    "ExecuteTime": {
     "end_time": "2023-11-14T11:11:08.148096Z",
     "start_time": "2023-11-14T11:11:08.131075300Z"
    }
   },
   "outputs": [
    {
     "data": {
      "text/plain": "False"
     },
     "execution_count": 9,
     "metadata": {},
     "output_type": "execute_result"
    }
   ],
   "source": [
    "\"test.file\" in os.listdir(os.curdir)"
   ]
  },
  {
   "cell_type": "code",
   "execution_count": 10,
   "id": "82c25fa8",
   "metadata": {
    "ExecuteTime": {
     "end_time": "2023-11-14T11:11:09.500252Z",
     "start_time": "2023-11-14T11:11:09.482264600Z"
    }
   },
   "outputs": [
    {
     "data": {
      "text/plain": "True"
     },
     "execution_count": 10,
     "metadata": {},
     "output_type": "execute_result"
    }
   ],
   "source": [
    "\"test.file.new\" in os.listdir(os.curdir)"
   ]
  },
  {
   "cell_type": "markdown",
   "id": "0ed254bb",
   "metadata": {},
   "source": [
    "删除文件："
   ]
  },
  {
   "cell_type": "code",
   "execution_count": 11,
   "id": "ba2c81c6",
   "metadata": {
    "ExecuteTime": {
     "end_time": "2023-11-14T11:11:12.769997500Z",
     "start_time": "2023-11-14T11:11:12.752982700Z"
    }
   },
   "outputs": [],
   "source": [
    "os.remove(\"test.file.new\")"
   ]
  },
  {
   "cell_type": "markdown",
   "id": "8f19dafe",
   "metadata": {},
   "source": [
    "## 系统常量"
   ]
  },
  {
   "cell_type": "markdown",
   "id": "8f34c7c4",
   "metadata": {},
   "source": [
    "当前操作系统的换行符："
   ]
  },
  {
   "cell_type": "code",
   "execution_count": 12,
   "id": "1a9f327d",
   "metadata": {
    "ExecuteTime": {
     "end_time": "2023-11-14T11:11:16.945337200Z",
     "start_time": "2023-11-14T11:11:16.913849500Z"
    }
   },
   "outputs": [
    {
     "data": {
      "text/plain": "'\\r\\n'"
     },
     "execution_count": 12,
     "metadata": {},
     "output_type": "execute_result"
    }
   ],
   "source": [
    "os.linesep"
   ]
  },
  {
   "cell_type": "markdown",
   "id": "59b11639",
   "metadata": {},
   "source": [
    "当前操作系统的路径分隔符："
   ]
  },
  {
   "cell_type": "code",
   "execution_count": 13,
   "id": "8f6ca52b",
   "metadata": {
    "ExecuteTime": {
     "end_time": "2023-11-14T11:11:28.120905800Z",
     "start_time": "2023-11-14T11:11:28.104591500Z"
    }
   },
   "outputs": [
    {
     "data": {
      "text/plain": "'\\\\'"
     },
     "execution_count": 13,
     "metadata": {},
     "output_type": "execute_result"
    }
   ],
   "source": [
    "os.sep"
   ]
  },
  {
   "cell_type": "markdown",
   "id": "c43a76e8",
   "metadata": {},
   "source": [
    "当前操作系统的环境变量PATH中的分隔符："
   ]
  },
  {
   "cell_type": "code",
   "execution_count": 14,
   "id": "a71790d1",
   "metadata": {
    "ExecuteTime": {
     "end_time": "2023-11-14T11:11:34.020780500Z",
     "start_time": "2023-11-14T11:11:33.988295Z"
    }
   },
   "outputs": [
    {
     "data": {
      "text/plain": "';'"
     },
     "execution_count": 14,
     "metadata": {},
     "output_type": "execute_result"
    }
   ],
   "source": [
    "os.pathsep"
   ]
  },
  {
   "cell_type": "markdown",
   "id": "6558a0b8",
   "metadata": {},
   "source": [
    "环境变量："
   ]
  },
  {
   "cell_type": "code",
   "execution_count": 15,
   "id": "512d3481",
   "metadata": {
    "ExecuteTime": {
     "end_time": "2023-11-14T11:11:38.063424Z",
     "start_time": "2023-11-14T11:11:38.046004300Z"
    }
   },
   "outputs": [
    {
     "data": {
      "text/plain": "environ{'ALLUSERSPROFILE': 'C:\\\\ProgramData',\n        'AMDRMSDKPATH': 'C:\\\\Program Files\\\\AMD\\\\RyzenMasterSDK\\\\',\n        'APPDATA': 'C:\\\\Users\\\\28277\\\\AppData\\\\Roaming',\n        'CARGO_HOME': 'C:\\\\Users\\\\28277\\\\.cargo',\n        'CLION': 'C:\\\\Program Files\\\\JetBrains\\\\CLion 2023.2.2\\\\bin;',\n        'COMMONPROGRAMFILES': 'C:\\\\Program Files\\\\Common Files',\n        'COMMONPROGRAMFILES(X86)': 'C:\\\\Program Files (x86)\\\\Common Files',\n        'COMMONPROGRAMW6432': 'C:\\\\Program Files\\\\Common Files',\n        'COMPUTERNAME': 'LYU',\n        'COMSPEC': 'C:\\\\WINDOWS\\\\system32\\\\cmd.exe',\n        'CONDA_DEFAULT_ENV': 'base',\n        'CONDA_PREFIX': 'C:\\\\ProgramData\\\\anaconda3',\n        'CONDA_PROMPT_MODIFIER': '(base) ',\n        'CONDA_SHLVL': '1',\n        'DRIVERDATA': 'C:\\\\Windows\\\\System32\\\\Drivers\\\\DriverData',\n        'EFC_7752': '1',\n        'HOMEDRIVE': 'C:',\n        'HOMEPATH': '\\\\Users\\\\28277',\n        'IDEA_INITIAL_DIRECTORY': 'C:\\\\Program Files\\\\JetBrains\\\\PyCharm 2023.2.3\\\\bin',\n        'LANG': 'en_US.UTF-8',\n        'LANGUAGE': '',\n        'LC_ALL': 'en_US.UTF-8',\n        'LOCALAPPDATA': 'C:\\\\Users\\\\28277\\\\AppData\\\\Local',\n        'LOGONSERVER': '\\\\\\\\LYU',\n        'MGLS_LICENSE_FILE': 'C:\\\\modeltech64_10.5\\\\LICENSE.TXT',\n        'NUMBER_OF_PROCESSORS': '12',\n        'ONEDRIVE': 'C:\\\\Users\\\\28277\\\\OneDrive',\n        'OS': 'Windows_NT',\n        'PATH': 'C:\\\\ProgramData\\\\anaconda3;C:\\\\ProgramData\\\\anaconda3\\\\Library\\\\mingw-w64\\\\bin;C:\\\\ProgramData\\\\anaconda3\\\\Library\\\\usr\\\\bin;C:\\\\ProgramData\\\\anaconda3\\\\Library\\\\bin;C:\\\\ProgramData\\\\anaconda3\\\\Scripts;C:\\\\ProgramData\\\\anaconda3\\\\bin;C:\\\\ProgramData\\\\anaconda3\\\\condabin;C:\\\\Program Files (x86)\\\\Common Files\\\\Oracle\\\\Java\\\\javapath;C:\\\\WINDOWS\\\\system32;C:\\\\WINDOWS;C:\\\\WINDOWS\\\\System32\\\\Wbem;C:\\\\WINDOWS\\\\System32\\\\WindowsPowerShell\\\\v1.0;C:\\\\WINDOWS\\\\System32\\\\OpenSSH;C:\\\\Program Files\\\\Bandizip;C:\\\\Program Files\\\\Git\\\\cmd;C:\\\\MinGW\\\\bin;D:\\\\mingw64\\\\bin;C:\\\\Program Files\\\\dotnet;D:\\\\Program Files\\\\MATLAB\\\\R2023a\\\\runtime\\\\win64;D:\\\\Program Files\\\\MATLAB\\\\R2023a\\\\bin;C:\\\\ProgramData\\\\anaconda3\\\\Scripts;C:\\\\Users\\\\28277\\\\.cargo\\\\bin;C:\\\\Program Files (x86)\\\\Windows Kits\\\\10\\\\Windows Performance Toolkit;C:\\\\Users\\\\28277\\\\.cargo\\\\bin;C:\\\\Program Files (x86)\\\\GNU Arm Embedded Toolchain\\\\10 2021.10\\\\bin;C:\\\\Users\\\\28277\\\\AppData\\\\Local\\\\Microsoft\\\\WindowsApps;C:\\\\Program Files\\\\JetBrains\\\\CLion 2023.2.2\\\\bin;.;C:\\\\MinGW\\\\bin;D:\\\\Program Files\\\\Microsoft VS Code\\\\bin;C:\\\\modeltech64_10.5\\\\win64;C:\\\\Program Files\\\\JetBrains\\\\PyCharm 2023.2.3\\\\bin;.;C:\\\\ProgramData\\\\Anaconda3\\\\Library\\\\Bin',\n        'PATHEXT': '.COM;.EXE;.BAT;.CMD;.VBS;.VBE;.JS;.JSE;.WSF;.WSH;.MSC',\n        'PROCESSOR_ARCHITECTURE': 'AMD64',\n        'PROCESSOR_IDENTIFIER': 'AMD64 Family 25 Model 97 Stepping 2, AuthenticAMD',\n        'PROCESSOR_LEVEL': '25',\n        'PROCESSOR_REVISION': '6102',\n        'PROGRAMDATA': 'C:\\\\ProgramData',\n        'PROGRAMFILES': 'C:\\\\Program Files',\n        'PROGRAMFILES(X86)': 'C:\\\\Program Files (x86)',\n        'PROGRAMW6432': 'C:\\\\Program Files',\n        'PROMPT': '(base) $P$G',\n        'PSMODULEPATH': 'C:\\\\Program Files\\\\WindowsPowerShell\\\\Modules;C:\\\\WINDOWS\\\\system32\\\\WindowsPowerShell\\\\v1.0\\\\Modules',\n        'PUBLIC': 'C:\\\\Users\\\\Public',\n        'PYCHARM': 'C:\\\\Program Files\\\\JetBrains\\\\PyCharm 2023.2.3\\\\bin;',\n        'PYTHONPATH': 'E:\\\\Project\\\\learning-python3-notes',\n        'RUSTUP_DIST_ROOT': 'https://mirrors.ustc.edu.cn/rust-static/rustup',\n        'RUSTUP_DIST_SERVER': 'https://mirrors.ustc.edu.cn/rust-static',\n        'RUSTUP_HOME': 'C:\\\\Users\\\\28277\\\\.rustup',\n        'SESSIONNAME': 'Console',\n        'STM32CUBEMX_PATH': 'C:\\\\Program Files\\\\STMicroelectronics\\\\STM32Cube\\\\STM32CubeMX',\n        'SYSTEMDRIVE': 'C:',\n        'SYSTEMROOT': 'C:\\\\WINDOWS',\n        'TEMP': 'C:\\\\Users\\\\28277\\\\AppData\\\\Local\\\\Temp',\n        'TMP': 'C:\\\\Users\\\\28277\\\\AppData\\\\Local\\\\Temp',\n        'USERDOMAIN': 'LYU',\n        'USERDOMAIN_ROAMINGPROFILE': 'LYU',\n        'USERNAME': 'JH',\n        'USERPROFILE': 'C:\\\\Users\\\\28277',\n        'WINDIR': 'C:\\\\WINDOWS',\n        'PYDEVD_USE_FRAME_EVAL': 'NO',\n        'JPY_INTERRUPT_EVENT': '8040',\n        'IPY_INTERRUPT_EVENT': '8040',\n        'JPY_PARENT_PID': '7688',\n        'TERM': 'xterm-color',\n        'CLICOLOR': '1',\n        'FORCE_COLOR': '1',\n        'CLICOLOR_FORCE': '1',\n        'PAGER': 'cat',\n        'GIT_PAGER': 'cat',\n        'MPLBACKEND': 'module://matplotlib_inline.backend_inline'}"
     },
     "execution_count": 15,
     "metadata": {},
     "output_type": "execute_result"
    }
   ],
   "source": [
    "os.environ"
   ]
  },
  {
   "attachments": {},
   "cell_type": "markdown",
   "id": "f6396792",
   "metadata": {},
   "source": [
    "## os.path模块\n",
    "\n",
    "在不同的操作系统下进行操作时，不同的路径规范可能会带来一定的麻烦。Python提供了os.path子模块解决这个问题。\n",
    "\n",
    "os.path是os模块下的一个子模块，它有很多与路径相关的功能，比如对文件路径属性的判断：\n",
    "- `os.path.isfile(path)`：检测路径是否为文件。\n",
    "- `os.path.isdir(path)`：检测路径是否为文件夹。\n",
    "- `os.path.exists(path)`：检测路径是否存在。\n",
    "- `os.path.isabs(path)`：检测路径是否为绝对路径。\n",
    "\n",
    "os.path模块最主要的功能还是路径分隔符相关的操作。\n",
    "Window的路径分隔符是“\\”，而Linux/Mac的路径分隔符是“/”，需要合成或者分开路径时，不同的操作系统下所产生的路径不同，可以用os.path模块统一解决这个问题：\n",
    "\n",
    "- `os.path.join(a, *p)`：使用系统分隔符，将各个部分合并为一个路径。\n",
    "- `os.path.join(a, *p)`：使用系统分隔符，将各个部分合并为一个路径。\n",
    "\n",
    "例如，os.path.join(\"test\", \"a.txt\")在Windows系统下会变成：\n",
    "```\n",
    "test\\a.txt\n",
    "```\n",
    "在Linux/Mac系统下会变成\n",
    "```\n",
    "test/a.txt\n",
    "```"
   ]
  }
 ],
 "metadata": {
  "kernelspec": {
   "display_name": "Python 3 (ipykernel)",
   "language": "python",
   "name": "python3"
  },
  "language_info": {
   "codemirror_mode": {
    "name": "ipython",
    "version": 3
   },
   "file_extension": ".py",
   "mimetype": "text/x-python",
   "name": "python",
   "nbconvert_exporter": "python",
   "pygments_lexer": "ipython3",
   "version": "3.9.10"
  }
 },
 "nbformat": 4,
 "nbformat_minor": 5
}
