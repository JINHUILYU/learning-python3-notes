{
 "cells": [
  {
   "cell_type": "markdown",
   "id": "31d3ecd0",
   "metadata": {},
   "source": [
    "## 数组操作\n",
    "\n",
    "### 数值相关的操作\n",
    "\n",
    "可以使用`.sum()`方法进行求和："
   ]
  },
  {
   "cell_type": "code",
   "execution_count": 1,
   "id": "5028ed9e",
   "metadata": {
    "ExecuteTime": {
     "end_time": "2023-11-14T11:46:30.640229700Z",
     "start_time": "2023-11-14T11:46:30.574697900Z"
    }
   },
   "outputs": [],
   "source": [
    "import numpy as np"
   ]
  },
  {
   "cell_type": "code",
   "execution_count": 2,
   "id": "6de37650",
   "metadata": {
    "ExecuteTime": {
     "end_time": "2023-11-14T11:46:32.221442400Z",
     "start_time": "2023-11-14T11:46:32.195331400Z"
    }
   },
   "outputs": [],
   "source": [
    "a = np.array([[1, 2, 3], [4, 5, 6]])"
   ]
  },
  {
   "cell_type": "code",
   "execution_count": 7,
   "id": "f40ac54b",
   "metadata": {
    "ExecuteTime": {
     "end_time": "2023-11-14T11:49:55.421971100Z",
     "start_time": "2023-11-14T11:49:55.393932900Z"
    }
   },
   "outputs": [
    {
     "name": "stdout",
     "output_type": "stream",
     "text": [
      "[[1 2 3]\n",
      " [4 5 6]]\n"
     ]
    }
   ],
   "source": [
    "print(a)"
   ]
  },
  {
   "cell_type": "code",
   "execution_count": 8,
   "id": "426a82c2",
   "metadata": {
    "ExecuteTime": {
     "end_time": "2023-11-14T11:50:01.296370500Z",
     "start_time": "2023-11-14T11:50:01.267569Z"
    }
   },
   "outputs": [
    {
     "data": {
      "text/plain": "21"
     },
     "execution_count": 8,
     "metadata": {},
     "output_type": "execute_result"
    }
   ],
   "source": [
    "a.sum()"
   ]
  },
  {
   "cell_type": "markdown",
   "id": "ea8c4a75",
   "metadata": {},
   "source": [
    "默认对所有元素求和，可以通过`axis`参数指定求和维度："
   ]
  },
  {
   "cell_type": "code",
   "execution_count": 9,
   "id": "1a33c8a9",
   "metadata": {
    "ExecuteTime": {
     "end_time": "2023-11-14T11:50:10.381994700Z",
     "start_time": "2023-11-14T11:50:10.337587400Z"
    }
   },
   "outputs": [
    {
     "name": "stdout",
     "output_type": "stream",
     "text": [
      "[5 7 9]\n"
     ]
    }
   ],
   "source": [
    "print(a.sum(axis=0))"
   ]
  },
  {
   "cell_type": "code",
   "execution_count": 12,
   "id": "32d8fbc7",
   "metadata": {
    "ExecuteTime": {
     "end_time": "2023-11-14T11:50:36.342532500Z",
     "start_time": "2023-11-14T11:50:36.305428900Z"
    }
   },
   "outputs": [
    {
     "data": {
      "text/plain": "array([ 6, 15])"
     },
     "execution_count": 12,
     "metadata": {},
     "output_type": "execute_result"
    }
   ],
   "source": [
    "a.sum(axis=1)"
   ]
  },
  {
   "cell_type": "code",
   "execution_count": 20,
   "outputs": [
    {
     "name": "stdout",
     "output_type": "stream",
     "text": [
      "[1 2] [1 2]\n"
     ]
    },
    {
     "data": {
      "text/plain": "(array([ True,  True]), False, (2,), (2,))"
     },
     "execution_count": 20,
     "metadata": {},
     "output_type": "execute_result"
    }
   ],
   "source": [
    "arr = np.array([1, 2])\n",
    "arrT = arr.T\n",
    "print(arr, arrT)\n",
    "arr == arrT, arr is arrT, arr.shape, arrT.shape  # arrT是arr的转置"
   ],
   "metadata": {
    "collapsed": false,
    "ExecuteTime": {
     "end_time": "2023-11-14T11:55:23.639781200Z",
     "start_time": "2023-11-14T11:55:23.608512500Z"
    }
   },
   "id": "799d6423e210829b"
  },
  {
   "cell_type": "markdown",
   "id": "46226450",
   "metadata": {},
   "source": [
    "指定维度时，相当于沿着指定的维度进行求和，因此，对于形状为(2,3)的数组，指定第0维会将第0维消去，得到形状为(3,)的数组，指定第1维会将第1维消去，得到形状为(2,)的数组。\n",
    "\n",
    "与之对应还有个`np.sum()`函数，得到相同的操作结果："
   ]
  },
  {
   "cell_type": "code",
   "execution_count": 21,
   "id": "1f81abf2",
   "metadata": {
    "ExecuteTime": {
     "end_time": "2023-11-14T11:55:44.206382800Z",
     "start_time": "2023-11-14T11:55:44.157229300Z"
    }
   },
   "outputs": [
    {
     "data": {
      "text/plain": "21"
     },
     "execution_count": 21,
     "metadata": {},
     "output_type": "execute_result"
    }
   ],
   "source": [
    "np.sum(a)"
   ]
  },
  {
   "cell_type": "markdown",
   "id": "df25459f",
   "metadata": {},
   "source": [
    "该函数可以作用在与数组类似的对象上："
   ]
  },
  {
   "cell_type": "code",
   "execution_count": 22,
   "id": "6483a601",
   "metadata": {
    "ExecuteTime": {
     "end_time": "2023-11-14T11:56:03.560054200Z",
     "start_time": "2023-11-14T11:56:03.514468900Z"
    }
   },
   "outputs": [
    {
     "data": {
      "text/plain": "21"
     },
     "execution_count": 22,
     "metadata": {},
     "output_type": "execute_result"
    }
   ],
   "source": [
    "np.sum([[1, 2, 3], [4, 5, 6]])"
   ]
  },
  {
   "cell_type": "markdown",
   "id": "ce12f9c3",
   "metadata": {},
   "source": [
    "`.prod()`方法和`np.prod()`函数可以实现求积操作，与`.sum()`方法类似："
   ]
  },
  {
   "cell_type": "code",
   "execution_count": 23,
   "id": "e65e352c",
   "metadata": {
    "ExecuteTime": {
     "end_time": "2023-11-14T11:56:06.425534200Z",
     "start_time": "2023-11-14T11:56:06.392967600Z"
    }
   },
   "outputs": [
    {
     "data": {
      "text/plain": "720"
     },
     "execution_count": 23,
     "metadata": {},
     "output_type": "execute_result"
    }
   ],
   "source": [
    "a.prod()"
   ]
  },
  {
   "cell_type": "code",
   "execution_count": 24,
   "id": "882fe4d9",
   "metadata": {
    "ExecuteTime": {
     "end_time": "2023-11-14T11:56:18.801145700Z",
     "start_time": "2023-11-14T11:56:18.772508700Z"
    }
   },
   "outputs": [
    {
     "data": {
      "text/plain": "(array([[1, 2, 3],\n        [4, 5, 6]]),\n array([  6, 120]))"
     },
     "execution_count": 24,
     "metadata": {},
     "output_type": "execute_result"
    }
   ],
   "source": [
    "a, np.prod(a, axis=1)"
   ]
  },
  {
   "cell_type": "markdown",
   "id": "68454429",
   "metadata": {},
   "source": [
    "`.max()`和`.min()`函数可以实现求最值的操作，也支持指定维度："
   ]
  },
  {
   "cell_type": "code",
   "execution_count": 25,
   "id": "0b1b0ab8",
   "metadata": {
    "ExecuteTime": {
     "end_time": "2023-11-14T11:56:51.920656500Z",
     "start_time": "2023-11-14T11:56:51.893620100Z"
    }
   },
   "outputs": [
    {
     "data": {
      "text/plain": "6"
     },
     "execution_count": 25,
     "metadata": {},
     "output_type": "execute_result"
    }
   ],
   "source": [
    "a.max()"
   ]
  },
  {
   "cell_type": "code",
   "execution_count": 26,
   "id": "80277d1e",
   "metadata": {
    "ExecuteTime": {
     "end_time": "2023-11-14T11:56:54.161998100Z",
     "start_time": "2023-11-14T11:56:54.135961700Z"
    }
   },
   "outputs": [
    {
     "data": {
      "text/plain": "1"
     },
     "execution_count": 26,
     "metadata": {},
     "output_type": "execute_result"
    }
   ],
   "source": [
    "a.min()"
   ]
  },
  {
   "cell_type": "code",
   "execution_count": 27,
   "id": "8aaf8be6",
   "metadata": {
    "ExecuteTime": {
     "end_time": "2023-11-14T11:57:18.550275500Z",
     "start_time": "2023-11-14T11:57:18.522505900Z"
    }
   },
   "outputs": [
    {
     "data": {
      "text/plain": "array([3, 6])"
     },
     "execution_count": 27,
     "metadata": {},
     "output_type": "execute_result"
    }
   ],
   "source": [
    "a.max(axis=-1)"
   ]
  },
  {
   "cell_type": "code",
   "execution_count": 28,
   "id": "fa70eaac",
   "metadata": {
    "ExecuteTime": {
     "end_time": "2023-11-14T11:57:40.017102300Z",
     "start_time": "2023-11-14T11:57:39.989257600Z"
    }
   },
   "outputs": [
    {
     "data": {
      "text/plain": "array([1, 2, 3])"
     },
     "execution_count": 28,
     "metadata": {},
     "output_type": "execute_result"
    }
   ],
   "source": [
    "a.min(axis=0)"
   ]
  },
  {
   "attachments": {},
   "cell_type": "markdown",
   "id": "4178efcc",
   "metadata": {},
   "source": [
    "对应的函数形式分别为`np.max()`和`np.min()`。\n",
    "\n",
    "`.argmax()`和`.argmin()`函数可以分别返回最大值和最小值的位置："
   ]
  },
  {
   "cell_type": "code",
   "execution_count": 29,
   "id": "60860b02",
   "metadata": {
    "ExecuteTime": {
     "end_time": "2023-11-14T11:57:43.344171200Z",
     "start_time": "2023-11-14T11:57:43.315290Z"
    }
   },
   "outputs": [
    {
     "data": {
      "text/plain": "5"
     },
     "execution_count": 29,
     "metadata": {},
     "output_type": "execute_result"
    }
   ],
   "source": [
    "a.argmax()"
   ]
  },
  {
   "cell_type": "markdown",
   "id": "fa89c535",
   "metadata": {},
   "source": [
    "a是一个(2,3)的数组，索引5是不存在的，`.argmax()`方法返回的是将a看成一维数组时最大值的位置。"
   ]
  },
  {
   "attachments": {},
   "cell_type": "markdown",
   "id": "04b15a50",
   "metadata": {},
   "source": [
    "指定维度时，它返回的是对应维度中最值的位置："
   ]
  },
  {
   "cell_type": "code",
   "execution_count": 30,
   "id": "eb05485c",
   "metadata": {
    "ExecuteTime": {
     "end_time": "2023-11-14T11:57:51.204122200Z",
     "start_time": "2023-11-14T11:57:51.174548800Z"
    }
   },
   "outputs": [
    {
     "data": {
      "text/plain": "array([0, 0, 0], dtype=int64)"
     },
     "execution_count": 30,
     "metadata": {},
     "output_type": "execute_result"
    }
   ],
   "source": [
    "a.argmin(axis=0)"
   ]
  },
  {
   "cell_type": "markdown",
   "id": "10fd80d4",
   "metadata": {},
   "source": [
    "对应的函数形式分别为`np.argmax()`和`np.argmin()`。\n",
    "\n",
    "均值`.mean()`方法和`np.mean()`函数："
   ]
  },
  {
   "cell_type": "code",
   "execution_count": 31,
   "id": "b85046e0",
   "metadata": {
    "ExecuteTime": {
     "end_time": "2023-11-14T11:57:55.033688800Z",
     "start_time": "2023-11-14T11:57:55.005406200Z"
    }
   },
   "outputs": [
    {
     "data": {
      "text/plain": "3.5"
     },
     "execution_count": 31,
     "metadata": {},
     "output_type": "execute_result"
    }
   ],
   "source": [
    "a.mean()"
   ]
  },
  {
   "cell_type": "code",
   "execution_count": 32,
   "id": "329a5e7e",
   "metadata": {
    "ExecuteTime": {
     "end_time": "2023-11-14T11:57:58.192025100Z",
     "start_time": "2023-11-14T11:57:58.164088100Z"
    }
   },
   "outputs": [
    {
     "data": {
      "text/plain": "array([2., 5.])"
     },
     "execution_count": 32,
     "metadata": {},
     "output_type": "execute_result"
    }
   ],
   "source": [
    "a.mean(axis=1)"
   ]
  },
  {
   "cell_type": "markdown",
   "id": "a6e6d48c",
   "metadata": {},
   "source": [
    "标准差`.std()`方法和`np.std()`函数，方差`.var()`方法和`np.var()`函数："
   ]
  },
  {
   "cell_type": "code",
   "execution_count": 33,
   "id": "f6ede216",
   "metadata": {
    "ExecuteTime": {
     "end_time": "2023-11-14T11:58:01.831209600Z",
     "start_time": "2023-11-14T11:58:01.804388200Z"
    }
   },
   "outputs": [
    {
     "data": {
      "text/plain": "1.707825127659933"
     },
     "execution_count": 33,
     "metadata": {},
     "output_type": "execute_result"
    }
   ],
   "source": [
    "a.std()"
   ]
  },
  {
   "cell_type": "code",
   "execution_count": 34,
   "id": "e3ce30f8",
   "metadata": {
    "ExecuteTime": {
     "end_time": "2023-11-14T11:58:04.177460900Z",
     "start_time": "2023-11-14T11:58:04.134018200Z"
    }
   },
   "outputs": [
    {
     "data": {
      "text/plain": "array([0.81649658, 0.81649658])"
     },
     "execution_count": 34,
     "metadata": {},
     "output_type": "execute_result"
    }
   ],
   "source": [
    "a.std(axis=1)"
   ]
  },
  {
   "cell_type": "code",
   "execution_count": 35,
   "id": "37703dfe",
   "metadata": {
    "ExecuteTime": {
     "end_time": "2023-11-14T11:58:07.431474300Z",
     "start_time": "2023-11-14T11:58:07.403119800Z"
    }
   },
   "outputs": [
    {
     "data": {
      "text/plain": "2.9166666666666665"
     },
     "execution_count": 35,
     "metadata": {},
     "output_type": "execute_result"
    }
   ],
   "source": [
    "a.var()"
   ]
  },
  {
   "attachments": {},
   "cell_type": "markdown",
   "id": "0c96ffbc",
   "metadata": {},
   "source": [
    "`.round()`方法会将数组近似到整数："
   ]
  },
  {
   "cell_type": "code",
   "execution_count": 38,
   "id": "71415f45",
   "metadata": {
    "ExecuteTime": {
     "end_time": "2023-11-14T11:58:37.031205600Z",
     "start_time": "2023-11-14T11:58:36.993983700Z"
    }
   },
   "outputs": [],
   "source": [
    "a = np.array([1.35, 2.56, 1.5, 3.1])"
   ]
  },
  {
   "cell_type": "code",
   "execution_count": 39,
   "id": "17b4d9c8",
   "metadata": {
    "ExecuteTime": {
     "end_time": "2023-11-14T11:58:39.398391Z",
     "start_time": "2023-11-14T11:58:39.368477500Z"
    }
   },
   "outputs": [
    {
     "data": {
      "text/plain": "array([1., 3., 2., 3.])"
     },
     "execution_count": 39,
     "metadata": {},
     "output_type": "execute_result"
    }
   ],
   "source": [
    "a.round()"
   ]
  },
  {
   "cell_type": "markdown",
   "id": "2a6f60fd",
   "metadata": {},
   "source": [
    "### 形状相关的操作"
   ]
  },
  {
   "cell_type": "markdown",
   "id": "6f35f5cc",
   "metadata": {},
   "source": [
    "使用`.shape`属性可以直接修改数组的形状："
   ]
  },
  {
   "cell_type": "code",
   "execution_count": 40,
   "id": "6bceffa4",
   "metadata": {
    "ExecuteTime": {
     "end_time": "2023-11-14T11:58:58.425970800Z",
     "start_time": "2023-11-14T11:58:58.396398Z"
    }
   },
   "outputs": [],
   "source": [
    "a = np.array([8, 6, 5, 7, 1, 4, 2, 3])"
   ]
  },
  {
   "cell_type": "code",
   "execution_count": 41,
   "id": "f81099f5",
   "metadata": {
    "ExecuteTime": {
     "end_time": "2023-11-14T11:58:59.821208Z",
     "start_time": "2023-11-14T11:58:59.791038600Z"
    }
   },
   "outputs": [
    {
     "data": {
      "text/plain": "(8,)"
     },
     "execution_count": 41,
     "metadata": {},
     "output_type": "execute_result"
    }
   ],
   "source": [
    "a.shape"
   ]
  },
  {
   "cell_type": "code",
   "execution_count": 42,
   "id": "ce8815aa",
   "metadata": {
    "ExecuteTime": {
     "end_time": "2023-11-14T11:59:05.729508100Z",
     "start_time": "2023-11-14T11:59:05.702885300Z"
    }
   },
   "outputs": [
    {
     "data": {
      "text/plain": "array([8, 6, 5, 7, 1, 4, 2, 3])"
     },
     "execution_count": 42,
     "metadata": {},
     "output_type": "execute_result"
    }
   ],
   "source": [
    "a"
   ]
  },
  {
   "cell_type": "code",
   "execution_count": 43,
   "id": "b5a5d96f",
   "metadata": {
    "ExecuteTime": {
     "end_time": "2023-11-14T11:59:07.009234800Z",
     "start_time": "2023-11-14T11:59:06.978158100Z"
    }
   },
   "outputs": [],
   "source": [
    "a.shape = 2, 4"
   ]
  },
  {
   "cell_type": "code",
   "execution_count": 44,
   "id": "c5d1ab75",
   "metadata": {
    "ExecuteTime": {
     "end_time": "2023-11-14T11:59:09.594941900Z",
     "start_time": "2023-11-14T11:59:09.568616500Z"
    }
   },
   "outputs": [
    {
     "data": {
      "text/plain": "array([[8, 6, 5, 7],\n       [1, 4, 2, 3]])"
     },
     "execution_count": 44,
     "metadata": {},
     "output_type": "execute_result"
    }
   ],
   "source": [
    "a"
   ]
  },
  {
   "cell_type": "markdown",
   "id": "84f5a45f",
   "metadata": {},
   "source": [
    "可以使用`.reshape()`方法得到一个新数组，但是不改变原来的数组："
   ]
  },
  {
   "cell_type": "code",
   "execution_count": 45,
   "id": "ca3b263b",
   "metadata": {
    "ExecuteTime": {
     "end_time": "2023-11-14T11:59:12.605693700Z",
     "start_time": "2023-11-14T11:59:12.577037700Z"
    }
   },
   "outputs": [
    {
     "data": {
      "text/plain": "array([[8, 6],\n       [5, 7],\n       [1, 4],\n       [2, 3]])"
     },
     "execution_count": 45,
     "metadata": {},
     "output_type": "execute_result"
    }
   ],
   "source": [
    "a.reshape(4, 2)"
   ]
  },
  {
   "cell_type": "code",
   "execution_count": 46,
   "id": "3dbf40a9",
   "metadata": {
    "ExecuteTime": {
     "end_time": "2023-11-14T11:59:20.576329400Z",
     "start_time": "2023-11-14T11:59:20.546847500Z"
    }
   },
   "outputs": [
    {
     "data": {
      "text/plain": "array([[8, 6, 5, 7],\n       [1, 4, 2, 3]])"
     },
     "execution_count": 46,
     "metadata": {},
     "output_type": "execute_result"
    }
   ],
   "source": [
    "a"
   ]
  },
  {
   "cell_type": "markdown",
   "id": "5499d2c4",
   "metadata": {},
   "source": [
    "形状可以增加一个`-1`参数，当某个维度为`-1`时，`NumPy`会自动根据其他维度计算："
   ]
  },
  {
   "cell_type": "code",
   "execution_count": 47,
   "id": "5cc4530a",
   "metadata": {
    "ExecuteTime": {
     "end_time": "2023-11-14T11:59:31.430117700Z",
     "start_time": "2023-11-14T11:59:31.396069700Z"
    }
   },
   "outputs": [
    {
     "data": {
      "text/plain": "array([[8, 6],\n       [5, 7],\n       [1, 4],\n       [2, 3]])"
     },
     "execution_count": 47,
     "metadata": {},
     "output_type": "execute_result"
    }
   ],
   "source": [
    "a.reshape(-1, 2)"
   ]
  },
  {
   "cell_type": "markdown",
   "id": "4477605f",
   "metadata": {},
   "source": [
    "可以调用`.resize()`方法改变原来数组的形状："
   ]
  },
  {
   "cell_type": "code",
   "execution_count": 48,
   "id": "8f707b2a",
   "metadata": {
    "ExecuteTime": {
     "end_time": "2023-11-14T11:59:37.511167400Z",
     "start_time": "2023-11-14T11:59:37.480637600Z"
    }
   },
   "outputs": [],
   "source": [
    "a.resize(8)"
   ]
  },
  {
   "cell_type": "code",
   "execution_count": 49,
   "id": "1a56d62c",
   "metadata": {
    "ExecuteTime": {
     "end_time": "2023-11-14T11:59:38.387329100Z",
     "start_time": "2023-11-14T11:59:38.353139600Z"
    }
   },
   "outputs": [
    {
     "data": {
      "text/plain": "array([8, 6, 5, 7, 1, 4, 2, 3])"
     },
     "execution_count": 49,
     "metadata": {},
     "output_type": "execute_result"
    }
   ],
   "source": [
    "a"
   ]
  },
  {
   "cell_type": "markdown",
   "id": "73f1931c",
   "metadata": {},
   "source": [
    "`.resize()`方法不支持`-1`参数，但是支持形状不对应的修改，缺少的部分会补`0`："
   ]
  },
  {
   "cell_type": "code",
   "execution_count": 50,
   "id": "656cb5a2",
   "metadata": {
    "ExecuteTime": {
     "end_time": "2023-11-14T11:59:42.850263900Z",
     "start_time": "2023-11-14T11:59:42.822505800Z"
    }
   },
   "outputs": [],
   "source": [
    "b = np.array([1, 2, 3, 4, 5, 6, 7, 8])"
   ]
  },
  {
   "cell_type": "code",
   "execution_count": 51,
   "id": "1f4e84cb",
   "metadata": {
    "ExecuteTime": {
     "end_time": "2023-11-14T11:59:49.375501800Z",
     "start_time": "2023-11-14T11:59:49.341411800Z"
    }
   },
   "outputs": [],
   "source": [
    "b.resize(2, 5)"
   ]
  },
  {
   "cell_type": "code",
   "execution_count": 52,
   "id": "6767a811",
   "metadata": {
    "ExecuteTime": {
     "end_time": "2023-11-14T11:59:50.295693500Z",
     "start_time": "2023-11-14T11:59:50.260884800Z"
    }
   },
   "outputs": [
    {
     "data": {
      "text/plain": "array([[1, 2, 3, 4, 5],\n       [6, 7, 8, 0, 0]])"
     },
     "execution_count": 52,
     "metadata": {},
     "output_type": "execute_result"
    }
   ],
   "source": [
    "b"
   ]
  },
  {
   "attachments": {},
   "cell_type": "markdown",
   "id": "45767dcb",
   "metadata": {},
   "source": [
    "np.newaxis可以扩展数组的维度，通常配合索引使用，增加一个大小为1的新维度："
   ]
  },
  {
   "cell_type": "code",
   "execution_count": 53,
   "id": "1a9c98ec",
   "metadata": {
    "ExecuteTime": {
     "end_time": "2023-11-14T11:59:56.455878600Z",
     "start_time": "2023-11-14T11:59:56.427726100Z"
    }
   },
   "outputs": [],
   "source": [
    "a = np.arange(3)"
   ]
  },
  {
   "cell_type": "code",
   "execution_count": 54,
   "id": "6460cc7e",
   "metadata": {
    "ExecuteTime": {
     "end_time": "2023-11-14T11:59:57.375730100Z",
     "start_time": "2023-11-14T11:59:57.344176700Z"
    }
   },
   "outputs": [
    {
     "data": {
      "text/plain": "(3,)"
     },
     "execution_count": 54,
     "metadata": {},
     "output_type": "execute_result"
    }
   ],
   "source": [
    "a.shape"
   ]
  },
  {
   "cell_type": "code",
   "execution_count": 55,
   "id": "556789b5",
   "metadata": {
    "ExecuteTime": {
     "end_time": "2023-11-14T11:59:58.437207600Z",
     "start_time": "2023-11-14T11:59:58.408789600Z"
    }
   },
   "outputs": [
    {
     "data": {
      "text/plain": "array([[0, 1, 2]])"
     },
     "execution_count": 55,
     "metadata": {},
     "output_type": "execute_result"
    }
   ],
   "source": [
    "a[np.newaxis, :]"
   ]
  },
  {
   "cell_type": "code",
   "execution_count": 56,
   "id": "2295a437",
   "metadata": {
    "ExecuteTime": {
     "end_time": "2023-11-14T12:00:14.456448800Z",
     "start_time": "2023-11-14T12:00:14.421522400Z"
    }
   },
   "outputs": [
    {
     "data": {
      "text/plain": "(3,)"
     },
     "execution_count": 56,
     "metadata": {},
     "output_type": "execute_result"
    }
   ],
   "source": [
    "a.shape"
   ]
  },
  {
   "cell_type": "code",
   "execution_count": 57,
   "id": "745bdd49",
   "metadata": {
    "ExecuteTime": {
     "end_time": "2023-11-14T12:00:15.908265600Z",
     "start_time": "2023-11-14T12:00:15.877072200Z"
    }
   },
   "outputs": [
    {
     "data": {
      "text/plain": "array([[[0],\n        [1],\n        [2]]])"
     },
     "execution_count": 57,
     "metadata": {},
     "output_type": "execute_result"
    }
   ],
   "source": [
    "a[np.newaxis, :, np.newaxis]"
   ]
  },
  {
   "cell_type": "code",
   "execution_count": 58,
   "id": "82a4a6be",
   "metadata": {
    "ExecuteTime": {
     "end_time": "2023-11-14T12:00:19.366717300Z",
     "start_time": "2023-11-14T12:00:19.336606600Z"
    }
   },
   "outputs": [
    {
     "data": {
      "text/plain": "(3,)"
     },
     "execution_count": 58,
     "metadata": {},
     "output_type": "execute_result"
    }
   ],
   "source": [
    "a.shape"
   ]
  },
  {
   "attachments": {},
   "cell_type": "markdown",
   "id": "e0d5fda7",
   "metadata": {},
   "source": [
    "`np.newaxis`是`None`的别名，也可以直接使用`None`代替它："
   ]
  },
  {
   "cell_type": "code",
   "execution_count": 59,
   "id": "460d0fcc",
   "metadata": {
    "ExecuteTime": {
     "end_time": "2023-11-14T12:00:31.615862200Z",
     "start_time": "2023-11-14T12:00:31.588329700Z"
    }
   },
   "outputs": [
    {
     "data": {
      "text/plain": "True"
     },
     "execution_count": 59,
     "metadata": {},
     "output_type": "execute_result"
    }
   ],
   "source": [
    "np.newaxis is None"
   ]
  },
  {
   "cell_type": "markdown",
   "id": "5f03a582",
   "metadata": {},
   "source": [
    "`.squeeze()`方法返回一个去掉所有大小为1的维度的新数组，原数组不改变："
   ]
  },
  {
   "cell_type": "code",
   "execution_count": 60,
   "id": "716e9fda",
   "metadata": {
    "ExecuteTime": {
     "end_time": "2023-11-14T12:00:44.268156600Z",
     "start_time": "2023-11-14T12:00:44.236507700Z"
    }
   },
   "outputs": [],
   "source": [
    "a.shape = 1, 3, 1"
   ]
  },
  {
   "cell_type": "code",
   "execution_count": 61,
   "id": "82b40e16",
   "metadata": {
    "ExecuteTime": {
     "end_time": "2023-11-14T12:00:45.733675700Z",
     "start_time": "2023-11-14T12:00:45.704347Z"
    }
   },
   "outputs": [
    {
     "data": {
      "text/plain": "array([[[0],\n        [1],\n        [2]]])"
     },
     "execution_count": 61,
     "metadata": {},
     "output_type": "execute_result"
    }
   ],
   "source": [
    "a"
   ]
  },
  {
   "cell_type": "code",
   "execution_count": 64,
   "id": "44b0ef87",
   "metadata": {
    "ExecuteTime": {
     "end_time": "2023-11-14T12:01:26.234820200Z",
     "start_time": "2023-11-14T12:01:26.202462300Z"
    }
   },
   "outputs": [
    {
     "data": {
      "text/plain": "(array([0, 1, 2]), (3,))"
     },
     "execution_count": 64,
     "metadata": {},
     "output_type": "execute_result"
    }
   ],
   "source": [
    "a.squeeze(), a.squeeze().shape"
   ]
  },
  {
   "cell_type": "code",
   "execution_count": 63,
   "id": "cc00ed23",
   "metadata": {
    "ExecuteTime": {
     "end_time": "2023-11-14T12:01:18.054679400Z",
     "start_time": "2023-11-14T12:01:18.026333600Z"
    }
   },
   "outputs": [
    {
     "data": {
      "text/plain": "(1, 3, 1)"
     },
     "execution_count": 63,
     "metadata": {},
     "output_type": "execute_result"
    }
   ],
   "source": [
    "a.shape"
   ]
  },
  {
   "cell_type": "markdown",
   "id": "37cffdc4",
   "metadata": {},
   "source": [
    "数组的转置："
   ]
  },
  {
   "cell_type": "code",
   "execution_count": 65,
   "id": "c13cccfc",
   "metadata": {
    "ExecuteTime": {
     "end_time": "2023-11-14T12:01:35.016064600Z",
     "start_time": "2023-11-14T12:01:34.988029700Z"
    }
   },
   "outputs": [],
   "source": [
    "a = np.arange(30)"
   ]
  },
  {
   "cell_type": "code",
   "execution_count": 66,
   "id": "ab31a0e2",
   "metadata": {
    "ExecuteTime": {
     "end_time": "2023-11-14T12:01:36.096582300Z",
     "start_time": "2023-11-14T12:01:36.067048800Z"
    }
   },
   "outputs": [],
   "source": [
    "a.shape = 5, 6"
   ]
  },
  {
   "cell_type": "code",
   "execution_count": 67,
   "id": "c9c304db",
   "metadata": {
    "ExecuteTime": {
     "end_time": "2023-11-14T12:01:37.273693600Z",
     "start_time": "2023-11-14T12:01:37.232927200Z"
    }
   },
   "outputs": [
    {
     "data": {
      "text/plain": "array([[ 0,  1,  2,  3,  4,  5],\n       [ 6,  7,  8,  9, 10, 11],\n       [12, 13, 14, 15, 16, 17],\n       [18, 19, 20, 21, 22, 23],\n       [24, 25, 26, 27, 28, 29]])"
     },
     "execution_count": 67,
     "metadata": {},
     "output_type": "execute_result"
    }
   ],
   "source": [
    "a"
   ]
  },
  {
   "cell_type": "code",
   "execution_count": 68,
   "id": "be7da653",
   "metadata": {
    "ExecuteTime": {
     "end_time": "2023-11-14T12:01:40.123480200Z",
     "start_time": "2023-11-14T12:01:40.094775100Z"
    }
   },
   "outputs": [
    {
     "data": {
      "text/plain": "array([[ 0,  6, 12, 18, 24],\n       [ 1,  7, 13, 19, 25],\n       [ 2,  8, 14, 20, 26],\n       [ 3,  9, 15, 21, 27],\n       [ 4, 10, 16, 22, 28],\n       [ 5, 11, 17, 23, 29]])"
     },
     "execution_count": 68,
     "metadata": {},
     "output_type": "execute_result"
    }
   ],
   "source": [
    "a.T"
   ]
  },
  {
   "cell_type": "code",
   "execution_count": 70,
   "outputs": [
    {
     "data": {
      "text/plain": "False"
     },
     "execution_count": 70,
     "metadata": {},
     "output_type": "execute_result"
    }
   ],
   "source": [
    "a is a.T"
   ],
   "metadata": {
    "collapsed": false,
    "ExecuteTime": {
     "end_time": "2023-11-14T12:02:06.199937300Z",
     "start_time": "2023-11-14T12:02:06.163042100Z"
    }
   },
   "id": "6b00e9108262f208"
  },
  {
   "cell_type": "code",
   "execution_count": 71,
   "id": "7e1afde2",
   "metadata": {
    "ExecuteTime": {
     "end_time": "2023-11-14T12:02:12.596662700Z",
     "start_time": "2023-11-14T12:02:12.565785400Z"
    }
   },
   "outputs": [
    {
     "data": {
      "text/plain": "array([[ 0,  6, 12, 18, 24],\n       [ 1,  7, 13, 19, 25],\n       [ 2,  8, 14, 20, 26],\n       [ 3,  9, 15, 21, 27],\n       [ 4, 10, 16, 22, 28],\n       [ 5, 11, 17, 23, 29]])"
     },
     "execution_count": 71,
     "metadata": {},
     "output_type": "execute_result"
    }
   ],
   "source": [
    "a.transpose()"
   ]
  },
  {
   "cell_type": "code",
   "execution_count": 72,
   "id": "51290169",
   "metadata": {
    "ExecuteTime": {
     "end_time": "2023-11-14T12:02:23.503581300Z",
     "start_time": "2023-11-14T12:02:23.466252600Z"
    }
   },
   "outputs": [],
   "source": [
    "a.shape = 1, 2, 3, 5"
   ]
  },
  {
   "cell_type": "code",
   "execution_count": 73,
   "id": "9edc1b67",
   "metadata": {
    "ExecuteTime": {
     "end_time": "2023-11-14T12:02:25.223566400Z",
     "start_time": "2023-11-14T12:02:25.190517100Z"
    }
   },
   "outputs": [
    {
     "data": {
      "text/plain": "(5, 3, 2, 1)"
     },
     "execution_count": 73,
     "metadata": {},
     "output_type": "execute_result"
    }
   ],
   "source": [
    "a.T.shape"
   ]
  },
  {
   "cell_type": "markdown",
   "id": "ecbe22fe",
   "metadata": {},
   "source": [
    "### 数组的连接操作"
   ]
  },
  {
   "cell_type": "code",
   "execution_count": 74,
   "id": "9f42dc67",
   "metadata": {
    "ExecuteTime": {
     "end_time": "2023-11-14T12:02:30.155705300Z",
     "start_time": "2023-11-14T12:02:30.125669300Z"
    }
   },
   "outputs": [],
   "source": [
    "a = np.arange(6)"
   ]
  },
  {
   "cell_type": "code",
   "execution_count": 75,
   "id": "d58193e6",
   "metadata": {
    "ExecuteTime": {
     "end_time": "2023-11-14T12:02:31.121665300Z",
     "start_time": "2023-11-14T12:02:31.091630600Z"
    }
   },
   "outputs": [],
   "source": [
    "a.shape = 2, 3"
   ]
  },
  {
   "cell_type": "code",
   "execution_count": 76,
   "id": "6762aeb6",
   "metadata": {
    "ExecuteTime": {
     "end_time": "2023-11-14T12:02:31.966709900Z",
     "start_time": "2023-11-14T12:02:31.931375600Z"
    }
   },
   "outputs": [
    {
     "data": {
      "text/plain": "array([[0, 1, 2],\n       [3, 4, 5]])"
     },
     "execution_count": 76,
     "metadata": {},
     "output_type": "execute_result"
    }
   ],
   "source": [
    "a"
   ]
  },
  {
   "cell_type": "code",
   "execution_count": 77,
   "id": "9852a426",
   "metadata": {
    "ExecuteTime": {
     "end_time": "2023-11-14T12:02:37.047874100Z",
     "start_time": "2023-11-14T12:02:37.012300100Z"
    }
   },
   "outputs": [],
   "source": [
    "b = np.arange(10, 16)"
   ]
  },
  {
   "cell_type": "code",
   "execution_count": 78,
   "id": "afe2d292",
   "metadata": {
    "ExecuteTime": {
     "end_time": "2023-11-14T12:02:37.986376800Z",
     "start_time": "2023-11-14T12:02:37.955825500Z"
    }
   },
   "outputs": [],
   "source": [
    "b.shape = 2, 3"
   ]
  },
  {
   "cell_type": "code",
   "execution_count": 79,
   "id": "3dabb05b",
   "metadata": {
    "ExecuteTime": {
     "end_time": "2023-11-14T12:02:39.100390900Z",
     "start_time": "2023-11-14T12:02:39.065658800Z"
    }
   },
   "outputs": [
    {
     "data": {
      "text/plain": "array([[10, 11, 12],\n       [13, 14, 15]])"
     },
     "execution_count": 79,
     "metadata": {},
     "output_type": "execute_result"
    }
   ],
   "source": [
    "b"
   ]
  },
  {
   "attachments": {},
   "cell_type": "markdown",
   "id": "87b10bce",
   "metadata": {},
   "source": [
    "连接两个数组可以使用`np.concatenate()`函数："
   ]
  },
  {
   "cell_type": "code",
   "execution_count": 80,
   "id": "1e3aa141",
   "metadata": {
    "ExecuteTime": {
     "end_time": "2023-11-14T12:02:47.973083Z",
     "start_time": "2023-11-14T12:02:47.943049800Z"
    }
   },
   "outputs": [],
   "source": [
    "x = np.concatenate((a, b))"
   ]
  },
  {
   "cell_type": "code",
   "execution_count": 81,
   "id": "573b2d08",
   "metadata": {
    "ExecuteTime": {
     "end_time": "2023-11-14T12:02:49.140171100Z",
     "start_time": "2023-11-14T12:02:49.109539300Z"
    }
   },
   "outputs": [
    {
     "data": {
      "text/plain": "(4, 3)"
     },
     "execution_count": 81,
     "metadata": {},
     "output_type": "execute_result"
    }
   ],
   "source": [
    "x.shape"
   ]
  },
  {
   "cell_type": "code",
   "execution_count": 82,
   "id": "52d4570b",
   "metadata": {
    "ExecuteTime": {
     "end_time": "2023-11-14T12:02:59.373989100Z",
     "start_time": "2023-11-14T12:02:59.341730200Z"
    }
   },
   "outputs": [
    {
     "data": {
      "text/plain": "array([[ 0,  1,  2],\n       [ 3,  4,  5],\n       [10, 11, 12],\n       [13, 14, 15]])"
     },
     "execution_count": 82,
     "metadata": {},
     "output_type": "execute_result"
    }
   ],
   "source": [
    "x"
   ]
  },
  {
   "cell_type": "markdown",
   "id": "a5b21769",
   "metadata": {},
   "source": [
    "默认情况下，`np.concatenate()`函数会沿着第0维开始进行连接。连接的维度可以通过`axis`指定："
   ]
  },
  {
   "cell_type": "code",
   "execution_count": 83,
   "id": "84118815",
   "metadata": {
    "ExecuteTime": {
     "end_time": "2023-11-14T12:03:33.535796700Z",
     "start_time": "2023-11-14T12:03:33.506625300Z"
    }
   },
   "outputs": [],
   "source": [
    "x = np.concatenate((a, b), axis=1)"
   ]
  },
  {
   "cell_type": "code",
   "execution_count": 85,
   "id": "337d3b79",
   "metadata": {
    "ExecuteTime": {
     "end_time": "2023-11-14T12:03:41.447199Z",
     "start_time": "2023-11-14T12:03:41.415117300Z"
    }
   },
   "outputs": [
    {
     "data": {
      "text/plain": "((2, 6),\n array([[ 0,  1,  2, 10, 11, 12],\n        [ 3,  4,  5, 13, 14, 15]]))"
     },
     "execution_count": 85,
     "metadata": {},
     "output_type": "execute_result"
    }
   ],
   "source": [
    "x.shape, x"
   ]
  },
  {
   "cell_type": "markdown",
   "id": "2e75d826",
   "metadata": {},
   "source": [
    "理论上说，a和b的形状一样，还可以让他们沿着第2维进行连接，得到一个(2,3,2)的数组。但是`np.concatenate()`函数不支持直接使用这个的操作。为了解决这个问题，可以使用`np.atleast_1d(),np.atleast_2d(),np.atleast_3d()`函数将数组扩展："
   ]
  },
  {
   "cell_type": "code",
   "execution_count": 86,
   "id": "a6079884",
   "metadata": {
    "ExecuteTime": {
     "end_time": "2023-11-14T12:03:50.231792600Z",
     "start_time": "2023-11-14T12:03:50.203267400Z"
    }
   },
   "outputs": [],
   "source": [
    "x = np.concatenate(np.atleast_3d(a, b), axis=2)"
   ]
  },
  {
   "cell_type": "code",
   "execution_count": 88,
   "id": "1fef4729",
   "metadata": {
    "ExecuteTime": {
     "end_time": "2023-11-14T12:03:53.316324Z",
     "start_time": "2023-11-14T12:03:53.284343400Z"
    }
   },
   "outputs": [
    {
     "data": {
      "text/plain": "((2, 3, 2),\n array([[[ 0, 10],\n         [ 1, 11],\n         [ 2, 12]],\n \n        [[ 3, 13],\n         [ 4, 14],\n         [ 5, 15]]]))"
     },
     "execution_count": 88,
     "metadata": {},
     "output_type": "execute_result"
    }
   ],
   "source": [
    "x.shape, x"
   ]
  },
  {
   "attachments": {},
   "cell_type": "markdown",
   "id": "5058dd28",
   "metadata": {},
   "source": [
    "`np.atleast_xd()`函数系列的运作规则如下：\n",
    "\n",
    "- `np.atleast_xd()`函数系列对于大于等于x维的数组不起作用。\n",
    "- 对于形状为(N,)的数组，`np.atleast_2d()`函数将其转变为形状为(1,N)的数组。\n",
    "- 对于形状为(N,)的数组，`np.atleast_3d()`函数将其转变为形状为(1,N,1)的数组。\n",
    "- 对于形状为(M,N)的数组，`np.atleast_3d()`函数将其转变为形状为(M,N,1)的数组。"
   ]
  },
  {
   "attachments": {},
   "cell_type": "markdown",
   "id": "fb0809b0",
   "metadata": {},
   "source": [
    "对于常用的沿着第0,1,2三维的操作，NumPy提供了以下三个函数`np.vstack(),np.hstack(),np.dstack()`，完成各个方法的连接操作："
   ]
  },
  {
   "cell_type": "code",
   "execution_count": 89,
   "id": "36389191",
   "metadata": {
    "ExecuteTime": {
     "end_time": "2023-11-14T12:03:58.333133600Z",
     "start_time": "2023-11-14T12:03:58.305914400Z"
    }
   },
   "outputs": [
    {
     "data": {
      "text/plain": "(2, 3)"
     },
     "execution_count": 89,
     "metadata": {},
     "output_type": "execute_result"
    }
   ],
   "source": [
    "a.shape"
   ]
  },
  {
   "cell_type": "code",
   "execution_count": 90,
   "id": "b00fe947",
   "metadata": {
    "ExecuteTime": {
     "end_time": "2023-11-14T12:03:59.319495200Z",
     "start_time": "2023-11-14T12:03:59.291753700Z"
    }
   },
   "outputs": [
    {
     "data": {
      "text/plain": "(2, 3)"
     },
     "execution_count": 90,
     "metadata": {},
     "output_type": "execute_result"
    }
   ],
   "source": [
    "b.shape"
   ]
  },
  {
   "cell_type": "code",
   "execution_count": 91,
   "id": "655c4fec",
   "metadata": {
    "ExecuteTime": {
     "end_time": "2023-11-14T12:04:00.273281600Z",
     "start_time": "2023-11-14T12:04:00.244808200Z"
    }
   },
   "outputs": [
    {
     "data": {
      "text/plain": "array([[ 0,  1,  2],\n       [ 3,  4,  5],\n       [10, 11, 12],\n       [13, 14, 15]])"
     },
     "execution_count": 91,
     "metadata": {},
     "output_type": "execute_result"
    }
   ],
   "source": [
    "np.vstack((a, b))"
   ]
  },
  {
   "cell_type": "code",
   "execution_count": 92,
   "id": "f47cfbc4",
   "metadata": {
    "ExecuteTime": {
     "end_time": "2023-11-14T12:04:25.381385700Z",
     "start_time": "2023-11-14T12:04:25.353482500Z"
    }
   },
   "outputs": [
    {
     "data": {
      "text/plain": "array([[ 0,  1,  2, 10, 11, 12],\n       [ 3,  4,  5, 13, 14, 15]])"
     },
     "execution_count": 92,
     "metadata": {},
     "output_type": "execute_result"
    }
   ],
   "source": [
    "np.hstack((a, b))"
   ]
  },
  {
   "cell_type": "code",
   "execution_count": 93,
   "id": "95432d4e",
   "metadata": {
    "ExecuteTime": {
     "end_time": "2023-11-14T12:04:30.222002900Z",
     "start_time": "2023-11-14T12:04:30.191460800Z"
    }
   },
   "outputs": [
    {
     "data": {
      "text/plain": "array([[[ 0, 10],\n        [ 1, 11],\n        [ 2, 12]],\n\n       [[ 3, 13],\n        [ 4, 14],\n        [ 5, 15]]])"
     },
     "execution_count": 93,
     "metadata": {},
     "output_type": "execute_result"
    }
   ],
   "source": [
    "np.dstack((a, b))"
   ]
  },
  {
   "cell_type": "markdown",
   "id": "f69a7db2",
   "metadata": {},
   "source": [
    "### 数组的四则运算，点乘和矩阵运算"
   ]
  },
  {
   "cell_type": "code",
   "execution_count": 94,
   "id": "6b749367",
   "metadata": {
    "ExecuteTime": {
     "end_time": "2023-11-14T12:05:17.052664500Z",
     "start_time": "2023-11-14T12:05:17.022844900Z"
    }
   },
   "outputs": [],
   "source": [
    "a = np.array([[1, 2], [3, 4]])"
   ]
  },
  {
   "cell_type": "markdown",
   "id": "912233c3",
   "metadata": {},
   "source": [
    "四则运算："
   ]
  },
  {
   "cell_type": "code",
   "execution_count": 95,
   "id": "9113923d",
   "metadata": {
    "ExecuteTime": {
     "end_time": "2023-11-14T12:05:20.537277100Z",
     "start_time": "2023-11-14T12:05:20.506827200Z"
    }
   },
   "outputs": [
    {
     "data": {
      "text/plain": "array([[ 1,  4],\n       [ 9, 16]])"
     },
     "execution_count": 95,
     "metadata": {},
     "output_type": "execute_result"
    }
   ],
   "source": [
    "a * a  # 乘法是对应元素相乘"
   ]
  },
  {
   "cell_type": "code",
   "execution_count": 96,
   "id": "521d395b",
   "metadata": {
    "ExecuteTime": {
     "end_time": "2023-11-14T12:05:44.706998800Z",
     "start_time": "2023-11-14T12:05:44.674919100Z"
    }
   },
   "outputs": [
    {
     "data": {
      "text/plain": "array([[2, 4],\n       [6, 8]])"
     },
     "execution_count": 96,
     "metadata": {},
     "output_type": "execute_result"
    }
   ],
   "source": [
    "a + a"
   ]
  },
  {
   "cell_type": "code",
   "execution_count": 97,
   "id": "a00b4c6d",
   "metadata": {
    "ExecuteTime": {
     "end_time": "2023-11-14T12:05:53.544010200Z",
     "start_time": "2023-11-14T12:05:53.513963300Z"
    }
   },
   "outputs": [
    {
     "data": {
      "text/plain": "array([[1., 1.],\n       [1., 1.]])"
     },
     "execution_count": 97,
     "metadata": {},
     "output_type": "execute_result"
    }
   ],
   "source": [
    "a / a"
   ]
  },
  {
   "cell_type": "code",
   "execution_count": 98,
   "id": "f937098d",
   "metadata": {
    "ExecuteTime": {
     "end_time": "2023-11-14T12:05:56.027639100Z",
     "start_time": "2023-11-14T12:05:55.996893Z"
    }
   },
   "outputs": [
    {
     "data": {
      "text/plain": "array([[0, 0],\n       [0, 0]])"
     },
     "execution_count": 98,
     "metadata": {},
     "output_type": "execute_result"
    }
   ],
   "source": [
    "a - a"
   ]
  },
  {
   "cell_type": "code",
   "execution_count": 99,
   "id": "b7db3470",
   "metadata": {
    "ExecuteTime": {
     "end_time": "2023-11-14T12:05:58.512280Z",
     "start_time": "2023-11-14T12:05:58.480939200Z"
    }
   },
   "outputs": [
    {
     "data": {
      "text/plain": "array([[ 1,  4],\n       [ 9, 16]])"
     },
     "execution_count": 99,
     "metadata": {},
     "output_type": "execute_result"
    }
   ],
   "source": [
    "a ** 2"
   ]
  },
  {
   "cell_type": "code",
   "execution_count": 100,
   "id": "1a480d10",
   "metadata": {
    "ExecuteTime": {
     "end_time": "2023-11-14T12:06:00.718903400Z",
     "start_time": "2023-11-14T12:06:00.685865200Z"
    }
   },
   "outputs": [
    {
     "data": {
      "text/plain": "array([[3, 4],\n       [5, 6]])"
     },
     "execution_count": 100,
     "metadata": {},
     "output_type": "execute_result"
    }
   ],
   "source": [
    "a + 2"
   ]
  },
  {
   "cell_type": "markdown",
   "id": "662c708a",
   "metadata": {},
   "source": [
    "点乘，即矩阵运算："
   ]
  },
  {
   "cell_type": "code",
   "execution_count": 101,
   "id": "83dddd4c",
   "metadata": {
    "ExecuteTime": {
     "end_time": "2023-11-14T12:06:03.311460900Z",
     "start_time": "2023-11-14T12:06:03.279984900Z"
    }
   },
   "outputs": [
    {
     "data": {
      "text/plain": "array([[ 7, 10],\n       [15, 22]])"
     },
     "execution_count": 101,
     "metadata": {},
     "output_type": "execute_result"
    }
   ],
   "source": [
    "a.dot(a)"
   ]
  },
  {
   "cell_type": "code",
   "execution_count": 102,
   "id": "6b2486f8",
   "metadata": {
    "ExecuteTime": {
     "end_time": "2023-11-14T12:06:49.236830200Z",
     "start_time": "2023-11-14T12:06:49.204772400Z"
    }
   },
   "outputs": [
    {
     "data": {
      "text/plain": "array([[ 7, 10],\n       [15, 22]])"
     },
     "execution_count": 102,
     "metadata": {},
     "output_type": "execute_result"
    }
   ],
   "source": [
    "np.dot(a, a)"
   ]
  },
  {
   "cell_type": "markdown",
   "id": "b63255e0",
   "metadata": {},
   "source": [
    "Python 3提供了`@`操作符完成点乘操作："
   ]
  },
  {
   "cell_type": "code",
   "execution_count": 103,
   "id": "4eab632d",
   "metadata": {
    "ExecuteTime": {
     "end_time": "2023-11-14T12:06:54.440644300Z",
     "start_time": "2023-11-14T12:06:54.412755900Z"
    }
   },
   "outputs": [
    {
     "data": {
      "text/plain": "array([[ 7, 10],\n       [15, 22]])"
     },
     "execution_count": 103,
     "metadata": {},
     "output_type": "execute_result"
    }
   ],
   "source": [
    "a @ a"
   ]
  },
  {
   "cell_type": "markdown",
   "id": "bef828ae",
   "metadata": {},
   "source": [
    "### 数组的数学操作"
   ]
  },
  {
   "cell_type": "code",
   "execution_count": 104,
   "id": "9f5a1bdb",
   "metadata": {
    "ExecuteTime": {
     "end_time": "2023-11-14T12:06:59.049517Z",
     "start_time": "2023-11-14T12:06:59.019980800Z"
    }
   },
   "outputs": [
    {
     "data": {
      "text/plain": "3.141592653589793"
     },
     "execution_count": 104,
     "metadata": {},
     "output_type": "execute_result"
    }
   ],
   "source": [
    "np.pi"
   ]
  },
  {
   "cell_type": "markdown",
   "id": "d837b324",
   "metadata": {},
   "source": [
    "三角函数："
   ]
  },
  {
   "cell_type": "code",
   "execution_count": 105,
   "id": "8c54c28e",
   "metadata": {
    "ExecuteTime": {
     "end_time": "2023-11-14T12:07:13.599689400Z",
     "start_time": "2023-11-14T12:07:13.559574600Z"
    }
   },
   "outputs": [],
   "source": [
    "a = np.linspace(0, np.pi, 4)  # 生成一个0到pi的数组，分成4份"
   ]
  },
  {
   "cell_type": "code",
   "execution_count": 106,
   "id": "ab15247c",
   "metadata": {
    "ExecuteTime": {
     "end_time": "2023-11-14T12:07:14.568921300Z",
     "start_time": "2023-11-14T12:07:14.536806900Z"
    }
   },
   "outputs": [
    {
     "data": {
      "text/plain": "array([0.        , 1.04719755, 2.0943951 , 3.14159265])"
     },
     "execution_count": 106,
     "metadata": {},
     "output_type": "execute_result"
    }
   ],
   "source": [
    "a"
   ]
  },
  {
   "cell_type": "code",
   "execution_count": 107,
   "id": "ce4785d7",
   "metadata": {
    "ExecuteTime": {
     "end_time": "2023-11-14T12:07:30.066662900Z",
     "start_time": "2023-11-14T12:07:30.032934900Z"
    }
   },
   "outputs": [
    {
     "data": {
      "text/plain": "array([ 1. ,  0.5, -0.5, -1. ])"
     },
     "execution_count": 107,
     "metadata": {},
     "output_type": "execute_result"
    }
   ],
   "source": [
    "np.cos(a)"
   ]
  },
  {
   "cell_type": "code",
   "execution_count": 108,
   "id": "70a4d07b",
   "metadata": {
    "ExecuteTime": {
     "end_time": "2023-11-14T12:07:33.160222Z",
     "start_time": "2023-11-14T12:07:33.132162600Z"
    }
   },
   "outputs": [
    {
     "data": {
      "text/plain": "array([ 1.        ,  2.84965391,  8.1205274 , 23.14069263])"
     },
     "execution_count": 108,
     "metadata": {},
     "output_type": "execute_result"
    }
   ],
   "source": [
    "np.exp(a)"
   ]
  },
  {
   "cell_type": "code",
   "execution_count": 109,
   "id": "41532c28",
   "metadata": {
    "ExecuteTime": {
     "end_time": "2023-11-14T12:07:35.933983800Z",
     "start_time": "2023-11-14T12:07:35.904454800Z"
    }
   },
   "outputs": [
    {
     "data": {
      "text/plain": "array([0.        , 1.02332671, 1.44720251, 1.77245385])"
     },
     "execution_count": 109,
     "metadata": {},
     "output_type": "execute_result"
    }
   ],
   "source": [
    "np.sqrt(a)"
   ]
  },
  {
   "cell_type": "markdown",
   "id": "ac05738a",
   "metadata": {},
   "source": [
    "### 数组的逻辑与比较操作"
   ]
  },
  {
   "cell_type": "code",
   "execution_count": 110,
   "id": "b82d8bab",
   "metadata": {
    "ExecuteTime": {
     "end_time": "2023-11-14T12:07:38.706520300Z",
     "start_time": "2023-11-14T12:07:38.676987900Z"
    }
   },
   "outputs": [],
   "source": [
    "a = np.arange(6)"
   ]
  },
  {
   "cell_type": "code",
   "execution_count": 111,
   "id": "f6997b53",
   "metadata": {
    "ExecuteTime": {
     "end_time": "2023-11-14T12:07:40.487337500Z",
     "start_time": "2023-11-14T12:07:40.454709500Z"
    }
   },
   "outputs": [
    {
     "data": {
      "text/plain": "array([False, False, False, False,  True,  True])"
     },
     "execution_count": 111,
     "metadata": {},
     "output_type": "execute_result"
    }
   ],
   "source": [
    "a > 3"
   ]
  },
  {
   "cell_type": "code",
   "execution_count": 112,
   "id": "d79f037b",
   "metadata": {
    "ExecuteTime": {
     "end_time": "2023-11-14T12:07:47.769692200Z",
     "start_time": "2023-11-14T12:07:47.740395500Z"
    }
   },
   "outputs": [
    {
     "data": {
      "text/plain": "array([4, 5])"
     },
     "execution_count": 112,
     "metadata": {},
     "output_type": "execute_result"
    }
   ],
   "source": [
    "a[a > 3]"
   ]
  },
  {
   "cell_type": "code",
   "execution_count": 113,
   "id": "f4feb22d",
   "metadata": {
    "ExecuteTime": {
     "end_time": "2023-11-14T12:07:58.130830500Z",
     "start_time": "2023-11-14T12:07:58.101792800Z"
    }
   },
   "outputs": [
    {
     "data": {
      "text/plain": "array([ True,  True,  True,  True,  True,  True])"
     },
     "execution_count": 113,
     "metadata": {},
     "output_type": "execute_result"
    }
   ],
   "source": [
    "a <= a"
   ]
  },
  {
   "cell_type": "markdown",
   "id": "cf16e704",
   "metadata": {},
   "source": [
    "不能用 `==` 符号判断两个数组是否相等："
   ]
  },
  {
   "cell_type": "code",
   "execution_count": 114,
   "id": "3f3ca150",
   "metadata": {
    "ExecuteTime": {
     "end_time": "2023-11-14T12:08:01.829627600Z",
     "start_time": "2023-11-14T12:08:01.799560100Z"
    }
   },
   "outputs": [
    {
     "data": {
      "text/plain": "array([ True,  True,  True,  True,  True,  True])"
     },
     "execution_count": 114,
     "metadata": {},
     "output_type": "execute_result"
    }
   ],
   "source": [
    "a == a"
   ]
  },
  {
   "cell_type": "code",
   "execution_count": 116,
   "outputs": [
    {
     "data": {
      "text/plain": "(array([ True,  True,  True,  True,  True,  True]),\n array([ True,  True,  True,  True,  True,  True]),\n array([ True,  True,  True,  True,  True,  True]),\n True,\n False,\n False)"
     },
     "execution_count": 116,
     "metadata": {},
     "output_type": "execute_result"
    }
   ],
   "source": [
    "b = a\n",
    "c = np.arange(6)\n",
    "a == b, a == c, b == c, a is b, a is c, b is c"
   ],
   "metadata": {
    "collapsed": false,
    "ExecuteTime": {
     "end_time": "2023-11-14T12:08:53.747837800Z",
     "start_time": "2023-11-14T12:08:53.715295900Z"
    }
   },
   "id": "82f123d5cd3fa02c"
  },
  {
   "cell_type": "markdown",
   "id": "972350fa",
   "metadata": {},
   "source": [
    "判断相等需要用 `np.all()` 方法："
   ]
  },
  {
   "cell_type": "code",
   "execution_count": 117,
   "id": "8e0b93f5",
   "metadata": {
    "ExecuteTime": {
     "end_time": "2023-11-14T12:09:12.066496700Z",
     "start_time": "2023-11-14T12:09:12.038846900Z"
    }
   },
   "outputs": [
    {
     "data": {
      "text/plain": "True"
     },
     "execution_count": 117,
     "metadata": {},
     "output_type": "execute_result"
    }
   ],
   "source": [
    "np.all(a == a)"
   ]
  },
  {
   "cell_type": "markdown",
   "id": "d82504de",
   "metadata": {},
   "source": [
    "不过考虑到浮点数的精度问题，所以一般用 `np.allclose()` 方法："
   ]
  },
  {
   "cell_type": "code",
   "execution_count": 119,
   "id": "34424397",
   "metadata": {
    "ExecuteTime": {
     "end_time": "2023-11-14T12:09:22.987210900Z",
     "start_time": "2023-11-14T12:09:22.947980700Z"
    }
   },
   "outputs": [
    {
     "data": {
      "text/plain": "(True, True, True)"
     },
     "execution_count": 119,
     "metadata": {},
     "output_type": "execute_result"
    }
   ],
   "source": [
    "np.allclose(a, a), np.allclose(a, b), np.allclose(a, c)"
   ]
  },
  {
   "cell_type": "markdown",
   "id": "a4f7b7d4",
   "metadata": {},
   "source": [
    "`np.nan`是一个特殊的值，它做判断的时候当`False`用，且与任何数进行比较都是`False`，包括它自己："
   ]
  },
  {
   "cell_type": "code",
   "execution_count": 120,
   "id": "162db9bf",
   "metadata": {
    "ExecuteTime": {
     "end_time": "2023-11-14T12:10:02.503625700Z",
     "start_time": "2023-11-14T12:10:02.475927100Z"
    }
   },
   "outputs": [
    {
     "data": {
      "text/plain": "False"
     },
     "execution_count": 120,
     "metadata": {},
     "output_type": "execute_result"
    }
   ],
   "source": [
    "np.nan == np.nan"
   ]
  },
  {
   "attachments": {},
   "cell_type": "markdown",
   "id": "160b6348",
   "metadata": {},
   "source": [
    "为了判断一个值是否为`np.nan`，需要使用`np.isnan()`函数："
   ]
  },
  {
   "cell_type": "code",
   "execution_count": 121,
   "id": "b26e74d5",
   "metadata": {
    "ExecuteTime": {
     "end_time": "2023-11-14T12:10:08.284364200Z",
     "start_time": "2023-11-14T12:10:08.257708100Z"
    }
   },
   "outputs": [
    {
     "data": {
      "text/plain": "True"
     },
     "execution_count": 121,
     "metadata": {},
     "output_type": "execute_result"
    }
   ],
   "source": [
    "np.isnan(np.nan)"
   ]
  },
  {
   "cell_type": "code",
   "execution_count": 122,
   "id": "13d58379",
   "metadata": {
    "ExecuteTime": {
     "end_time": "2023-11-14T12:10:11.874818800Z",
     "start_time": "2023-11-14T12:10:11.849786300Z"
    }
   },
   "outputs": [],
   "source": [
    "b = np.array([np.inf, -np.inf, np.nan])"
   ]
  },
  {
   "cell_type": "code",
   "execution_count": 123,
   "id": "a6da0cef",
   "metadata": {
    "ExecuteTime": {
     "end_time": "2023-11-14T12:10:13.122106500Z",
     "start_time": "2023-11-14T12:10:13.096075Z"
    }
   },
   "outputs": [
    {
     "data": {
      "text/plain": "array([False, False,  True])"
     },
     "execution_count": 123,
     "metadata": {},
     "output_type": "execute_result"
    }
   ],
   "source": [
    "np.isnan(b)"
   ]
  },
  {
   "cell_type": "code",
   "execution_count": 124,
   "id": "ab3bc4ce",
   "metadata": {
    "ExecuteTime": {
     "end_time": "2023-11-14T12:10:30.401577100Z",
     "start_time": "2023-11-14T12:10:30.371968500Z"
    }
   },
   "outputs": [
    {
     "data": {
      "text/plain": "array([ True,  True, False])"
     },
     "execution_count": 124,
     "metadata": {},
     "output_type": "execute_result"
    }
   ],
   "source": [
    "np.isinf(b)"
   ]
  }
 ],
 "metadata": {
  "kernelspec": {
   "display_name": "Python 3 (ipykernel)",
   "language": "python",
   "name": "python3"
  },
  "language_info": {
   "codemirror_mode": {
    "name": "ipython",
    "version": 3
   },
   "file_extension": ".py",
   "mimetype": "text/x-python",
   "name": "python",
   "nbconvert_exporter": "python",
   "pygments_lexer": "ipython3",
   "version": "3.9.10"
  }
 },
 "nbformat": 4,
 "nbformat_minor": 5
}
