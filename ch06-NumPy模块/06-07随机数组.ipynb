{
 "cells": [
  {
   "cell_type": "markdown",
   "id": "44a1811f",
   "metadata": {},
   "source": [
    "# 随机数组"
   ]
  },
  {
   "attachments": {},
   "cell_type": "markdown",
   "id": "577a874b",
   "metadata": {},
   "source": [
    "`NumPy`中的随机数组是通过子模块`numpy.random`实现的："
   ]
  },
  {
   "cell_type": "code",
   "execution_count": 1,
   "id": "7a33df17",
   "metadata": {
    "ExecuteTime": {
     "end_time": "2023-11-14T12:25:15.449559300Z",
     "start_time": "2023-11-14T12:25:15.378070300Z"
    }
   },
   "outputs": [],
   "source": [
    "import numpy as np"
   ]
  },
  {
   "cell_type": "markdown",
   "id": "172a91ac",
   "metadata": {},
   "source": [
    "函数`np.random.rand()`可以用来生成0到1之间指定大小的的随机数组："
   ]
  },
  {
   "cell_type": "code",
   "execution_count": 2,
   "id": "16a2183c",
   "metadata": {
    "ExecuteTime": {
     "end_time": "2023-11-14T12:25:18.159451700Z",
     "start_time": "2023-11-14T12:25:18.120901500Z"
    }
   },
   "outputs": [
    {
     "data": {
      "text/plain": "array([[0.28756783, 0.31007765, 0.44823633],\n       [0.29690922, 0.09632973, 0.02443158]])"
     },
     "execution_count": 2,
     "metadata": {},
     "output_type": "execute_result"
    }
   ],
   "source": [
    "np.random.rand(2, 3)"
   ]
  },
  {
   "attachments": {},
   "cell_type": "markdown",
   "id": "18c2ea82",
   "metadata": {},
   "source": [
    "函数`np.random.randn()`生成的则是服从标准正态分布的随机数组："
   ]
  },
  {
   "cell_type": "code",
   "execution_count": 3,
   "id": "315b4237",
   "metadata": {
    "ExecuteTime": {
     "end_time": "2023-11-14T12:25:32.513926500Z",
     "start_time": "2023-11-14T12:25:32.489352900Z"
    }
   },
   "outputs": [
    {
     "data": {
      "text/plain": "array([[ 0.03008523, -0.88408333, -0.12578517],\n       [-0.10052823, -0.7743676 ,  0.47759247]])"
     },
     "execution_count": 3,
     "metadata": {},
     "output_type": "execute_result"
    }
   ],
   "source": [
    "np.random.randn(2, 3)"
   ]
  },
  {
   "attachments": {},
   "cell_type": "markdown",
   "id": "3724894c",
   "metadata": {},
   "source": [
    "与标准模块`random`类似，`numpy.random`也有`choice()`函数，不过功能更强大。\n",
    "\n",
    "```python\n",
    "np.random.choice(a, size=None, replace=True, p=None)\n",
    "```\n",
    "\n",
    "该函数从一维数组或列表a中，随机选取出size大小形状的数组成数组。其中，replace参数表示选择的元素是否可重复，p是一个与a大小相同的数组，表示a中各个元素被选中的概率，默认为等概率：\n"
   ]
  },
  {
   "cell_type": "code",
   "execution_count": 4,
   "id": "65e920cf",
   "metadata": {
    "ExecuteTime": {
     "end_time": "2023-11-14T12:26:13.166055500Z",
     "start_time": "2023-11-14T12:26:13.140599900Z"
    }
   },
   "outputs": [
    {
     "data": {
      "text/plain": "array([[0, 2, 1],\n       [1, 0, 2]])"
     },
     "execution_count": 4,
     "metadata": {},
     "output_type": "execute_result"
    }
   ],
   "source": [
    "np.random.choice(range(3), (2, 3))"
   ]
  },
  {
   "cell_type": "markdown",
   "id": "b1d86316",
   "metadata": {},
   "source": [
    "`np.random.shuffle()`函数支持对数组的乱序操作："
   ]
  },
  {
   "cell_type": "code",
   "execution_count": 5,
   "id": "00c8a19b",
   "metadata": {
    "ExecuteTime": {
     "end_time": "2023-11-14T12:26:54.961011500Z",
     "start_time": "2023-11-14T12:26:54.935635300Z"
    }
   },
   "outputs": [],
   "source": [
    "a = np.arange(6)"
   ]
  },
  {
   "cell_type": "code",
   "execution_count": 6,
   "id": "c8d8d123",
   "metadata": {
    "ExecuteTime": {
     "end_time": "2023-11-14T12:26:56.028506Z",
     "start_time": "2023-11-14T12:26:56.001794100Z"
    }
   },
   "outputs": [],
   "source": [
    "np.random.shuffle(a)"
   ]
  },
  {
   "cell_type": "code",
   "execution_count": 7,
   "id": "02fca772",
   "metadata": {
    "ExecuteTime": {
     "end_time": "2023-11-14T12:26:57.111153800Z",
     "start_time": "2023-11-14T12:26:57.083626400Z"
    }
   },
   "outputs": [
    {
     "data": {
      "text/plain": "array([0, 3, 4, 1, 5, 2])"
     },
     "execution_count": 7,
     "metadata": {},
     "output_type": "execute_result"
    }
   ],
   "source": [
    "a"
   ]
  }
 ],
 "metadata": {
  "kernelspec": {
   "display_name": "Python 3 (ipykernel)",
   "language": "python",
   "name": "python3"
  },
  "language_info": {
   "codemirror_mode": {
    "name": "ipython",
    "version": 3
   },
   "file_extension": ".py",
   "mimetype": "text/x-python",
   "name": "python",
   "nbconvert_exporter": "python",
   "pygments_lexer": "ipython3",
   "version": "3.9.10"
  }
 },
 "nbformat": 4,
 "nbformat_minor": 5
}
