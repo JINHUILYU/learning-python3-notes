{
 "cells": [
  {
   "attachments": {},
   "cell_type": "markdown",
   "id": "c8bb4682",
   "metadata": {},
   "source": [
    "# 方法与属性\n",
    "\n",
    "自定义类型中通常要定义一些方法和属性。\n",
    "\n",
    "## 手动添加属性\n",
    "\n",
    "属性可以手动添加："
   ]
  },
  {
   "cell_type": "code",
   "execution_count": 1,
   "id": "726dfdd7",
   "metadata": {
    "ExecuteTime": {
     "end_time": "2023-11-14T10:58:54.249261900Z",
     "start_time": "2023-11-14T10:58:54.248282100Z"
    }
   },
   "outputs": [],
   "source": [
    "class Leaf(object):\n",
    "    \"\"\"A leaf falling in the woods.\"\"\"\n",
    "    pass"
   ]
  },
  {
   "cell_type": "code",
   "execution_count": 2,
   "id": "8ada76bf",
   "metadata": {
    "ExecuteTime": {
     "end_time": "2023-11-14T10:58:55.559309700Z",
     "start_time": "2023-11-14T10:58:55.528551400Z"
    }
   },
   "outputs": [],
   "source": [
    "leaf = Leaf()"
   ]
  },
  {
   "cell_type": "code",
   "execution_count": 3,
   "id": "56c4eec8",
   "metadata": {
    "ExecuteTime": {
     "end_time": "2023-11-14T10:58:56.929447800Z",
     "start_time": "2023-11-14T10:58:56.914426700Z"
    }
   },
   "outputs": [],
   "source": [
    "leaf.color = \"green\""
   ]
  },
  {
   "cell_type": "code",
   "execution_count": 4,
   "id": "cab8d1da",
   "metadata": {
    "ExecuteTime": {
     "end_time": "2023-11-14T10:58:58.206512800Z",
     "start_time": "2023-11-14T10:58:58.189113400Z"
    }
   },
   "outputs": [
    {
     "data": {
      "text/plain": "'green'"
     },
     "execution_count": 4,
     "metadata": {},
     "output_type": "execute_result"
    }
   ],
   "source": [
    "leaf.color"
   ]
  },
  {
   "cell_type": "markdown",
   "id": "f535b118",
   "metadata": {},
   "source": [
    "这样添加的新属性只对当前定义的对象有效，不能在新对象上使用："
   ]
  },
  {
   "cell_type": "code",
   "execution_count": 5,
   "id": "70805a5b",
   "metadata": {
    "ExecuteTime": {
     "end_time": "2023-11-14T10:59:08.912791500Z",
     "start_time": "2023-11-14T10:59:08.897259400Z"
    }
   },
   "outputs": [],
   "source": [
    "leaf2 = Leaf()"
   ]
  },
  {
   "cell_type": "code",
   "execution_count": 7,
   "id": "879c9848",
   "metadata": {
    "ExecuteTime": {
     "end_time": "2023-11-14T10:59:27.806625500Z",
     "start_time": "2023-11-14T10:59:27.789601400Z"
    }
   },
   "outputs": [
    {
     "name": "stdout",
     "output_type": "stream",
     "text": [
      "'Leaf' object has no attribute 'color'\n"
     ]
    }
   ],
   "source": [
    "try:\n",
    "    print(leaf2.color)\n",
    "except AttributeError as e:\n",
    "    print(e)"
   ]
  },
  {
   "attachments": {},
   "cell_type": "markdown",
   "id": "fb1f35e6",
   "metadata": {},
   "source": [
    "## 添加普通方法\n",
    "\n",
    "添加普通方法需要用def关键字定义。向Leaf类中添加一个新方法，表示树叶下落："
   ]
  },
  {
   "cell_type": "code",
   "execution_count": 8,
   "id": "2609b4fb",
   "metadata": {
    "ExecuteTime": {
     "end_time": "2023-11-14T10:59:40.965687200Z",
     "start_time": "2023-11-14T10:59:40.956146100Z"
    }
   },
   "outputs": [],
   "source": [
    "class Leaf(object):\n",
    "    \"\"\"A leaf falling in the woods.\"\"\"\n",
    "    def fall(self, season=\"autumn\"):\n",
    "        \"\"\"A leaf falls.\"\"\"\n",
    "        print(f\"A leaf falls in {season}!\")"
   ]
  },
  {
   "cell_type": "code",
   "execution_count": 9,
   "id": "4fdac1b5",
   "metadata": {
    "ExecuteTime": {
     "end_time": "2023-11-14T10:59:43.158070400Z",
     "start_time": "2023-11-14T10:59:43.142033200Z"
    }
   },
   "outputs": [],
   "source": [
    "leaf = Leaf()"
   ]
  },
  {
   "cell_type": "markdown",
   "id": "69d1b644",
   "metadata": {},
   "source": [
    "查看帮助："
   ]
  },
  {
   "cell_type": "code",
   "execution_count": 10,
   "id": "7912d38a",
   "metadata": {
    "ExecuteTime": {
     "end_time": "2023-11-14T10:59:47.120870700Z",
     "start_time": "2023-11-14T10:59:47.086904600Z"
    }
   },
   "outputs": [],
   "source": [
    "leaf.fall?"
   ]
  },
  {
   "attachments": {},
   "cell_type": "markdown",
   "id": "e3cae18f",
   "metadata": {},
   "source": [
    "调用该方法时，self参数不用传入，会自动转化为对象leaf，因此只需要传入season参数。不带参数时，season用默认值："
   ]
  },
  {
   "cell_type": "code",
   "execution_count": 11,
   "id": "a3e3ed63",
   "metadata": {
    "ExecuteTime": {
     "end_time": "2023-11-14T10:59:55.836756900Z",
     "start_time": "2023-11-14T10:59:55.828736100Z"
    }
   },
   "outputs": [
    {
     "name": "stdout",
     "output_type": "stream",
     "text": [
      "A leaf falls in autumn!\n"
     ]
    }
   ],
   "source": [
    "leaf.fall()"
   ]
  },
  {
   "attachments": {},
   "cell_type": "markdown",
   "id": "08ad7bf9",
   "metadata": {},
   "source": [
    "## 构造方法`.__init__()`"
   ]
  },
  {
   "attachments": {},
   "cell_type": "markdown",
   "id": "22bffde0",
   "metadata": {},
   "source": [
    "通常通过构造方法`.__init__()`，在构造对象的时候添加属性。该方法在构造对象时会自动调用："
   ]
  },
  {
   "cell_type": "code",
   "execution_count": 12,
   "id": "ff8278ba",
   "metadata": {
    "ExecuteTime": {
     "end_time": "2023-11-14T11:00:04.415289600Z",
     "start_time": "2023-11-14T11:00:04.407265400Z"
    }
   },
   "outputs": [],
   "source": [
    "class Leaf(object):\n",
    "    \"\"\"A leaf falling in the woods.\"\"\"\n",
    "    def __init__(self, color=\"green\"):\n",
    "        self.color = color"
   ]
  },
  {
   "cell_type": "code",
   "execution_count": 13,
   "id": "74fe950b",
   "metadata": {
    "ExecuteTime": {
     "end_time": "2023-11-14T11:00:12.131361700Z",
     "start_time": "2023-11-14T11:00:12.100115700Z"
    }
   },
   "outputs": [],
   "source": [
    "leaf2 = Leaf(\"orange\")"
   ]
  },
  {
   "cell_type": "code",
   "execution_count": 14,
   "id": "b2e29926",
   "metadata": {
    "ExecuteTime": {
     "end_time": "2023-11-14T11:00:13.031718300Z",
     "start_time": "2023-11-14T11:00:13.023709Z"
    }
   },
   "outputs": [
    {
     "data": {
      "text/plain": "'orange'"
     },
     "execution_count": 14,
     "metadata": {},
     "output_type": "execute_result"
    }
   ],
   "source": [
    "leaf2.color"
   ]
  },
  {
   "attachments": {},
   "cell_type": "markdown",
   "id": "8ed9f302",
   "metadata": {},
   "source": [
    "由于在`.__init__()`函数中指定了默认参数，在构造时，也可以不传入color参数时，`.color`属性为默认值“green”："
   ]
  },
  {
   "cell_type": "code",
   "execution_count": 15,
   "id": "fc7ecd29",
   "metadata": {
    "ExecuteTime": {
     "end_time": "2023-11-14T11:00:17.086525400Z",
     "start_time": "2023-11-14T11:00:17.078504800Z"
    }
   },
   "outputs": [],
   "source": [
    "leaf = Leaf()"
   ]
  },
  {
   "cell_type": "code",
   "execution_count": 16,
   "id": "cf68ac4a",
   "metadata": {
    "ExecuteTime": {
     "end_time": "2023-11-14T11:00:17.941851300Z",
     "start_time": "2023-11-14T11:00:17.932647900Z"
    }
   },
   "outputs": [
    {
     "data": {
      "text/plain": "'green'"
     },
     "execution_count": 16,
     "metadata": {},
     "output_type": "execute_result"
    }
   ],
   "source": [
    "leaf.color"
   ]
  }
 ],
 "metadata": {
  "kernelspec": {
   "display_name": "Python 3 (ipykernel)",
   "language": "python",
   "name": "python3"
  },
  "language_info": {
   "codemirror_mode": {
    "name": "ipython",
    "version": 3
   },
   "file_extension": ".py",
   "mimetype": "text/x-python",
   "name": "python",
   "nbconvert_exporter": "python",
   "pygments_lexer": "ipython3",
   "version": "3.9.10"
  }
 },
 "nbformat": 4,
 "nbformat_minor": 5
}
