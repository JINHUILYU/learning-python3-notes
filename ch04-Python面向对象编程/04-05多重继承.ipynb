{
 "cells": [
  {
   "cell_type": "markdown",
   "id": "f40a9456",
   "metadata": {},
   "source": [
    "# 多重继承"
   ]
  },
  {
   "attachments": {},
   "cell_type": "markdown",
   "id": "86d9ccb1",
   "metadata": {},
   "source": [
    "多重继承指的是一个类可以同时从多个父类继承行为与特征的功能。Python 支持多重继承的。\n",
    "\n",
    "例如，可以将之前的Leaf类进行抽象，树叶Leaf类，父类："
   ]
  },
  {
   "cell_type": "code",
   "execution_count": 1,
   "id": "e0c998bd",
   "metadata": {
    "ExecuteTime": {
     "end_time": "2023-11-14T11:06:41.618429300Z",
     "start_time": "2023-11-14T11:06:41.612262300Z"
    }
   },
   "outputs": [],
   "source": [
    "class Leaf(object):\n",
    "    def __init__(self, color='green'):\n",
    "        self.color = color"
   ]
  },
  {
   "cell_type": "markdown",
   "id": "0fc49c8f",
   "metadata": {},
   "source": [
    "ColorChangingLeaf类，颜色可变的树叶，继承Leaf类："
   ]
  },
  {
   "cell_type": "code",
   "execution_count": 2,
   "id": "1213971e",
   "metadata": {
    "ExecuteTime": {
     "end_time": "2023-11-14T11:06:58.988914500Z",
     "start_time": "2023-11-14T11:06:58.973393700Z"
    }
   },
   "outputs": [],
   "source": [
    "class ColorChangingLeaf(Leaf):\n",
    "    def change(self, new_color='brown'):\n",
    "        self.color = new_color"
   ]
  },
  {
   "cell_type": "markdown",
   "id": "57e4c923",
   "metadata": {},
   "source": [
    "DeciduousLeaf类，落叶类植物的树叶，继承Leaf类："
   ]
  },
  {
   "cell_type": "code",
   "execution_count": 3,
   "id": "254d5547",
   "metadata": {
    "ExecuteTime": {
     "end_time": "2023-11-14T11:07:02.801927300Z",
     "start_time": "2023-11-14T11:07:02.771516600Z"
    }
   },
   "outputs": [],
   "source": [
    "class DeciduousLeaf(Leaf):\n",
    "    def fall(self):\n",
    "        print(\"A leaf is falling!\")"
   ]
  },
  {
   "cell_type": "markdown",
   "id": "82908e7f",
   "metadata": {},
   "source": [
    "MapleLeaf类，枫叶，枫叶颜色可变，同时枫树是落叶类植物，可以让它同时继承ColorChangingLeaf类和DeciduousLeaf类。"
   ]
  },
  {
   "cell_type": "code",
   "execution_count": 4,
   "id": "15827727",
   "metadata": {
    "ExecuteTime": {
     "end_time": "2023-11-14T11:07:06.466734500Z",
     "start_time": "2023-11-14T11:07:06.452208900Z"
    }
   },
   "outputs": [],
   "source": [
    "class MapleLeaf(ColorChangingLeaf, DeciduousLeaf):\n",
    "    pass"
   ]
  },
  {
   "attachments": {},
   "cell_type": "markdown",
   "id": "e683fc72",
   "metadata": {},
   "source": [
    "多重继承在定义时，只需要用逗号将多个父类隔开。MapleLeaf类只是简单的继承了两个类型。MapleLeaf类的对象可以使用两个父类的方法："
   ]
  },
  {
   "cell_type": "code",
   "execution_count": 5,
   "id": "172135c2",
   "metadata": {
    "ExecuteTime": {
     "end_time": "2023-11-14T11:07:25.887463500Z",
     "start_time": "2023-11-14T11:07:25.869445900Z"
    }
   },
   "outputs": [],
   "source": [
    "mleaf = MapleLeaf()"
   ]
  },
  {
   "attachments": {},
   "cell_type": "markdown",
   "id": "2a8e93a0",
   "metadata": {},
   "source": [
    "例如，从Leaf类继承而来的属性："
   ]
  },
  {
   "cell_type": "code",
   "execution_count": 6,
   "id": "bf1d7dd9",
   "metadata": {
    "ExecuteTime": {
     "end_time": "2023-11-14T11:07:33.036767Z",
     "start_time": "2023-11-14T11:07:33.005352200Z"
    }
   },
   "outputs": [
    {
     "data": {
      "text/plain": "'green'"
     },
     "execution_count": 6,
     "metadata": {},
     "output_type": "execute_result"
    }
   ],
   "source": [
    "mleaf.color"
   ]
  },
  {
   "attachments": {},
   "cell_type": "markdown",
   "id": "0a5b9445",
   "metadata": {},
   "source": [
    "从ColorChangingLeaf类继承而来的方法："
   ]
  },
  {
   "cell_type": "code",
   "execution_count": 7,
   "id": "aebceb2b",
   "metadata": {
    "ExecuteTime": {
     "end_time": "2023-11-14T11:07:38.348808200Z",
     "start_time": "2023-11-14T11:07:38.330292100Z"
    }
   },
   "outputs": [],
   "source": [
    "mleaf.change(\"red\")"
   ]
  },
  {
   "cell_type": "code",
   "execution_count": 8,
   "id": "7220d3b3",
   "metadata": {
    "ExecuteTime": {
     "end_time": "2023-11-14T11:07:39.361852500Z",
     "start_time": "2023-11-14T11:07:39.344165600Z"
    }
   },
   "outputs": [
    {
     "data": {
      "text/plain": "'red'"
     },
     "execution_count": 8,
     "metadata": {},
     "output_type": "execute_result"
    }
   ],
   "source": [
    "mleaf.color"
   ]
  },
  {
   "attachments": {},
   "cell_type": "markdown",
   "id": "5325fa69",
   "metadata": {},
   "source": [
    "从DeciduousLeaf类继承而来方法："
   ]
  },
  {
   "cell_type": "code",
   "execution_count": 9,
   "id": "c597ff5e",
   "metadata": {
    "ExecuteTime": {
     "end_time": "2023-11-14T11:07:41.812728200Z",
     "start_time": "2023-11-14T11:07:41.803032400Z"
    }
   },
   "outputs": [
    {
     "name": "stdout",
     "output_type": "stream",
     "text": [
      "A leaf is falling!\n"
     ]
    }
   ],
   "source": [
    "mleaf.fall()"
   ]
  },
  {
   "cell_type": "markdown",
   "id": "aded6105",
   "metadata": {},
   "source": [
    "## 继承顺序"
   ]
  },
  {
   "attachments": {},
   "cell_type": "markdown",
   "id": "18322688",
   "metadata": {},
   "source": [
    "有时候多个父类可能会发生冲突。例如，可以在ColorChangingLeaf的定义中增加一个`.fall()`方法："
   ]
  },
  {
   "cell_type": "code",
   "execution_count": 10,
   "id": "4bdc6d5a",
   "metadata": {
    "ExecuteTime": {
     "end_time": "2023-11-14T11:07:48.060167Z",
     "start_time": "2023-11-14T11:07:48.042915Z"
    }
   },
   "outputs": [],
   "source": [
    "class ColorChangingLeaf(Leaf):\n",
    "    def change(self, new_color='brown'):\n",
    "        self.color = new_color\n",
    "        \n",
    "    def fall(self):\n",
    "        print(\"I am falling!!!!\")"
   ]
  },
  {
   "attachments": {},
   "cell_type": "markdown",
   "id": "1fd50db3",
   "metadata": {},
   "source": [
    "在两个父类的`.fall()`方法不同时，Python会优先使用定义在前的父类的方法。\n",
    "\n",
    "当ColorChangingLeaf类在前时，使用的是ColorChangingLeaf类的方法："
   ]
  },
  {
   "cell_type": "code",
   "execution_count": 11,
   "id": "6d332069",
   "metadata": {
    "ExecuteTime": {
     "end_time": "2023-11-14T11:07:51.606754Z",
     "start_time": "2023-11-14T11:07:51.589233900Z"
    }
   },
   "outputs": [],
   "source": [
    "class MapleLeaf(ColorChangingLeaf, DeciduousLeaf):\n",
    "    pass"
   ]
  },
  {
   "cell_type": "code",
   "execution_count": 12,
   "id": "f6bd05d1",
   "metadata": {
    "ExecuteTime": {
     "end_time": "2023-11-14T11:07:58.575115400Z",
     "start_time": "2023-11-14T11:07:58.557082700Z"
    }
   },
   "outputs": [],
   "source": [
    "mleaf = MapleLeaf()"
   ]
  },
  {
   "cell_type": "code",
   "execution_count": 13,
   "id": "c283c608",
   "metadata": {
    "ExecuteTime": {
     "end_time": "2023-11-14T11:07:59.921033Z",
     "start_time": "2023-11-14T11:07:59.903502300Z"
    }
   },
   "outputs": [
    {
     "name": "stdout",
     "output_type": "stream",
     "text": [
      "I am falling!!!!\n"
     ]
    }
   ],
   "source": [
    "mleaf.fall()"
   ]
  },
  {
   "cell_type": "markdown",
   "id": "46a760be",
   "metadata": {},
   "source": [
    "反过来定义时，使用的是DeciduousLeaf类的方法："
   ]
  },
  {
   "cell_type": "code",
   "execution_count": 15,
   "id": "62525002",
   "metadata": {
    "ExecuteTime": {
     "end_time": "2023-11-14T11:08:13.402198800Z",
     "start_time": "2023-11-14T11:08:13.371907200Z"
    }
   },
   "outputs": [],
   "source": [
    "class MapleLeaf(DeciduousLeaf, ColorChangingLeaf):\n",
    "    pass"
   ]
  },
  {
   "cell_type": "code",
   "execution_count": 16,
   "id": "c8fccc73",
   "metadata": {
    "ExecuteTime": {
     "end_time": "2023-11-14T11:08:14.692107400Z",
     "start_time": "2023-11-14T11:08:14.675064300Z"
    }
   },
   "outputs": [],
   "source": [
    "mleaf = MapleLeaf()"
   ]
  },
  {
   "cell_type": "code",
   "execution_count": 17,
   "id": "ad1aa5ff",
   "metadata": {
    "ExecuteTime": {
     "end_time": "2023-11-14T11:08:15.787873400Z",
     "start_time": "2023-11-14T11:08:15.779096600Z"
    }
   },
   "outputs": [
    {
     "name": "stdout",
     "output_type": "stream",
     "text": [
      "A leaf is falling!\n"
     ]
    }
   ],
   "source": [
    "mleaf.fall()"
   ]
  },
  {
   "attachments": {},
   "cell_type": "markdown",
   "id": "3592cac1",
   "metadata": {},
   "source": [
    "继承的顺序可以通过该类的`.__mro__`属性或mro()方法来查看："
   ]
  },
  {
   "cell_type": "code",
   "execution_count": 18,
   "id": "39201c5e",
   "metadata": {
    "ExecuteTime": {
     "end_time": "2023-11-14T11:08:25.369298200Z",
     "start_time": "2023-11-14T11:08:25.338317500Z"
    }
   },
   "outputs": [
    {
     "data": {
      "text/plain": "(__main__.MapleLeaf,\n __main__.DeciduousLeaf,\n __main__.ColorChangingLeaf,\n __main__.Leaf,\n object)"
     },
     "execution_count": 18,
     "metadata": {},
     "output_type": "execute_result"
    }
   ],
   "source": [
    "MapleLeaf.__mro__"
   ]
  },
  {
   "cell_type": "code",
   "execution_count": 19,
   "id": "c13c5538",
   "metadata": {
    "ExecuteTime": {
     "end_time": "2023-11-14T11:08:33.440421600Z",
     "start_time": "2023-11-14T11:08:33.407331800Z"
    }
   },
   "outputs": [
    {
     "data": {
      "text/plain": "[__main__.MapleLeaf,\n __main__.DeciduousLeaf,\n __main__.ColorChangingLeaf,\n __main__.Leaf,\n object]"
     },
     "execution_count": 19,
     "metadata": {},
     "output_type": "execute_result"
    }
   ],
   "source": [
    "MapleLeaf.mro()"
   ]
  }
 ],
 "metadata": {
  "kernelspec": {
   "display_name": "Python 3 (ipykernel)",
   "language": "python",
   "name": "python3"
  },
  "language_info": {
   "codemirror_mode": {
    "name": "ipython",
    "version": 3
   },
   "file_extension": ".py",
   "mimetype": "text/x-python",
   "name": "python",
   "nbconvert_exporter": "python",
   "pygments_lexer": "ipython3",
   "version": "3.9.10"
  }
 },
 "nbformat": 4,
 "nbformat_minor": 5
}
