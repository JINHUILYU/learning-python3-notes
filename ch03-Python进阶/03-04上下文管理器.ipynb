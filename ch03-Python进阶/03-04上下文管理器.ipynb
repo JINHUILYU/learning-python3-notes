{
 "cells": [
  {
   "cell_type": "markdown",
   "id": "f8926c50",
   "metadata": {},
   "source": [
    "# 上下文管理器"
   ]
  },
  {
   "cell_type": "markdown",
   "id": "afc84283",
   "metadata": {},
   "source": [
    "读写文件时，如果一个文件被打开，且未被正常关闭，可能会出现一些意想不到的结果。\n",
    "\n",
    "Python提供了上下文管理器的机制来解决这个问题，它通常与关键字with一起使用。对于上面的例子，用with语句调用的方式为：\n",
    "\n",
    "```python\n",
    "with <expression>:\n",
    "    <statements>\n",
    "```"
   ]
  },
  {
   "cell_type": "code",
   "execution_count": 17,
   "id": "f502a6f5",
   "metadata": {
    "ExecuteTime": {
     "end_time": "2023-11-14T09:07:35.366721600Z",
     "start_time": "2023-11-14T09:07:35.298396900Z"
    }
   },
   "outputs": [],
   "source": [
    "with open('my_file', 'w') as fp:\n",
    "    # do stuff with fp\n",
    "    data = fp.write(\"Hello world\")"
   ]
  },
  {
   "cell_type": "markdown",
   "id": "7d172aca",
   "metadata": {},
   "source": [
    "等价于："
   ]
  },
  {
   "cell_type": "code",
   "execution_count": 18,
   "id": "d0609f8b",
   "metadata": {
    "ExecuteTime": {
     "end_time": "2023-11-14T09:07:35.501894200Z",
     "start_time": "2023-11-14T09:07:35.302895400Z"
    }
   },
   "outputs": [],
   "source": [
    "fp = open('my_file', 'w')\n",
    "try:\n",
    "    # do stuff with f\n",
    "    data = fp.write(\"Hello world\")\n",
    "finally:\n",
    "    fp.close()"
   ]
  },
  {
   "cell_type": "markdown",
   "id": "d3641564",
   "metadata": {},
   "source": [
    "处理文件，线程，数据库，网络编程等等资源的时候，经常需要使用上面这样的代码形式，以确保资源的正常使用和释放。\n",
    "\n",
    "上下文管理器需要`<expression>`中的结果能够支持`.__enter__()`和`.__exit__()`方法："
   ]
  },
  {
   "cell_type": "code",
   "execution_count": 19,
   "outputs": [
    {
     "name": "stdout",
     "output_type": "stream",
     "text": [
      "Hello world\n"
     ]
    }
   ],
   "source": [
    "f = open('my_file', 'r')  # 以只读模式打开文件\n",
    "contents = f.readlines()  # 读入文件的所有行\n",
    "f.close()\n",
    "for content in contents:\n",
    "    print(content)"
   ],
   "metadata": {
    "collapsed": false,
    "ExecuteTime": {
     "end_time": "2023-11-14T09:07:35.520906300Z",
     "start_time": "2023-11-14T09:07:35.304775100Z"
    }
   },
   "id": "cfc8a58a861cc2af"
  },
  {
   "cell_type": "code",
   "execution_count": 20,
   "outputs": [],
   "source": [
    "fp = open('my_file', 'w')"
   ],
   "metadata": {
    "collapsed": false,
    "ExecuteTime": {
     "end_time": "2023-11-14T09:07:35.566853700Z",
     "start_time": "2023-11-14T09:07:35.308066100Z"
    }
   },
   "id": "844df048b420b910"
  },
  {
   "cell_type": "code",
   "execution_count": 21,
   "id": "62c231ca",
   "metadata": {
    "ExecuteTime": {
     "end_time": "2023-11-14T09:07:35.604870400Z",
     "start_time": "2023-11-14T09:07:35.310934800Z"
    }
   },
   "outputs": [
    {
     "data": {
      "text/plain": "<function TextIOWrapper.__enter__>"
     },
     "execution_count": 21,
     "metadata": {},
     "output_type": "execute_result"
    }
   ],
   "source": [
    "fp.__enter__"
   ]
  },
  {
   "cell_type": "code",
   "execution_count": 22,
   "id": "8f11e40c",
   "metadata": {
    "ExecuteTime": {
     "end_time": "2023-11-14T09:07:35.649664Z",
     "start_time": "2023-11-14T09:07:35.313877600Z"
    }
   },
   "outputs": [
    {
     "data": {
      "text/plain": "<function TextIOWrapper.__exit__>"
     },
     "execution_count": 22,
     "metadata": {},
     "output_type": "execute_result"
    }
   ],
   "source": [
    "fp.__exit__"
   ]
  },
  {
   "cell_type": "code",
   "execution_count": 23,
   "outputs": [],
   "source": [
    "fp.close()"
   ],
   "metadata": {
    "collapsed": false,
    "ExecuteTime": {
     "end_time": "2023-11-14T09:07:35.711005100Z",
     "start_time": "2023-11-14T09:07:35.316628500Z"
    }
   },
   "id": "aeb0c1b385428e76"
  },
  {
   "cell_type": "markdown",
   "id": "9c4b4556",
   "metadata": {},
   "source": [
    "## 自定义上下文管理器\n",
    "\n",
    "可以定义一个支持上述方法的自定义上下文管理器："
   ]
  },
  {
   "cell_type": "code",
   "execution_count": 24,
   "id": "0623b88b",
   "metadata": {
    "ExecuteTime": {
     "end_time": "2023-11-14T09:07:35.712267300Z",
     "start_time": "2023-11-14T09:07:35.319229800Z"
    }
   },
   "outputs": [],
   "source": [
    "class TestManager(object):\n",
    "    \n",
    "    def __enter__(self):\n",
    "        print(\"Entering\")\n",
    "\n",
    "    def __exit__(self, exc_type, exc_value, traceback):\n",
    "        print(\"Exiting\")"
   ]
  },
  {
   "cell_type": "code",
   "execution_count": 25,
   "id": "99a42705",
   "metadata": {
    "ExecuteTime": {
     "end_time": "2023-11-14T09:07:35.712267300Z",
     "start_time": "2023-11-14T09:07:35.322302300Z"
    }
   },
   "outputs": [
    {
     "name": "stdout",
     "output_type": "stream",
     "text": [
      "Entering\n",
      "Hello\n",
      "Exiting\n"
     ]
    }
   ],
   "source": [
    "with TestManager():\n",
    "    print(\"Hello\")"
   ]
  },
  {
   "cell_type": "markdown",
   "id": "4972036c",
   "metadata": {},
   "source": [
    "如果<statements>在执行过程中抛出了异常，.__exit__()方法会先被执行，然后抛出异常："
   ]
  },
  {
   "cell_type": "code",
   "execution_count": 26,
   "id": "599f8673",
   "metadata": {
    "ExecuteTime": {
     "end_time": "2023-11-14T09:07:35.712267300Z",
     "start_time": "2023-11-14T09:07:35.324815700Z"
    }
   },
   "outputs": [
    {
     "name": "stdout",
     "output_type": "stream",
     "text": [
      "Entering\n",
      "Exiting\n",
      "division by zero\n"
     ]
    }
   ],
   "source": [
    "try:\n",
    "    with TestManager():\n",
    "        print(1 / 0)\n",
    "except ZeroDivisionError as msg:\n",
    "    print(msg)"
   ]
  },
  {
   "cell_type": "markdown",
   "id": "fbc56f12",
   "metadata": {},
   "source": [
    "## 方法.__enter__()的返回值\n",
    "\n",
    "在读文件的例子中，在`<statements>`中使用文件对象时使用了as关键字的形式，将`open()`函数返回的文件对象赋给了f。事实上，as关键字只是将上下文管理器`.__enter__()`方法的返回值赋给了f，而文件对象的`.__enter__()`方法的返回值刚好是它本身："
   ]
  },
  {
   "cell_type": "code",
   "execution_count": 27,
   "id": "fd686320",
   "metadata": {
    "ExecuteTime": {
     "end_time": "2023-11-14T09:07:35.748684400Z",
     "start_time": "2023-11-14T09:07:35.328813900Z"
    }
   },
   "outputs": [
    {
     "data": {
      "text/plain": "True"
     },
     "execution_count": 27,
     "metadata": {},
     "output_type": "execute_result"
    }
   ],
   "source": [
    "fp = open('my_file', 'w')\n",
    "\n",
    "fp.__enter__() is fp"
   ]
  },
  {
   "cell_type": "code",
   "execution_count": 28,
   "id": "e8364f1a",
   "metadata": {
    "ExecuteTime": {
     "end_time": "2023-11-14T09:07:35.748684400Z",
     "start_time": "2023-11-14T09:07:35.332325200Z"
    }
   },
   "outputs": [],
   "source": [
    "fp.close()"
   ]
  },
  {
   "cell_type": "markdown",
   "id": "5c2978c3",
   "metadata": {},
   "source": [
    "一个通常的做法是将`.__enter__()`方法的返回值设为这个上下文管理器对象本身，也可以是其他值："
   ]
  },
  {
   "cell_type": "code",
   "execution_count": 29,
   "id": "21c53e92",
   "metadata": {
    "ExecuteTime": {
     "end_time": "2023-11-14T09:07:35.748684400Z",
     "start_time": "2023-11-14T09:07:35.335589500Z"
    }
   },
   "outputs": [],
   "source": [
    "class TestManager(object):\n",
    "\n",
    "    def __enter__(self):\n",
    "        print(\"Entering\")\n",
    "        return \"Hello\"\n",
    "\n",
    "    def __exit__(self, exc_type, exc_value, traceback):\n",
    "        print(\"Exiting\")"
   ]
  },
  {
   "cell_type": "code",
   "execution_count": 30,
   "id": "a7e1fede",
   "metadata": {
    "ExecuteTime": {
     "end_time": "2023-11-14T09:07:35.749684300Z",
     "start_time": "2023-11-14T09:07:35.337763800Z"
    }
   },
   "outputs": [
    {
     "name": "stdout",
     "output_type": "stream",
     "text": [
      "Entering\n",
      "Hello\n",
      "Exiting\n"
     ]
    }
   ],
   "source": [
    "with TestManager() as f:\n",
    "    print(f)"
   ]
  },
  {
   "cell_type": "markdown",
   "id": "12d97d29",
   "metadata": {},
   "source": [
    "## 错误处理\n",
    "\n",
    "`__exit__()`方法接受的参数中有一些错误信息，如果没有错误，这些参数为`None`，如果有错误，可以在这个方法里对一些错误进行处理："
   ]
  },
  {
   "cell_type": "code",
   "execution_count": 31,
   "id": "3fe439cc",
   "metadata": {
    "ExecuteTime": {
     "end_time": "2023-11-14T09:07:35.749684300Z",
     "start_time": "2023-11-14T09:07:35.339767800Z"
    }
   },
   "outputs": [],
   "source": [
    "class TestManager(object):\n",
    "\n",
    "    def __enter__(self):\n",
    "        print(\"Entering\")\n",
    "\n",
    "    def __exit__(self, exc_type, exc_value, traceback):\n",
    "        print(\"Exiting\")\n",
    "        if exc_type is not None:\n",
    "            print(f\"Exception: {exc_value}\")"
   ]
  },
  {
   "cell_type": "code",
   "execution_count": 32,
   "id": "a1173507",
   "metadata": {
    "ExecuteTime": {
     "end_time": "2023-11-14T09:07:35.749684300Z",
     "start_time": "2023-11-14T09:07:35.343681800Z"
    }
   },
   "outputs": [
    {
     "name": "stdout",
     "output_type": "stream",
     "text": [
      "Entering\n",
      "Exiting\n",
      "Exception: division by zero\n"
     ]
    },
    {
     "ename": "ZeroDivisionError",
     "evalue": "division by zero",
     "output_type": "error",
     "traceback": [
      "\u001B[1;31m---------------------------------------------------------------------------\u001B[0m",
      "\u001B[1;31mZeroDivisionError\u001B[0m                         Traceback (most recent call last)",
      "Cell \u001B[1;32mIn[32], line 2\u001B[0m\n\u001B[0;32m      1\u001B[0m \u001B[38;5;28;01mwith\u001B[39;00m TestManager() \u001B[38;5;28;01mas\u001B[39;00m f:\n\u001B[1;32m----> 2\u001B[0m     \u001B[38;5;28mprint\u001B[39m(\u001B[38;5;241m1\u001B[39m \u001B[38;5;241m/\u001B[39m \u001B[38;5;241m0\u001B[39m)\n",
      "\u001B[1;31mZeroDivisionError\u001B[0m: division by zero"
     ]
    }
   ],
   "source": [
    "with TestManager() as f:\n",
    "    print(1 / 0)"
   ]
  },
  {
   "cell_type": "markdown",
   "id": "d4a28957",
   "metadata": {},
   "source": [
    "如果不想让异常继续抛出，只需要将`.__exit__()`方法的返回值设为`True`："
   ]
  },
  {
   "cell_type": "code",
   "execution_count": 34,
   "id": "9a03474b",
   "metadata": {
    "ExecuteTime": {
     "end_time": "2023-11-14T09:07:51.535698400Z",
     "start_time": "2023-11-14T09:07:51.516613200Z"
    }
   },
   "outputs": [],
   "source": [
    "class TestManager(object):\n",
    "\n",
    "    def __enter__(self):\n",
    "        print(\"Entering\")\n",
    "\n",
    "    def __exit__(self, exc_type, exc_value, traceback):\n",
    "        print(\"Exiting\")\n",
    "        if exc_type is not None:\n",
    "            print(f\"Exception: {exc_value}\")\n",
    "        return True"
   ]
  },
  {
   "cell_type": "code",
   "execution_count": 35,
   "id": "fa73abc4",
   "metadata": {
    "ExecuteTime": {
     "end_time": "2023-11-14T09:07:53.604655800Z",
     "start_time": "2023-11-14T09:07:53.583415Z"
    }
   },
   "outputs": [
    {
     "name": "stdout",
     "output_type": "stream",
     "text": [
      "Entering\n",
      "Exiting\n",
      "Exception: division by zero\n"
     ]
    }
   ],
   "source": [
    "with TestManager() as f:\n",
    "    print(1 / 0)"
   ]
  },
  {
   "cell_type": "markdown",
   "id": "cd5089cc",
   "metadata": {},
   "source": [
    "清理临时文件："
   ]
  },
  {
   "cell_type": "code",
   "execution_count": 36,
   "id": "f3e36b49",
   "metadata": {
    "ExecuteTime": {
     "end_time": "2023-11-14T09:07:55.795673700Z",
     "start_time": "2023-11-14T09:07:55.775633200Z"
    }
   },
   "outputs": [
    {
     "ename": "FileNotFoundError",
     "evalue": "[WinError 2] 系统找不到指定的文件。: 'my_file'",
     "output_type": "error",
     "traceback": [
      "\u001B[1;31m---------------------------------------------------------------------------\u001B[0m",
      "\u001B[1;31mFileNotFoundError\u001B[0m                         Traceback (most recent call last)",
      "Cell \u001B[1;32mIn[36], line 3\u001B[0m\n\u001B[0;32m      1\u001B[0m \u001B[38;5;66;03m# %rm my_file\u001B[39;00m\n\u001B[0;32m      2\u001B[0m \u001B[38;5;28;01mimport\u001B[39;00m \u001B[38;5;21;01mos\u001B[39;00m\n\u001B[1;32m----> 3\u001B[0m os\u001B[38;5;241m.\u001B[39mremove(\u001B[38;5;124m'\u001B[39m\u001B[38;5;124mmy_file\u001B[39m\u001B[38;5;124m'\u001B[39m)\n",
      "\u001B[1;31mFileNotFoundError\u001B[0m: [WinError 2] 系统找不到指定的文件。: 'my_file'"
     ]
    }
   ],
   "source": [
    "# %rm my_file\n",
    "import os\n",
    "os.remove('my_file')"
   ]
  }
 ],
 "metadata": {
  "kernelspec": {
   "display_name": "Python 3 (ipykernel)",
   "language": "python",
   "name": "python3"
  },
  "language_info": {
   "codemirror_mode": {
    "name": "ipython",
    "version": 3
   },
   "file_extension": ".py",
   "mimetype": "text/x-python",
   "name": "python",
   "nbconvert_exporter": "python",
   "pygments_lexer": "ipython3",
   "version": "3.9.10"
  }
 },
 "nbformat": 4,
 "nbformat_minor": 5
}
