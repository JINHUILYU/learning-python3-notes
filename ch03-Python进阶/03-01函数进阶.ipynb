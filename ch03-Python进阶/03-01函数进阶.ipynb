{
 "cells": [
  {
   "cell_type": "markdown",
   "id": "d4a53758",
   "metadata": {},
   "source": [
    "# 函数进阶\n",
    "\n",
    "## 函数的参数传递"
   ]
  },
  {
   "cell_type": "markdown",
   "id": "5e628c6f",
   "metadata": {},
   "source": [
    "Python的函数采用了引用传递的方法，即传递参数时，并不复制一份参数的内容，而是将参数的引用传递给函数。\n",
    "\n",
    "例如："
   ]
  },
  {
   "cell_type": "code",
   "execution_count": 1,
   "id": "003fa7c4",
   "metadata": {
    "ExecuteTime": {
     "end_time": "2023-11-14T08:16:49.646943500Z",
     "start_time": "2023-11-14T08:16:49.641736200Z"
    }
   },
   "outputs": [],
   "source": [
    "def f(x):\n",
    "    return id(x)"
   ]
  },
  {
   "cell_type": "code",
   "execution_count": 2,
   "id": "fef96338",
   "metadata": {
    "ExecuteTime": {
     "end_time": "2023-11-14T08:16:54.471828800Z",
     "start_time": "2023-11-14T08:16:54.454800900Z"
    }
   },
   "outputs": [],
   "source": [
    "a = 1.2"
   ]
  },
  {
   "cell_type": "code",
   "execution_count": 3,
   "id": "bedf2afb",
   "metadata": {
    "ExecuteTime": {
     "end_time": "2023-11-14T08:16:57.680248100Z",
     "start_time": "2023-11-14T08:16:57.662714Z"
    }
   },
   "outputs": [
    {
     "data": {
      "text/plain": "1885872522000"
     },
     "execution_count": 3,
     "metadata": {},
     "output_type": "execute_result"
    }
   ],
   "source": [
    "id(a)"
   ]
  },
  {
   "cell_type": "code",
   "execution_count": 4,
   "id": "a10c5f49",
   "metadata": {
    "ExecuteTime": {
     "end_time": "2023-11-14T08:17:00.444199500Z",
     "start_time": "2023-11-14T08:17:00.428539Z"
    }
   },
   "outputs": [
    {
     "data": {
      "text/plain": "1885872522000"
     },
     "execution_count": 4,
     "metadata": {},
     "output_type": "execute_result"
    }
   ],
   "source": [
    "f(a)"
   ]
  },
  {
   "cell_type": "markdown",
   "id": "f66b0b35",
   "metadata": {},
   "source": [
    "函数`f(a)`的返回值与a的内存地址是一致的。这表示，当函数`f()`被调用时，Python并没有将a的值复制一份传给参数x，而是让参数x与a共享了同一块内存。所以a和x是同一个对象。\n",
    "\n",
    "对于列表有类似的结论："
   ]
  },
  {
   "cell_type": "code",
   "execution_count": 5,
   "id": "40de4e9c",
   "metadata": {
    "ExecuteTime": {
     "end_time": "2023-11-14T08:17:10.275072500Z",
     "start_time": "2023-11-14T08:17:10.256923200Z"
    }
   },
   "outputs": [],
   "source": [
    "b = [1, 2, 3]"
   ]
  },
  {
   "cell_type": "code",
   "execution_count": 6,
   "id": "209b58ca",
   "metadata": {
    "ExecuteTime": {
     "end_time": "2023-11-14T08:17:12.450035300Z",
     "start_time": "2023-11-14T08:17:12.417463900Z"
    }
   },
   "outputs": [
    {
     "data": {
      "text/plain": "1885851988928"
     },
     "execution_count": 6,
     "metadata": {},
     "output_type": "execute_result"
    }
   ],
   "source": [
    "f(b)"
   ]
  },
  {
   "cell_type": "code",
   "execution_count": 7,
   "id": "3ba2ebff",
   "metadata": {
    "ExecuteTime": {
     "end_time": "2023-11-14T08:17:13.508094100Z",
     "start_time": "2023-11-14T08:17:13.490069800Z"
    }
   },
   "outputs": [
    {
     "data": {
      "text/plain": "1885851988928"
     },
     "execution_count": 7,
     "metadata": {},
     "output_type": "execute_result"
    }
   ],
   "source": [
    "id(b)"
   ]
  },
  {
   "cell_type": "markdown",
   "id": "255f72f0",
   "metadata": {},
   "source": [
    "共享同一个对象的机制意味着，可以在函数中修改传入参数的值。例如："
   ]
  },
  {
   "cell_type": "code",
   "execution_count": 8,
   "id": "2fc37814",
   "metadata": {
    "ExecuteTime": {
     "end_time": "2023-11-14T08:17:24.959036300Z",
     "start_time": "2023-11-14T08:17:24.926501500Z"
    }
   },
   "outputs": [],
   "source": [
    "def mod_f(x):\n",
    "    x[0] = 999\n",
    "    return x"
   ]
  },
  {
   "cell_type": "code",
   "execution_count": 9,
   "id": "426c51d7",
   "metadata": {
    "ExecuteTime": {
     "end_time": "2023-11-14T08:17:28.654059700Z",
     "start_time": "2023-11-14T08:17:28.636451700Z"
    }
   },
   "outputs": [
    {
     "data": {
      "text/plain": "[1, 2, 3]"
     },
     "execution_count": 9,
     "metadata": {},
     "output_type": "execute_result"
    }
   ],
   "source": [
    "b"
   ]
  },
  {
   "cell_type": "code",
   "execution_count": 10,
   "id": "1b77b973",
   "metadata": {
    "ExecuteTime": {
     "end_time": "2023-11-14T08:17:34.704953700Z",
     "start_time": "2023-11-14T08:17:34.682822500Z"
    }
   },
   "outputs": [
    {
     "data": {
      "text/plain": "[999, 2, 3]"
     },
     "execution_count": 10,
     "metadata": {},
     "output_type": "execute_result"
    }
   ],
   "source": [
    "mod_f(b)"
   ]
  },
  {
   "cell_type": "code",
   "execution_count": 11,
   "id": "4f014365",
   "metadata": {
    "ExecuteTime": {
     "end_time": "2023-11-14T08:17:40.823796200Z",
     "start_time": "2023-11-14T08:17:40.803297600Z"
    }
   },
   "outputs": [
    {
     "data": {
      "text/plain": "[999, 2, 3]"
     },
     "execution_count": 11,
     "metadata": {},
     "output_type": "execute_result"
    }
   ],
   "source": [
    "b"
   ]
  },
  {
   "cell_type": "markdown",
   "id": "cd196d65",
   "metadata": {},
   "source": [
    "不过，如果在函数中给参数x赋了一个新值，如另一个列表，根据赋值机制，虽然x指向一个新的内存位置，但原来的变量不会改变："
   ]
  },
  {
   "cell_type": "code",
   "execution_count": 12,
   "id": "68dce8b7",
   "metadata": {
    "ExecuteTime": {
     "end_time": "2023-11-14T08:18:51.447588100Z",
     "start_time": "2023-11-14T08:18:51.428060100Z"
    }
   },
   "outputs": [],
   "source": [
    "def no_mod_f(x):\n",
    "    x = [4, 5, 6]\n",
    "    return x"
   ]
  },
  {
   "cell_type": "code",
   "execution_count": 13,
   "id": "7b474ccc",
   "metadata": {
    "ExecuteTime": {
     "end_time": "2023-11-14T08:18:53.785654Z",
     "start_time": "2023-11-14T08:18:53.753588700Z"
    }
   },
   "outputs": [
    {
     "data": {
      "text/plain": "[4, 5, 6]"
     },
     "execution_count": 13,
     "metadata": {},
     "output_type": "execute_result"
    }
   ],
   "source": [
    "no_mod_f(b)"
   ]
  },
  {
   "cell_type": "code",
   "execution_count": 14,
   "id": "b3bed828",
   "metadata": {
    "ExecuteTime": {
     "end_time": "2023-11-14T08:18:57.953815800Z",
     "start_time": "2023-11-14T08:18:57.920948900Z"
    }
   },
   "outputs": [
    {
     "data": {
      "text/plain": "[999, 2, 3]"
     },
     "execution_count": 14,
     "metadata": {},
     "output_type": "execute_result"
    }
   ],
   "source": [
    "b"
   ]
  },
  {
   "cell_type": "markdown",
   "id": "e16cf62a",
   "metadata": {},
   "source": [
    "## 默认参数的传递"
   ]
  },
  {
   "cell_type": "markdown",
   "id": "587198fd",
   "metadata": {},
   "source": [
    "有默认参数的情况下，Python会在函数定义时，预先为默认参数分配内存，以避免每次生成一个额外的默认参数。这样做能够节约一定的空间，不过也可能会得到一些与直觉不符的结果。例如："
   ]
  },
  {
   "cell_type": "code",
   "execution_count": 15,
   "id": "133b2be2",
   "metadata": {
    "ExecuteTime": {
     "end_time": "2023-11-14T08:19:04.872587900Z",
     "start_time": "2023-11-14T08:19:04.854570900Z"
    }
   },
   "outputs": [],
   "source": [
    "def f(x = []):\n",
    "    x.append(1)\n",
    "    return x"
   ]
  },
  {
   "cell_type": "markdown",
   "id": "cc5dbb86",
   "metadata": {},
   "source": [
    "理论上说，调用 `f()` 时返回的是 `[1]`， 但事实上："
   ]
  },
  {
   "cell_type": "code",
   "execution_count": 16,
   "id": "ec4cbacd",
   "metadata": {
    "ExecuteTime": {
     "end_time": "2023-11-14T08:19:26.501902Z",
     "start_time": "2023-11-14T08:19:26.484207100Z"
    }
   },
   "outputs": [
    {
     "data": {
      "text/plain": "[1]"
     },
     "execution_count": 16,
     "metadata": {},
     "output_type": "execute_result"
    }
   ],
   "source": [
    "f()"
   ]
  },
  {
   "cell_type": "code",
   "execution_count": 17,
   "id": "ef5c79b5",
   "metadata": {
    "ExecuteTime": {
     "end_time": "2023-11-14T08:19:29.638784100Z",
     "start_time": "2023-11-14T08:19:29.618537400Z"
    }
   },
   "outputs": [
    {
     "data": {
      "text/plain": "[1, 1]"
     },
     "execution_count": 17,
     "metadata": {},
     "output_type": "execute_result"
    }
   ],
   "source": [
    "f()"
   ]
  },
  {
   "cell_type": "code",
   "execution_count": 18,
   "id": "ca57f94d",
   "metadata": {
    "ExecuteTime": {
     "end_time": "2023-11-14T08:19:31.363338400Z",
     "start_time": "2023-11-14T08:19:31.345861200Z"
    }
   },
   "outputs": [
    {
     "data": {
      "text/plain": "[1, 1, 1]"
     },
     "execution_count": 18,
     "metadata": {},
     "output_type": "execute_result"
    }
   ],
   "source": [
    "f()"
   ]
  },
  {
   "cell_type": "markdown",
   "id": "147f8237",
   "metadata": {},
   "source": [
    "随着函数的调用，默认参数会被一直改变。这并不是Python的bug，且这种特性可以用于缓存。如果不想要这样的特性，可以这样定义函数："
   ]
  },
  {
   "cell_type": "code",
   "execution_count": 19,
   "id": "23a441a7",
   "metadata": {
    "ExecuteTime": {
     "end_time": "2023-11-14T08:19:56.312151100Z",
     "start_time": "2023-11-14T08:19:56.282448300Z"
    }
   },
   "outputs": [],
   "source": [
    "def f(x = None):\n",
    "    if not x:  # 如果x为None，创建一个空列表\n",
    "        x = []    \n",
    "    x.append(1)\n",
    "    return x"
   ]
  },
  {
   "cell_type": "code",
   "execution_count": 20,
   "id": "bbfaae61",
   "metadata": {
    "ExecuteTime": {
     "end_time": "2023-11-14T08:19:58.935201800Z",
     "start_time": "2023-11-14T08:19:58.915810100Z"
    }
   },
   "outputs": [
    {
     "data": {
      "text/plain": "[1]"
     },
     "execution_count": 20,
     "metadata": {},
     "output_type": "execute_result"
    }
   ],
   "source": [
    "f()"
   ]
  },
  {
   "cell_type": "code",
   "execution_count": 21,
   "id": "5499605d",
   "metadata": {
    "ExecuteTime": {
     "end_time": "2023-11-14T08:20:00.338581400Z",
     "start_time": "2023-11-14T08:20:00.306267Z"
    }
   },
   "outputs": [
    {
     "data": {
      "text/plain": "[1]"
     },
     "execution_count": 21,
     "metadata": {},
     "output_type": "execute_result"
    }
   ],
   "source": [
    "f()"
   ]
  },
  {
   "cell_type": "markdown",
   "id": "60aa85c8",
   "metadata": {},
   "source": [
    "## 高阶函数"
   ]
  },
  {
   "cell_type": "markdown",
   "id": "544e2088",
   "metadata": {},
   "source": [
    "以函数作为参数，或者返回一个函数的函数都是高阶函数。在Python中，函数也是一种基本类型的对象，例如："
   ]
  },
  {
   "cell_type": "code",
   "execution_count": 22,
   "id": "04188365",
   "metadata": {
    "ExecuteTime": {
     "end_time": "2023-11-14T08:20:32.289545300Z",
     "start_time": "2023-11-14T08:20:32.267625500Z"
    }
   },
   "outputs": [
    {
     "data": {
      "text/plain": "<function max>"
     },
     "execution_count": 22,
     "metadata": {},
     "output_type": "execute_result"
    }
   ],
   "source": [
    "max"
   ]
  },
  {
   "cell_type": "code",
   "execution_count": 23,
   "id": "2a9115d0",
   "metadata": {
    "ExecuteTime": {
     "end_time": "2023-11-14T08:20:37.804179400Z",
     "start_time": "2023-11-14T08:20:37.770644900Z"
    }
   },
   "outputs": [
    {
     "data": {
      "text/plain": "builtin_function_or_method"
     },
     "execution_count": 23,
     "metadata": {},
     "output_type": "execute_result"
    }
   ],
   "source": [
    "type(max)"
   ]
  },
  {
   "cell_type": "markdown",
   "id": "05b2407d",
   "metadata": {},
   "source": [
    "对象性意味着可以对函数进行以下操作：\n",
    "- 将函数作为参数传给另一个函数。\n",
    "- 将函数名赋值给另一个变量。\n",
    "- 将函数作为另一个函数的返回值。\n",
    "\n",
    "例如："
   ]
  },
  {
   "cell_type": "code",
   "execution_count": 24,
   "id": "97429c11",
   "metadata": {
    "ExecuteTime": {
     "end_time": "2023-11-14T08:20:45.037517600Z",
     "start_time": "2023-11-14T08:20:45.019489Z"
    }
   },
   "outputs": [],
   "source": [
    "def square(x):\n",
    "    \"\"\"Square of x.\"\"\"\n",
    "    return x*x\n",
    "\n",
    "def cube(x):\n",
    "    \"\"\"Cube of x.\"\"\"\n",
    "    return x*x*x"
   ]
  },
  {
   "cell_type": "markdown",
   "id": "9fdec6e5",
   "metadata": {},
   "source": [
    "可以将它们作为字典的值："
   ]
  },
  {
   "cell_type": "code",
   "execution_count": 25,
   "id": "71a6e5c6",
   "metadata": {
    "ExecuteTime": {
     "end_time": "2023-11-14T08:20:52.146815Z",
     "start_time": "2023-11-14T08:20:52.128286Z"
    }
   },
   "outputs": [],
   "source": [
    "funcs = {\n",
    "    'square': square,\n",
    "    'cube': cube,\n",
    "}"
   ]
  },
  {
   "cell_type": "markdown",
   "id": "44fd6211",
   "metadata": {},
   "source": [
    "调用这些函数："
   ]
  },
  {
   "cell_type": "code",
   "execution_count": 27,
   "id": "52beca84",
   "metadata": {
    "ExecuteTime": {
     "end_time": "2023-11-14T08:21:36.920574400Z",
     "start_time": "2023-11-14T08:21:36.899555100Z"
    }
   },
   "outputs": [
    {
     "data": {
      "text/plain": "(9, <function __main__.square(x)>)"
     },
     "execution_count": 27,
     "metadata": {},
     "output_type": "execute_result"
    }
   ],
   "source": [
    "funcs['square'](3), funcs['square']"
   ]
  },
  {
   "cell_type": "markdown",
   "id": "d602c33a",
   "metadata": {},
   "source": [
    "常见的高阶内置函数有 `map()` 和 `filter()`。\n",
    "```python\n",
    "map(f, sq)\n",
    "```\n",
    "将函数f作用在序列sq的每个元素上，得到结果组成的新序列。例如"
   ]
  },
  {
   "cell_type": "code",
   "execution_count": 28,
   "id": "37aadbcc",
   "metadata": {
    "ExecuteTime": {
     "end_time": "2023-11-14T08:21:49.930299400Z",
     "start_time": "2023-11-14T08:21:49.911978100Z"
    }
   },
   "outputs": [
    {
     "data": {
      "text/plain": "<map at 0x1b716c23a30>"
     },
     "execution_count": 28,
     "metadata": {},
     "output_type": "execute_result"
    }
   ],
   "source": [
    "map(square, range(5))"
   ]
  },
  {
   "cell_type": "markdown",
   "id": "57b1ab3f",
   "metadata": {},
   "source": [
    "返回的结果是一个map迭代器，可以将其转换为列表："
   ]
  },
  {
   "cell_type": "code",
   "execution_count": 29,
   "id": "dfb14a37",
   "metadata": {
    "ExecuteTime": {
     "end_time": "2023-11-14T08:21:59.389807200Z",
     "start_time": "2023-11-14T08:21:59.366497500Z"
    }
   },
   "outputs": [
    {
     "data": {
      "text/plain": "[0, 1, 4, 9, 16]"
     },
     "execution_count": 29,
     "metadata": {},
     "output_type": "execute_result"
    }
   ],
   "source": [
    "list(map(square, range(5)))"
   ]
  },
  {
   "cell_type": "markdown",
   "id": "6b4c448d",
   "metadata": {},
   "source": [
    "```python\n",
    "filter(f, sq)\n",
    "```\n",
    "将函数f作用在序列sq的每个元素上，保留所有结果为`True`的元素。例如："
   ]
  },
  {
   "cell_type": "code",
   "execution_count": 30,
   "id": "f0025e81",
   "metadata": {
    "ExecuteTime": {
     "end_time": "2023-11-14T08:22:18.279249500Z",
     "start_time": "2023-11-14T08:22:18.261726100Z"
    }
   },
   "outputs": [],
   "source": [
    "def is_even(x):\n",
    "    return x % 2 == 0"
   ]
  },
  {
   "cell_type": "code",
   "execution_count": 31,
   "id": "007342c0",
   "metadata": {
    "ExecuteTime": {
     "end_time": "2023-11-14T08:22:29.558178400Z",
     "start_time": "2023-11-14T08:22:29.539258100Z"
    }
   },
   "outputs": [
    {
     "data": {
      "text/plain": "<filter at 0x1b716c21cf0>"
     },
     "execution_count": 31,
     "metadata": {},
     "output_type": "execute_result"
    }
   ],
   "source": [
    "filter(is_even, range(5))"
   ]
  },
  {
   "cell_type": "code",
   "execution_count": 32,
   "id": "6ab0af5b",
   "metadata": {
    "ExecuteTime": {
     "end_time": "2023-11-14T08:22:38.379545200Z",
     "start_time": "2023-11-14T08:22:38.358377400Z"
    }
   },
   "outputs": [
    {
     "data": {
      "text/plain": "[0, 2, 4]"
     },
     "execution_count": 32,
     "metadata": {},
     "output_type": "execute_result"
    }
   ],
   "source": [
    "list(filter(is_even, range(5)))"
   ]
  },
  {
   "cell_type": "markdown",
   "id": "d5ef5539",
   "metadata": {},
   "source": [
    "函数的返回值也可以是个函数。例如，定义一个返回函数的函数："
   ]
  },
  {
   "cell_type": "code",
   "execution_count": 33,
   "id": "eca0808b",
   "metadata": {
    "ExecuteTime": {
     "end_time": "2023-11-14T08:23:25.785734Z",
     "start_time": "2023-11-14T08:23:25.767201500Z"
    }
   },
   "outputs": [],
   "source": [
    "def power_func(num):\n",
    "    def func(x):\n",
    "        return x ** num\n",
    "    return func"
   ]
  },
  {
   "cell_type": "markdown",
   "id": "c9cee080",
   "metadata": {},
   "source": [
    "平方和立方函数可以使用该函数定义出来："
   ]
  },
  {
   "cell_type": "code",
   "execution_count": 34,
   "id": "372fb5ec",
   "metadata": {
    "ExecuteTime": {
     "end_time": "2023-11-14T08:24:04.954295400Z",
     "start_time": "2023-11-14T08:24:04.931256Z"
    }
   },
   "outputs": [],
   "source": [
    "square2 = power_func(2)"
   ]
  },
  {
   "cell_type": "code",
   "execution_count": 35,
   "id": "cebe177e",
   "metadata": {
    "ExecuteTime": {
     "end_time": "2023-11-14T08:24:05.956269600Z",
     "start_time": "2023-11-14T08:24:05.934231Z"
    }
   },
   "outputs": [],
   "source": [
    "cube2 = power_func(3)"
   ]
  },
  {
   "cell_type": "code",
   "execution_count": 36,
   "id": "405b8974",
   "metadata": {
    "ExecuteTime": {
     "end_time": "2023-11-14T08:24:17.383400800Z",
     "start_time": "2023-11-14T08:24:17.359922500Z"
    }
   },
   "outputs": [
    {
     "data": {
      "text/plain": "function"
     },
     "execution_count": 36,
     "metadata": {},
     "output_type": "execute_result"
    }
   ],
   "source": [
    "type(square2)"
   ]
  },
  {
   "cell_type": "code",
   "execution_count": 37,
   "id": "7d62ee4c",
   "metadata": {
    "ExecuteTime": {
     "end_time": "2023-11-14T08:24:18.779012200Z",
     "start_time": "2023-11-14T08:24:18.754106100Z"
    }
   },
   "outputs": [
    {
     "data": {
      "text/plain": "100"
     },
     "execution_count": 37,
     "metadata": {},
     "output_type": "execute_result"
    }
   ],
   "source": [
    "square2(10)"
   ]
  },
  {
   "cell_type": "code",
   "execution_count": 38,
   "id": "eb9af915",
   "metadata": {
    "ExecuteTime": {
     "end_time": "2023-11-14T08:24:21.453156100Z",
     "start_time": "2023-11-14T08:24:21.433343800Z"
    }
   },
   "outputs": [
    {
     "data": {
      "text/plain": "27"
     },
     "execution_count": 38,
     "metadata": {},
     "output_type": "execute_result"
    }
   ],
   "source": [
    "cube2(3)"
   ]
  },
  {
   "cell_type": "markdown",
   "id": "b1a7f3ab",
   "metadata": {},
   "source": [
    "## Lambda表达式\n",
    "\n",
    "Python提供了Lambda表达式，简化函数的定义，来定义一些匿名函数。\n",
    "\n",
    "```python\n",
    "lambda <variables>: <expression>\n",
    "```\n",
    "\n",
    "Lambda表达式返回的是一个函数对象，接受`<variables>`作为参数，返回`<expression>`："
   ]
  },
  {
   "cell_type": "code",
   "execution_count": 39,
   "id": "f68cc2d3",
   "metadata": {
    "ExecuteTime": {
     "end_time": "2023-11-14T08:24:52.990338100Z",
     "start_time": "2023-11-14T08:24:52.965268500Z"
    }
   },
   "outputs": [],
   "source": [
    "square3 = lambda x: x ** 2\n",
    "cube3 = lambda x: x ** 3"
   ]
  },
  {
   "cell_type": "code",
   "execution_count": 40,
   "id": "0bc83b6e",
   "metadata": {
    "ExecuteTime": {
     "end_time": "2023-11-14T08:24:59.252099700Z",
     "start_time": "2023-11-14T08:24:59.233158100Z"
    }
   },
   "outputs": [
    {
     "data": {
      "text/plain": "function"
     },
     "execution_count": 40,
     "metadata": {},
     "output_type": "execute_result"
    }
   ],
   "source": [
    "type(square3)"
   ]
  },
  {
   "cell_type": "code",
   "execution_count": 41,
   "id": "e561c2d9",
   "metadata": {
    "ExecuteTime": {
     "end_time": "2023-11-14T08:25:10.353613100Z",
     "start_time": "2023-11-14T08:25:10.334015900Z"
    }
   },
   "outputs": [
    {
     "data": {
      "text/plain": "100"
     },
     "execution_count": 41,
     "metadata": {},
     "output_type": "execute_result"
    }
   ],
   "source": [
    "square3(10)"
   ]
  },
  {
   "cell_type": "code",
   "execution_count": 42,
   "id": "7bfd0448",
   "metadata": {
    "ExecuteTime": {
     "end_time": "2023-11-14T08:25:31.374044500Z",
     "start_time": "2023-11-14T08:25:31.354380100Z"
    }
   },
   "outputs": [
    {
     "data": {
      "text/plain": "27"
     },
     "execution_count": 42,
     "metadata": {},
     "output_type": "execute_result"
    }
   ],
   "source": [
    "cube3(3)"
   ]
  },
  {
   "cell_type": "markdown",
   "id": "3e566e61",
   "metadata": {},
   "source": [
    "## 关键字global\n",
    "\n",
    "在Python中，函数可以直接使用外部已定义好的变量值："
   ]
  },
  {
   "cell_type": "code",
   "execution_count": 43,
   "id": "7be8cb1d",
   "metadata": {
    "ExecuteTime": {
     "end_time": "2023-11-14T08:25:34.571824400Z",
     "start_time": "2023-11-14T08:25:34.554212200Z"
    }
   },
   "outputs": [],
   "source": [
    "x = 15\n",
    "\n",
    "def print_x():\n",
    "    print(x)"
   ]
  },
  {
   "cell_type": "code",
   "execution_count": 44,
   "id": "0c885e94",
   "metadata": {
    "ExecuteTime": {
     "end_time": "2023-11-14T08:25:38.133252700Z",
     "start_time": "2023-11-14T08:25:38.102197400Z"
    }
   },
   "outputs": [
    {
     "name": "stdout",
     "output_type": "stream",
     "text": [
      "15\n"
     ]
    }
   ],
   "source": [
    "print_x()"
   ]
  },
  {
   "cell_type": "markdown",
   "id": "a234f1c7",
   "metadata": {},
   "source": [
    "如果想在函数中直接改x的值，需要加上关键字`global`："
   ]
  },
  {
   "cell_type": "code",
   "execution_count": 45,
   "id": "5d3e45b1",
   "metadata": {
    "ExecuteTime": {
     "end_time": "2023-11-14T08:25:42.214343700Z",
     "start_time": "2023-11-14T08:25:42.188798800Z"
    }
   },
   "outputs": [],
   "source": [
    "x = 15\n",
    "\n",
    "def print_newx():\n",
    "    global x  # 加上global关键字，表示在函数中使用全局变量x\n",
    "    x = 18\n",
    "    print(x)"
   ]
  },
  {
   "cell_type": "code",
   "execution_count": 46,
   "id": "97a2c48f",
   "metadata": {
    "ExecuteTime": {
     "end_time": "2023-11-14T08:25:51.099534900Z",
     "start_time": "2023-11-14T08:25:51.080300700Z"
    }
   },
   "outputs": [
    {
     "name": "stdout",
     "output_type": "stream",
     "text": [
      "18\n"
     ]
    }
   ],
   "source": [
    "print_newx()"
   ]
  },
  {
   "cell_type": "code",
   "execution_count": 47,
   "id": "b6fe7566",
   "metadata": {
    "ExecuteTime": {
     "end_time": "2023-11-14T08:25:52.315977Z",
     "start_time": "2023-11-14T08:25:52.296684700Z"
    }
   },
   "outputs": [
    {
     "data": {
      "text/plain": "18"
     },
     "execution_count": 47,
     "metadata": {},
     "output_type": "execute_result"
    }
   ],
   "source": [
    "x"
   ]
  },
  {
   "cell_type": "markdown",
   "id": "a236dc2a",
   "metadata": {},
   "source": [
    "如果不加，x的值不会改变："
   ]
  },
  {
   "cell_type": "code",
   "execution_count": 48,
   "id": "12449e81",
   "metadata": {
    "ExecuteTime": {
     "end_time": "2023-11-14T08:26:11.169297700Z",
     "start_time": "2023-11-14T08:26:11.147264900Z"
    }
   },
   "outputs": [],
   "source": [
    "x = 15\n",
    "\n",
    "def print_newx():\n",
    "    x = 18\n",
    "    print(x)"
   ]
  },
  {
   "cell_type": "code",
   "execution_count": 49,
   "id": "bd43caef",
   "metadata": {
    "ExecuteTime": {
     "end_time": "2023-11-14T08:26:13.956306800Z",
     "start_time": "2023-11-14T08:26:13.938770500Z"
    }
   },
   "outputs": [
    {
     "name": "stdout",
     "output_type": "stream",
     "text": [
      "18\n"
     ]
    }
   ],
   "source": [
    "print_newx()"
   ]
  },
  {
   "cell_type": "code",
   "execution_count": 50,
   "id": "d5927808",
   "metadata": {
    "ExecuteTime": {
     "end_time": "2023-11-14T08:26:16.035173900Z",
     "start_time": "2023-11-14T08:26:16.008949300Z"
    }
   },
   "outputs": [
    {
     "data": {
      "text/plain": "15"
     },
     "execution_count": 50,
     "metadata": {},
     "output_type": "execute_result"
    }
   ],
   "source": [
    "x"
   ]
  },
  {
   "cell_type": "markdown",
   "id": "106a7a1b",
   "metadata": {},
   "source": [
    "## 递归\n",
    "\n",
    "递归是指函数在执行的过程中调用了本身，一般用于分治法。例如，阶乘函数："
   ]
  },
  {
   "cell_type": "code",
   "execution_count": 51,
   "id": "b170fc70",
   "metadata": {
    "ExecuteTime": {
     "end_time": "2023-11-14T08:26:40.032662400Z",
     "start_time": "2023-11-14T08:26:40.013725400Z"
    }
   },
   "outputs": [],
   "source": [
    "def fact(n):\n",
    "    return 1 if n == 0 else n * fact(n-1)"
   ]
  },
  {
   "cell_type": "code",
   "execution_count": 52,
   "id": "a9c58005",
   "metadata": {
    "ExecuteTime": {
     "end_time": "2023-11-14T08:26:42.759579300Z",
     "start_time": "2023-11-14T08:26:42.728829200Z"
    }
   },
   "outputs": [
    {
     "data": {
      "text/plain": "720"
     },
     "execution_count": 52,
     "metadata": {},
     "output_type": "execute_result"
    }
   ],
   "source": [
    "fact(6)"
   ]
  },
  {
   "cell_type": "code",
   "execution_count": 53,
   "outputs": [],
   "source": [
    "def fac(n):\n",
    "    if n == 0:\n",
    "        return 1\n",
    "    else:\n",
    "        return n * fac(n-1)"
   ],
   "metadata": {
    "collapsed": false,
    "ExecuteTime": {
     "end_time": "2023-11-14T08:27:21.701742500Z",
     "start_time": "2023-11-14T08:27:21.672710600Z"
    }
   },
   "id": "be1eedb5f6d9c8bb"
  },
  {
   "cell_type": "code",
   "execution_count": 54,
   "outputs": [
    {
     "data": {
      "text/plain": "720"
     },
     "execution_count": 54,
     "metadata": {},
     "output_type": "execute_result"
    }
   ],
   "source": [
    "fac(6)"
   ],
   "metadata": {
    "collapsed": false,
    "ExecuteTime": {
     "end_time": "2023-11-14T08:27:27.464237200Z",
     "start_time": "2023-11-14T08:27:27.426180100Z"
    }
   },
   "id": "38db797738e1be1d"
  },
  {
   "cell_type": "markdown",
   "id": "dadb8173",
   "metadata": {},
   "source": [
    "递归可以更快地实现代码，不过在效率上可能会有一定的损失。例如，斐波那契数列："
   ]
  },
  {
   "cell_type": "code",
   "execution_count": 55,
   "id": "eb80c5e3",
   "metadata": {
    "ExecuteTime": {
     "end_time": "2023-11-14T08:27:38.443193700Z",
     "start_time": "2023-11-14T08:27:38.424167Z"
    }
   },
   "outputs": [],
   "source": [
    "def fib1(n):\n",
    "    \"\"\"Fib with recursion.\"\"\"\n",
    "    return 1 if n in (0, 1) else fib1(n-1) + fib1(n-2)"
   ]
  },
  {
   "cell_type": "code",
   "execution_count": 56,
   "id": "32a8c66e",
   "metadata": {
    "ExecuteTime": {
     "end_time": "2023-11-14T08:27:40.889480400Z",
     "start_time": "2023-11-14T08:27:40.868991200Z"
    }
   },
   "outputs": [
    {
     "data": {
      "text/plain": "[1, 1, 2, 3, 5, 8, 13, 21, 34, 55]"
     },
     "execution_count": 56,
     "metadata": {},
     "output_type": "execute_result"
    }
   ],
   "source": [
    "list(map(fib1, range(10)))"
   ]
  },
  {
   "cell_type": "code",
   "execution_count": 57,
   "outputs": [],
   "source": [
    "def fib(n):\n",
    "    \"\"\"Fib with recursion.\"\"\"\n",
    "    if n in (0, 1):\n",
    "        return 1\n",
    "    else:\n",
    "        return fib(n-1) + fib(n-2)"
   ],
   "metadata": {
    "collapsed": false,
    "ExecuteTime": {
     "end_time": "2023-11-14T08:28:09.430486400Z",
     "start_time": "2023-11-14T08:28:09.406961600Z"
    }
   },
   "id": "97dfba8d20bc21a6"
  },
  {
   "cell_type": "code",
   "execution_count": 58,
   "outputs": [
    {
     "data": {
      "text/plain": "[1, 1, 2, 3, 5, 8, 13, 21, 34, 55]"
     },
     "execution_count": 58,
     "metadata": {},
     "output_type": "execute_result"
    }
   ],
   "source": [
    "list(map(fib, range(10)))"
   ],
   "metadata": {
    "collapsed": false,
    "ExecuteTime": {
     "end_time": "2023-11-14T08:28:14.208970500Z",
     "start_time": "2023-11-14T08:28:14.185171500Z"
    }
   },
   "id": "a626b32f1005058b"
  },
  {
   "cell_type": "markdown",
   "id": "3c88745c",
   "metadata": {},
   "source": [
    "非递归的方式的实现："
   ]
  },
  {
   "cell_type": "code",
   "execution_count": 59,
   "id": "63bab4c4",
   "metadata": {
    "ExecuteTime": {
     "end_time": "2023-11-14T08:28:33.878326500Z",
     "start_time": "2023-11-14T08:28:33.844207200Z"
    }
   },
   "outputs": [],
   "source": [
    "def fib2(n):\n",
    "    \"\"\"Fib without recursion.\"\"\"\n",
    "    a, b = 1, 1\n",
    "    for i in range(1, n+1):\n",
    "        a, b = b, a+b\n",
    "    return a"
   ]
  },
  {
   "cell_type": "code",
   "execution_count": 60,
   "id": "22254370",
   "metadata": {
    "ExecuteTime": {
     "end_time": "2023-11-14T08:29:57.424463800Z",
     "start_time": "2023-11-14T08:29:57.400535800Z"
    }
   },
   "outputs": [
    {
     "data": {
      "text/plain": "[1, 1, 2, 3, 5, 8, 13, 21, 34, 55]"
     },
     "execution_count": 60,
     "metadata": {},
     "output_type": "execute_result"
    }
   ],
   "source": [
    "list(map(fib2, range(10)))"
   ]
  },
  {
   "cell_type": "markdown",
   "id": "71b560a1",
   "metadata": {},
   "source": [
    "对这两个函数的运行时间进行比较："
   ]
  },
  {
   "cell_type": "code",
   "execution_count": 61,
   "id": "d5235418",
   "metadata": {
    "ExecuteTime": {
     "end_time": "2023-11-14T08:30:20.985212100Z",
     "start_time": "2023-11-14T08:30:20.180064400Z"
    }
   },
   "outputs": [
    {
     "name": "stdout",
     "output_type": "stream",
     "text": [
      "1.17 ms ± 123 µs per loop (mean ± std. dev. of 7 runs, 100 loops each)\n"
     ]
    }
   ],
   "source": [
    "%timeit -n 100 fib1(20)  # 递归版本"
   ]
  },
  {
   "cell_type": "code",
   "execution_count": 62,
   "id": "c442f901",
   "metadata": {
    "ExecuteTime": {
     "end_time": "2023-11-14T08:30:22.920972400Z",
     "start_time": "2023-11-14T08:30:22.900968600Z"
    }
   },
   "outputs": [
    {
     "name": "stdout",
     "output_type": "stream",
     "text": [
      "686 ns ± 13.3 ns per loop (mean ± std. dev. of 7 runs, 100 loops each)\n"
     ]
    }
   ],
   "source": [
    "%timeit -n 100 fib2(20)  # 非递归版本"
   ]
  },
  {
   "cell_type": "markdown",
   "id": "53d2df9f",
   "metadata": {},
   "source": [
    "可以看到，两者的效率有很大的差别，非递归版本比递归版本要快很多，原因是递归版本中存在大量的重复计算。\n",
    "\n",
    "为了减少递归中的重复，可以利用默认参数实现缓存机制："
   ]
  },
  {
   "cell_type": "code",
   "execution_count": 63,
   "id": "a0aeb950",
   "metadata": {
    "ExecuteTime": {
     "end_time": "2023-11-14T08:30:48.962986300Z",
     "start_time": "2023-11-14T08:30:48.942457400Z"
    }
   },
   "outputs": [],
   "source": [
    "def fib3(n, cache={0: 1, 1: 1}):\n",
    "    \"\"\"Fib with recursion and caching.\"\"\"\n",
    "    try:\n",
    "        return cache[n]\n",
    "    except KeyError:\n",
    "        cache[n] = fib3(n-1) + fib3(n-2)\n",
    "        return cache[n]"
   ]
  },
  {
   "cell_type": "code",
   "execution_count": 64,
   "id": "e6f6e4f6",
   "metadata": {
    "ExecuteTime": {
     "end_time": "2023-11-14T08:31:03.707331500Z",
     "start_time": "2023-11-14T08:31:03.674231600Z"
    }
   },
   "outputs": [
    {
     "data": {
      "text/plain": "[1, 1, 2, 3, 5, 8, 13, 21, 34, 55]"
     },
     "execution_count": 64,
     "metadata": {},
     "output_type": "execute_result"
    }
   ],
   "source": [
    "list(map(fib3, range(10)))"
   ]
  },
  {
   "cell_type": "code",
   "execution_count": 65,
   "id": "142964a0",
   "metadata": {
    "ExecuteTime": {
     "end_time": "2023-11-14T08:31:16.781462800Z",
     "start_time": "2023-11-14T08:31:16.762625100Z"
    }
   },
   "outputs": [
    {
     "name": "stdout",
     "output_type": "stream",
     "text": [
      "74.7 ns ± 30.7 ns per loop (mean ± std. dev. of 7 runs, 100 loops each)\n"
     ]
    }
   ],
   "source": [
    "%timeit -n 100 fib3(20)"
   ]
  }
 ],
 "metadata": {
  "kernelspec": {
   "display_name": "Python 3 (ipykernel)",
   "language": "python",
   "name": "python3"
  },
  "language_info": {
   "codemirror_mode": {
    "name": "ipython",
    "version": 3
   },
   "file_extension": ".py",
   "mimetype": "text/x-python",
   "name": "python",
   "nbconvert_exporter": "python",
   "pygments_lexer": "ipython3",
   "version": "3.9.10"
  }
 },
 "nbformat": 4,
 "nbformat_minor": 5
}
