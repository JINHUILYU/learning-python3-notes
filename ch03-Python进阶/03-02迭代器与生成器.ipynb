{
 "cells": [
  {
   "attachments": {},
   "cell_type": "markdown",
   "id": "d2574e6e",
   "metadata": {},
   "source": [
    "# 迭代器与生成器"
   ]
  },
  {
   "attachments": {},
   "cell_type": "markdown",
   "id": "9808b043",
   "metadata": {},
   "source": [
    "## 迭代器"
   ]
  },
  {
   "attachments": {},
   "cell_type": "markdown",
   "id": "3c1d71cd",
   "metadata": {},
   "source": [
    "可迭代对象可以在 for 循环中使用："
   ]
  },
  {
   "cell_type": "code",
   "execution_count": 1,
   "id": "fbe27bff",
   "metadata": {
    "ExecuteTime": {
     "end_time": "2023-11-14T08:31:58.754192700Z",
     "start_time": "2023-11-14T08:31:58.744736700Z"
    }
   },
   "outputs": [
    {
     "name": "stdout",
     "output_type": "stream",
     "text": [
      "2\n",
      "4\n",
      "6\n"
     ]
    }
   ],
   "source": [
    "x = [2, 4, 6]\n",
    "\n",
    "for n in x:\n",
    "    print(n)"
   ]
  },
  {
   "cell_type": "markdown",
   "id": "7d39d937",
   "metadata": {},
   "source": [
    "之所以可以被for循环迭代，是因为这些对象拥有一个迭代器，可以用`.__iter__()`方法获得："
   ]
  },
  {
   "cell_type": "code",
   "execution_count": 2,
   "id": "dbe4ed0f",
   "metadata": {
    "ExecuteTime": {
     "end_time": "2023-11-14T08:35:37.437742300Z",
     "start_time": "2023-11-14T08:35:37.421453600Z"
    }
   },
   "outputs": [
    {
     "data": {
      "text/plain": "<list_iterator at 0x2c439d300d0>"
     },
     "execution_count": 2,
     "metadata": {},
     "output_type": "execute_result"
    }
   ],
   "source": [
    "x.__iter__()"
   ]
  },
  {
   "attachments": {},
   "cell_type": "markdown",
   "id": "6aaede68",
   "metadata": {},
   "source": [
    "一个迭代器需要满足两个条件：\n",
    "\n",
    "- `.__iter__()`方法返回自身\n",
    "- `.__next__()`方法返回下一个迭代值，当迭代完成后，抛出一个StopIteration异常"
   ]
  },
  {
   "cell_type": "code",
   "execution_count": 9,
   "id": "a28b33d4",
   "metadata": {
    "ExecuteTime": {
     "end_time": "2023-11-14T08:37:19.176159300Z",
     "start_time": "2023-11-14T08:37:19.155111600Z"
    }
   },
   "outputs": [],
   "source": [
    "i = x.__iter__()"
   ]
  },
  {
   "cell_type": "code",
   "execution_count": 10,
   "id": "48eefe88",
   "metadata": {
    "ExecuteTime": {
     "end_time": "2023-11-14T08:37:21.215914600Z",
     "start_time": "2023-11-14T08:37:21.181683200Z"
    }
   },
   "outputs": [
    {
     "data": {
      "text/plain": "True"
     },
     "execution_count": 10,
     "metadata": {},
     "output_type": "execute_result"
    }
   ],
   "source": [
    "i.__iter__() is i"
   ]
  },
  {
   "cell_type": "code",
   "execution_count": 11,
   "id": "ac5c06dc",
   "metadata": {
    "ExecuteTime": {
     "end_time": "2023-11-14T08:37:22.531868900Z",
     "start_time": "2023-11-14T08:37:22.512513400Z"
    }
   },
   "outputs": [
    {
     "data": {
      "text/plain": "2"
     },
     "execution_count": 11,
     "metadata": {},
     "output_type": "execute_result"
    }
   ],
   "source": [
    "i.__next__()"
   ]
  },
  {
   "cell_type": "code",
   "execution_count": 12,
   "id": "b415ec70",
   "metadata": {
    "ExecuteTime": {
     "end_time": "2023-11-14T08:37:24.225849400Z",
     "start_time": "2023-11-14T08:37:24.199983700Z"
    }
   },
   "outputs": [
    {
     "data": {
      "text/plain": "(<list_iterator at 0x2c439d46230>, 4)"
     },
     "execution_count": 12,
     "metadata": {},
     "output_type": "execute_result"
    }
   ],
   "source": [
    "i.__iter__(), i.__next__()"
   ]
  },
  {
   "cell_type": "markdown",
   "id": "3bb71680",
   "metadata": {},
   "source": [
    "也可以调用`next()`函数迭代："
   ]
  },
  {
   "cell_type": "code",
   "execution_count": 13,
   "id": "afbd38dd",
   "metadata": {
    "ExecuteTime": {
     "end_time": "2023-11-14T08:37:33.169277300Z",
     "start_time": "2023-11-14T08:37:33.148109800Z"
    }
   },
   "outputs": [
    {
     "data": {
      "text/plain": "6"
     },
     "execution_count": 13,
     "metadata": {},
     "output_type": "execute_result"
    }
   ],
   "source": [
    "next(i)"
   ]
  },
  {
   "cell_type": "markdown",
   "id": "76a48082",
   "metadata": {},
   "source": [
    "没有元素时抛出异常："
   ]
  },
  {
   "cell_type": "code",
   "execution_count": 16,
   "id": "3a1bd2d2",
   "metadata": {
    "ExecuteTime": {
     "end_time": "2023-11-14T08:38:01.702131200Z",
     "start_time": "2023-11-14T08:38:01.670080Z"
    }
   },
   "outputs": [
    {
     "name": "stdout",
     "output_type": "stream",
     "text": [
      "StopIteration, no more elements\n"
     ]
    }
   ],
   "source": [
    "try:\n",
    "    i.__next__()\n",
    "except StopIteration:\n",
    "    print('StopIteration, no more elements')"
   ]
  },
  {
   "cell_type": "markdown",
   "id": "e30d5fed",
   "metadata": {},
   "source": [
    "## 自定义迭代器\n",
    "\n",
    "自定义一个 list 的反序迭代器："
   ]
  },
  {
   "cell_type": "code",
   "execution_count": 17,
   "id": "43435709",
   "metadata": {
    "ExecuteTime": {
     "end_time": "2023-11-14T08:38:44.049739100Z",
     "start_time": "2023-11-14T08:38:44.029499100Z"
    }
   },
   "outputs": [],
   "source": [
    "class ReverseListIterator(object):\n",
    "    \n",
    "    def __init__(self, list):\n",
    "        self.list = list\n",
    "        self.index = len(list)  # 从最后一个元素开始迭代\n",
    "        \n",
    "    def __iter__(self):\n",
    "        return self\n",
    "    \n",
    "    def __next__(self):\n",
    "        self.index -= 1\n",
    "        if self.index >= 0:\n",
    "            return self.list[self.index]\n",
    "        else:\n",
    "            raise StopIteration"
   ]
  },
  {
   "cell_type": "code",
   "execution_count": 18,
   "id": "a83e09a1",
   "metadata": {
    "ExecuteTime": {
     "end_time": "2023-11-14T08:38:48.927445600Z",
     "start_time": "2023-11-14T08:38:48.908912900Z"
    }
   },
   "outputs": [
    {
     "name": "stdout",
     "output_type": "stream",
     "text": [
      "9\n",
      "8\n",
      "7\n",
      "6\n",
      "5\n",
      "4\n",
      "3\n",
      "2\n",
      "1\n",
      "0\n"
     ]
    }
   ],
   "source": [
    "x = range(10)\n",
    "for i in ReverseListIterator(x):\n",
    "    print(i)"
   ]
  },
  {
   "attachments": {},
   "cell_type": "markdown",
   "id": "7365852d",
   "metadata": {},
   "source": [
    "## 生成器\n",
    "\n",
    "直接实现自定义类型迭代器比较麻烦，一个更简单的方法是使用生成器。例如："
   ]
  },
  {
   "cell_type": "code",
   "execution_count": 19,
   "id": "7da038bb",
   "metadata": {
    "ExecuteTime": {
     "end_time": "2023-11-14T08:39:48.670952200Z",
     "start_time": "2023-11-14T08:39:48.652038500Z"
    }
   },
   "outputs": [],
   "source": [
    "def test_generator():\n",
    "    yield 1\n",
    "    yield 5\n",
    "    yield 3"
   ]
  },
  {
   "cell_type": "code",
   "execution_count": 28,
   "id": "ac38cf42",
   "metadata": {
    "ExecuteTime": {
     "end_time": "2023-11-14T08:40:24.909584500Z",
     "start_time": "2023-11-14T08:40:24.878878700Z"
    }
   },
   "outputs": [],
   "source": [
    "g = test_generator()"
   ]
  },
  {
   "cell_type": "markdown",
   "id": "ce2d8532",
   "metadata": {},
   "source": [
    "生成器也是满足迭代器定义的："
   ]
  },
  {
   "cell_type": "code",
   "execution_count": 29,
   "id": "8ad80eb3",
   "metadata": {
    "ExecuteTime": {
     "end_time": "2023-11-14T08:40:26.784692700Z",
     "start_time": "2023-11-14T08:40:26.749234800Z"
    }
   },
   "outputs": [
    {
     "data": {
      "text/plain": "True"
     },
     "execution_count": 29,
     "metadata": {},
     "output_type": "execute_result"
    }
   ],
   "source": [
    "g.__iter__() is g"
   ]
  },
  {
   "cell_type": "markdown",
   "id": "3e84bceb",
   "metadata": {},
   "source": [
    "生成器会按照定义时，`yield`产出的值进行迭代："
   ]
  },
  {
   "cell_type": "code",
   "execution_count": 30,
   "id": "e60a5032",
   "metadata": {
    "ExecuteTime": {
     "end_time": "2023-11-14T08:40:30.898738800Z",
     "start_time": "2023-11-14T08:40:30.878602400Z"
    }
   },
   "outputs": [
    {
     "data": {
      "text/plain": "1"
     },
     "execution_count": 30,
     "metadata": {},
     "output_type": "execute_result"
    }
   ],
   "source": [
    "next(g)"
   ]
  },
  {
   "cell_type": "code",
   "execution_count": 31,
   "id": "e3c0bbc3",
   "metadata": {
    "ExecuteTime": {
     "end_time": "2023-11-14T08:40:34.001326700Z",
     "start_time": "2023-11-14T08:40:33.981286400Z"
    }
   },
   "outputs": [
    {
     "data": {
      "text/plain": "5"
     },
     "execution_count": 31,
     "metadata": {},
     "output_type": "execute_result"
    }
   ],
   "source": [
    "next(g)"
   ]
  },
  {
   "cell_type": "code",
   "execution_count": 32,
   "id": "a2122dbc",
   "metadata": {
    "ExecuteTime": {
     "end_time": "2023-11-14T08:40:37.193354600Z",
     "start_time": "2023-11-14T08:40:37.172232900Z"
    }
   },
   "outputs": [
    {
     "data": {
      "text/plain": "3"
     },
     "execution_count": 32,
     "metadata": {},
     "output_type": "execute_result"
    }
   ],
   "source": [
    "next(g)"
   ]
  },
  {
   "cell_type": "markdown",
   "id": "0040242b",
   "metadata": {},
   "source": [
    "迭代结束后，抛出异常。"
   ]
  },
  {
   "cell_type": "code",
   "execution_count": 33,
   "id": "fb54179d",
   "metadata": {
    "ExecuteTime": {
     "end_time": "2023-11-14T08:40:50.769718400Z",
     "start_time": "2023-11-14T08:40:50.747684600Z"
    }
   },
   "outputs": [
    {
     "name": "stdout",
     "output_type": "stream",
     "text": [
      "StopIteration, no more elements\n"
     ]
    }
   ],
   "source": [
    "try:\n",
    "    next(g)\n",
    "except StopIteration:\n",
    "    print('StopIteration, no more elements')"
   ]
  },
  {
   "attachments": {},
   "cell_type": "markdown",
   "id": "b5f5d0bc",
   "metadata": {},
   "source": [
    "逆序函数也可以用生成器实现："
   ]
  },
  {
   "cell_type": "code",
   "execution_count": 34,
   "id": "61ed97ff",
   "metadata": {
    "ExecuteTime": {
     "end_time": "2023-11-14T08:41:04.043974600Z",
     "start_time": "2023-11-14T08:41:04.024438700Z"
    }
   },
   "outputs": [],
   "source": [
    "def my_reverse(data):\n",
    "    for i in data[::-1]:\n",
    "        yield i"
   ]
  },
  {
   "cell_type": "code",
   "execution_count": 35,
   "id": "54787e3b",
   "metadata": {
    "ExecuteTime": {
     "end_time": "2023-11-14T08:41:08.552773600Z",
     "start_time": "2023-11-14T08:41:08.543753500Z"
    }
   },
   "outputs": [
    {
     "name": "stdout",
     "output_type": "stream",
     "text": [
      "e\n",
      "d\n",
      "c\n",
      "b\n",
      "a\n"
     ]
    }
   ],
   "source": [
    "for i in my_reverse('abcde'):\n",
    "    print(i)"
   ]
  },
  {
   "cell_type": "code",
   "execution_count": 42,
   "id": "e1950b03",
   "metadata": {
    "ExecuteTime": {
     "end_time": "2023-11-14T08:43:00.231549500Z",
     "start_time": "2023-11-14T08:43:00.203503700Z"
    }
   },
   "outputs": [
    {
     "data": {
      "text/plain": "(['e', 'd', 'c', 'b', 'a'], list_reverseiterator)"
     },
     "execution_count": 42,
     "metadata": {},
     "output_type": "execute_result"
    }
   ],
   "source": [
    "list(reversed(list('abcde'))), type(reversed(list('abcde')))"
   ]
  }
 ],
 "metadata": {
  "kernelspec": {
   "display_name": "Python 3 (ipykernel)",
   "language": "python",
   "name": "python3"
  },
  "language_info": {
   "codemirror_mode": {
    "name": "ipython",
    "version": 3
   },
   "file_extension": ".py",
   "mimetype": "text/x-python",
   "name": "python",
   "nbconvert_exporter": "python",
   "pygments_lexer": "ipython3",
   "version": "3.9.10"
  }
 },
 "nbformat": 4,
 "nbformat_minor": 5
}
