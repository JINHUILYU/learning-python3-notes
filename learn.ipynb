{
 "cells": [
  {
   "cell_type": "code",
   "execution_count": 2,
   "id": "initial_id",
   "metadata": {
    "collapsed": true,
    "ExecuteTime": {
     "end_time": "2023-12-01T13:04:51.162063400Z",
     "start_time": "2023-12-01T13:04:51.160554200Z"
    }
   },
   "outputs": [
    {
     "name": "stdout",
     "output_type": "stream",
     "text": [
      "name='test', size=10.\n"
     ]
    }
   ],
   "source": [
    "name = 'test'\n",
    "size = 10\n",
    "print(f\"{name=}, {size=}.\")"
   ]
  },
  {
   "cell_type": "markdown",
   "source": [
    "REPL (Read-Eval-Print-Loop)"
   ],
   "metadata": {
    "collapsed": false
   },
   "id": "f2d480e656ed464e"
  },
  {
   "cell_type": "code",
   "execution_count": 3,
   "outputs": [
    {
     "name": "stdout",
     "output_type": "stream",
     "text": [
      "1\n",
      "Some text\n",
      "A tab:\t and some text\n",
      "\n",
      "This is my age: 39\n"
     ]
    }
   ],
   "source": [
    "print(1)\n",
    "print('Some text')\n",
    "print('A tab:\\t and some text')\n",
    "print()\n",
    "print('This is my age:', 39)"
   ],
   "metadata": {
    "collapsed": false,
    "ExecuteTime": {
     "end_time": "2023-12-01T13:08:21.335250200Z",
     "start_time": "2023-12-01T13:08:21.333540800Z"
    }
   },
   "id": "1985caf900f97939"
  },
  {
   "cell_type": "code",
   "execution_count": 4,
   "outputs": [
    {
     "data": {
      "text/plain": "True"
     },
     "execution_count": 4,
     "metadata": {},
     "output_type": "execute_result"
    }
   ],
   "source": [
    "'m' > 'M'"
   ],
   "metadata": {
    "collapsed": false,
    "ExecuteTime": {
     "end_time": "2023-12-01T13:18:51.900576800Z",
     "start_time": "2023-12-01T13:18:51.893563Z"
    }
   },
   "id": "d5dc8ba373ae2e27"
  },
  {
   "cell_type": "code",
   "execution_count": 5,
   "outputs": [
    {
     "data": {
      "text/plain": "False"
     },
     "execution_count": 5,
     "metadata": {},
     "output_type": "execute_result"
    }
   ],
   "source": [
    "'1' > 'a'"
   ],
   "metadata": {
    "collapsed": false,
    "ExecuteTime": {
     "end_time": "2023-12-01T13:19:19.644717700Z",
     "start_time": "2023-12-01T13:19:19.635310800Z"
    }
   },
   "id": "836e78486969011f"
  },
  {
   "cell_type": "code",
   "execution_count": 7,
   "outputs": [
    {
     "name": "stdout",
     "output_type": "stream",
     "text": [
      "'>' not supported between instances of 'int' and 'str'\n"
     ]
    }
   ],
   "source": [
    "try:\n",
    "    1 > 'a'\n",
    "except TypeError as e:\n",
    "    print(e)"
   ],
   "metadata": {
    "collapsed": false,
    "ExecuteTime": {
     "end_time": "2023-12-01T13:20:33.817929400Z",
     "start_time": "2023-12-01T13:20:33.816112600Z"
    }
   },
   "id": "1bd0afbb6e8578df"
  },
  {
   "cell_type": "code",
   "execution_count": 11,
   "outputs": [
    {
     "name": "stdout",
     "output_type": "stream",
     "text": [
      "H e l l o 1\n"
     ]
    }
   ],
   "source": [
    "for letter in 'Hello':\n",
    "    print(letter, end=' ')\n",
    "print(1)"
   ],
   "metadata": {
    "collapsed": false,
    "ExecuteTime": {
     "end_time": "2023-12-01T13:23:06.070020600Z",
     "start_time": "2023-12-01T13:23:06.047312300Z"
    }
   },
   "id": "fc20518237a4a096"
  },
  {
   "cell_type": "markdown",
   "source": [
    "In short: arrays can only contain one type of data (like numbers) but they are more efficient at storing that data. Lists, on the other hand, can store a mix of all types of data and are extremely flexible, at the cost of some performance."
   ],
   "metadata": {
    "collapsed": false
   },
   "id": "70002a5f7f89a911"
  },
  {
   "cell_type": "code",
   "execution_count": 12,
   "outputs": [
    {
     "name": "stdout",
     "output_type": "stream",
     "text": [
      "1\n",
      "a\n",
      "Hello\n"
     ]
    }
   ],
   "source": [
    "mylist = [1, 'a', 'Hello']\n",
    "for item in mylist:\n",
    "    print(item)"
   ],
   "metadata": {
    "collapsed": false,
    "ExecuteTime": {
     "end_time": "2023-12-01T13:30:14.294545200Z",
     "start_time": "2023-12-01T13:30:14.293036700Z"
    }
   },
   "id": "179ac3480c5bba93"
  },
  {
   "cell_type": "code",
   "execution_count": 15,
   "outputs": [
    {
     "data": {
      "text/plain": "2"
     },
     "execution_count": 15,
     "metadata": {},
     "output_type": "execute_result"
    }
   ],
   "source": [
    "mylist = [[1, 2], 'a', 'Hello']\n",
    "mylist[0][1]"
   ],
   "metadata": {
    "collapsed": false,
    "ExecuteTime": {
     "end_time": "2023-12-01T13:32:41.174246300Z",
     "start_time": "2023-12-01T13:32:41.167058600Z"
    }
   },
   "id": "3499d9ad94c6d2bb"
  }
 ],
 "metadata": {
  "kernelspec": {
   "display_name": "Python 3",
   "language": "python",
   "name": "python3"
  },
  "language_info": {
   "codemirror_mode": {
    "name": "ipython",
    "version": 2
   },
   "file_extension": ".py",
   "mimetype": "text/x-python",
   "name": "python",
   "nbconvert_exporter": "python",
   "pygments_lexer": "ipython2",
   "version": "2.7.6"
  }
 },
 "nbformat": 4,
 "nbformat_minor": 5
}
