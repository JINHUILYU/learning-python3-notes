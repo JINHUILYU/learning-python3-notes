{
 "cells": [
  {
   "cell_type": "code",
   "execution_count": 2,
   "id": "initial_id",
   "metadata": {
    "collapsed": true,
    "ExecuteTime": {
     "end_time": "2023-12-01T13:04:51.162063400Z",
     "start_time": "2023-12-01T13:04:51.160554200Z"
    }
   },
   "outputs": [
    {
     "name": "stdout",
     "output_type": "stream",
     "text": [
      "name='test', size=10.\n"
     ]
    }
   ],
   "source": [
    "name = 'test'\n",
    "size = 10\n",
    "print(f\"{name=}, {size=}.\")"
   ]
  },
  {
   "cell_type": "markdown",
   "source": [
    "REPL (Read-Eval-Print-Loop)"
   ],
   "metadata": {
    "collapsed": false
   },
   "id": "f2d480e656ed464e"
  },
  {
   "cell_type": "code",
   "execution_count": 3,
   "outputs": [
    {
     "name": "stdout",
     "output_type": "stream",
     "text": [
      "1\n",
      "Some text\n",
      "A tab:\t and some text\n",
      "\n",
      "This is my age: 39\n"
     ]
    }
   ],
   "source": [
    "print(1)\n",
    "print('Some text')\n",
    "print('A tab:\\t and some text')\n",
    "print()\n",
    "print('This is my age:', 39)"
   ],
   "metadata": {
    "collapsed": false,
    "ExecuteTime": {
     "end_time": "2023-12-01T13:08:21.335250200Z",
     "start_time": "2023-12-01T13:08:21.333540800Z"
    }
   },
   "id": "1985caf900f97939"
  },
  {
   "cell_type": "code",
   "execution_count": 4,
   "outputs": [
    {
     "data": {
      "text/plain": "True"
     },
     "execution_count": 4,
     "metadata": {},
     "output_type": "execute_result"
    }
   ],
   "source": [
    "'m' > 'M'"
   ],
   "metadata": {
    "collapsed": false,
    "ExecuteTime": {
     "end_time": "2023-12-01T13:18:51.900576800Z",
     "start_time": "2023-12-01T13:18:51.893563Z"
    }
   },
   "id": "d5dc8ba373ae2e27"
  },
  {
   "cell_type": "code",
   "execution_count": 5,
   "outputs": [
    {
     "data": {
      "text/plain": "False"
     },
     "execution_count": 5,
     "metadata": {},
     "output_type": "execute_result"
    }
   ],
   "source": [
    "'1' > 'a'"
   ],
   "metadata": {
    "collapsed": false,
    "ExecuteTime": {
     "end_time": "2023-12-01T13:19:19.644717700Z",
     "start_time": "2023-12-01T13:19:19.635310800Z"
    }
   },
   "id": "836e78486969011f"
  },
  {
   "cell_type": "code",
   "execution_count": 7,
   "outputs": [
    {
     "name": "stdout",
     "output_type": "stream",
     "text": [
      "'>' not supported between instances of 'int' and 'str'\n"
     ]
    }
   ],
   "source": [
    "try:\n",
    "    1 > 'a'\n",
    "except TypeError as e:\n",
    "    print(e)"
   ],
   "metadata": {
    "collapsed": false,
    "ExecuteTime": {
     "end_time": "2023-12-01T13:20:33.817929400Z",
     "start_time": "2023-12-01T13:20:33.816112600Z"
    }
   },
   "id": "1bd0afbb6e8578df"
  },
  {
   "cell_type": "code",
   "execution_count": 11,
   "outputs": [
    {
     "name": "stdout",
     "output_type": "stream",
     "text": [
      "H e l l o 1\n"
     ]
    }
   ],
   "source": [
    "for letter in 'Hello':\n",
    "    print(letter, end=' ')\n",
    "print(1)"
   ],
   "metadata": {
    "collapsed": false,
    "ExecuteTime": {
     "end_time": "2023-12-01T13:23:06.070020600Z",
     "start_time": "2023-12-01T13:23:06.047312300Z"
    }
   },
   "id": "fc20518237a4a096"
  },
  {
   "cell_type": "markdown",
   "source": [
    "In short: arrays can only contain one type of data (like numbers) but they are more efficient at storing that data. Lists, on the other hand, can store a mix of all types of data and are extremely flexible, at the cost of some performance."
   ],
   "metadata": {
    "collapsed": false
   },
   "id": "70002a5f7f89a911"
  },
  {
   "cell_type": "code",
   "execution_count": 12,
   "outputs": [
    {
     "name": "stdout",
     "output_type": "stream",
     "text": [
      "1\n",
      "a\n",
      "Hello\n"
     ]
    }
   ],
   "source": [
    "mylist = [1, 'a', 'Hello']\n",
    "for item in mylist:\n",
    "    print(item)"
   ],
   "metadata": {
    "collapsed": false,
    "ExecuteTime": {
     "end_time": "2023-12-01T13:30:14.294545200Z",
     "start_time": "2023-12-01T13:30:14.293036700Z"
    }
   },
   "id": "179ac3480c5bba93"
  },
  {
   "cell_type": "code",
   "execution_count": 15,
   "outputs": [
    {
     "data": {
      "text/plain": "2"
     },
     "execution_count": 15,
     "metadata": {},
     "output_type": "execute_result"
    }
   ],
   "source": [
    "mylist = [[1, 2], 'a', 'Hello']\n",
    "mylist[0][1]"
   ],
   "metadata": {
    "collapsed": false,
    "ExecuteTime": {
     "end_time": "2023-12-01T13:32:41.174246300Z",
     "start_time": "2023-12-01T13:32:41.167058600Z"
    }
   },
   "id": "3499d9ad94c6d2bb"
  },
  {
   "cell_type": "code",
   "execution_count": 17,
   "outputs": [
    {
     "name": "stdout",
     "output_type": "stream",
     "text": [
      "You didn't enter your name!\n"
     ]
    }
   ],
   "source": [
    "# For our convenience, print() automatically puts a space between the two strings.\n",
    "def say_hi(name):\n",
    "    if name == '':\n",
    "        print(\"You didn't enter your name!\")\n",
    "    else:\n",
    "        print('Hi there...')\n",
    "        for letter in name:\n",
    "            print(letter)\n",
    "\n",
    "\n",
    "name = input('Enter your name: ')\n",
    "say_hi(name)"
   ],
   "metadata": {
    "collapsed": false,
    "ExecuteTime": {
     "end_time": "2023-12-04T03:26:16.341563700Z",
     "start_time": "2023-12-04T03:26:14.720562600Z"
    }
   },
   "id": "8bcc9924647a9e97"
  },
  {
   "cell_type": "code",
   "execution_count": 18,
   "outputs": [],
   "source": [
    "class Car:\n",
    "    speed = 0\n",
    "    started = False\n",
    "\n",
    "    def start(self):\n",
    "        self.started = True\n",
    "        print(\"Car started, let's ride!\")\n",
    "\n",
    "    def increase_speed(self, delta):\n",
    "        if self.started:\n",
    "            self.speed = self.speed + delta\n",
    "            print('Vrooooom!')\n",
    "        else:\n",
    "            print(\"You need to start the car first\")\n",
    "\n",
    "    def stop(self):\n",
    "        self.speed = 0\n",
    "        print('Halting')"
   ],
   "metadata": {
    "collapsed": false,
    "ExecuteTime": {
     "end_time": "2023-12-04T06:09:49.722179200Z",
     "start_time": "2023-12-04T06:09:49.715181300Z"
    }
   },
   "id": "e2d3f91c0aeb3d6f"
  },
  {
   "cell_type": "code",
   "execution_count": 19,
   "outputs": [
    {
     "name": "stdout",
     "output_type": "stream",
     "text": [
      "You need to start the car first\n",
      "Car started, let's ride!\n",
      "Vrooooom!\n"
     ]
    }
   ],
   "source": [
    "car = Car()\n",
    "car.increase_speed(10)\n",
    "car.start()\n",
    "car.increase_speed(40)"
   ],
   "metadata": {
    "collapsed": false,
    "ExecuteTime": {
     "end_time": "2023-12-04T06:10:20.709529200Z",
     "start_time": "2023-12-04T06:10:20.703020100Z"
    }
   },
   "id": "cc7e990c04bd8759"
  },
  {
   "cell_type": "code",
   "execution_count": 26,
   "outputs": [
    {
     "data": {
      "text/plain": "'{ a , d , e , h }, { b , c , g , f }'"
     },
     "execution_count": 26,
     "metadata": {},
     "output_type": "execute_result"
    }
   ],
   "source": [
    "line = \"{'a','d','e','h'}, {'b','c','g','f'}\"\n",
    "line = line.replace(\"'\", ' ')\n",
    "line"
   ],
   "metadata": {
    "collapsed": false,
    "ExecuteTime": {
     "end_time": "2023-12-05T13:56:13.971836400Z",
     "start_time": "2023-12-05T13:56:13.968686300Z"
    }
   },
   "id": "6cfac82cd20fbddd"
  },
  {
   "cell_type": "code",
   "execution_count": 2,
   "outputs": [
    {
     "data": {
      "text/plain": "'MAIN CONTENT'"
     },
     "execution_count": 2,
     "metadata": {},
     "output_type": "execute_result"
    }
   ],
   "source": [
    "line = \"Main content\"\n",
    "line = line.upper()\n",
    "line"
   ],
   "metadata": {
    "collapsed": false,
    "ExecuteTime": {
     "end_time": "2023-12-06T06:06:31.469856300Z",
     "start_time": "2023-12-06T06:06:31.462385200Z"
    }
   },
   "id": "ce6f56e1663bb990"
  },
  {
   "cell_type": "code",
   "execution_count": 3,
   "outputs": [],
   "source": [
    "class Car:\n",
    "    def __init__(self, started=False, speed=0):\n",
    "        self.started = started\n",
    "        self.speed = speed\n",
    "\n",
    "    def start(self):\n",
    "        self.started = True\n",
    "        print(\"Car started, let's ride!\")\n",
    "\n",
    "    def increase_speed(self, delta):\n",
    "        if self.started:\n",
    "            self.speed = self.speed + delta\n",
    "            print(\"Vrooooom!\")\n",
    "        else:\n",
    "            print(\"You need to start the car first\")\n",
    "\n",
    "    def stop(self):\n",
    "        self.speed = 0"
   ],
   "metadata": {
    "collapsed": false,
    "ExecuteTime": {
     "end_time": "2023-12-06T07:04:59.615944100Z",
     "start_time": "2023-12-06T07:04:59.586118900Z"
    }
   },
   "id": "789225655590e7c6"
  },
  {
   "cell_type": "code",
   "execution_count": 6,
   "outputs": [
    {
     "name": "stdout",
     "output_type": "stream",
     "text": [
      "You need to start the car first\n"
     ]
    }
   ],
   "source": [
    "car = Car()\n",
    "car.increase_speed(10)"
   ],
   "metadata": {
    "collapsed": false,
    "ExecuteTime": {
     "end_time": "2023-12-06T07:05:09.814413700Z",
     "start_time": "2023-12-06T07:05:09.812901500Z"
    }
   },
   "id": "d4a4643a78227cd9"
  },
  {
   "cell_type": "code",
   "execution_count": 7,
   "outputs": [],
   "source": [
    "class Vehicle:\n",
    "    def __init__(self, started=False, speed=0):\n",
    "        self.started = started\n",
    "        self.speed = speed\n",
    "\n",
    "    def start(self):\n",
    "        self.started = True\n",
    "        print(\"Started, let's ride!\")\n",
    "\n",
    "    def stop(self):\n",
    "        self.speed = 0\n",
    "\n",
    "    def increase_speed(self, delta):\n",
    "        if self.started:\n",
    "            self.speed = self.speed + delta\n",
    "            print(\"Vrooooom!\")\n",
    "        else:\n",
    "            print(\"You need to start me first\")"
   ],
   "metadata": {
    "collapsed": false,
    "ExecuteTime": {
     "end_time": "2023-12-06T07:14:38.329260200Z",
     "start_time": "2023-12-06T07:14:38.320243400Z"
    }
   },
   "id": "60ef05cb019e1676"
  },
  {
   "cell_type": "code",
   "execution_count": null,
   "outputs": [],
   "source": [
    "# Inheritance\n",
    "class Car(Vehicle):\n",
    "    trunk_open = False\n",
    "\n",
    "    def open_trunk(self):\n",
    "        self.trunk_open = True\n",
    "        print(\"Trunk opened\")\n",
    "\n",
    "    def close_trunk(self):\n",
    "        self.trunk_open = False\n",
    "        print(\"Trunk closed\")"
   ],
   "metadata": {
    "collapsed": false
   },
   "id": "acada76cafc2dbc2"
  },
  {
   "cell_type": "code",
   "execution_count": 9,
   "outputs": [],
   "source": [
    "class Motorcycle(Vehicle):\n",
    "    def __init__(self, center_stand_out=False):\n",
    "        self.center_stand_out = center_stand_out\n",
    "        super().__init__()\n",
    "        \n",
    "    def start(self):\n",
    "        print(\"Sorry, out of fuel!\")"
   ],
   "metadata": {
    "collapsed": false,
    "ExecuteTime": {
     "end_time": "2023-12-06T07:22:40.525021600Z",
     "start_time": "2023-12-06T07:22:40.523507800Z"
    }
   },
   "id": "30565422098f6a39"
  }
 ],
 "metadata": {
  "kernelspec": {
   "display_name": "Python 3",
   "language": "python",
   "name": "python3"
  },
  "language_info": {
   "codemirror_mode": {
    "name": "ipython",
    "version": 2
   },
   "file_extension": ".py",
   "mimetype": "text/x-python",
   "name": "python",
   "nbconvert_exporter": "python",
   "pygments_lexer": "ipython2",
   "version": "2.7.6"
  }
 },
 "nbformat": 4,
 "nbformat_minor": 5
}
